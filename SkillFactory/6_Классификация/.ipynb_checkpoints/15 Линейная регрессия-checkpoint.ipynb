{
 "cells": [
  {
   "cell_type": "code",
   "execution_count": 1,
   "metadata": {},
   "outputs": [],
   "source": [
    "import pandas as pd\n",
    "import numpy as np\n",
    "import matplotlib.pyplot as plt"
   ]
  },
  {
   "cell_type": "code",
   "execution_count": 6,
   "metadata": {},
   "outputs": [],
   "source": [
    "myData = pd.read_csv('mycar.xls')"
   ]
  },
  {
   "cell_type": "code",
   "execution_count": 43,
   "metadata": {},
   "outputs": [
    {
     "data": {
      "text/html": [
       "<div>\n",
       "<style scoped>\n",
       "    .dataframe tbody tr th:only-of-type {\n",
       "        vertical-align: middle;\n",
       "    }\n",
       "\n",
       "    .dataframe tbody tr th {\n",
       "        vertical-align: top;\n",
       "    }\n",
       "\n",
       "    .dataframe thead th {\n",
       "        text-align: right;\n",
       "    }\n",
       "</style>\n",
       "<table border=\"1\" class=\"dataframe\">\n",
       "  <thead>\n",
       "    <tr style=\"text-align: right;\">\n",
       "      <th></th>\n",
       "      <th>Speed</th>\n",
       "      <th>Stopping_dist</th>\n",
       "    </tr>\n",
       "  </thead>\n",
       "  <tbody>\n",
       "    <tr>\n",
       "      <th>0</th>\n",
       "      <td>4</td>\n",
       "      <td>2</td>\n",
       "    </tr>\n",
       "    <tr>\n",
       "      <th>1</th>\n",
       "      <td>4</td>\n",
       "      <td>10</td>\n",
       "    </tr>\n",
       "    <tr>\n",
       "      <th>2</th>\n",
       "      <td>7</td>\n",
       "      <td>4</td>\n",
       "    </tr>\n",
       "    <tr>\n",
       "      <th>3</th>\n",
       "      <td>7</td>\n",
       "      <td>22</td>\n",
       "    </tr>\n",
       "    <tr>\n",
       "      <th>4</th>\n",
       "      <td>8</td>\n",
       "      <td>16</td>\n",
       "    </tr>\n",
       "  </tbody>\n",
       "</table>\n",
       "</div>"
      ],
      "text/plain": [
       "   Speed  Stopping_dist\n",
       "0      4              2\n",
       "1      4             10\n",
       "2      7              4\n",
       "3      7             22\n",
       "4      8             16"
      ]
     },
     "execution_count": 43,
     "metadata": {},
     "output_type": "execute_result"
    }
   ],
   "source": [
    "myData.head()"
   ]
  },
  {
   "cell_type": "code",
   "execution_count": 39,
   "metadata": {},
   "outputs": [],
   "source": [
    "X = myData.iloc[:,:-1].values\n",
    "Y = myData.iloc[:,1].values"
   ]
  },
  {
   "cell_type": "code",
   "execution_count": 31,
   "metadata": {},
   "outputs": [],
   "source": [
    "from sklearn.model_selection import train_test_split"
   ]
  },
  {
   "cell_type": "code",
   "execution_count": 33,
   "metadata": {},
   "outputs": [],
   "source": [
    "X_train, X_test, Y_train, Y_test = train_test_split(X, Y, test_size= 0.3)"
   ]
  },
  {
   "cell_type": "code",
   "execution_count": 40,
   "metadata": {},
   "outputs": [
    {
     "data": {
      "text/plain": [
       "LinearRegression()"
      ]
     },
     "execution_count": 40,
     "metadata": {},
     "output_type": "execute_result"
    }
   ],
   "source": [
    "from sklearn.linear_model import LinearRegression\n",
    "myModel = LinearRegression() #Обозначаем, что наша модель - линейная регрессия\n",
    "myModel.fit(X_train,Y_train) #обучаем модель на обучающих данных"
   ]
  },
  {
   "cell_type": "code",
   "execution_count": 44,
   "metadata": {},
   "outputs": [
    {
     "data": {
      "text/plain": [
       "array([38.19048772, 42.15533099, 38.19048772, 50.08501755, 61.97954738,\n",
       "       61.97954738, 61.97954738, 46.12017427, 73.87407721, -1.45794506,\n",
       "       22.33111461, 30.26080116, 34.22564444, 30.26080116, 54.04986083])"
      ]
     },
     "execution_count": 44,
     "metadata": {},
     "output_type": "execute_result"
    }
   ],
   "source": [
    "y_pred = myModel.predict(X_test)\n",
    "y_pred"
   ]
  },
  {
   "cell_type": "code",
   "execution_count": 47,
   "metadata": {},
   "outputs": [],
   "source": [
    "y_happy = [4,20,110,15,23]\n",
    "y_happy_pred = [5,15,100,9,21]"
   ]
  },
  {
   "cell_type": "code",
   "execution_count": 49,
   "metadata": {},
   "outputs": [],
   "source": [
    "from sklearn import metrics  # подгружаем метрики"
   ]
  },
  {
   "cell_type": "code",
   "execution_count": 50,
   "metadata": {},
   "outputs": [
    {
     "name": "stdout",
     "output_type": "stream",
     "text": [
      "4.8\n"
     ]
    }
   ],
   "source": [
    "#Вычисляем MAE:\n",
    "\n",
    "MAE = metrics.mean_absolute_error(y_happy, y_happy_pred)\n",
    "\n",
    "print(MAE)"
   ]
  },
  {
   "cell_type": "code",
   "execution_count": 51,
   "metadata": {},
   "outputs": [
    {
     "name": "stdout",
     "output_type": "stream",
     "text": [
      "33.2\n"
     ]
    }
   ],
   "source": [
    "MSE = metrics.mean_squared_error(y_happy, y_happy_pred)\n",
    "print(MSE)"
   ]
  },
  {
   "cell_type": "code",
   "execution_count": 52,
   "metadata": {},
   "outputs": [
    {
     "name": "stdout",
     "output_type": "stream",
     "text": [
      "0.9774247946472284\n"
     ]
    }
   ],
   "source": [
    "R_2 = metrics.r2_score(y_happy, y_happy_pred)\n",
    "print(R_2)"
   ]
  },
  {
   "cell_type": "code",
   "execution_count": 54,
   "metadata": {},
   "outputs": [
    {
     "data": {
      "text/html": [
       "<div>\n",
       "<style scoped>\n",
       "    .dataframe tbody tr th:only-of-type {\n",
       "        vertical-align: middle;\n",
       "    }\n",
       "\n",
       "    .dataframe tbody tr th {\n",
       "        vertical-align: top;\n",
       "    }\n",
       "\n",
       "    .dataframe thead th {\n",
       "        text-align: right;\n",
       "    }\n",
       "</style>\n",
       "<table border=\"1\" class=\"dataframe\">\n",
       "  <thead>\n",
       "    <tr style=\"text-align: right;\">\n",
       "      <th></th>\n",
       "      <th>id</th>\n",
       "      <th>full_sq</th>\n",
       "      <th>life_sq</th>\n",
       "      <th>floor</th>\n",
       "      <th>preschool_education_centers_raion</th>\n",
       "      <th>school_education_centers_raion</th>\n",
       "      <th>school_education_centers_top_20_raion</th>\n",
       "      <th>university_top_20_raion</th>\n",
       "      <th>sport_objects_raion</th>\n",
       "      <th>additional_education_raion</th>\n",
       "      <th>...</th>\n",
       "      <th>shopping_centers_raion</th>\n",
       "      <th>metro_km_walk</th>\n",
       "      <th>kindergarten_km</th>\n",
       "      <th>school_km</th>\n",
       "      <th>park_km</th>\n",
       "      <th>green_zone_km</th>\n",
       "      <th>mkad_km</th>\n",
       "      <th>bulvar_ring_km</th>\n",
       "      <th>kremlin_km</th>\n",
       "      <th>price_doc</th>\n",
       "    </tr>\n",
       "  </thead>\n",
       "  <tbody>\n",
       "    <tr>\n",
       "      <th>0</th>\n",
       "      <td>1</td>\n",
       "      <td>43</td>\n",
       "      <td>27.0</td>\n",
       "      <td>4.0</td>\n",
       "      <td>5</td>\n",
       "      <td>5</td>\n",
       "      <td>0</td>\n",
       "      <td>0</td>\n",
       "      <td>7</td>\n",
       "      <td>3</td>\n",
       "      <td>...</td>\n",
       "      <td>16</td>\n",
       "      <td>1.131260</td>\n",
       "      <td>0.145700</td>\n",
       "      <td>0.177975</td>\n",
       "      <td>2.158587</td>\n",
       "      <td>0.600973</td>\n",
       "      <td>1.422391</td>\n",
       "      <td>13.675657</td>\n",
       "      <td>15.156211</td>\n",
       "      <td>5850000</td>\n",
       "    </tr>\n",
       "    <tr>\n",
       "      <th>1</th>\n",
       "      <td>2</td>\n",
       "      <td>34</td>\n",
       "      <td>19.0</td>\n",
       "      <td>3.0</td>\n",
       "      <td>5</td>\n",
       "      <td>8</td>\n",
       "      <td>0</td>\n",
       "      <td>0</td>\n",
       "      <td>6</td>\n",
       "      <td>1</td>\n",
       "      <td>...</td>\n",
       "      <td>3</td>\n",
       "      <td>0.635053</td>\n",
       "      <td>0.147754</td>\n",
       "      <td>0.273345</td>\n",
       "      <td>0.550690</td>\n",
       "      <td>0.065321</td>\n",
       "      <td>9.503405</td>\n",
       "      <td>8.132640</td>\n",
       "      <td>8.698054</td>\n",
       "      <td>6000000</td>\n",
       "    </tr>\n",
       "    <tr>\n",
       "      <th>2</th>\n",
       "      <td>3</td>\n",
       "      <td>43</td>\n",
       "      <td>29.0</td>\n",
       "      <td>2.0</td>\n",
       "      <td>4</td>\n",
       "      <td>7</td>\n",
       "      <td>0</td>\n",
       "      <td>0</td>\n",
       "      <td>5</td>\n",
       "      <td>1</td>\n",
       "      <td>...</td>\n",
       "      <td>0</td>\n",
       "      <td>1.445960</td>\n",
       "      <td>0.049102</td>\n",
       "      <td>0.158072</td>\n",
       "      <td>0.374848</td>\n",
       "      <td>0.453172</td>\n",
       "      <td>5.604800</td>\n",
       "      <td>8.054252</td>\n",
       "      <td>9.067885</td>\n",
       "      <td>5700000</td>\n",
       "    </tr>\n",
       "    <tr>\n",
       "      <th>3</th>\n",
       "      <td>4</td>\n",
       "      <td>89</td>\n",
       "      <td>50.0</td>\n",
       "      <td>9.0</td>\n",
       "      <td>9</td>\n",
       "      <td>10</td>\n",
       "      <td>0</td>\n",
       "      <td>0</td>\n",
       "      <td>17</td>\n",
       "      <td>6</td>\n",
       "      <td>...</td>\n",
       "      <td>11</td>\n",
       "      <td>0.963802</td>\n",
       "      <td>0.179441</td>\n",
       "      <td>0.236455</td>\n",
       "      <td>0.078090</td>\n",
       "      <td>0.106125</td>\n",
       "      <td>2.677824</td>\n",
       "      <td>18.309433</td>\n",
       "      <td>19.487005</td>\n",
       "      <td>13100000</td>\n",
       "    </tr>\n",
       "    <tr>\n",
       "      <th>4</th>\n",
       "      <td>5</td>\n",
       "      <td>77</td>\n",
       "      <td>77.0</td>\n",
       "      <td>4.0</td>\n",
       "      <td>7</td>\n",
       "      <td>9</td>\n",
       "      <td>0</td>\n",
       "      <td>2</td>\n",
       "      <td>25</td>\n",
       "      <td>2</td>\n",
       "      <td>...</td>\n",
       "      <td>10</td>\n",
       "      <td>0.688859</td>\n",
       "      <td>0.247901</td>\n",
       "      <td>0.376838</td>\n",
       "      <td>0.258289</td>\n",
       "      <td>0.236214</td>\n",
       "      <td>11.616653</td>\n",
       "      <td>0.787593</td>\n",
       "      <td>2.578671</td>\n",
       "      <td>16331452</td>\n",
       "    </tr>\n",
       "  </tbody>\n",
       "</table>\n",
       "<p>5 rows × 21 columns</p>\n",
       "</div>"
      ],
      "text/plain": [
       "   id  full_sq  life_sq  floor  preschool_education_centers_raion  \\\n",
       "0   1       43     27.0    4.0                                  5   \n",
       "1   2       34     19.0    3.0                                  5   \n",
       "2   3       43     29.0    2.0                                  4   \n",
       "3   4       89     50.0    9.0                                  9   \n",
       "4   5       77     77.0    4.0                                  7   \n",
       "\n",
       "   school_education_centers_raion  school_education_centers_top_20_raion  \\\n",
       "0                               5                                      0   \n",
       "1                               8                                      0   \n",
       "2                               7                                      0   \n",
       "3                              10                                      0   \n",
       "4                               9                                      0   \n",
       "\n",
       "   university_top_20_raion  sport_objects_raion  additional_education_raion  \\\n",
       "0                        0                    7                           3   \n",
       "1                        0                    6                           1   \n",
       "2                        0                    5                           1   \n",
       "3                        0                   17                           6   \n",
       "4                        2                   25                           2   \n",
       "\n",
       "   ...  shopping_centers_raion  metro_km_walk  kindergarten_km  school_km  \\\n",
       "0  ...                      16       1.131260         0.145700   0.177975   \n",
       "1  ...                       3       0.635053         0.147754   0.273345   \n",
       "2  ...                       0       1.445960         0.049102   0.158072   \n",
       "3  ...                      11       0.963802         0.179441   0.236455   \n",
       "4  ...                      10       0.688859         0.247901   0.376838   \n",
       "\n",
       "    park_km  green_zone_km    mkad_km  bulvar_ring_km  kremlin_km  price_doc  \n",
       "0  2.158587       0.600973   1.422391       13.675657   15.156211    5850000  \n",
       "1  0.550690       0.065321   9.503405        8.132640    8.698054    6000000  \n",
       "2  0.374848       0.453172   5.604800        8.054252    9.067885    5700000  \n",
       "3  0.078090       0.106125   2.677824       18.309433   19.487005   13100000  \n",
       "4  0.258289       0.236214  11.616653        0.787593    2.578671   16331452  \n",
       "\n",
       "[5 rows x 21 columns]"
      ]
     },
     "execution_count": 54,
     "metadata": {},
     "output_type": "execute_result"
    }
   ],
   "source": [
    "data = pd.read_csv('data_flats.xls', sep =';')\n",
    "data.head()"
   ]
  },
  {
   "cell_type": "code",
   "execution_count": 55,
   "metadata": {},
   "outputs": [
    {
     "name": "stdout",
     "output_type": "stream",
     "text": [
      "<class 'pandas.core.frame.DataFrame'>\n",
      "RangeIndex: 30469 entries, 0 to 30468\n",
      "Data columns (total 21 columns):\n",
      " #   Column                                 Non-Null Count  Dtype  \n",
      "---  ------                                 --------------  -----  \n",
      " 0   id                                     30469 non-null  int64  \n",
      " 1   full_sq                                30469 non-null  int64  \n",
      " 2   life_sq                                24086 non-null  float64\n",
      " 3   floor                                  30302 non-null  float64\n",
      " 4   preschool_education_centers_raion      30469 non-null  int64  \n",
      " 5   school_education_centers_raion         30469 non-null  int64  \n",
      " 6   school_education_centers_top_20_raion  30469 non-null  int64  \n",
      " 7   university_top_20_raion                30469 non-null  int64  \n",
      " 8   sport_objects_raion                    30469 non-null  int64  \n",
      " 9   additional_education_raion             30469 non-null  int64  \n",
      " 10  culture_objects_top_25_raion           30469 non-null  int64  \n",
      " 11  shopping_centers_raion                 30469 non-null  int64  \n",
      " 12  metro_km_walk                          30444 non-null  float64\n",
      " 13  kindergarten_km                        30469 non-null  float64\n",
      " 14  school_km                              30469 non-null  float64\n",
      " 15  park_km                                30469 non-null  float64\n",
      " 16  green_zone_km                          30469 non-null  float64\n",
      " 17  mkad_km                                30469 non-null  float64\n",
      " 18  bulvar_ring_km                         30469 non-null  float64\n",
      " 19  kremlin_km                             30469 non-null  float64\n",
      " 20  price_doc                              30469 non-null  int64  \n",
      "dtypes: float64(10), int64(11)\n",
      "memory usage: 4.9 MB\n"
     ]
    }
   ],
   "source": [
    "data.info()"
   ]
  },
  {
   "cell_type": "code",
   "execution_count": 58,
   "metadata": {},
   "outputs": [
    {
     "data": {
      "image/png": "[encoded data removed]",
      "text/plain": [
       "<Figure size 1440x864 with 1 Axes>"
      ]
     },
     "metadata": {
      "needs_background": "light"
     },
     "output_type": "display_data"
    }
   ],
   "source": [
    "# data.isnull().sum()\n",
    "import seaborn as sns\n",
    "fig, ax = plt.subplots(figsize=(20,12))\n",
    "sns_heatmap = sns.heatmap(data.isnull(), yticklabels=False, cbar=False, cmap='viridis')"
   ]
  },
  {
   "cell_type": "code",
   "execution_count": 60,
   "metadata": {},
   "outputs": [
    {
     "data": {
      "image/png": "[encoded data removed]",
      "text/plain": [
       "<Figure size 432x288 with 1 Axes>"
      ]
     },
     "metadata": {
      "needs_background": "light"
     },
     "output_type": "display_data"
    }
   ],
   "source": [
    "data.price_doc.hist();"
   ]
  },
  {
   "cell_type": "code",
   "execution_count": 62,
   "metadata": {},
   "outputs": [
    {
     "data": {
      "image/png": "[encoded data removed]",
      "text/plain": [
       "<Figure size 432x288 with 1 Axes>"
      ]
     },
     "metadata": {
      "needs_background": "light"
     },
     "output_type": "display_data"
    }
   ],
   "source": [
    "data['price_doc'] = data['price_doc'].apply(lambda w: np.log(w + 1))\n",
    "data.price_doc.hist();"
   ]
  },
  {
   "cell_type": "code",
   "execution_count": 119,
   "metadata": {},
   "outputs": [
    {
     "data": {
      "text/plain": [
       "<AxesSubplot:>"
      ]
     },
     "execution_count": 119,
     "metadata": {},
     "output_type": "execute_result"
    },
    {
     "data": {
      "image/png": "[encoded data removed]",
      "text/plain": [
       "<Figure size 864x864 with 2 Axes>"
      ]
     },
     "metadata": {},
     "output_type": "display_data"
    }
   ],
   "source": [
    "sns.set(font_scale=1)\n",
    "plt.subplots(figsize=(12, 12))\n",
    "sns.heatmap(data.corr(), square=True,\n",
    "              annot=True, fmt=\".1f\", linewidths=0.1, cmap=\"RdBu\")"
   ]
  },
  {
   "cell_type": "markdown",
   "metadata": {},
   "source": [
    "Удалите строки, где есть хотя бы один пропуск. Обучите линейную регрессию, взяв тестовую выборку размера 0.2, random_state=77.Нормализуйте отобранные признаки для тестовой и для обучающей выборки отдельно(!) с помощью функции RobustScaler() (функция, которая подобна известным вам методам нормализации, однако использует медианы и квантили для вычисления, поэтому не чувствительна к выбросам и может приводить к лучшим результатам). Вычислите MSE. Не забудьте, что id не несет никакой содержательной информации, поэтому не надо брать его в качестве предиктора! Также не забудьте, что мы логарифмировали зависимую переменную, а значит при подсчете MSE необходимо найти экспоненциальную функцию от ! Округлите ответ до целых."
   ]
  },
  {
   "cell_type": "code",
   "execution_count": 109,
   "metadata": {},
   "outputs": [],
   "source": [
    "from sklearn.linear_model import LinearRegression\n",
    "from sklearn.metrics import mean_squared_error as mse\n",
    "from sklearn.preprocessing import RobustScaler"
   ]
  },
  {
   "cell_type": "code",
   "execution_count": 110,
   "metadata": {},
   "outputs": [
    {
     "data": {
      "text/html": [
       "<div>\n",
       "<style scoped>\n",
       "    .dataframe tbody tr th:only-of-type {\n",
       "        vertical-align: middle;\n",
       "    }\n",
       "\n",
       "    .dataframe tbody tr th {\n",
       "        vertical-align: top;\n",
       "    }\n",
       "\n",
       "    .dataframe thead th {\n",
       "        text-align: right;\n",
       "    }\n",
       "</style>\n",
       "<table border=\"1\" class=\"dataframe\">\n",
       "  <thead>\n",
       "    <tr style=\"text-align: right;\">\n",
       "      <th></th>\n",
       "      <th>id</th>\n",
       "      <th>full_sq</th>\n",
       "      <th>life_sq</th>\n",
       "      <th>floor</th>\n",
       "      <th>preschool_education_centers_raion</th>\n",
       "      <th>school_education_centers_raion</th>\n",
       "      <th>school_education_centers_top_20_raion</th>\n",
       "      <th>university_top_20_raion</th>\n",
       "      <th>sport_objects_raion</th>\n",
       "      <th>additional_education_raion</th>\n",
       "      <th>...</th>\n",
       "      <th>shopping_centers_raion</th>\n",
       "      <th>metro_km_walk</th>\n",
       "      <th>kindergarten_km</th>\n",
       "      <th>school_km</th>\n",
       "      <th>park_km</th>\n",
       "      <th>green_zone_km</th>\n",
       "      <th>mkad_km</th>\n",
       "      <th>bulvar_ring_km</th>\n",
       "      <th>kremlin_km</th>\n",
       "      <th>price_doc</th>\n",
       "    </tr>\n",
       "  </thead>\n",
       "  <tbody>\n",
       "    <tr>\n",
       "      <th>0</th>\n",
       "      <td>1</td>\n",
       "      <td>43</td>\n",
       "      <td>27.0</td>\n",
       "      <td>4.0</td>\n",
       "      <td>5</td>\n",
       "      <td>5</td>\n",
       "      <td>0</td>\n",
       "      <td>0</td>\n",
       "      <td>7</td>\n",
       "      <td>3</td>\n",
       "      <td>...</td>\n",
       "      <td>16</td>\n",
       "      <td>1.131260</td>\n",
       "      <td>0.145700</td>\n",
       "      <td>0.177975</td>\n",
       "      <td>2.158587</td>\n",
       "      <td>0.600973</td>\n",
       "      <td>1.422391</td>\n",
       "      <td>13.675657</td>\n",
       "      <td>15.156211</td>\n",
       "      <td>5850000</td>\n",
       "    </tr>\n",
       "    <tr>\n",
       "      <th>1</th>\n",
       "      <td>2</td>\n",
       "      <td>34</td>\n",
       "      <td>19.0</td>\n",
       "      <td>3.0</td>\n",
       "      <td>5</td>\n",
       "      <td>8</td>\n",
       "      <td>0</td>\n",
       "      <td>0</td>\n",
       "      <td>6</td>\n",
       "      <td>1</td>\n",
       "      <td>...</td>\n",
       "      <td>3</td>\n",
       "      <td>0.635053</td>\n",
       "      <td>0.147754</td>\n",
       "      <td>0.273345</td>\n",
       "      <td>0.550690</td>\n",
       "      <td>0.065321</td>\n",
       "      <td>9.503405</td>\n",
       "      <td>8.132640</td>\n",
       "      <td>8.698054</td>\n",
       "      <td>6000000</td>\n",
       "    </tr>\n",
       "    <tr>\n",
       "      <th>2</th>\n",
       "      <td>3</td>\n",
       "      <td>43</td>\n",
       "      <td>29.0</td>\n",
       "      <td>2.0</td>\n",
       "      <td>4</td>\n",
       "      <td>7</td>\n",
       "      <td>0</td>\n",
       "      <td>0</td>\n",
       "      <td>5</td>\n",
       "      <td>1</td>\n",
       "      <td>...</td>\n",
       "      <td>0</td>\n",
       "      <td>1.445960</td>\n",
       "      <td>0.049102</td>\n",
       "      <td>0.158072</td>\n",
       "      <td>0.374848</td>\n",
       "      <td>0.453172</td>\n",
       "      <td>5.604800</td>\n",
       "      <td>8.054252</td>\n",
       "      <td>9.067885</td>\n",
       "      <td>5700000</td>\n",
       "    </tr>\n",
       "    <tr>\n",
       "      <th>3</th>\n",
       "      <td>4</td>\n",
       "      <td>89</td>\n",
       "      <td>50.0</td>\n",
       "      <td>9.0</td>\n",
       "      <td>9</td>\n",
       "      <td>10</td>\n",
       "      <td>0</td>\n",
       "      <td>0</td>\n",
       "      <td>17</td>\n",
       "      <td>6</td>\n",
       "      <td>...</td>\n",
       "      <td>11</td>\n",
       "      <td>0.963802</td>\n",
       "      <td>0.179441</td>\n",
       "      <td>0.236455</td>\n",
       "      <td>0.078090</td>\n",
       "      <td>0.106125</td>\n",
       "      <td>2.677824</td>\n",
       "      <td>18.309433</td>\n",
       "      <td>19.487005</td>\n",
       "      <td>13100000</td>\n",
       "    </tr>\n",
       "    <tr>\n",
       "      <th>4</th>\n",
       "      <td>5</td>\n",
       "      <td>77</td>\n",
       "      <td>77.0</td>\n",
       "      <td>4.0</td>\n",
       "      <td>7</td>\n",
       "      <td>9</td>\n",
       "      <td>0</td>\n",
       "      <td>2</td>\n",
       "      <td>25</td>\n",
       "      <td>2</td>\n",
       "      <td>...</td>\n",
       "      <td>10</td>\n",
       "      <td>0.688859</td>\n",
       "      <td>0.247901</td>\n",
       "      <td>0.376838</td>\n",
       "      <td>0.258289</td>\n",
       "      <td>0.236214</td>\n",
       "      <td>11.616653</td>\n",
       "      <td>0.787593</td>\n",
       "      <td>2.578671</td>\n",
       "      <td>16331452</td>\n",
       "    </tr>\n",
       "  </tbody>\n",
       "</table>\n",
       "<p>5 rows × 21 columns</p>\n",
       "</div>"
      ],
      "text/plain": [
       "   id  full_sq  life_sq  floor  preschool_education_centers_raion  \\\n",
       "0   1       43     27.0    4.0                                  5   \n",
       "1   2       34     19.0    3.0                                  5   \n",
       "2   3       43     29.0    2.0                                  4   \n",
       "3   4       89     50.0    9.0                                  9   \n",
       "4   5       77     77.0    4.0                                  7   \n",
       "\n",
       "   school_education_centers_raion  school_education_centers_top_20_raion  \\\n",
       "0                               5                                      0   \n",
       "1                               8                                      0   \n",
       "2                               7                                      0   \n",
       "3                              10                                      0   \n",
       "4                               9                                      0   \n",
       "\n",
       "   university_top_20_raion  sport_objects_raion  additional_education_raion  \\\n",
       "0                        0                    7                           3   \n",
       "1                        0                    6                           1   \n",
       "2                        0                    5                           1   \n",
       "3                        0                   17                           6   \n",
       "4                        2                   25                           2   \n",
       "\n",
       "   ...  shopping_centers_raion  metro_km_walk  kindergarten_km  school_km  \\\n",
       "0  ...                      16       1.131260         0.145700   0.177975   \n",
       "1  ...                       3       0.635053         0.147754   0.273345   \n",
       "2  ...                       0       1.445960         0.049102   0.158072   \n",
       "3  ...                      11       0.963802         0.179441   0.236455   \n",
       "4  ...                      10       0.688859         0.247901   0.376838   \n",
       "\n",
       "    park_km  green_zone_km    mkad_km  bulvar_ring_km  kremlin_km  price_doc  \n",
       "0  2.158587       0.600973   1.422391       13.675657   15.156211    5850000  \n",
       "1  0.550690       0.065321   9.503405        8.132640    8.698054    6000000  \n",
       "2  0.374848       0.453172   5.604800        8.054252    9.067885    5700000  \n",
       "3  0.078090       0.106125   2.677824       18.309433   19.487005   13100000  \n",
       "4  0.258289       0.236214  11.616653        0.787593    2.578671   16331452  \n",
       "\n",
       "[5 rows x 21 columns]"
      ]
     },
     "execution_count": 110,
     "metadata": {},
     "output_type": "execute_result"
    }
   ],
   "source": [
    "data = pd.read_csv('data_flats.xls', sep =';')\n",
    "data.head()"
   ]
  },
  {
   "cell_type": "code",
   "execution_count": 111,
   "metadata": {},
   "outputs": [],
   "source": [
    "data['price_doc'] = data['price_doc'].apply(lambda w: np.log(w + 1))\n",
    "data.drop(['kremlin_km','preschool_education_centers_raion', 'kindergarten_km',\n",
    "    'park_km', 'id', 'life_sq'], axis=1, inplace=True)\n",
    "data = data.dropna()\n",
    "X = data.drop(['price_doc'], axis=1)\n",
    "y = data['price_doc']\n"
   ]
  },
  {
   "cell_type": "code",
   "execution_count": 113,
   "metadata": {},
   "outputs": [],
   "source": [
    "# df.isnull().sum()\n",
    "# import seaborn as sns\n",
    "# fig, ax = plt.subplots(figsize=(20,12))\n",
    "# sns_heatmap = sns.heatmap(df.isnull(), yticklabels=False, cbar=False, cmap='viridis')"
   ]
  },
  {
   "cell_type": "code",
   "execution_count": 114,
   "metadata": {},
   "outputs": [],
   "source": [
    "X_train, X_test, y_train, y_test = train_test_split(X, y, test_size=0.2, random_state=77)"
   ]
  },
  {
   "cell_type": "code",
   "execution_count": 116,
   "metadata": {},
   "outputs": [
    {
     "data": {
      "text/html": [
       "<div>\n",
       "<style scoped>\n",
       "    .dataframe tbody tr th:only-of-type {\n",
       "        vertical-align: middle;\n",
       "    }\n",
       "\n",
       "    .dataframe tbody tr th {\n",
       "        vertical-align: top;\n",
       "    }\n",
       "\n",
       "    .dataframe thead th {\n",
       "        text-align: right;\n",
       "    }\n",
       "</style>\n",
       "<table border=\"1\" class=\"dataframe\">\n",
       "  <thead>\n",
       "    <tr style=\"text-align: right;\">\n",
       "      <th></th>\n",
       "      <th>full_sq</th>\n",
       "      <th>floor</th>\n",
       "      <th>school_education_centers_raion</th>\n",
       "      <th>school_education_centers_top_20_raion</th>\n",
       "      <th>university_top_20_raion</th>\n",
       "      <th>sport_objects_raion</th>\n",
       "      <th>additional_education_raion</th>\n",
       "      <th>culture_objects_top_25_raion</th>\n",
       "      <th>shopping_centers_raion</th>\n",
       "      <th>metro_km_walk</th>\n",
       "      <th>school_km</th>\n",
       "      <th>green_zone_km</th>\n",
       "      <th>mkad_km</th>\n",
       "      <th>bulvar_ring_km</th>\n",
       "    </tr>\n",
       "  </thead>\n",
       "  <tbody>\n",
       "    <tr>\n",
       "      <th>210</th>\n",
       "      <td>42</td>\n",
       "      <td>8.0</td>\n",
       "      <td>8</td>\n",
       "      <td>0</td>\n",
       "      <td>1</td>\n",
       "      <td>11</td>\n",
       "      <td>1</td>\n",
       "      <td>0</td>\n",
       "      <td>4</td>\n",
       "      <td>1.847784</td>\n",
       "      <td>0.456069</td>\n",
       "      <td>0.416911</td>\n",
       "      <td>4.854571</td>\n",
       "      <td>10.075731</td>\n",
       "    </tr>\n",
       "    <tr>\n",
       "      <th>11028</th>\n",
       "      <td>29</td>\n",
       "      <td>8.0</td>\n",
       "      <td>7</td>\n",
       "      <td>1</td>\n",
       "      <td>0</td>\n",
       "      <td>7</td>\n",
       "      <td>2</td>\n",
       "      <td>0</td>\n",
       "      <td>6</td>\n",
       "      <td>0.883292</td>\n",
       "      <td>0.173981</td>\n",
       "      <td>0.793126</td>\n",
       "      <td>2.064289</td>\n",
       "      <td>16.256289</td>\n",
       "    </tr>\n",
       "    <tr>\n",
       "      <th>13701</th>\n",
       "      <td>52</td>\n",
       "      <td>10.0</td>\n",
       "      <td>3</td>\n",
       "      <td>0</td>\n",
       "      <td>0</td>\n",
       "      <td>3</td>\n",
       "      <td>2</td>\n",
       "      <td>0</td>\n",
       "      <td>5</td>\n",
       "      <td>2.162659</td>\n",
       "      <td>0.431915</td>\n",
       "      <td>0.481168</td>\n",
       "      <td>1.036283</td>\n",
       "      <td>14.469956</td>\n",
       "    </tr>\n",
       "    <tr>\n",
       "      <th>23670</th>\n",
       "      <td>39</td>\n",
       "      <td>9.0</td>\n",
       "      <td>4</td>\n",
       "      <td>1</td>\n",
       "      <td>2</td>\n",
       "      <td>29</td>\n",
       "      <td>16</td>\n",
       "      <td>10</td>\n",
       "      <td>23</td>\n",
       "      <td>1.121589</td>\n",
       "      <td>0.269716</td>\n",
       "      <td>0.189089</td>\n",
       "      <td>13.917815</td>\n",
       "      <td>0.506919</td>\n",
       "    </tr>\n",
       "    <tr>\n",
       "      <th>10260</th>\n",
       "      <td>110</td>\n",
       "      <td>16.0</td>\n",
       "      <td>4</td>\n",
       "      <td>1</td>\n",
       "      <td>2</td>\n",
       "      <td>29</td>\n",
       "      <td>16</td>\n",
       "      <td>10</td>\n",
       "      <td>23</td>\n",
       "      <td>1.121589</td>\n",
       "      <td>0.269716</td>\n",
       "      <td>0.189089</td>\n",
       "      <td>13.917815</td>\n",
       "      <td>0.506919</td>\n",
       "    </tr>\n",
       "    <tr>\n",
       "      <th>...</th>\n",
       "      <td>...</td>\n",
       "      <td>...</td>\n",
       "      <td>...</td>\n",
       "      <td>...</td>\n",
       "      <td>...</td>\n",
       "      <td>...</td>\n",
       "      <td>...</td>\n",
       "      <td>...</td>\n",
       "      <td>...</td>\n",
       "      <td>...</td>\n",
       "      <td>...</td>\n",
       "      <td>...</td>\n",
       "      <td>...</td>\n",
       "      <td>...</td>\n",
       "    </tr>\n",
       "    <tr>\n",
       "      <th>18841</th>\n",
       "      <td>65</td>\n",
       "      <td>8.0</td>\n",
       "      <td>6</td>\n",
       "      <td>0</td>\n",
       "      <td>0</td>\n",
       "      <td>3</td>\n",
       "      <td>2</td>\n",
       "      <td>0</td>\n",
       "      <td>5</td>\n",
       "      <td>1.953037</td>\n",
       "      <td>0.656802</td>\n",
       "      <td>0.030296</td>\n",
       "      <td>0.871993</td>\n",
       "      <td>14.751603</td>\n",
       "    </tr>\n",
       "    <tr>\n",
       "      <th>26760</th>\n",
       "      <td>73</td>\n",
       "      <td>9.0</td>\n",
       "      <td>5</td>\n",
       "      <td>0</td>\n",
       "      <td>2</td>\n",
       "      <td>4</td>\n",
       "      <td>2</td>\n",
       "      <td>0</td>\n",
       "      <td>2</td>\n",
       "      <td>0.677088</td>\n",
       "      <td>0.285368</td>\n",
       "      <td>0.322827</td>\n",
       "      <td>9.298244</td>\n",
       "      <td>8.913157</td>\n",
       "    </tr>\n",
       "    <tr>\n",
       "      <th>28429</th>\n",
       "      <td>47</td>\n",
       "      <td>1.0</td>\n",
       "      <td>8</td>\n",
       "      <td>1</td>\n",
       "      <td>0</td>\n",
       "      <td>7</td>\n",
       "      <td>8</td>\n",
       "      <td>0</td>\n",
       "      <td>5</td>\n",
       "      <td>0.318443</td>\n",
       "      <td>0.405444</td>\n",
       "      <td>0.323905</td>\n",
       "      <td>4.240049</td>\n",
       "      <td>9.081323</td>\n",
       "    </tr>\n",
       "    <tr>\n",
       "      <th>8951</th>\n",
       "      <td>40</td>\n",
       "      <td>5.0</td>\n",
       "      <td>4</td>\n",
       "      <td>0</td>\n",
       "      <td>0</td>\n",
       "      <td>7</td>\n",
       "      <td>1</td>\n",
       "      <td>0</td>\n",
       "      <td>5</td>\n",
       "      <td>0.917073</td>\n",
       "      <td>0.259458</td>\n",
       "      <td>0.226388</td>\n",
       "      <td>2.653259</td>\n",
       "      <td>9.492234</td>\n",
       "    </tr>\n",
       "    <tr>\n",
       "      <th>15234</th>\n",
       "      <td>17</td>\n",
       "      <td>5.0</td>\n",
       "      <td>3</td>\n",
       "      <td>0</td>\n",
       "      <td>0</td>\n",
       "      <td>6</td>\n",
       "      <td>3</td>\n",
       "      <td>0</td>\n",
       "      <td>1</td>\n",
       "      <td>0.599132</td>\n",
       "      <td>0.333572</td>\n",
       "      <td>0.097268</td>\n",
       "      <td>2.523488</td>\n",
       "      <td>10.211934</td>\n",
       "    </tr>\n",
       "  </tbody>\n",
       "</table>\n",
       "<p>24221 rows × 14 columns</p>\n",
       "</div>"
      ],
      "text/plain": [
       "       full_sq  floor  school_education_centers_raion  \\\n",
       "210         42    8.0                               8   \n",
       "11028       29    8.0                               7   \n",
       "13701       52   10.0                               3   \n",
       "23670       39    9.0                               4   \n",
       "10260      110   16.0                               4   \n",
       "...        ...    ...                             ...   \n",
       "18841       65    8.0                               6   \n",
       "26760       73    9.0                               5   \n",
       "28429       47    1.0                               8   \n",
       "8951        40    5.0                               4   \n",
       "15234       17    5.0                               3   \n",
       "\n",
       "       school_education_centers_top_20_raion  university_top_20_raion  \\\n",
       "210                                        0                        1   \n",
       "11028                                      1                        0   \n",
       "13701                                      0                        0   \n",
       "23670                                      1                        2   \n",
       "10260                                      1                        2   \n",
       "...                                      ...                      ...   \n",
       "18841                                      0                        0   \n",
       "26760                                      0                        2   \n",
       "28429                                      1                        0   \n",
       "8951                                       0                        0   \n",
       "15234                                      0                        0   \n",
       "\n",
       "       sport_objects_raion  additional_education_raion  \\\n",
       "210                     11                           1   \n",
       "11028                    7                           2   \n",
       "13701                    3                           2   \n",
       "23670                   29                          16   \n",
       "10260                   29                          16   \n",
       "...                    ...                         ...   \n",
       "18841                    3                           2   \n",
       "26760                    4                           2   \n",
       "28429                    7                           8   \n",
       "8951                     7                           1   \n",
       "15234                    6                           3   \n",
       "\n",
       "       culture_objects_top_25_raion  shopping_centers_raion  metro_km_walk  \\\n",
       "210                               0                       4       1.847784   \n",
       "11028                             0                       6       0.883292   \n",
       "13701                             0                       5       2.162659   \n",
       "23670                            10                      23       1.121589   \n",
       "10260                            10                      23       1.121589   \n",
       "...                             ...                     ...            ...   \n",
       "18841                             0                       5       1.953037   \n",
       "26760                             0                       2       0.677088   \n",
       "28429                             0                       5       0.318443   \n",
       "8951                              0                       5       0.917073   \n",
       "15234                             0                       1       0.599132   \n",
       "\n",
       "       school_km  green_zone_km    mkad_km  bulvar_ring_km  \n",
       "210     0.456069       0.416911   4.854571       10.075731  \n",
       "11028   0.173981       0.793126   2.064289       16.256289  \n",
       "13701   0.431915       0.481168   1.036283       14.469956  \n",
       "23670   0.269716       0.189089  13.917815        0.506919  \n",
       "10260   0.269716       0.189089  13.917815        0.506919  \n",
       "...          ...            ...        ...             ...  \n",
       "18841   0.656802       0.030296   0.871993       14.751603  \n",
       "26760   0.285368       0.322827   9.298244        8.913157  \n",
       "28429   0.405444       0.323905   4.240049        9.081323  \n",
       "8951    0.259458       0.226388   2.653259        9.492234  \n",
       "15234   0.333572       0.097268   2.523488       10.211934  \n",
       "\n",
       "[24221 rows x 14 columns]"
      ]
     },
     "execution_count": 116,
     "metadata": {},
     "output_type": "execute_result"
    }
   ],
   "source": [
    "X_train"
   ]
  },
  {
   "cell_type": "markdown",
   "metadata": {},
   "source": [
    "# Нормализация\n"
   ]
  },
  {
   "cell_type": "code",
   "execution_count": 101,
   "metadata": {},
   "outputs": [],
   "source": [
    "scaler = RobustScaler()\n",
    "X_train_transformed = scaler.fit_transform(X_train)\n",
    "X_test_transformed = scaler.fit_transform(X_test)"
   ]
  },
  {
   "cell_type": "code",
   "execution_count": 103,
   "metadata": {},
   "outputs": [
    {
     "data": {
      "text/plain": [
       "array([[-0.28      ,  1.625     , -1.        , ..., -0.55514123,\n",
       "         0.39023373,  0.76349983],\n",
       "       [-0.24      ,  2.125     , -1.        , ...,  0.07574603,\n",
       "         0.70285237,  0.92944816],\n",
       "       [-0.24      , -0.375     ,  0.        , ...,  0.47988973,\n",
       "        -0.05669985, -0.05341375],\n",
       "       ...,\n",
       "       [-0.48      , -0.375     , -0.2       , ..., -0.08069299,\n",
       "         1.52501264, -1.22835836],\n",
       "       [-0.24      , -0.5       , -0.4       , ..., -0.33264297,\n",
       "        -0.82537945, -0.13597543],\n",
       "       [ 2.08      ,  0.75      , -0.2       , ..., -0.43166788,\n",
       "         1.44027531, -1.05597575]])"
      ]
     },
     "execution_count": 103,
     "metadata": {},
     "output_type": "execute_result"
    }
   ],
   "source": [
    "X_test_transformed"
   ]
  },
  {
   "cell_type": "code",
   "execution_count": 105,
   "metadata": {},
   "outputs": [
    {
     "data": {
      "text/plain": [
       "LinearRegression()"
      ]
     },
     "execution_count": 105,
     "metadata": {},
     "output_type": "execute_result"
    }
   ],
   "source": [
    "reg = LinearRegression()\n",
    "reg.fit(X_train_transformed, y_train)"
   ]
  },
  {
   "cell_type": "code",
   "execution_count": 106,
   "metadata": {},
   "outputs": [],
   "source": [
    "y_pred = reg.predict(X_test_transformed)\n",
    "MSE = np.round(mse(np.exp(y_test) - 1, np.exp(y_pred) - 1), 0)"
   ]
  },
  {
   "cell_type": "code",
   "execution_count": 117,
   "metadata": {},
   "outputs": [
    {
     "name": "stdout",
     "output_type": "stream",
     "text": [
      "MSE = 16647931507747\n"
     ]
    }
   ],
   "source": [
    "print(\"MSE = {:.0f}\".format(MSE))"
   ]
  },
  {
   "cell_type": "code",
   "execution_count": null,
   "metadata": {},
   "outputs": [],
   "source": []
  }
 ],
 "metadata": {
  "kernelspec": {
   "display_name": "Python 3",
   "language": "python",
   "name": "python3"
  },
  "language_info": {
   "codemirror_mode": {
    "name": "ipython",
    "version": 3
   },
   "file_extension": ".py",
   "mimetype": "text/x-python",
   "name": "python",
   "nbconvert_exporter": "python",
   "pygments_lexer": "ipython3",
   "version": "3.8.8"
  }
 },
 "nbformat": 4,
 "nbformat_minor": 4
}
