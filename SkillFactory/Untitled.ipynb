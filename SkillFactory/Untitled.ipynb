{
 "cells": [
  {
   "cell_type": "code",
   "execution_count": 7,
   "metadata": {},
   "outputs": [
    {
     "data": {
      "text/plain": [
       "date     datetime64[ns]\n",
       "time             object\n",
       "value            object\n",
       "dtype: object"
      ]
     },
     "execution_count": 7,
     "metadata": {},
     "output_type": "execute_result"
    }
   ],
   "source": [
    "\n",
    "import pandas as pd\n",
    "import numpy as np\n",
    "summ = 0 \n",
    "mean = 0\n",
    "#path = 'C:/Users/gorba/Desktop/Univercity/4 курс/'\n",
    "df = pd.read_excel('C:/Users/gorba/Desktop/Univercity/4 курс/osrednite_eto_govno.xlsx')\n",
    "df.dtypes\n"
   ]
  },
  {
   "cell_type": "code",
   "execution_count": null,
   "metadata": {},
   "outputs": [],
   "source": [
    "for i in len(df):\n",
    "    if df.date[i] == df.date[i + 1]:\n",
    "        summ = summ + df.value[i] \n",
    "    else:\n",
    "        mean = summ / i\n",
    "        new_df = []\n",
    "        new_df.append(df.date[i], mean)\n",
    "        summ = 0 \n",
    "        mean = 0"
   ]
  },
  {
   "cell_type": "code",
   "execution_count": 5,
   "metadata": {},
   "outputs": [
    {
     "data": {
      "text/plain": [
       "date          datetime64[ns]\n",
       "value                 object\n",
       "Unnamed: 2            object\n",
       "dtype: object"
      ]
     },
     "execution_count": 5,
     "metadata": {},
     "output_type": "execute_result"
    }
   ],
   "source": [
    "df.dtypes"
   ]
  },
  {
   "cell_type": "code",
   "execution_count": null,
   "metadata": {},
   "outputs": [],
   "source": [
    "\n",
    "import pandas as pd\n",
    "import numpy as np\n",
    "summ = 0 \n",
    "mean = 0\n",
    "#path = 'C:/Users/gorba/Desktop/Univercity/4 курс/'\n",
    "df = pd.read_excel('C:/Users/gorba/Desktop/Univercity/4 курс/osrednite_eto_govno.xlsx')\n",
    "df.dtypes\n",
    "#sample4 = sp[~sp.City.str.contains(\"о\", na=False)]\n",
    "#df.value = df[~df.value.str.contains(\",\", na=False)]\n",
    "#df.astype({'value': 'float'}).dtypes\n",
    "for i in range (len(df)):\n",
    "    if df.date[i] == df.date[i + 1]:\n",
    "        summ = summ + df.value[i] \n",
    "    else:\n",
    "        mean = summ / i\n",
    "        new_df = []\n",
    "        new_df.append(df.date[i], mean)\n",
    "        summ = 0 \n",
    "        mean = 0"
   ]
  }
 ],
 "metadata": {
  "kernelspec": {
   "display_name": "Python 3",
   "language": "python",
   "name": "python3"
  },
  "language_info": {
   "codemirror_mode": {
    "name": "ipython",
    "version": 3
   },
   "file_extension": ".py",
   "mimetype": "text/x-python",
   "name": "python",
   "nbconvert_exporter": "python",
   "pygments_lexer": "ipython3",
   "version": "3.7.6"
  }
 },
 "nbformat": 4,
 "nbformat_minor": 4
}
