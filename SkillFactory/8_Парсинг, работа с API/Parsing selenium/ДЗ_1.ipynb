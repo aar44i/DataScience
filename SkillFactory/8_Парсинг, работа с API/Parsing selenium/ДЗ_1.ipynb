{
 "cells": [
  {
   "cell_type": "markdown",
   "metadata": {},
   "source": [
    "Домашнее задание:\n",
    "есть три списка: названия стран, население и площадь. Вам нужно посчитать плотность населения в каждой стране и записать получившиеся значения в новый список. Затем найти минимальную плотность населения и получить страну, которой эта плотность соответствует.Списки,разумеется,упорядочены и первые элементы относятся к Сингапуру, вторые к Италии и т.д.\n",
    "\n",
    "Задание со звёздочкой:\n",
    "написать функцию, принимающую на вход три коэффициента при переменных квадратного уравнения и возвращающую решение этого уравнения"
   ]
  },
  {
   "cell_type": "code",
   "execution_count": 20,
   "metadata": {},
   "outputs": [
    {
     "name": "stdout",
     "output_type": "stream",
     "text": [
      "defaultdict(<class 'list'>, {'Singapore': [7972.845124810371], 'Italy': [201.06313798367293], 'Greece': [81.39897845510279], 'Portugal': [111.42910304415443], 'Chile': [23.501244467930512]})\n",
      "Chile\n",
      "Singapore\n"
     ]
    }
   ],
   "source": [
    "import collections\n",
    "\n",
    "ctr_dict = collections.defaultdict(list)\n",
    "countries = ['Singapore', 'Italy', 'Greece', 'Portugal', 'Chile']#, 'South Africa'] ## Список с названиями стран\n",
    "populations = [5781110, 60588366, 10741165, 10276617, 17789267]#, 54956900] ## Список с населениями стран\n",
    "areas = [725.1, 301340, 131957, 92225.61, 756950]#, 1219912] ## Список с площадьми стран\n",
    "\n",
    "for i in range(0,len(countries)):\n",
    "    ctr_dict[countries[i]].append(( populations[i] / areas[i] ))\n",
    "print((ctr_dict))\n",
    "print(min(ctr_dict))\n",
    "print(max(ctr_dict))"
   ]
  },
  {
   "cell_type": "code",
   "execution_count": 39,
   "metadata": {},
   "outputs": [
    {
     "name": "stdout",
     "output_type": "stream",
     "text": [
      "defaultdict(<class 'list'>, {'Singapore': [7972.845124810371], 'Italy': [201.06313798367293], 'Greece': [81.39897845510279], 'Portugal': [111.42910304415443], 'Chile': [23.501244467930512], 'South Africa': [45.04988884444124]})\n",
      "Chile\n",
      "South Africa\n"
     ]
    }
   ],
   "source": [
    "import collections\n",
    "\n",
    "ctr_dict = collections.defaultdict(list)\n",
    "countries = ['Singapore', 'Italy', 'Greece', 'Portugal', 'Chile', 'South Africa'] ## Список с названиями стран\n",
    "populations = [5781110, 60588366, 10741165, 10276617, 17789267, 54956900] ## Список с населениями стран\n",
    "areas = [725.1, 301340, 131957, 92225.61, 756950, 1219912] ## Список с площадьми стран\n",
    "\n",
    "for i in range(0,len(countries)):\n",
    "    ctr_dict[countries[i]].append(( populations[i] / areas[i] ))\n",
    "print((ctr_dict))\n",
    "print(min(ctr_dict))\n",
    "print(max(ctr_dict))"
   ]
  },
  {
   "cell_type": "code",
   "execution_count": 33,
   "metadata": {},
   "outputs": [
    {
     "data": {
      "text/plain": [
       "(12.5, -38.5)"
      ]
     },
     "execution_count": 33,
     "metadata": {},
     "output_type": "execute_result"
    }
   ],
   "source": [
    "import numpy as np\n",
    "def eqt(a,b,c):\n",
    "    D = b**2 - 4 * a*c\n",
    "    if D > 0:\n",
    "        x1 = (-b + np.sqrt(D) / 2 * a)\n",
    "        x2 = (-b - np.sqrt(D) / 2 * a)\n",
    "        return (x1,x2)\n",
    "    else:\n",
    "        return(\"korney net\")\n",
    "\n",
    "eqt(3,13,-10)"
   ]
  }
 ],
 "metadata": {
  "kernelspec": {
   "display_name": "Python 3",
   "language": "python",
   "name": "python3"
  },
  "language_info": {
   "codemirror_mode": {
    "name": "ipython",
    "version": 3
   },
   "file_extension": ".py",
   "mimetype": "text/x-python",
   "name": "python",
   "nbconvert_exporter": "python",
   "pygments_lexer": "ipython3",
   "version": "3.7.6"
  }
 },
 "nbformat": 4,
 "nbformat_minor": 4
}
