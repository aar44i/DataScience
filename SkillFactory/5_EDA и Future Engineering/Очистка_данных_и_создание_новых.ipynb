{
 "cells": [
  {
   "cell_type": "markdown",
   "metadata": {
    "id": "3w1GBeaeaMq_"
   },
   "source": [
    "### Очистка и подготовка данных\n",
    "\n",
    "Данные не всегда представляют собой идеально организованный набор наблюдений без каких-либо пропусков или аномалий Обычно данные содержат в себе кучу мусора, который необходимо почистить, да и вообще сами данные порой лучше воспринимать критически, для того чтобы затем привести их в приемлемый формат. Чистка данных — это необходимый этап решения почти любой реальной задачи.\n",
    "\n"
   ]
  },
  {
   "cell_type": "markdown",
   "metadata": {
    "id": "pi9sfaVhaMrG"
   },
   "source": [
    "Источники недостающих ценностей\n",
    "\n",
    "Прежде чем мы углубимся в код, важно понять источники недостающих данных. Вот несколько типичных причин отсутствия данных:\n",
    "<ol>\n",
    "    <li> Пользователь забыл заполнить поле.</li>\n",
    "\n",
    "<li> Данные были потеряны при переносе вручную из устаревшей базы данных.</li>\n",
    "\n",
    "<li> Произошла ошибка программирования.</li>\n",
    "\n",
    "<li> Пользователи решили не заполнять поле, связанное с их мнением о том, как результаты будут использоваться или интерпретироваться.</li>\n",
    "</ol>"
   ]
  },
  {
   "cell_type": "markdown",
   "metadata": {
    "id": "nWj6ar5waMrJ"
   },
   "source": [
    "### 2 главные проблемы при подготовке данных: пропущенные значения и неправильная типизация\n"
   ]
  },
  {
   "cell_type": "code",
   "execution_count": 2,
   "metadata": {
    "colab": {
     "base_uri": "https://localhost:8080/",
     "height": 206
    },
    "id": "R0q1OoddaMrc",
    "outputId": "8096d118-b3e4-408a-dc82-a3a76664470d"
   },
   "outputs": [
    {
     "data": {
      "text/html": [
       "<div>\n",
       "<style scoped>\n",
       "    .dataframe tbody tr th:only-of-type {\n",
       "        vertical-align: middle;\n",
       "    }\n",
       "\n",
       "    .dataframe tbody tr th {\n",
       "        vertical-align: top;\n",
       "    }\n",
       "\n",
       "    .dataframe thead th {\n",
       "        text-align: right;\n",
       "    }\n",
       "</style>\n",
       "<table border=\"1\" class=\"dataframe\">\n",
       "  <thead>\n",
       "    <tr style=\"text-align: right;\">\n",
       "      <th></th>\n",
       "      <th>PassengerId</th>\n",
       "      <th>Survived</th>\n",
       "      <th>Pclass</th>\n",
       "      <th>Name</th>\n",
       "      <th>Sex</th>\n",
       "      <th>Age</th>\n",
       "      <th>SibSp</th>\n",
       "      <th>Parch</th>\n",
       "      <th>Ticket</th>\n",
       "      <th>Fare</th>\n",
       "      <th>Cabin</th>\n",
       "      <th>Embarked</th>\n",
       "    </tr>\n",
       "  </thead>\n",
       "  <tbody>\n",
       "    <tr>\n",
       "      <th>0</th>\n",
       "      <td>1</td>\n",
       "      <td>0</td>\n",
       "      <td>3</td>\n",
       "      <td>Braund, Mr. Owen Harris</td>\n",
       "      <td>male</td>\n",
       "      <td>22.0</td>\n",
       "      <td>1</td>\n",
       "      <td>0</td>\n",
       "      <td>A/5 21171</td>\n",
       "      <td>7.2500</td>\n",
       "      <td>NaN</td>\n",
       "      <td>S</td>\n",
       "    </tr>\n",
       "    <tr>\n",
       "      <th>1</th>\n",
       "      <td>2</td>\n",
       "      <td>1</td>\n",
       "      <td>1</td>\n",
       "      <td>Cumings, Mrs. John Bradley (Florence Briggs Th...</td>\n",
       "      <td>female</td>\n",
       "      <td>38.0</td>\n",
       "      <td>1</td>\n",
       "      <td>0</td>\n",
       "      <td>PC 17599</td>\n",
       "      <td>71.2833</td>\n",
       "      <td>C85</td>\n",
       "      <td>C</td>\n",
       "    </tr>\n",
       "    <tr>\n",
       "      <th>2</th>\n",
       "      <td>3</td>\n",
       "      <td>1</td>\n",
       "      <td>3</td>\n",
       "      <td>Heikkinen, Miss. Laina</td>\n",
       "      <td>female</td>\n",
       "      <td>26.0</td>\n",
       "      <td>0</td>\n",
       "      <td>0</td>\n",
       "      <td>STON/O2. 3101282</td>\n",
       "      <td>7.9250</td>\n",
       "      <td>NaN</td>\n",
       "      <td>S</td>\n",
       "    </tr>\n",
       "    <tr>\n",
       "      <th>3</th>\n",
       "      <td>4</td>\n",
       "      <td>1</td>\n",
       "      <td>1</td>\n",
       "      <td>Futrelle, Mrs. Jacques Heath (Lily May Peel)</td>\n",
       "      <td>female</td>\n",
       "      <td>35.0</td>\n",
       "      <td>1</td>\n",
       "      <td>0</td>\n",
       "      <td>113803</td>\n",
       "      <td>53.1000</td>\n",
       "      <td>C123</td>\n",
       "      <td>S</td>\n",
       "    </tr>\n",
       "    <tr>\n",
       "      <th>4</th>\n",
       "      <td>5</td>\n",
       "      <td>0</td>\n",
       "      <td>3</td>\n",
       "      <td>Allen, Mr. William Henry</td>\n",
       "      <td>male</td>\n",
       "      <td>35.0</td>\n",
       "      <td>0</td>\n",
       "      <td>0</td>\n",
       "      <td>373450</td>\n",
       "      <td>8.0500</td>\n",
       "      <td>NaN</td>\n",
       "      <td>S</td>\n",
       "    </tr>\n",
       "  </tbody>\n",
       "</table>\n",
       "</div>"
      ],
      "text/plain": [
       "   PassengerId  Survived  Pclass  \\\n",
       "0            1         0       3   \n",
       "1            2         1       1   \n",
       "2            3         1       3   \n",
       "3            4         1       1   \n",
       "4            5         0       3   \n",
       "\n",
       "                                                Name     Sex   Age  SibSp  \\\n",
       "0                            Braund, Mr. Owen Harris    male  22.0      1   \n",
       "1  Cumings, Mrs. John Bradley (Florence Briggs Th...  female  38.0      1   \n",
       "2                             Heikkinen, Miss. Laina  female  26.0      0   \n",
       "3       Futrelle, Mrs. Jacques Heath (Lily May Peel)  female  35.0      1   \n",
       "4                           Allen, Mr. William Henry    male  35.0      0   \n",
       "\n",
       "   Parch            Ticket     Fare Cabin Embarked  \n",
       "0      0         A/5 21171   7.2500   NaN        S  \n",
       "1      0          PC 17599  71.2833   C85        C  \n",
       "2      0  STON/O2. 3101282   7.9250   NaN        S  \n",
       "3      0            113803  53.1000  C123        S  \n",
       "4      0            373450   8.0500   NaN        S  "
      ]
     },
     "execution_count": 2,
     "metadata": {},
     "output_type": "execute_result"
    }
   ],
   "source": [
    "df.head()"
   ]
  },
  {
   "cell_type": "code",
   "execution_count": null,
   "metadata": {
    "colab": {
     "base_uri": "https://localhost:8080/",
     "height": 34
    },
    "id": "aL1sdwGiJoea",
    "outputId": "4b637fbe-773d-4b67-8dc8-e81da2d1da42"
   },
   "outputs": [
    {
     "data": {
      "text/plain": [
       "(891, 12)"
      ]
     },
     "execution_count": 4,
     "metadata": {
      "tags": []
     },
     "output_type": "execute_result"
    }
   ],
   "source": [
    "df.shape"
   ]
  },
  {
   "cell_type": "code",
   "execution_count": null,
   "metadata": {
    "colab": {
     "base_uri": "https://localhost:8080/",
     "height": 347
    },
    "id": "R_yNfL0yaMrq",
    "outputId": "c102c83d-a1ff-46ed-dbeb-137bb02774f8"
   },
   "outputs": [
    {
     "name": "stdout",
     "output_type": "stream",
     "text": [
      "<class 'pandas.core.frame.DataFrame'>\n",
      "RangeIndex: 891 entries, 0 to 890\n",
      "Data columns (total 12 columns):\n",
      " #   Column       Non-Null Count  Dtype  \n",
      "---  ------       --------------  -----  \n",
      " 0   PassengerId  891 non-null    int64  \n",
      " 1   Survived     891 non-null    int64  \n",
      " 2   Pclass       891 non-null    int64  \n",
      " 3   Name         891 non-null    object \n",
      " 4   Sex          891 non-null    object \n",
      " 5   Age          714 non-null    float64\n",
      " 6   SibSp        891 non-null    int64  \n",
      " 7   Parch        891 non-null    int64  \n",
      " 8   Ticket       891 non-null    object \n",
      " 9   Fare         891 non-null    float64\n",
      " 10  Cabin        204 non-null    object \n",
      " 11  Embarked     889 non-null    object \n",
      "dtypes: float64(2), int64(5), object(5)\n",
      "memory usage: 83.7+ KB\n"
     ]
    }
   ],
   "source": [
    "df.info()\n",
    "#показывает в том числе сколько пропущенных значений"
   ]
  },
  {
   "cell_type": "markdown",
   "metadata": {
    "id": "hDMy9y5SaMr8"
   },
   "source": [
    "Очистка данных порой предполагает избавление от неиспользуемых сущностей/столбцов"
   ]
  },
  {
   "cell_type": "code",
   "execution_count": null,
   "metadata": {
    "id": "mcL2OFlUaMr-"
   },
   "outputs": [],
   "source": [
    "# Удаляем столбцы, в которых нет ценной для нас информации\n",
    "df.drop(['Ticket', 'Cabin'], axis = 1, inplace=True)"
   ]
  },
  {
   "cell_type": "code",
   "execution_count": null,
   "metadata": {
    "colab": {
     "base_uri": "https://localhost:8080/",
     "height": 206
    },
    "id": "IBjU3_ePaMsJ",
    "outputId": "ec8339f5-7dcd-435c-cd83-8f99c0d00369"
   },
   "outputs": [
    {
     "data": {
      "text/html": [
       "<div>\n",
       "<style scoped>\n",
       "    .dataframe tbody tr th:only-of-type {\n",
       "        vertical-align: middle;\n",
       "    }\n",
       "\n",
       "    .dataframe tbody tr th {\n",
       "        vertical-align: top;\n",
       "    }\n",
       "\n",
       "    .dataframe thead th {\n",
       "        text-align: right;\n",
       "    }\n",
       "</style>\n",
       "<table border=\"1\" class=\"dataframe\">\n",
       "  <thead>\n",
       "    <tr style=\"text-align: right;\">\n",
       "      <th></th>\n",
       "      <th>PassengerId</th>\n",
       "      <th>Survived</th>\n",
       "      <th>Pclass</th>\n",
       "      <th>Name</th>\n",
       "      <th>Sex</th>\n",
       "      <th>Age</th>\n",
       "      <th>SibSp</th>\n",
       "      <th>Parch</th>\n",
       "      <th>Fare</th>\n",
       "      <th>Embarked</th>\n",
       "    </tr>\n",
       "  </thead>\n",
       "  <tbody>\n",
       "    <tr>\n",
       "      <th>0</th>\n",
       "      <td>1</td>\n",
       "      <td>0</td>\n",
       "      <td>3</td>\n",
       "      <td>Braund, Mr. Owen Harris</td>\n",
       "      <td>male</td>\n",
       "      <td>22.0</td>\n",
       "      <td>1</td>\n",
       "      <td>0</td>\n",
       "      <td>7.2500</td>\n",
       "      <td>S</td>\n",
       "    </tr>\n",
       "    <tr>\n",
       "      <th>1</th>\n",
       "      <td>2</td>\n",
       "      <td>1</td>\n",
       "      <td>1</td>\n",
       "      <td>Cumings, Mrs. John Bradley (Florence Briggs Th...</td>\n",
       "      <td>female</td>\n",
       "      <td>38.0</td>\n",
       "      <td>1</td>\n",
       "      <td>0</td>\n",
       "      <td>71.2833</td>\n",
       "      <td>C</td>\n",
       "    </tr>\n",
       "    <tr>\n",
       "      <th>2</th>\n",
       "      <td>3</td>\n",
       "      <td>1</td>\n",
       "      <td>3</td>\n",
       "      <td>Heikkinen, Miss. Laina</td>\n",
       "      <td>female</td>\n",
       "      <td>26.0</td>\n",
       "      <td>0</td>\n",
       "      <td>0</td>\n",
       "      <td>7.9250</td>\n",
       "      <td>S</td>\n",
       "    </tr>\n",
       "    <tr>\n",
       "      <th>3</th>\n",
       "      <td>4</td>\n",
       "      <td>1</td>\n",
       "      <td>1</td>\n",
       "      <td>Futrelle, Mrs. Jacques Heath (Lily May Peel)</td>\n",
       "      <td>female</td>\n",
       "      <td>35.0</td>\n",
       "      <td>1</td>\n",
       "      <td>0</td>\n",
       "      <td>53.1000</td>\n",
       "      <td>S</td>\n",
       "    </tr>\n",
       "    <tr>\n",
       "      <th>4</th>\n",
       "      <td>5</td>\n",
       "      <td>0</td>\n",
       "      <td>3</td>\n",
       "      <td>Allen, Mr. William Henry</td>\n",
       "      <td>male</td>\n",
       "      <td>35.0</td>\n",
       "      <td>0</td>\n",
       "      <td>0</td>\n",
       "      <td>8.0500</td>\n",
       "      <td>S</td>\n",
       "    </tr>\n",
       "  </tbody>\n",
       "</table>\n",
       "</div>"
      ],
      "text/plain": [
       "   PassengerId  Survived  Pclass  ... Parch     Fare  Embarked\n",
       "0            1         0       3  ...     0   7.2500         S\n",
       "1            2         1       1  ...     0  71.2833         C\n",
       "2            3         1       3  ...     0   7.9250         S\n",
       "3            4         1       1  ...     0  53.1000         S\n",
       "4            5         0       3  ...     0   8.0500         S\n",
       "\n",
       "[5 rows x 10 columns]"
      ]
     },
     "execution_count": 14,
     "metadata": {
      "tags": []
     },
     "output_type": "execute_result"
    }
   ],
   "source": [
    "df.head()"
   ]
  },
  {
   "cell_type": "code",
   "execution_count": null,
   "metadata": {
    "id": "l1A-XyfjaMsR"
   },
   "outputs": [],
   "source": [
    "# Округляем стоимость билета до двух знаков после запятой\n",
    "df.Fare = round(df.Fare, 2)\n"
   ]
  },
  {
   "cell_type": "markdown",
   "metadata": {
    "id": "5Tkd1X_aaMsf"
   },
   "source": [
    " Посчитаем пропущенные значения"
   ]
  },
  {
   "cell_type": "code",
   "execution_count": null,
   "metadata": {
    "colab": {
     "base_uri": "https://localhost:8080/",
     "height": 208
    },
    "id": "wBb90ec6aMsh",
    "outputId": "f01757da-2665-40fd-c716-81b0d837912b"
   },
   "outputs": [
    {
     "data": {
      "text/plain": [
       "PassengerId      0\n",
       "Survived         0\n",
       "Pclass           0\n",
       "Name             0\n",
       "Sex              0\n",
       "Age            177\n",
       "SibSp            0\n",
       "Parch            0\n",
       "Fare             0\n",
       "Embarked         2\n",
       "dtype: int64"
      ]
     },
     "execution_count": 38,
     "metadata": {
      "tags": []
     },
     "output_type": "execute_result"
    }
   ],
   "source": [
    "df.isna().sum()"
   ]
  },
  {
   "cell_type": "markdown",
   "metadata": {
    "id": "_1Z7wZmraMsq"
   },
   "source": [
    "Nan = not a number "
   ]
  },
  {
   "cell_type": "markdown",
   "metadata": {
    "id": "UH1FTe6DaMss"
   },
   "source": [
    "### Пропущенные значения можно удалить, но скорее так делать не следует"
   ]
  },
  {
   "cell_type": "code",
   "execution_count": null,
   "metadata": {
    "colab": {
     "base_uri": "https://localhost:8080/",
     "height": 424
    },
    "id": "FehhXfcraMst",
    "outputId": "b845d964-1e91-45cb-babf-1e500970f96a"
   },
   "outputs": [
    {
     "data": {
      "text/html": [
       "<div>\n",
       "<style scoped>\n",
       "    .dataframe tbody tr th:only-of-type {\n",
       "        vertical-align: middle;\n",
       "    }\n",
       "\n",
       "    .dataframe tbody tr th {\n",
       "        vertical-align: top;\n",
       "    }\n",
       "\n",
       "    .dataframe thead th {\n",
       "        text-align: right;\n",
       "    }\n",
       "</style>\n",
       "<table border=\"1\" class=\"dataframe\">\n",
       "  <thead>\n",
       "    <tr style=\"text-align: right;\">\n",
       "      <th></th>\n",
       "      <th>PassengerId</th>\n",
       "      <th>Survived</th>\n",
       "      <th>Pclass</th>\n",
       "      <th>Name</th>\n",
       "      <th>Sex</th>\n",
       "      <th>Age</th>\n",
       "      <th>SibSp</th>\n",
       "      <th>Parch</th>\n",
       "      <th>Fare</th>\n",
       "      <th>Embarked</th>\n",
       "    </tr>\n",
       "  </thead>\n",
       "  <tbody>\n",
       "    <tr>\n",
       "      <th>0</th>\n",
       "      <td>1</td>\n",
       "      <td>0</td>\n",
       "      <td>3</td>\n",
       "      <td>Braund, Mr. Owen Harris</td>\n",
       "      <td>male</td>\n",
       "      <td>22.0</td>\n",
       "      <td>1</td>\n",
       "      <td>0</td>\n",
       "      <td>7.2500</td>\n",
       "      <td>S</td>\n",
       "    </tr>\n",
       "    <tr>\n",
       "      <th>1</th>\n",
       "      <td>2</td>\n",
       "      <td>1</td>\n",
       "      <td>1</td>\n",
       "      <td>Cumings, Mrs. John Bradley (Florence Briggs Th...</td>\n",
       "      <td>female</td>\n",
       "      <td>38.0</td>\n",
       "      <td>1</td>\n",
       "      <td>0</td>\n",
       "      <td>71.2833</td>\n",
       "      <td>C</td>\n",
       "    </tr>\n",
       "    <tr>\n",
       "      <th>2</th>\n",
       "      <td>3</td>\n",
       "      <td>1</td>\n",
       "      <td>3</td>\n",
       "      <td>Heikkinen, Miss. Laina</td>\n",
       "      <td>female</td>\n",
       "      <td>26.0</td>\n",
       "      <td>0</td>\n",
       "      <td>0</td>\n",
       "      <td>7.9250</td>\n",
       "      <td>S</td>\n",
       "    </tr>\n",
       "    <tr>\n",
       "      <th>3</th>\n",
       "      <td>4</td>\n",
       "      <td>1</td>\n",
       "      <td>1</td>\n",
       "      <td>Futrelle, Mrs. Jacques Heath (Lily May Peel)</td>\n",
       "      <td>female</td>\n",
       "      <td>35.0</td>\n",
       "      <td>1</td>\n",
       "      <td>0</td>\n",
       "      <td>53.1000</td>\n",
       "      <td>S</td>\n",
       "    </tr>\n",
       "    <tr>\n",
       "      <th>4</th>\n",
       "      <td>5</td>\n",
       "      <td>0</td>\n",
       "      <td>3</td>\n",
       "      <td>Allen, Mr. William Henry</td>\n",
       "      <td>male</td>\n",
       "      <td>35.0</td>\n",
       "      <td>0</td>\n",
       "      <td>0</td>\n",
       "      <td>8.0500</td>\n",
       "      <td>S</td>\n",
       "    </tr>\n",
       "    <tr>\n",
       "      <th>...</th>\n",
       "      <td>...</td>\n",
       "      <td>...</td>\n",
       "      <td>...</td>\n",
       "      <td>...</td>\n",
       "      <td>...</td>\n",
       "      <td>...</td>\n",
       "      <td>...</td>\n",
       "      <td>...</td>\n",
       "      <td>...</td>\n",
       "      <td>...</td>\n",
       "    </tr>\n",
       "    <tr>\n",
       "      <th>886</th>\n",
       "      <td>887</td>\n",
       "      <td>0</td>\n",
       "      <td>2</td>\n",
       "      <td>Montvila, Rev. Juozas</td>\n",
       "      <td>male</td>\n",
       "      <td>27.0</td>\n",
       "      <td>0</td>\n",
       "      <td>0</td>\n",
       "      <td>13.0000</td>\n",
       "      <td>S</td>\n",
       "    </tr>\n",
       "    <tr>\n",
       "      <th>887</th>\n",
       "      <td>888</td>\n",
       "      <td>1</td>\n",
       "      <td>1</td>\n",
       "      <td>Graham, Miss. Margaret Edith</td>\n",
       "      <td>female</td>\n",
       "      <td>19.0</td>\n",
       "      <td>0</td>\n",
       "      <td>0</td>\n",
       "      <td>30.0000</td>\n",
       "      <td>S</td>\n",
       "    </tr>\n",
       "    <tr>\n",
       "      <th>888</th>\n",
       "      <td>889</td>\n",
       "      <td>0</td>\n",
       "      <td>3</td>\n",
       "      <td>Johnston, Miss. Catherine Helen \"Carrie\"</td>\n",
       "      <td>female</td>\n",
       "      <td>NaN</td>\n",
       "      <td>1</td>\n",
       "      <td>2</td>\n",
       "      <td>23.4500</td>\n",
       "      <td>S</td>\n",
       "    </tr>\n",
       "    <tr>\n",
       "      <th>889</th>\n",
       "      <td>890</td>\n",
       "      <td>1</td>\n",
       "      <td>1</td>\n",
       "      <td>Behr, Mr. Karl Howell</td>\n",
       "      <td>male</td>\n",
       "      <td>26.0</td>\n",
       "      <td>0</td>\n",
       "      <td>0</td>\n",
       "      <td>30.0000</td>\n",
       "      <td>C</td>\n",
       "    </tr>\n",
       "    <tr>\n",
       "      <th>890</th>\n",
       "      <td>891</td>\n",
       "      <td>0</td>\n",
       "      <td>3</td>\n",
       "      <td>Dooley, Mr. Patrick</td>\n",
       "      <td>male</td>\n",
       "      <td>32.0</td>\n",
       "      <td>0</td>\n",
       "      <td>0</td>\n",
       "      <td>7.7500</td>\n",
       "      <td>Q</td>\n",
       "    </tr>\n",
       "  </tbody>\n",
       "</table>\n",
       "<p>891 rows × 10 columns</p>\n",
       "</div>"
      ],
      "text/plain": [
       "     PassengerId  Survived  Pclass  ... Parch     Fare  Embarked\n",
       "0              1         0       3  ...     0   7.2500         S\n",
       "1              2         1       1  ...     0  71.2833         C\n",
       "2              3         1       3  ...     0   7.9250         S\n",
       "3              4         1       1  ...     0  53.1000         S\n",
       "4              5         0       3  ...     0   8.0500         S\n",
       "..           ...       ...     ...  ...   ...      ...       ...\n",
       "886          887         0       2  ...     0  13.0000         S\n",
       "887          888         1       1  ...     0  30.0000         S\n",
       "888          889         0       3  ...     2  23.4500         S\n",
       "889          890         1       1  ...     0  30.0000         C\n",
       "890          891         0       3  ...     0   7.7500         Q\n",
       "\n",
       "[891 rows x 10 columns]"
      ]
     },
     "execution_count": 36,
     "metadata": {
      "tags": []
     },
     "output_type": "execute_result"
    }
   ],
   "source": [
    "df.dropna(subset=['Age'])\n",
    "df\n",
    "#можно настраивать и изменять способ удаления данных, например с помощью параметра thresh=2, который оставит строки с боллее чем 2 непустыми значениями"
   ]
  },
  {
   "cell_type": "markdown",
   "metadata": {
    "id": "15mOnnn0aMs2"
   },
   "source": [
    "### Пропущенные значения можно заменять на что-то другое"
   ]
  },
  {
   "cell_type": "code",
   "execution_count": null,
   "metadata": {
    "colab": {
     "base_uri": "https://localhost:8080/",
     "height": 225
    },
    "id": "AiiijZKsaMs3",
    "outputId": "99aebc07-4999-4870-e109-597de2e8e5a6"
   },
   "outputs": [
    {
     "data": {
      "text/plain": [
       "0      22.0\n",
       "1      38.0\n",
       "2      26.0\n",
       "3      35.0\n",
       "4      35.0\n",
       "       ... \n",
       "886    27.0\n",
       "887    19.0\n",
       "888    25.0\n",
       "889    26.0\n",
       "890    32.0\n",
       "Name: Age, Length: 891, dtype: float64"
      ]
     },
     "execution_count": 39,
     "metadata": {
      "tags": []
     },
     "output_type": "execute_result"
    }
   ],
   "source": [
    "#Способ 1: Константа \n",
    "\n",
    "df['Age'].fillna(25)"
   ]
  },
  {
   "cell_type": "code",
   "execution_count": null,
   "metadata": {
    "colab": {
     "base_uri": "https://localhost:8080/",
     "height": 34
    },
    "id": "UxK5CSvnPH2M",
    "outputId": "6d293509-6d77-4a3f-ce5e-6ce88e83dcdf"
   },
   "outputs": [
    {
     "data": {
      "text/plain": [
       "29.69911764705882"
      ]
     },
     "execution_count": 40,
     "metadata": {
      "tags": []
     },
     "output_type": "execute_result"
    }
   ],
   "source": []
  },
  {
   "cell_type": "code",
   "execution_count": null,
   "metadata": {
    "colab": {
     "base_uri": "https://localhost:8080/",
     "height": 243
    },
    "id": "Sy1ysKwXaMtC",
    "outputId": "69ba2548-4a7a-4cc3-e7f2-578ac0f09c8a"
   },
   "outputs": [
    {
     "name": "stdout",
     "output_type": "stream",
     "text": [
      "28.0\n"
     ]
    },
    {
     "data": {
      "text/plain": [
       "0      22.0\n",
       "1      38.0\n",
       "2      26.0\n",
       "3      35.0\n",
       "4      35.0\n",
       "       ... \n",
       "886    27.0\n",
       "887    19.0\n",
       "888    28.0\n",
       "889    26.0\n",
       "890    32.0\n",
       "Name: Age, Length: 891, dtype: float64"
      ]
     },
     "execution_count": 7,
     "metadata": {
      "tags": []
     },
     "output_type": "execute_result"
    }
   ],
   "source": [
    "# Способ 2: медиана\n",
    "print(df['Age'].median())\n",
    "df['Age'].fillna(df['Age'].median())"
   ]
  },
  {
   "cell_type": "code",
   "execution_count": null,
   "metadata": {
    "colab": {
     "base_uri": "https://localhost:8080/",
     "height": 34
    },
    "id": "yaPBJhsfQKL0",
    "outputId": "25f5fbe5-49c7-453d-ade4-791825d01c65"
   },
   "outputs": [
    {
     "data": {
      "text/plain": [
       "30.62617924528302"
      ]
     },
     "execution_count": 54,
     "metadata": {
      "tags": []
     },
     "output_type": "execute_result"
    }
   ],
   "source": [
    "df[df['Survived']==0]['Age'].mean()"
   ]
  },
  {
   "cell_type": "code",
   "execution_count": null,
   "metadata": {
    "colab": {
     "base_uri": "https://localhost:8080/",
     "height": 34
    },
    "id": "xMsfbMd0x8Vo",
    "outputId": "737ec9d9-1fb6-49d5-edca-6efe9181580a"
   },
   "outputs": [
    {
     "data": {
      "text/plain": [
       "29.87763005780347"
      ]
     },
     "execution_count": 57,
     "metadata": {
      "tags": []
     },
     "output_type": "execute_result"
    }
   ],
   "source": [
    "df[df['Pclass'] == 2]['Age'].mean()"
   ]
  },
  {
   "cell_type": "code",
   "execution_count": null,
   "metadata": {
    "id": "YtdqID8TaMtM"
   },
   "outputs": [],
   "source": [
    "# Способ 2: Cредние арифметические в зависимости от класса каюты\n",
    "age_1 = df[df['Pclass'] == 1]['Age'].mean()\n",
    "age_2 = df[df['Pclass'] == 2]['Age'].mean()\n",
    "age_3 = df[df['Pclass'] == 3]['Age'].mean()"
   ]
  },
  {
   "cell_type": "code",
   "execution_count": null,
   "metadata": {
    "id": "gutuFwpRaMtc"
   },
   "outputs": [],
   "source": [
    "def fill_age(row):\n",
    "    if pd.isnull(row['Age']):\n",
    "        if row['Pclass'] == 1:\n",
    "            return age_1\n",
    "        \n",
    "        if row['Pclass'] == 2:\n",
    "            return age_2\n",
    "        \n",
    "        if row['Pclass'] == 3:\n",
    "            return age_3\n",
    "        \n",
    "    return row['Age']"
   ]
  },
  {
   "cell_type": "code",
   "execution_count": null,
   "metadata": {
    "colab": {
     "base_uri": "https://localhost:8080/",
     "height": 225
    },
    "id": "bzZY9VYJaMtj",
    "outputId": "4430a9ce-502b-43e2-ee96-f27fe523a0f4"
   },
   "outputs": [
    {
     "data": {
      "text/plain": [
       "0      22.00000\n",
       "1      38.00000\n",
       "2      26.00000\n",
       "3      35.00000\n",
       "4      35.00000\n",
       "         ...   \n",
       "886    27.00000\n",
       "887    19.00000\n",
       "888    25.14062\n",
       "889    26.00000\n",
       "890    32.00000\n",
       "Length: 891, dtype: float64"
      ]
     },
     "execution_count": 63,
     "metadata": {
      "tags": []
     },
     "output_type": "execute_result"
    }
   ],
   "source": [
    "df.apply(fill_age, axis=1)"
   ]
  },
  {
   "cell_type": "markdown",
   "metadata": {
    "id": "HB0lbLB0aMtq"
   },
   "source": [
    "https://pandas.pydata.org/pandas-docs/version/0.16.2/generated/pandas.DataFrame.interpolate.html\n",
    "\n",
    "https://stackoverflow.com/questions/19966018/pandas-filling-missing-values-by-mean-in-each-group"
   ]
  },
  {
   "cell_type": "code",
   "execution_count": null,
   "metadata": {
    "colab": {
     "base_uri": "https://localhost:8080/",
     "height": 225
    },
    "id": "EZGIpQw4aMts",
    "outputId": "f4e5aee6-fda1-4e5b-d2cf-b26b40843ae0"
   },
   "outputs": [
    {
     "data": {
      "text/plain": [
       "0      22.00000\n",
       "1      38.00000\n",
       "2      26.00000\n",
       "3      35.00000\n",
       "4      35.00000\n",
       "         ...   \n",
       "886    27.00000\n",
       "887    19.00000\n",
       "888    25.14062\n",
       "889    26.00000\n",
       "890    32.00000\n",
       "Name: Age, Length: 891, dtype: float64"
      ]
     },
     "execution_count": 48,
     "metadata": {
      "tags": []
     },
     "output_type": "execute_result"
    }
   ],
   "source": [
    "df.groupby('Pclass')['Age'].apply(lambda x:x.fillna(x.mean()))"
   ]
  },
  {
   "cell_type": "markdown",
   "metadata": {
    "id": "Vua3AghxaMt2"
   },
   "source": [
    "На всякий случай проверяем равны ли полученные объекты"
   ]
  },
  {
   "cell_type": "code",
   "execution_count": null,
   "metadata": {
    "colab": {
     "base_uri": "https://localhost:8080/",
     "height": 34
    },
    "id": "g-3uXJk9aMt2",
    "outputId": "f2e4203b-5d1d-4406-9a46-9803d45027be"
   },
   "outputs": [
    {
     "data": {
      "text/plain": [
       "True"
      ]
     },
     "execution_count": 67,
     "metadata": {
      "tags": []
     },
     "output_type": "execute_result"
    }
   ],
   "source": [
    "(df.apply(fill_age, axis = 1)).equals(df.groupby('Pclass')['Age'].apply(lambda x:x.fillna(x.mean())))"
   ]
  },
  {
   "cell_type": "code",
   "execution_count": null,
   "metadata": {
    "colab": {
     "base_uri": "https://localhost:8080/",
     "height": 225
    },
    "id": "LMPyWGLkaMt8",
    "outputId": "1d9ac917-51d4-451a-c5da-3b8232143993"
   },
   "outputs": [
    {
     "data": {
      "text/plain": [
       "0      22.00000\n",
       "1      38.00000\n",
       "2      26.00000\n",
       "3      35.00000\n",
       "4      35.00000\n",
       "         ...   \n",
       "886    27.00000\n",
       "887    19.00000\n",
       "888    25.14062\n",
       "889    26.00000\n",
       "890    32.00000\n",
       "Name: Age, Length: 891, dtype: float64"
      ]
     },
     "execution_count": 55,
     "metadata": {
      "tags": []
     },
     "output_type": "execute_result"
    }
   ],
   "source": [
    "df.groupby('Pclass')['Age'].apply(lambda x:x.fillna(x.mean()))"
   ]
  },
  {
   "cell_type": "code",
   "execution_count": null,
   "metadata": {
    "colab": {
     "base_uri": "https://localhost:8080/",
     "height": 225
    },
    "id": "P5rq6l6-aMuD",
    "outputId": "cf213401-d33b-4ebf-8300-26b859575dac",
    "scrolled": true
   },
   "outputs": [
    {
     "data": {
      "text/plain": [
       "0      22.00000\n",
       "1      38.00000\n",
       "2      26.00000\n",
       "3      35.00000\n",
       "4      35.00000\n",
       "         ...   \n",
       "886    27.00000\n",
       "887    19.00000\n",
       "888    25.14062\n",
       "889    26.00000\n",
       "890    32.00000\n",
       "Name: Age, Length: 891, dtype: float64"
      ]
     },
     "execution_count": 66,
     "metadata": {
      "tags": []
     },
     "output_type": "execute_result"
    }
   ],
   "source": [
    "df.groupby('Pclass')['Age'].apply(lambda x:x.fillna(x.mean()))"
   ]
  },
  {
   "cell_type": "markdown",
   "metadata": {
    "id": "cek2hDzxaMuK"
   },
   "source": [
    "Принцип действия **groupby**\n",
    "![](https://i.stack.imgur.com/sgCn1.jpg)\n",
    "\n",
    "- Разделение данных по группам по определенному критерию\n",
    "\n",
    "- Применение к каждой группе определенной функции\n",
    "\n",
    "- Сложение результатов в единую структуру"
   ]
  },
  {
   "cell_type": "code",
   "execution_count": null,
   "metadata": {
    "colab": {
     "base_uri": "https://localhost:8080/",
     "height": 206
    },
    "id": "jxCStrrvUoH2",
    "outputId": "81152259-b568-4689-e273-241e4de5eaee"
   },
   "outputs": [
    {
     "data": {
      "text/html": [
       "<div>\n",
       "<style scoped>\n",
       "    .dataframe tbody tr th:only-of-type {\n",
       "        vertical-align: middle;\n",
       "    }\n",
       "\n",
       "    .dataframe tbody tr th {\n",
       "        vertical-align: top;\n",
       "    }\n",
       "\n",
       "    .dataframe thead th {\n",
       "        text-align: right;\n",
       "    }\n",
       "</style>\n",
       "<table border=\"1\" class=\"dataframe\">\n",
       "  <thead>\n",
       "    <tr style=\"text-align: right;\">\n",
       "      <th></th>\n",
       "      <th>PassengerId</th>\n",
       "      <th>Survived</th>\n",
       "      <th>Pclass</th>\n",
       "      <th>Name</th>\n",
       "      <th>Sex</th>\n",
       "      <th>Age</th>\n",
       "      <th>SibSp</th>\n",
       "      <th>Parch</th>\n",
       "      <th>Fare</th>\n",
       "      <th>Embarked</th>\n",
       "    </tr>\n",
       "  </thead>\n",
       "  <tbody>\n",
       "    <tr>\n",
       "      <th>0</th>\n",
       "      <td>1</td>\n",
       "      <td>0</td>\n",
       "      <td>3</td>\n",
       "      <td>Braund, Mr. Owen Harris</td>\n",
       "      <td>male</td>\n",
       "      <td>22.0</td>\n",
       "      <td>1</td>\n",
       "      <td>0</td>\n",
       "      <td>7.2500</td>\n",
       "      <td>S</td>\n",
       "    </tr>\n",
       "    <tr>\n",
       "      <th>1</th>\n",
       "      <td>2</td>\n",
       "      <td>1</td>\n",
       "      <td>1</td>\n",
       "      <td>Cumings, Mrs. John Bradley (Florence Briggs Th...</td>\n",
       "      <td>female</td>\n",
       "      <td>38.0</td>\n",
       "      <td>1</td>\n",
       "      <td>0</td>\n",
       "      <td>71.2833</td>\n",
       "      <td>C</td>\n",
       "    </tr>\n",
       "    <tr>\n",
       "      <th>2</th>\n",
       "      <td>3</td>\n",
       "      <td>1</td>\n",
       "      <td>3</td>\n",
       "      <td>Heikkinen, Miss. Laina</td>\n",
       "      <td>female</td>\n",
       "      <td>26.0</td>\n",
       "      <td>0</td>\n",
       "      <td>0</td>\n",
       "      <td>7.9250</td>\n",
       "      <td>S</td>\n",
       "    </tr>\n",
       "    <tr>\n",
       "      <th>3</th>\n",
       "      <td>4</td>\n",
       "      <td>1</td>\n",
       "      <td>1</td>\n",
       "      <td>Futrelle, Mrs. Jacques Heath (Lily May Peel)</td>\n",
       "      <td>female</td>\n",
       "      <td>35.0</td>\n",
       "      <td>1</td>\n",
       "      <td>0</td>\n",
       "      <td>53.1000</td>\n",
       "      <td>S</td>\n",
       "    </tr>\n",
       "    <tr>\n",
       "      <th>4</th>\n",
       "      <td>5</td>\n",
       "      <td>0</td>\n",
       "      <td>3</td>\n",
       "      <td>Allen, Mr. William Henry</td>\n",
       "      <td>male</td>\n",
       "      <td>35.0</td>\n",
       "      <td>0</td>\n",
       "      <td>0</td>\n",
       "      <td>8.0500</td>\n",
       "      <td>S</td>\n",
       "    </tr>\n",
       "  </tbody>\n",
       "</table>\n",
       "</div>"
      ],
      "text/plain": [
       "   PassengerId  Survived  Pclass  ... Parch     Fare  Embarked\n",
       "0            1         0       3  ...     0   7.2500         S\n",
       "1            2         1       1  ...     0  71.2833         C\n",
       "2            3         1       3  ...     0   7.9250         S\n",
       "3            4         1       1  ...     0  53.1000         S\n",
       "4            5         0       3  ...     0   8.0500         S\n",
       "\n",
       "[5 rows x 10 columns]"
      ]
     },
     "execution_count": 68,
     "metadata": {
      "tags": []
     },
     "output_type": "execute_result"
    }
   ],
   "source": [
    "\n",
    "\n"
   ]
  },
  {
   "cell_type": "code",
   "execution_count": null,
   "metadata": {
    "colab": {
     "base_uri": "https://localhost:8080/",
     "height": 86
    },
    "id": "i4gAL9RhUxVE",
    "outputId": "b71a8f07-65a8-47cf-843a-9401a87f079f"
   },
   "outputs": [
    {
     "data": {
      "text/plain": [
       "Sex\n",
       "female    44.479818\n",
       "male      25.523893\n",
       "Name: Fare, dtype: float64"
      ]
     },
     "execution_count": 8,
     "metadata": {
      "tags": []
     },
     "output_type": "execute_result"
    }
   ],
   "source": [
    "df.groupby(['Sex'])['Fare'].mean() "
   ]
  },
  {
   "cell_type": "markdown",
   "metadata": {
    "id": "URQkolgjaMuK"
   },
   "source": [
    "### Создаем новый столбец с информацией о том, был ли пассажир на борту один или с родственниками\n",
    "Столбец должен содержать значение \"alone\", если он был на борту один (без супруга/супруги, братьев, сестер, детей и родителей) и значение \"not alone\", если пассажир путешествовал с кем-то из родственников\n",
    "\n",
    "sibsp Number of Siblings/Spouses Aboard\n",
    "\n",
    "parch Number of Parents/Children Aboard "
   ]
  },
  {
   "cell_type": "code",
   "execution_count": null,
   "metadata": {
    "colab": {
     "base_uri": "https://localhost:8080/",
     "height": 493
    },
    "id": "vLxci9OUaMuL",
    "outputId": "23d42b50-fb53-45b1-c7cb-94022a5526ca"
   },
   "outputs": [
    {
     "data": {
      "text/html": [
       "<div>\n",
       "<style scoped>\n",
       "    .dataframe tbody tr th:only-of-type {\n",
       "        vertical-align: middle;\n",
       "    }\n",
       "\n",
       "    .dataframe tbody tr th {\n",
       "        vertical-align: top;\n",
       "    }\n",
       "\n",
       "    .dataframe thead th {\n",
       "        text-align: right;\n",
       "    }\n",
       "</style>\n",
       "<table border=\"1\" class=\"dataframe\">\n",
       "  <thead>\n",
       "    <tr style=\"text-align: right;\">\n",
       "      <th></th>\n",
       "      <th>PassengerId</th>\n",
       "      <th>Survived</th>\n",
       "      <th>Pclass</th>\n",
       "      <th>Name</th>\n",
       "      <th>Sex</th>\n",
       "      <th>Age</th>\n",
       "      <th>SibSp</th>\n",
       "      <th>Parch</th>\n",
       "      <th>Fare</th>\n",
       "      <th>Embarked</th>\n",
       "      <th>Alone</th>\n",
       "    </tr>\n",
       "  </thead>\n",
       "  <tbody>\n",
       "    <tr>\n",
       "      <th>0</th>\n",
       "      <td>1</td>\n",
       "      <td>0</td>\n",
       "      <td>3</td>\n",
       "      <td>Braund, Mr. Owen Harris</td>\n",
       "      <td>male</td>\n",
       "      <td>22.0</td>\n",
       "      <td>1</td>\n",
       "      <td>0</td>\n",
       "      <td>7.2500</td>\n",
       "      <td>S</td>\n",
       "      <td>not alone</td>\n",
       "    </tr>\n",
       "    <tr>\n",
       "      <th>1</th>\n",
       "      <td>2</td>\n",
       "      <td>1</td>\n",
       "      <td>1</td>\n",
       "      <td>Cumings, Mrs. John Bradley (Florence Briggs Th...</td>\n",
       "      <td>female</td>\n",
       "      <td>38.0</td>\n",
       "      <td>1</td>\n",
       "      <td>0</td>\n",
       "      <td>71.2833</td>\n",
       "      <td>C</td>\n",
       "      <td>not alone</td>\n",
       "    </tr>\n",
       "    <tr>\n",
       "      <th>2</th>\n",
       "      <td>3</td>\n",
       "      <td>1</td>\n",
       "      <td>3</td>\n",
       "      <td>Heikkinen, Miss. Laina</td>\n",
       "      <td>female</td>\n",
       "      <td>26.0</td>\n",
       "      <td>0</td>\n",
       "      <td>0</td>\n",
       "      <td>7.9250</td>\n",
       "      <td>S</td>\n",
       "      <td>alone</td>\n",
       "    </tr>\n",
       "    <tr>\n",
       "      <th>3</th>\n",
       "      <td>4</td>\n",
       "      <td>1</td>\n",
       "      <td>1</td>\n",
       "      <td>Futrelle, Mrs. Jacques Heath (Lily May Peel)</td>\n",
       "      <td>female</td>\n",
       "      <td>35.0</td>\n",
       "      <td>1</td>\n",
       "      <td>0</td>\n",
       "      <td>53.1000</td>\n",
       "      <td>S</td>\n",
       "      <td>not alone</td>\n",
       "    </tr>\n",
       "    <tr>\n",
       "      <th>4</th>\n",
       "      <td>5</td>\n",
       "      <td>0</td>\n",
       "      <td>3</td>\n",
       "      <td>Allen, Mr. William Henry</td>\n",
       "      <td>male</td>\n",
       "      <td>35.0</td>\n",
       "      <td>0</td>\n",
       "      <td>0</td>\n",
       "      <td>8.0500</td>\n",
       "      <td>S</td>\n",
       "      <td>alone</td>\n",
       "    </tr>\n",
       "    <tr>\n",
       "      <th>...</th>\n",
       "      <td>...</td>\n",
       "      <td>...</td>\n",
       "      <td>...</td>\n",
       "      <td>...</td>\n",
       "      <td>...</td>\n",
       "      <td>...</td>\n",
       "      <td>...</td>\n",
       "      <td>...</td>\n",
       "      <td>...</td>\n",
       "      <td>...</td>\n",
       "      <td>...</td>\n",
       "    </tr>\n",
       "    <tr>\n",
       "      <th>886</th>\n",
       "      <td>887</td>\n",
       "      <td>0</td>\n",
       "      <td>2</td>\n",
       "      <td>Montvila, Rev. Juozas</td>\n",
       "      <td>male</td>\n",
       "      <td>27.0</td>\n",
       "      <td>0</td>\n",
       "      <td>0</td>\n",
       "      <td>13.0000</td>\n",
       "      <td>S</td>\n",
       "      <td>alone</td>\n",
       "    </tr>\n",
       "    <tr>\n",
       "      <th>887</th>\n",
       "      <td>888</td>\n",
       "      <td>1</td>\n",
       "      <td>1</td>\n",
       "      <td>Graham, Miss. Margaret Edith</td>\n",
       "      <td>female</td>\n",
       "      <td>19.0</td>\n",
       "      <td>0</td>\n",
       "      <td>0</td>\n",
       "      <td>30.0000</td>\n",
       "      <td>S</td>\n",
       "      <td>alone</td>\n",
       "    </tr>\n",
       "    <tr>\n",
       "      <th>888</th>\n",
       "      <td>889</td>\n",
       "      <td>0</td>\n",
       "      <td>3</td>\n",
       "      <td>Johnston, Miss. Catherine Helen \"Carrie\"</td>\n",
       "      <td>female</td>\n",
       "      <td>NaN</td>\n",
       "      <td>1</td>\n",
       "      <td>2</td>\n",
       "      <td>23.4500</td>\n",
       "      <td>S</td>\n",
       "      <td>not alone</td>\n",
       "    </tr>\n",
       "    <tr>\n",
       "      <th>889</th>\n",
       "      <td>890</td>\n",
       "      <td>1</td>\n",
       "      <td>1</td>\n",
       "      <td>Behr, Mr. Karl Howell</td>\n",
       "      <td>male</td>\n",
       "      <td>26.0</td>\n",
       "      <td>0</td>\n",
       "      <td>0</td>\n",
       "      <td>30.0000</td>\n",
       "      <td>C</td>\n",
       "      <td>alone</td>\n",
       "    </tr>\n",
       "    <tr>\n",
       "      <th>890</th>\n",
       "      <td>891</td>\n",
       "      <td>0</td>\n",
       "      <td>3</td>\n",
       "      <td>Dooley, Mr. Patrick</td>\n",
       "      <td>male</td>\n",
       "      <td>32.0</td>\n",
       "      <td>0</td>\n",
       "      <td>0</td>\n",
       "      <td>7.7500</td>\n",
       "      <td>Q</td>\n",
       "      <td>alone</td>\n",
       "    </tr>\n",
       "  </tbody>\n",
       "</table>\n",
       "<p>891 rows × 11 columns</p>\n",
       "</div>"
      ],
      "text/plain": [
       "     PassengerId  Survived  Pclass  ...     Fare Embarked      Alone\n",
       "0              1         0       3  ...   7.2500        S  not alone\n",
       "1              2         1       1  ...  71.2833        C  not alone\n",
       "2              3         1       3  ...   7.9250        S      alone\n",
       "3              4         1       1  ...  53.1000        S  not alone\n",
       "4              5         0       3  ...   8.0500        S      alone\n",
       "..           ...       ...     ...  ...      ...      ...        ...\n",
       "886          887         0       2  ...  13.0000        S      alone\n",
       "887          888         1       1  ...  30.0000        S      alone\n",
       "888          889         0       3  ...  23.4500        S  not alone\n",
       "889          890         1       1  ...  30.0000        C      alone\n",
       "890          891         0       3  ...   7.7500        Q      alone\n",
       "\n",
       "[891 rows x 11 columns]"
      ]
     },
     "execution_count": 75,
     "metadata": {
      "tags": []
     },
     "output_type": "execute_result"
    }
   ],
   "source": [
    "# Способ 1: с помощью именной функции и apply\n",
    "def alone_check(row):\n",
    "    if row['SibSp'] or row['Parch']:\n",
    "        return 'not alone'\n",
    "    return 'alone'\n",
    "    \n",
    "df['Alone'] = df.apply(alone_check, axis=1)\n",
    "df"
   ]
  },
  {
   "cell_type": "code",
   "execution_count": null,
   "metadata": {
    "id": "AIjdxGXQaMub"
   },
   "outputs": [],
   "source": [
    "# Способ 2: с помощью lambda-функции\n",
    "try:\n",
    "    df.drop('Alone', axis=1, inplace = True)\n",
    "except KeyError:\n",
    "    print('already dropped')\n"
   ]
  },
  {
   "cell_type": "code",
   "execution_count": null,
   "metadata": {
    "colab": {
     "base_uri": "https://localhost:8080/",
     "height": 458
    },
    "id": "4tuHf6OO5Ez3",
    "outputId": "bfab42ca-aef7-44b9-88c7-19b9da8a30d4"
   },
   "outputs": [
    {
     "data": {
      "text/html": [
       "<div>\n",
       "<style scoped>\n",
       "    .dataframe tbody tr th:only-of-type {\n",
       "        vertical-align: middle;\n",
       "    }\n",
       "\n",
       "    .dataframe tbody tr th {\n",
       "        vertical-align: top;\n",
       "    }\n",
       "\n",
       "    .dataframe thead th {\n",
       "        text-align: right;\n",
       "    }\n",
       "</style>\n",
       "<table border=\"1\" class=\"dataframe\">\n",
       "  <thead>\n",
       "    <tr style=\"text-align: right;\">\n",
       "      <th></th>\n",
       "      <th>PassengerId</th>\n",
       "      <th>Survived</th>\n",
       "      <th>Pclass</th>\n",
       "      <th>Name</th>\n",
       "      <th>Sex</th>\n",
       "      <th>Age</th>\n",
       "      <th>SibSp</th>\n",
       "      <th>Parch</th>\n",
       "      <th>Fare</th>\n",
       "      <th>Embarked</th>\n",
       "      <th>Alone</th>\n",
       "    </tr>\n",
       "  </thead>\n",
       "  <tbody>\n",
       "    <tr>\n",
       "      <th>0</th>\n",
       "      <td>1</td>\n",
       "      <td>0</td>\n",
       "      <td>3</td>\n",
       "      <td>Braund, Mr. Owen Harris</td>\n",
       "      <td>male</td>\n",
       "      <td>22.0</td>\n",
       "      <td>1</td>\n",
       "      <td>0</td>\n",
       "      <td>7.2500</td>\n",
       "      <td>S</td>\n",
       "      <td>1</td>\n",
       "    </tr>\n",
       "    <tr>\n",
       "      <th>1</th>\n",
       "      <td>2</td>\n",
       "      <td>1</td>\n",
       "      <td>1</td>\n",
       "      <td>Cumings, Mrs. John Bradley (Florence Briggs Th...</td>\n",
       "      <td>female</td>\n",
       "      <td>38.0</td>\n",
       "      <td>1</td>\n",
       "      <td>0</td>\n",
       "      <td>71.2833</td>\n",
       "      <td>C</td>\n",
       "      <td>1</td>\n",
       "    </tr>\n",
       "    <tr>\n",
       "      <th>2</th>\n",
       "      <td>3</td>\n",
       "      <td>1</td>\n",
       "      <td>3</td>\n",
       "      <td>Heikkinen, Miss. Laina</td>\n",
       "      <td>female</td>\n",
       "      <td>26.0</td>\n",
       "      <td>0</td>\n",
       "      <td>0</td>\n",
       "      <td>7.9250</td>\n",
       "      <td>S</td>\n",
       "      <td>0</td>\n",
       "    </tr>\n",
       "    <tr>\n",
       "      <th>3</th>\n",
       "      <td>4</td>\n",
       "      <td>1</td>\n",
       "      <td>1</td>\n",
       "      <td>Futrelle, Mrs. Jacques Heath (Lily May Peel)</td>\n",
       "      <td>female</td>\n",
       "      <td>35.0</td>\n",
       "      <td>1</td>\n",
       "      <td>0</td>\n",
       "      <td>53.1000</td>\n",
       "      <td>S</td>\n",
       "      <td>1</td>\n",
       "    </tr>\n",
       "    <tr>\n",
       "      <th>4</th>\n",
       "      <td>5</td>\n",
       "      <td>0</td>\n",
       "      <td>3</td>\n",
       "      <td>Allen, Mr. William Henry</td>\n",
       "      <td>male</td>\n",
       "      <td>35.0</td>\n",
       "      <td>0</td>\n",
       "      <td>0</td>\n",
       "      <td>8.0500</td>\n",
       "      <td>S</td>\n",
       "      <td>0</td>\n",
       "    </tr>\n",
       "    <tr>\n",
       "      <th>...</th>\n",
       "      <td>...</td>\n",
       "      <td>...</td>\n",
       "      <td>...</td>\n",
       "      <td>...</td>\n",
       "      <td>...</td>\n",
       "      <td>...</td>\n",
       "      <td>...</td>\n",
       "      <td>...</td>\n",
       "      <td>...</td>\n",
       "      <td>...</td>\n",
       "      <td>...</td>\n",
       "    </tr>\n",
       "    <tr>\n",
       "      <th>886</th>\n",
       "      <td>887</td>\n",
       "      <td>0</td>\n",
       "      <td>2</td>\n",
       "      <td>Montvila, Rev. Juozas</td>\n",
       "      <td>male</td>\n",
       "      <td>27.0</td>\n",
       "      <td>0</td>\n",
       "      <td>0</td>\n",
       "      <td>13.0000</td>\n",
       "      <td>S</td>\n",
       "      <td>0</td>\n",
       "    </tr>\n",
       "    <tr>\n",
       "      <th>887</th>\n",
       "      <td>888</td>\n",
       "      <td>1</td>\n",
       "      <td>1</td>\n",
       "      <td>Graham, Miss. Margaret Edith</td>\n",
       "      <td>female</td>\n",
       "      <td>19.0</td>\n",
       "      <td>0</td>\n",
       "      <td>0</td>\n",
       "      <td>30.0000</td>\n",
       "      <td>S</td>\n",
       "      <td>0</td>\n",
       "    </tr>\n",
       "    <tr>\n",
       "      <th>888</th>\n",
       "      <td>889</td>\n",
       "      <td>0</td>\n",
       "      <td>3</td>\n",
       "      <td>Johnston, Miss. Catherine Helen \"Carrie\"</td>\n",
       "      <td>female</td>\n",
       "      <td>NaN</td>\n",
       "      <td>1</td>\n",
       "      <td>2</td>\n",
       "      <td>23.4500</td>\n",
       "      <td>S</td>\n",
       "      <td>1</td>\n",
       "    </tr>\n",
       "    <tr>\n",
       "      <th>889</th>\n",
       "      <td>890</td>\n",
       "      <td>1</td>\n",
       "      <td>1</td>\n",
       "      <td>Behr, Mr. Karl Howell</td>\n",
       "      <td>male</td>\n",
       "      <td>26.0</td>\n",
       "      <td>0</td>\n",
       "      <td>0</td>\n",
       "      <td>30.0000</td>\n",
       "      <td>C</td>\n",
       "      <td>0</td>\n",
       "    </tr>\n",
       "    <tr>\n",
       "      <th>890</th>\n",
       "      <td>891</td>\n",
       "      <td>0</td>\n",
       "      <td>3</td>\n",
       "      <td>Dooley, Mr. Patrick</td>\n",
       "      <td>male</td>\n",
       "      <td>32.0</td>\n",
       "      <td>0</td>\n",
       "      <td>0</td>\n",
       "      <td>7.7500</td>\n",
       "      <td>Q</td>\n",
       "      <td>0</td>\n",
       "    </tr>\n",
       "  </tbody>\n",
       "</table>\n",
       "<p>891 rows × 11 columns</p>\n",
       "</div>"
      ],
      "text/plain": [
       "     PassengerId  Survived  Pclass  ...     Fare Embarked  Alone\n",
       "0              1         0       3  ...   7.2500        S      1\n",
       "1              2         1       1  ...  71.2833        C      1\n",
       "2              3         1       3  ...   7.9250        S      0\n",
       "3              4         1       1  ...  53.1000        S      1\n",
       "4              5         0       3  ...   8.0500        S      0\n",
       "..           ...       ...     ...  ...      ...      ...    ...\n",
       "886          887         0       2  ...  13.0000        S      0\n",
       "887          888         1       1  ...  30.0000        S      0\n",
       "888          889         0       3  ...  23.4500        S      1\n",
       "889          890         1       1  ...  30.0000        C      0\n",
       "890          891         0       3  ...   7.7500        Q      0\n",
       "\n",
       "[891 rows x 11 columns]"
      ]
     },
     "execution_count": 77,
     "metadata": {
      "tags": []
     },
     "output_type": "execute_result"
    }
   ],
   "source": [
    "df['Alone'] = df.apply(lambda x: 1 if x['SibSp'] or x['Parch'] else 0, axis = 1)\n",
    "df"
   ]
  },
  {
   "cell_type": "code",
   "execution_count": null,
   "metadata": {
    "colab": {
     "base_uri": "https://localhost:8080/",
     "height": 34
    },
    "id": "GBnSonc4XDyA",
    "outputId": "5c7723a4-b34f-4e3a-bae6-65bbe1924a3d"
   },
   "outputs": [
    {
     "data": {
      "text/plain": [
       "53"
      ]
     },
     "execution_count": 85,
     "metadata": {
      "tags": []
     },
     "output_type": "execute_result"
    }
   ],
   "source": [
    "df['Rich'] = df.apply(lambda x: 1 if x['Pclass'] == 1 and x['Fare'] >100 else 0, axis = 1) \n",
    "len(df[df['Rich']==1])"
   ]
  },
  {
   "cell_type": "code",
   "execution_count": null,
   "metadata": {
    "colab": {
     "base_uri": "https://localhost:8080/",
     "height": 34
    },
    "id": "DUjKtO4wYdJR",
    "outputId": "40e193d5-ec85-4ce1-d01f-a9e556608618"
   },
   "outputs": [
    {
     "data": {
      "text/plain": [
       "39"
      ]
     },
     "execution_count": 89,
     "metadata": {
      "tags": []
     },
     "output_type": "execute_result"
    }
   ],
   "source": [
    "len(df[(df['Rich'] == 1) & (df['Survived'] == 1)])"
   ]
  },
  {
   "cell_type": "code",
   "execution_count": null,
   "metadata": {
    "colab": {
     "base_uri": "https://localhost:8080/",
     "height": 34
    },
    "id": "NIuGrlQeXZO6",
    "outputId": "0421d610-c30c-4f5d-a577-a07fcf7578a2"
   },
   "outputs": [
    {
     "data": {
      "text/plain": [
       "512.3292"
      ]
     },
     "execution_count": 79,
     "metadata": {
      "tags": []
     },
     "output_type": "execute_result"
    }
   ],
   "source": [
    "df.Fare.max()"
   ]
  },
  {
   "cell_type": "code",
   "execution_count": null,
   "metadata": {
    "colab": {
     "base_uri": "https://localhost:8080/",
     "height": 265
    },
    "id": "knndhzxM5m1p",
    "outputId": "7bc8fc62-c15c-438c-9204-b4cba84a54a3"
   },
   "outputs": [
    {
     "data": {
      "text/plain": [
       "<matplotlib.axes._subplots.AxesSubplot at 0x7fa5b159c4e0>"
      ]
     },
     "execution_count": 75,
     "metadata": {
      "tags": []
     },
     "output_type": "execute_result"
    },
    {
     "data": {
      "image/png": "[encoded data removed]",
      "text/plain": [
       "<Figure size 432x288 with 1 Axes>"
      ]
     },
     "metadata": {
      "tags": []
     },
     "output_type": "display_data"
    }
   ],
   "source": [
    "df['Alone'].value_counts().plot(kind='pie')"
   ]
  },
  {
   "cell_type": "markdown",
   "metadata": {
    "id": "YL5_CsH8aMuf"
   },
   "source": [
    "### Строим сводную таблицу"
   ]
  },
  {
   "cell_type": "code",
   "execution_count": null,
   "metadata": {
    "colab": {
     "base_uri": "https://localhost:8080/",
     "height": 143
    },
    "id": "e4tL8FdPaMuh",
    "outputId": "6502ab26-91fd-4d4f-d3b0-6788735533c1"
   },
   "outputs": [
    {
     "data": {
      "text/html": [
       "<div>\n",
       "<style scoped>\n",
       "    .dataframe tbody tr th:only-of-type {\n",
       "        vertical-align: middle;\n",
       "    }\n",
       "\n",
       "    .dataframe tbody tr th {\n",
       "        vertical-align: top;\n",
       "    }\n",
       "\n",
       "    .dataframe thead th {\n",
       "        text-align: right;\n",
       "    }\n",
       "</style>\n",
       "<table border=\"1\" class=\"dataframe\">\n",
       "  <thead>\n",
       "    <tr style=\"text-align: right;\">\n",
       "      <th></th>\n",
       "      <th>Survived</th>\n",
       "    </tr>\n",
       "    <tr>\n",
       "      <th>Sex</th>\n",
       "      <th></th>\n",
       "    </tr>\n",
       "  </thead>\n",
       "  <tbody>\n",
       "    <tr>\n",
       "      <th>female</th>\n",
       "      <td>0.742038</td>\n",
       "    </tr>\n",
       "    <tr>\n",
       "      <th>male</th>\n",
       "      <td>0.188908</td>\n",
       "    </tr>\n",
       "  </tbody>\n",
       "</table>\n",
       "</div>"
      ],
      "text/plain": [
       "        Survived\n",
       "Sex             \n",
       "female  0.742038\n",
       "male    0.188908"
      ]
     },
     "execution_count": 56,
     "metadata": {
      "tags": []
     },
     "output_type": "execute_result"
    }
   ],
   "source": [
    "df.groupby('Sex')[['Survived']].mean() #начинаем с простого"
   ]
  },
  {
   "cell_type": "markdown",
   "metadata": {
    "id": "sAacfwm8aMun"
   },
   "source": [
    "Сразу же можно сделать вывод о том, что из каждых четырех женщин, находившихся на борту, выжили три, в то время как из каждых пяти мужчин выжил только один!\n",
    "\n",
    "Это интересная информация, но мы можем пойти дальше и выяснить взаимосвязь между показателем выживаемости и двумя другими параметрами, такими как пол и, например, класс. Используя терминологию GroupBy, мы могли бы сформулировать последовательность наших действий следующим образом: группируем по (group by) классу и полу, отбираем (select) выживших, применяем (apply) агрегацию по среднему, объединяем (combine) результирующие группы и преобразуем (unstack) иерархический индекс, чтобы раскрыть скрытую многомерность. Выразим это в коде:"
   ]
  },
  {
   "cell_type": "code",
   "execution_count": null,
   "metadata": {
    "colab": {
     "base_uri": "https://localhost:8080/",
     "height": 143
    },
    "id": "0isLoF0SaMur",
    "outputId": "64217c8c-c2d5-47b5-9851-8632ecf9d9c8",
    "scrolled": true
   },
   "outputs": [
    {
     "data": {
      "text/html": [
       "<div>\n",
       "<style scoped>\n",
       "    .dataframe tbody tr th:only-of-type {\n",
       "        vertical-align: middle;\n",
       "    }\n",
       "\n",
       "    .dataframe tbody tr th {\n",
       "        vertical-align: top;\n",
       "    }\n",
       "\n",
       "    .dataframe thead th {\n",
       "        text-align: right;\n",
       "    }\n",
       "</style>\n",
       "<table border=\"1\" class=\"dataframe\">\n",
       "  <thead>\n",
       "    <tr style=\"text-align: right;\">\n",
       "      <th>Pclass</th>\n",
       "      <th>1</th>\n",
       "      <th>2</th>\n",
       "      <th>3</th>\n",
       "    </tr>\n",
       "    <tr>\n",
       "      <th>Sex</th>\n",
       "      <th></th>\n",
       "      <th></th>\n",
       "      <th></th>\n",
       "    </tr>\n",
       "  </thead>\n",
       "  <tbody>\n",
       "    <tr>\n",
       "      <th>female</th>\n",
       "      <td>0.968085</td>\n",
       "      <td>0.921053</td>\n",
       "      <td>0.500000</td>\n",
       "    </tr>\n",
       "    <tr>\n",
       "      <th>male</th>\n",
       "      <td>0.368852</td>\n",
       "      <td>0.157407</td>\n",
       "      <td>0.135447</td>\n",
       "    </tr>\n",
       "  </tbody>\n",
       "</table>\n",
       "</div>"
      ],
      "text/plain": [
       "Pclass         1         2         3\n",
       "Sex                                 \n",
       "female  0.968085  0.921053  0.500000\n",
       "male    0.368852  0.157407  0.135447"
      ]
     },
     "execution_count": 58,
     "metadata": {
      "tags": []
     },
     "output_type": "execute_result"
    }
   ],
   "source": [
    "df.groupby(['Sex', 'Pclass'])['Survived'].agg('mean').unstack()"
   ]
  },
  {
   "cell_type": "markdown",
   "metadata": {
    "id": "UsXVmuAcaMu0"
   },
   "source": [
    "Теперь мы имеем четкое представление о том, как пол и класс повлияли на выживаемость, но код становится немного громоздким. Хотя каждый шаг этой последовательности вполне понятен в свете рассмотренных выше инструментов, тем не менее длинную строку кода достаточно трудно читать и использовать. Подобные операции широко распространены, в связи с чем библиотека Pandas имеет в своем составе специальный метод pivot_table, лаконично реализующий данный тип многомерной агрегации."
   ]
  },
  {
   "cell_type": "code",
   "execution_count": null,
   "metadata": {
    "colab": {
     "base_uri": "https://localhost:8080/",
     "height": 175
    },
    "id": "rkZRboEUaMu3",
    "outputId": "d07d11c7-a917-48d0-d6dd-5822f9ac47e7"
   },
   "outputs": [
    {
     "data": {
      "text/html": [
       "<div>\n",
       "<style scoped>\n",
       "    .dataframe tbody tr th:only-of-type {\n",
       "        vertical-align: middle;\n",
       "    }\n",
       "\n",
       "    .dataframe tbody tr th {\n",
       "        vertical-align: top;\n",
       "    }\n",
       "\n",
       "    .dataframe thead th {\n",
       "        text-align: right;\n",
       "    }\n",
       "</style>\n",
       "<table border=\"1\" class=\"dataframe\">\n",
       "  <thead>\n",
       "    <tr style=\"text-align: right;\">\n",
       "      <th>Pclass</th>\n",
       "      <th>1</th>\n",
       "      <th>2</th>\n",
       "      <th>3</th>\n",
       "      <th>All</th>\n",
       "    </tr>\n",
       "    <tr>\n",
       "      <th>Sex</th>\n",
       "      <th></th>\n",
       "      <th></th>\n",
       "      <th></th>\n",
       "      <th></th>\n",
       "    </tr>\n",
       "  </thead>\n",
       "  <tbody>\n",
       "    <tr>\n",
       "      <th>female</th>\n",
       "      <td>0.968085</td>\n",
       "      <td>0.921053</td>\n",
       "      <td>0.500000</td>\n",
       "      <td>0.742038</td>\n",
       "    </tr>\n",
       "    <tr>\n",
       "      <th>male</th>\n",
       "      <td>0.368852</td>\n",
       "      <td>0.157407</td>\n",
       "      <td>0.135447</td>\n",
       "      <td>0.188908</td>\n",
       "    </tr>\n",
       "    <tr>\n",
       "      <th>All</th>\n",
       "      <td>0.629630</td>\n",
       "      <td>0.472826</td>\n",
       "      <td>0.242363</td>\n",
       "      <td>0.383838</td>\n",
       "    </tr>\n",
       "  </tbody>\n",
       "</table>\n",
       "</div>"
      ],
      "text/plain": [
       "Pclass         1         2         3       All\n",
       "Sex                                           \n",
       "female  0.968085  0.921053  0.500000  0.742038\n",
       "male    0.368852  0.157407  0.135447  0.188908\n",
       "All     0.629630  0.472826  0.242363  0.383838"
      ]
     },
     "execution_count": 64,
     "metadata": {
      "tags": []
     },
     "output_type": "execute_result"
    }
   ],
   "source": [
    "df.pivot_table(values='Survived', index='Sex', columns='Pclass', aggfunc='mean', margins=True)\n",
    "df.pivot_table()"
   ]
  },
  {
   "cell_type": "code",
   "execution_count": null,
   "metadata": {
    "id": "a6Ua9QOSaMvB",
    "outputId": "d6cea368-b12b-4acb-909c-540d3870f36d"
   },
   "outputs": [
    {
     "data": {
      "text/html": [
       "<div>\n",
       "<style scoped>\n",
       "    .dataframe tbody tr th:only-of-type {\n",
       "        vertical-align: middle;\n",
       "    }\n",
       "\n",
       "    .dataframe tbody tr th {\n",
       "        vertical-align: top;\n",
       "    }\n",
       "\n",
       "    .dataframe thead th {\n",
       "        text-align: right;\n",
       "    }\n",
       "</style>\n",
       "<table border=\"1\" class=\"dataframe\">\n",
       "  <thead>\n",
       "    <tr style=\"text-align: right;\">\n",
       "      <th></th>\n",
       "      <th>Pclass</th>\n",
       "      <th>1</th>\n",
       "      <th>2</th>\n",
       "      <th>3</th>\n",
       "    </tr>\n",
       "    <tr>\n",
       "      <th>Sex</th>\n",
       "      <th>Age</th>\n",
       "      <th></th>\n",
       "      <th></th>\n",
       "      <th></th>\n",
       "    </tr>\n",
       "  </thead>\n",
       "  <tbody>\n",
       "    <tr>\n",
       "      <th rowspan=\"2\" valign=\"top\">female</th>\n",
       "      <th>(0, 18]</th>\n",
       "      <td>0.909091</td>\n",
       "      <td>1.000000</td>\n",
       "      <td>0.511628</td>\n",
       "    </tr>\n",
       "    <tr>\n",
       "      <th>(18, 80]</th>\n",
       "      <td>0.972973</td>\n",
       "      <td>0.900000</td>\n",
       "      <td>0.423729</td>\n",
       "    </tr>\n",
       "    <tr>\n",
       "      <th rowspan=\"2\" valign=\"top\">male</th>\n",
       "      <th>(0, 18]</th>\n",
       "      <td>0.800000</td>\n",
       "      <td>0.600000</td>\n",
       "      <td>0.215686</td>\n",
       "    </tr>\n",
       "    <tr>\n",
       "      <th>(18, 80]</th>\n",
       "      <td>0.375000</td>\n",
       "      <td>0.071429</td>\n",
       "      <td>0.133663</td>\n",
       "    </tr>\n",
       "  </tbody>\n",
       "</table>\n",
       "</div>"
      ],
      "text/plain": [
       "Pclass                  1         2         3\n",
       "Sex    Age                                   \n",
       "female (0, 18]   0.909091  1.000000  0.511628\n",
       "       (18, 80]  0.972973  0.900000  0.423729\n",
       "male   (0, 18]   0.800000  0.600000  0.215686\n",
       "       (18, 80]  0.375000  0.071429  0.133663"
      ]
     },
     "execution_count": 72,
     "metadata": {
      "tags": []
     },
     "output_type": "execute_result"
    }
   ],
   "source": [
    "age = pd.cut(df['Age'], [0, 18, 80])\n",
    "df.pivot_table('Survived', ['Sex', age], 'Pclass')"
   ]
  },
  {
   "cell_type": "markdown",
   "metadata": {
    "id": "dRBAF_gxaMvG"
   },
   "source": [
    "### Join'ы"
   ]
  },
  {
   "cell_type": "code",
   "execution_count": null,
   "metadata": {
    "colab": {
     "base_uri": "https://localhost:8080/",
     "height": 191
    },
    "id": "d3hGzoVeaMvI",
    "outputId": "4d6cb66d-e2cb-4c42-fcd2-7ea27053d531"
   },
   "outputs": [
    {
     "name": "stdout",
     "output_type": "stream",
     "text": [
      "  employee        group\n",
      "0      Bob   Accounting\n",
      "1     Jake  Engineering\n",
      "2     Lisa  Engineering\n",
      "3      Sue           HR\n",
      "  employee  hire_date\n",
      "0     Lisa       2004\n",
      "1      Bob       2008\n",
      "2     Jake       2012\n",
      "3      Sue       2014\n"
     ]
    }
   ],
   "source": [
    "import pandas as pd\n",
    "df1 = pd.DataFrame({'employee': ['Bob', 'Jake', 'Lisa', 'Sue'],\n",
    "'group': ['Accounting', 'Engineering', 'Engineering',\n",
    "'HR']})\n",
    "\n",
    "df2 = pd.DataFrame({'employee': ['Lisa', 'Bob', 'Jake', 'Sue'],\n",
    "'hire_date': [2004, 2008, 2012, 2014]})\n",
    "print(df1); print(df2)\n",
    " "
   ]
  },
  {
   "cell_type": "code",
   "execution_count": null,
   "metadata": {
    "colab": {
     "base_uri": "https://localhost:8080/",
     "height": 175
    },
    "id": "TE1EfabqaMvM",
    "outputId": "586f620f-1bb7-4f93-c92f-38820a422092"
   },
   "outputs": [
    {
     "data": {
      "text/html": [
       "<div>\n",
       "<style scoped>\n",
       "    .dataframe tbody tr th:only-of-type {\n",
       "        vertical-align: middle;\n",
       "    }\n",
       "\n",
       "    .dataframe tbody tr th {\n",
       "        vertical-align: top;\n",
       "    }\n",
       "\n",
       "    .dataframe thead th {\n",
       "        text-align: right;\n",
       "    }\n",
       "</style>\n",
       "<table border=\"1\" class=\"dataframe\">\n",
       "  <thead>\n",
       "    <tr style=\"text-align: right;\">\n",
       "      <th></th>\n",
       "      <th>employee</th>\n",
       "      <th>group</th>\n",
       "      <th>hire_date</th>\n",
       "    </tr>\n",
       "  </thead>\n",
       "  <tbody>\n",
       "    <tr>\n",
       "      <th>0</th>\n",
       "      <td>Bob</td>\n",
       "      <td>Accounting</td>\n",
       "      <td>2008</td>\n",
       "    </tr>\n",
       "    <tr>\n",
       "      <th>1</th>\n",
       "      <td>Jake</td>\n",
       "      <td>Engineering</td>\n",
       "      <td>2012</td>\n",
       "    </tr>\n",
       "    <tr>\n",
       "      <th>2</th>\n",
       "      <td>Lisa</td>\n",
       "      <td>Engineering</td>\n",
       "      <td>2004</td>\n",
       "    </tr>\n",
       "    <tr>\n",
       "      <th>3</th>\n",
       "      <td>Sue</td>\n",
       "      <td>HR</td>\n",
       "      <td>2014</td>\n",
       "    </tr>\n",
       "  </tbody>\n",
       "</table>\n",
       "</div>"
      ],
      "text/plain": [
       "  employee        group  hire_date\n",
       "0      Bob   Accounting       2008\n",
       "1     Jake  Engineering       2012\n",
       "2     Lisa  Engineering       2004\n",
       "3      Sue           HR       2014"
      ]
     },
     "execution_count": 13,
     "metadata": {
      "tags": []
     },
     "output_type": "execute_result"
    }
   ],
   "source": [
    "df3 = pd.merge(df1, df2)\n",
    "df3\n",
    "#подробнее https://pandas.pydata.org/pandas-docs/stable/user_guide/merging.html"
   ]
  },
  {
   "cell_type": "markdown",
   "metadata": {
    "id": "3J2chs76aMvQ"
   },
   "source": [
    "### Дополнительные приемы работы с числами"
   ]
  },
  {
   "cell_type": "code",
   "execution_count": null,
   "metadata": {
    "colab": {
     "base_uri": "https://localhost:8080/",
     "height": 206
    },
    "id": "3fxM-bpVaMvR",
    "outputId": "58390b3b-2b34-4c15-c370-14784ef65a9d"
   },
   "outputs": [
    {
     "data": {
      "text/html": [
       "<div>\n",
       "<style scoped>\n",
       "    .dataframe tbody tr th:only-of-type {\n",
       "        vertical-align: middle;\n",
       "    }\n",
       "\n",
       "    .dataframe tbody tr th {\n",
       "        vertical-align: top;\n",
       "    }\n",
       "\n",
       "    .dataframe thead th {\n",
       "        text-align: right;\n",
       "    }\n",
       "</style>\n",
       "<table border=\"1\" class=\"dataframe\">\n",
       "  <thead>\n",
       "    <tr style=\"text-align: right;\">\n",
       "      <th></th>\n",
       "      <th>col1</th>\n",
       "      <th>col2</th>\n",
       "    </tr>\n",
       "  </thead>\n",
       "  <tbody>\n",
       "    <tr>\n",
       "      <th>0</th>\n",
       "      <td>1</td>\n",
       "      <td>2,5</td>\n",
       "    </tr>\n",
       "    <tr>\n",
       "      <th>1</th>\n",
       "      <td>2</td>\n",
       "      <td>4,5</td>\n",
       "    </tr>\n",
       "    <tr>\n",
       "      <th>2</th>\n",
       "      <td>3</td>\n",
       "      <td>3.3</td>\n",
       "    </tr>\n",
       "    <tr>\n",
       "      <th>3</th>\n",
       "      <td>4</td>\n",
       "      <td>1,5</td>\n",
       "    </tr>\n",
       "    <tr>\n",
       "      <th>4</th>\n",
       "      <td>5</td>\n",
       "      <td>2,9</td>\n",
       "    </tr>\n",
       "  </tbody>\n",
       "</table>\n",
       "</div>"
      ],
      "text/plain": [
       "   col1 col2\n",
       "0     1  2,5\n",
       "1     2  4,5\n",
       "2     3  3.3\n",
       "3     4  1,5\n",
       "4     5  2,9"
      ]
     },
     "execution_count": 99,
     "metadata": {
      "tags": []
     },
     "output_type": "execute_result"
    }
   ],
   "source": [
    "new_df = pd.DataFrame({'col1': [1,2,3,4,5], 'col2': '2,5 4,5 3.3 1,5 2,9'.split()})\n",
    "\n",
    "new_df"
   ]
  },
  {
   "cell_type": "code",
   "execution_count": null,
   "metadata": {
    "colab": {
     "base_uri": "https://localhost:8080/",
     "height": 173
    },
    "id": "9Ho014VSaM1k",
    "outputId": "1e775551-3c14-44c8-e986-f37a3a58644d"
   },
   "outputs": [
    {
     "name": "stdout",
     "output_type": "stream",
     "text": [
      "<class 'pandas.core.frame.DataFrame'>\n",
      "RangeIndex: 5 entries, 0 to 4\n",
      "Data columns (total 2 columns):\n",
      " #   Column  Non-Null Count  Dtype \n",
      "---  ------  --------------  ----- \n",
      " 0   col1    5 non-null      int64 \n",
      " 1   col2    5 non-null      object\n",
      "dtypes: int64(1), object(1)\n",
      "memory usage: 208.0+ bytes\n"
     ]
    }
   ],
   "source": [
    "new_df.info()"
   ]
  },
  {
   "cell_type": "code",
   "execution_count": null,
   "metadata": {
    "id": "TaqEDa_RaMvV",
    "scrolled": true
   },
   "outputs": [],
   "source": [
    "new_df['col2'] = new_df['col2'].apply(lambda x: float(x.replace(',', '.')))\n"
   ]
  },
  {
   "cell_type": "code",
   "execution_count": null,
   "metadata": {
    "colab": {
     "base_uri": "https://localhost:8080/",
     "height": 173
    },
    "id": "NmSyvf1ca_gC",
    "outputId": "02f0a847-abf5-4942-d089-80e7baa34b4a"
   },
   "outputs": [
    {
     "name": "stdout",
     "output_type": "stream",
     "text": [
      "<class 'pandas.core.frame.DataFrame'>\n",
      "RangeIndex: 5 entries, 0 to 4\n",
      "Data columns (total 2 columns):\n",
      " #   Column  Non-Null Count  Dtype  \n",
      "---  ------  --------------  -----  \n",
      " 0   col1    5 non-null      int64  \n",
      " 1   col2    5 non-null      float64\n",
      "dtypes: float64(1), int64(1)\n",
      "memory usage: 208.0 bytes\n"
     ]
    }
   ],
   "source": [
    "new_df.info()"
   ]
  },
  {
   "cell_type": "code",
   "execution_count": null,
   "metadata": {
    "id": "tkzMg9GaaMvi"
   },
   "outputs": [],
   "source": [
    "new_df['col2'] = pd.to_numeric(new_df['col2'])"
   ]
  },
  {
   "cell_type": "code",
   "execution_count": null,
   "metadata": {
    "id": "e2Joo3sjaMvn"
   },
   "outputs": [],
   "source": [
    "new_df['col2'] = new_df['col2'].astype('float64')"
   ]
  },
  {
   "cell_type": "code",
   "execution_count": null,
   "metadata": {
    "id": "iZjZmK8NaMvr"
   },
   "outputs": [],
   "source": [
    "new_df['col2'] = new_df['col2'].apply(lambda x: float(x))"
   ]
  },
  {
   "cell_type": "markdown",
   "metadata": {
    "id": "GMGvdvPfaMvu"
   },
   "source": [
    "#### Если нужно заменить сразу много столбцов"
   ]
  },
  {
   "cell_type": "code",
   "execution_count": null,
   "metadata": {
    "colab": {
     "base_uri": "https://localhost:8080/",
     "height": 206
    },
    "id": "ijm43UVHaMvv",
    "outputId": "b7fc94b9-fb96-4b9a-9782-ca9a87da9881"
   },
   "outputs": [
    {
     "data": {
      "text/html": [
       "<div>\n",
       "<style scoped>\n",
       "    .dataframe tbody tr th:only-of-type {\n",
       "        vertical-align: middle;\n",
       "    }\n",
       "\n",
       "    .dataframe tbody tr th {\n",
       "        vertical-align: top;\n",
       "    }\n",
       "\n",
       "    .dataframe thead th {\n",
       "        text-align: right;\n",
       "    }\n",
       "</style>\n",
       "<table border=\"1\" class=\"dataframe\">\n",
       "  <thead>\n",
       "    <tr style=\"text-align: right;\">\n",
       "      <th></th>\n",
       "      <th>col1</th>\n",
       "      <th>col2</th>\n",
       "      <th>col3</th>\n",
       "    </tr>\n",
       "  </thead>\n",
       "  <tbody>\n",
       "    <tr>\n",
       "      <th>0</th>\n",
       "      <td>56,5</td>\n",
       "      <td>2,5</td>\n",
       "      <td>7,6</td>\n",
       "    </tr>\n",
       "    <tr>\n",
       "      <th>1</th>\n",
       "      <td>2,5</td>\n",
       "      <td>4,5</td>\n",
       "      <td>4,5</td>\n",
       "    </tr>\n",
       "    <tr>\n",
       "      <th>2</th>\n",
       "      <td>3.3</td>\n",
       "      <td>3.3</td>\n",
       "      <td>3.3</td>\n",
       "    </tr>\n",
       "    <tr>\n",
       "      <th>3</th>\n",
       "      <td>1,5</td>\n",
       "      <td>1,5</td>\n",
       "      <td>7,5</td>\n",
       "    </tr>\n",
       "    <tr>\n",
       "      <th>4</th>\n",
       "      <td>2,9</td>\n",
       "      <td>2,9</td>\n",
       "      <td>1,9</td>\n",
       "    </tr>\n",
       "  </tbody>\n",
       "</table>\n",
       "</div>"
      ],
      "text/plain": [
       "   col1 col2 col3\n",
       "0  56,5  2,5  7,6\n",
       "1   2,5  4,5  4,5\n",
       "2   3.3  3.3  3.3\n",
       "3   1,5  1,5  7,5\n",
       "4   2,9  2,9  1,9"
      ]
     },
     "execution_count": 102,
     "metadata": {
      "tags": []
     },
     "output_type": "execute_result"
    }
   ],
   "source": [
    "strNum = pd.DataFrame({'col1': '56,5 2,5 3.3 1,5 2,9'.split(), 'col2': '2,5 4,5 3.3 1,5 2,9'.split(), \n",
    "                       'col3': '7,6 4,5 3.3 7,5 1,9'.split()})\n",
    "strNum"
   ]
  },
  {
   "cell_type": "code",
   "execution_count": null,
   "metadata": {
    "colab": {
     "base_uri": "https://localhost:8080/",
     "height": 34
    },
    "id": "fwEGF2BTbJ5p",
    "outputId": "86522600-42bd-4541-f690-5d9ba4b4b212"
   },
   "outputs": [
    {
     "data": {
      "text/plain": [
       "['col1', 'col2', 'col3']"
      ]
     },
     "execution_count": 103,
     "metadata": {
      "tags": []
     },
     "output_type": "execute_result"
    }
   ],
   "source": [
    "list(strNum)"
   ]
  },
  {
   "cell_type": "code",
   "execution_count": null,
   "metadata": {
    "id": "NiqaObH5aMvz"
   },
   "outputs": [],
   "source": [
    "for i in list(strNum):\n",
    "    strNum[i] = strNum[i].apply(lambda x: float(x.replace(',', '.')))\n",
    "\n"
   ]
  },
  {
   "cell_type": "markdown",
   "metadata": {
    "id": "YAd8gmI5aMv2"
   },
   "source": [
    "### Работа с датами"
   ]
  },
  {
   "cell_type": "code",
   "execution_count": 2,
   "metadata": {
    "colab": {
     "base_uri": "https://localhost:8080/",
     "height": 0
    },
    "id": "M8txCIuTaMv2",
    "outputId": "8781eb45-0fdd-48d5-d8c7-96536a9104ad"
   },
   "outputs": [
    {
     "data": {
      "text/html": [
       "<div>\n",
       "<style scoped>\n",
       "    .dataframe tbody tr th:only-of-type {\n",
       "        vertical-align: middle;\n",
       "    }\n",
       "\n",
       "    .dataframe tbody tr th {\n",
       "        vertical-align: top;\n",
       "    }\n",
       "\n",
       "    .dataframe thead th {\n",
       "        text-align: right;\n",
       "    }\n",
       "</style>\n",
       "<table border=\"1\" class=\"dataframe\">\n",
       "  <thead>\n",
       "    <tr style=\"text-align: right;\">\n",
       "      <th></th>\n",
       "      <th>Date</th>\n",
       "      <th>Max_TemperatureC</th>\n",
       "      <th>Mean_TemperatureC</th>\n",
       "      <th>Min_TemperatureC</th>\n",
       "    </tr>\n",
       "  </thead>\n",
       "  <tbody>\n",
       "    <tr>\n",
       "      <th>0</th>\n",
       "      <td>1/1/1948</td>\n",
       "      <td>10</td>\n",
       "      <td>8.0</td>\n",
       "      <td>7.0</td>\n",
       "    </tr>\n",
       "    <tr>\n",
       "      <th>1</th>\n",
       "      <td>1/2/1948</td>\n",
       "      <td>6</td>\n",
       "      <td>4.0</td>\n",
       "      <td>3.0</td>\n",
       "    </tr>\n",
       "    <tr>\n",
       "      <th>2</th>\n",
       "      <td>1/3/1948</td>\n",
       "      <td>7</td>\n",
       "      <td>4.0</td>\n",
       "      <td>2.0</td>\n",
       "    </tr>\n",
       "    <tr>\n",
       "      <th>3</th>\n",
       "      <td>1/4/1948</td>\n",
       "      <td>7</td>\n",
       "      <td>4.0</td>\n",
       "      <td>2.0</td>\n",
       "    </tr>\n",
       "    <tr>\n",
       "      <th>4</th>\n",
       "      <td>1/5/1948</td>\n",
       "      <td>7</td>\n",
       "      <td>3.0</td>\n",
       "      <td>0.0</td>\n",
       "    </tr>\n",
       "    <tr>\n",
       "      <th>5</th>\n",
       "      <td>1/6/1948</td>\n",
       "      <td>9</td>\n",
       "      <td>7.0</td>\n",
       "      <td>5.0</td>\n",
       "    </tr>\n",
       "    <tr>\n",
       "      <th>6</th>\n",
       "      <td>1/7/1948</td>\n",
       "      <td>10</td>\n",
       "      <td>7.0</td>\n",
       "      <td>4.0</td>\n",
       "    </tr>\n",
       "    <tr>\n",
       "      <th>7</th>\n",
       "      <td>1/8/1948</td>\n",
       "      <td>8</td>\n",
       "      <td>5.0</td>\n",
       "      <td>2.0</td>\n",
       "    </tr>\n",
       "    <tr>\n",
       "      <th>8</th>\n",
       "      <td>1/9/1948</td>\n",
       "      <td>9</td>\n",
       "      <td>4.0</td>\n",
       "      <td>1.0</td>\n",
       "    </tr>\n",
       "    <tr>\n",
       "      <th>9</th>\n",
       "      <td>1/10/1948</td>\n",
       "      <td>6</td>\n",
       "      <td>4.0</td>\n",
       "      <td>2.0</td>\n",
       "    </tr>\n",
       "  </tbody>\n",
       "</table>\n",
       "</div>"
      ],
      "text/plain": [
       "        Date  Max_TemperatureC  Mean_TemperatureC  Min_TemperatureC\n",
       "0   1/1/1948                10                8.0               7.0\n",
       "1   1/2/1948                 6                4.0               3.0\n",
       "2   1/3/1948                 7                4.0               2.0\n",
       "3   1/4/1948                 7                4.0               2.0\n",
       "4   1/5/1948                 7                3.0               0.0\n",
       "5   1/6/1948                 9                7.0               5.0\n",
       "6   1/7/1948                10                7.0               4.0\n",
       "7   1/8/1948                 8                5.0               2.0\n",
       "8   1/9/1948                 9                4.0               1.0\n",
       "9  1/10/1948                 6                4.0               2.0"
      ]
     },
     "execution_count": 2,
     "metadata": {
      "tags": []
     },
     "output_type": "execute_result"
    }
   ],
   "source": [
    "df = pd.read_csv('https://raw.githubusercontent.com/plotly/datasets/master/2016-weather-data-seattle.csv')\n",
    "\n",
    "df.head(10)"
   ]
  },
  {
   "cell_type": "code",
   "execution_count": 3,
   "metadata": {
    "colab": {
     "base_uri": "https://localhost:8080/",
     "height": 0
    },
    "id": "4p3J18WSaMv6",
    "outputId": "5b2eb638-d1d4-4cf2-c8a1-f85d2c8112b7"
   },
   "outputs": [
    {
     "name": "stdout",
     "output_type": "stream",
     "text": [
      "<class 'pandas.core.frame.DataFrame'>\n",
      "RangeIndex: 24381 entries, 0 to 24380\n",
      "Data columns (total 4 columns):\n",
      " #   Column             Non-Null Count  Dtype  \n",
      "---  ------             --------------  -----  \n",
      " 0   Date               24381 non-null  object \n",
      " 1   Max_TemperatureC   24381 non-null  int64  \n",
      " 2   Mean_TemperatureC  24376 non-null  float64\n",
      " 3   Min_TemperatureC   24380 non-null  float64\n",
      "dtypes: float64(2), int64(1), object(1)\n",
      "memory usage: 762.0+ KB\n"
     ]
    }
   ],
   "source": [
    "df.info()"
   ]
  },
  {
   "cell_type": "code",
   "execution_count": 4,
   "metadata": {
    "colab": {
     "base_uri": "https://localhost:8080/",
     "height": 0
    },
    "id": "6UetdMF4aMv_",
    "outputId": "e4c1ceea-d207-4979-8258-72d64c79ca39",
    "scrolled": true
   },
   "outputs": [
    {
     "data": {
      "text/plain": [
       "Date                 0\n",
       "Max_TemperatureC     0\n",
       "Mean_TemperatureC    5\n",
       "Min_TemperatureC     1\n",
       "dtype: int64"
      ]
     },
     "execution_count": 4,
     "metadata": {
      "tags": []
     },
     "output_type": "execute_result"
    }
   ],
   "source": [
    "df.isna().sum()"
   ]
  },
  {
   "cell_type": "code",
   "execution_count": 5,
   "metadata": {
    "colab": {
     "base_uri": "https://localhost:8080/",
     "height": 0
    },
    "id": "Qn2BFr6uaMwD",
    "outputId": "a5d33a73-37ca-4125-8d36-bd953378e660"
   },
   "outputs": [
    {
     "data": {
      "text/plain": [
       "0       1948-01-01\n",
       "1       1948-01-02\n",
       "2       1948-01-03\n",
       "3       1948-01-04\n",
       "4       1948-01-05\n",
       "           ...    \n",
       "24376   2015-12-27\n",
       "24377   2015-12-28\n",
       "24378   2015-12-29\n",
       "24379   2015-12-30\n",
       "24380   2015-12-31\n",
       "Name: Date, Length: 24381, dtype: datetime64[ns]"
      ]
     },
     "execution_count": 5,
     "metadata": {
      "tags": []
     },
     "output_type": "execute_result"
    }
   ],
   "source": [
    "df['Date'] = pd.to_datetime(df['Date'])\n",
    "df['Date']"
   ]
  },
  {
   "cell_type": "code",
   "execution_count": 6,
   "metadata": {
    "colab": {
     "base_uri": "https://localhost:8080/",
     "height": 0
    },
    "id": "VankjEZJaMwI",
    "outputId": "a2ad925f-627c-42c5-de6d-9f0c1746eb2a"
   },
   "outputs": [
    {
     "data": {
      "text/plain": [
       "0        1948\n",
       "1        1948\n",
       "2        1948\n",
       "3        1948\n",
       "4        1948\n",
       "         ... \n",
       "24376    2015\n",
       "24377    2015\n",
       "24378    2015\n",
       "24379    2015\n",
       "24380    2015\n",
       "Name: Date, Length: 24381, dtype: int64"
      ]
     },
     "execution_count": 6,
     "metadata": {
      "tags": []
     },
     "output_type": "execute_result"
    }
   ],
   "source": [
    "df['Date'].dt.year"
   ]
  },
  {
   "cell_type": "markdown",
   "metadata": {
    "id": "tsrMLLCBaMwN"
   },
   "source": [
    "### Создание новых временнЫх признаков"
   ]
  },
  {
   "cell_type": "code",
   "execution_count": null,
   "metadata": {
    "id": "m6q8SVQ1aMwO"
   },
   "outputs": [],
   "source": [
    "df['current_time'] = pd.to_datetime('today').strftime(\"%m/%d/%Y\")\n",
    "\n"
   ]
  },
  {
   "cell_type": "code",
   "execution_count": null,
   "metadata": {
    "id": "pZYzopvCaMwR"
   },
   "outputs": [],
   "source": [
    "df['current_time'] = pd.to_datetime(df['current_time'])"
   ]
  },
  {
   "cell_type": "code",
   "execution_count": null,
   "metadata": {
    "id": "l3cvlCTdaMwV",
    "outputId": "ab95eba1-2000-403f-e386-c7500993eddb"
   },
   "outputs": [
    {
     "data": {
      "text/html": [
       "<div>\n",
       "<style scoped>\n",
       "    .dataframe tbody tr th:only-of-type {\n",
       "        vertical-align: middle;\n",
       "    }\n",
       "\n",
       "    .dataframe tbody tr th {\n",
       "        vertical-align: top;\n",
       "    }\n",
       "\n",
       "    .dataframe thead th {\n",
       "        text-align: right;\n",
       "    }\n",
       "</style>\n",
       "<table border=\"1\" class=\"dataframe\">\n",
       "  <thead>\n",
       "    <tr style=\"text-align: right;\">\n",
       "      <th></th>\n",
       "      <th>Date</th>\n",
       "      <th>Max_TemperatureC</th>\n",
       "      <th>Mean_TemperatureC</th>\n",
       "      <th>Min_TemperatureC</th>\n",
       "      <th>current_time</th>\n",
       "      <th>timedelta</th>\n",
       "    </tr>\n",
       "  </thead>\n",
       "  <tbody>\n",
       "    <tr>\n",
       "      <th>0</th>\n",
       "      <td>1948-01-01</td>\n",
       "      <td>10</td>\n",
       "      <td>8.0</td>\n",
       "      <td>7.0</td>\n",
       "      <td>2020-04-26</td>\n",
       "      <td>72.0</td>\n",
       "    </tr>\n",
       "    <tr>\n",
       "      <th>1</th>\n",
       "      <td>1948-01-02</td>\n",
       "      <td>6</td>\n",
       "      <td>4.0</td>\n",
       "      <td>3.0</td>\n",
       "      <td>2020-04-26</td>\n",
       "      <td>72.0</td>\n",
       "    </tr>\n",
       "    <tr>\n",
       "      <th>2</th>\n",
       "      <td>1948-01-03</td>\n",
       "      <td>7</td>\n",
       "      <td>4.0</td>\n",
       "      <td>2.0</td>\n",
       "      <td>2020-04-26</td>\n",
       "      <td>72.0</td>\n",
       "    </tr>\n",
       "    <tr>\n",
       "      <th>3</th>\n",
       "      <td>1948-01-04</td>\n",
       "      <td>7</td>\n",
       "      <td>4.0</td>\n",
       "      <td>2.0</td>\n",
       "      <td>2020-04-26</td>\n",
       "      <td>72.0</td>\n",
       "    </tr>\n",
       "    <tr>\n",
       "      <th>4</th>\n",
       "      <td>1948-01-05</td>\n",
       "      <td>7</td>\n",
       "      <td>3.0</td>\n",
       "      <td>0.0</td>\n",
       "      <td>2020-04-26</td>\n",
       "      <td>72.0</td>\n",
       "    </tr>\n",
       "    <tr>\n",
       "      <th>...</th>\n",
       "      <td>...</td>\n",
       "      <td>...</td>\n",
       "      <td>...</td>\n",
       "      <td>...</td>\n",
       "      <td>...</td>\n",
       "      <td>...</td>\n",
       "    </tr>\n",
       "    <tr>\n",
       "      <th>24376</th>\n",
       "      <td>2015-12-27</td>\n",
       "      <td>4</td>\n",
       "      <td>3.0</td>\n",
       "      <td>2.0</td>\n",
       "      <td>2020-04-26</td>\n",
       "      <td>4.0</td>\n",
       "    </tr>\n",
       "    <tr>\n",
       "      <th>24377</th>\n",
       "      <td>2015-12-28</td>\n",
       "      <td>5</td>\n",
       "      <td>3.0</td>\n",
       "      <td>2.0</td>\n",
       "      <td>2020-04-26</td>\n",
       "      <td>4.0</td>\n",
       "    </tr>\n",
       "    <tr>\n",
       "      <th>24378</th>\n",
       "      <td>2015-12-29</td>\n",
       "      <td>7</td>\n",
       "      <td>4.0</td>\n",
       "      <td>1.0</td>\n",
       "      <td>2020-04-26</td>\n",
       "      <td>4.0</td>\n",
       "    </tr>\n",
       "    <tr>\n",
       "      <th>24379</th>\n",
       "      <td>2015-12-30</td>\n",
       "      <td>6</td>\n",
       "      <td>2.0</td>\n",
       "      <td>-1.0</td>\n",
       "      <td>2020-04-26</td>\n",
       "      <td>4.0</td>\n",
       "    </tr>\n",
       "    <tr>\n",
       "      <th>24380</th>\n",
       "      <td>2015-12-31</td>\n",
       "      <td>6</td>\n",
       "      <td>2.0</td>\n",
       "      <td>-2.0</td>\n",
       "      <td>2020-04-26</td>\n",
       "      <td>4.0</td>\n",
       "    </tr>\n",
       "  </tbody>\n",
       "</table>\n",
       "<p>24381 rows × 6 columns</p>\n",
       "</div>"
      ],
      "text/plain": [
       "            Date  Max_TemperatureC  Mean_TemperatureC  Min_TemperatureC  \\\n",
       "0     1948-01-01                10                8.0               7.0   \n",
       "1     1948-01-02                 6                4.0               3.0   \n",
       "2     1948-01-03                 7                4.0               2.0   \n",
       "3     1948-01-04                 7                4.0               2.0   \n",
       "4     1948-01-05                 7                3.0               0.0   \n",
       "...          ...               ...                ...               ...   \n",
       "24376 2015-12-27                 4                3.0               2.0   \n",
       "24377 2015-12-28                 5                3.0               2.0   \n",
       "24378 2015-12-29                 7                4.0               1.0   \n",
       "24379 2015-12-30                 6                2.0              -1.0   \n",
       "24380 2015-12-31                 6                2.0              -2.0   \n",
       "\n",
       "      current_time  timedelta  \n",
       "0       2020-04-26       72.0  \n",
       "1       2020-04-26       72.0  \n",
       "2       2020-04-26       72.0  \n",
       "3       2020-04-26       72.0  \n",
       "4       2020-04-26       72.0  \n",
       "...            ...        ...  \n",
       "24376   2020-04-26        4.0  \n",
       "24377   2020-04-26        4.0  \n",
       "24378   2020-04-26        4.0  \n",
       "24379   2020-04-26        4.0  \n",
       "24380   2020-04-26        4.0  \n",
       "\n",
       "[24381 rows x 6 columns]"
      ]
     },
     "execution_count": 87,
     "metadata": {
      "tags": []
     },
     "output_type": "execute_result"
    }
   ],
   "source": [
    "df['timedelta'] = (df['current_time']-df['Date']).astype('timedelta64[Y]')\n",
    "df"
   ]
  },
  {
   "cell_type": "markdown",
   "metadata": {
    "id": "WLaYGCzeaMwc"
   },
   "source": [
    "### Удаление дупликатов"
   ]
  },
  {
   "cell_type": "code",
   "execution_count": null,
   "metadata": {
    "colab": {
     "base_uri": "https://localhost:8080/",
     "height": 175
    },
    "id": "0V3OLSY8aMwc",
    "outputId": "8c08ac63-ba84-47b2-9def-e89b7f62030e"
   },
   "outputs": [
    {
     "data": {
      "text/html": [
       "<div>\n",
       "<style scoped>\n",
       "    .dataframe tbody tr th:only-of-type {\n",
       "        vertical-align: middle;\n",
       "    }\n",
       "\n",
       "    .dataframe tbody tr th {\n",
       "        vertical-align: top;\n",
       "    }\n",
       "\n",
       "    .dataframe thead th {\n",
       "        text-align: right;\n",
       "    }\n",
       "</style>\n",
       "<table border=\"1\" class=\"dataframe\">\n",
       "  <thead>\n",
       "    <tr style=\"text-align: right;\">\n",
       "      <th></th>\n",
       "      <th>Name</th>\n",
       "      <th>Age</th>\n",
       "      <th>Sex</th>\n",
       "    </tr>\n",
       "  </thead>\n",
       "  <tbody>\n",
       "    <tr>\n",
       "      <th>0</th>\n",
       "      <td>James</td>\n",
       "      <td>24</td>\n",
       "      <td>Male</td>\n",
       "    </tr>\n",
       "    <tr>\n",
       "      <th>1</th>\n",
       "      <td>Alice</td>\n",
       "      <td>28</td>\n",
       "      <td>Female</td>\n",
       "    </tr>\n",
       "    <tr>\n",
       "      <th>2</th>\n",
       "      <td>Phil</td>\n",
       "      <td>40</td>\n",
       "      <td>Male</td>\n",
       "    </tr>\n",
       "    <tr>\n",
       "      <th>3</th>\n",
       "      <td>James</td>\n",
       "      <td>24</td>\n",
       "      <td>Male</td>\n",
       "    </tr>\n",
       "  </tbody>\n",
       "</table>\n",
       "</div>"
      ],
      "text/plain": [
       "    Name  Age     Sex\n",
       "0  James   24    Male\n",
       "1  Alice   28  Female\n",
       "2   Phil   40    Male\n",
       "3  James   24    Male"
      ]
     },
     "execution_count": 95,
     "metadata": {
      "tags": []
     },
     "output_type": "execute_result"
    }
   ],
   "source": [
    "data = {\"Name\": [\"James\", \"Alice\", \"Phil\", \"James\"],\n",
    "\"Age\": [24, 28, 40, 24],\n",
    "\"Sex\": [\"Male\", \"Female\", \"Male\", \"Male\"]}\n",
    "\n",
    "df = pd.DataFrame(data)\n",
    "df\n"
   ]
  },
  {
   "cell_type": "code",
   "execution_count": null,
   "metadata": {
    "colab": {
     "base_uri": "https://localhost:8080/",
     "height": 143
    },
    "id": "2ubGcqdkaMwj",
    "outputId": "3e034ba5-51e2-45ff-982f-212ef20c40a6"
   },
   "outputs": [
    {
     "data": {
      "text/html": [
       "<div>\n",
       "<style scoped>\n",
       "    .dataframe tbody tr th:only-of-type {\n",
       "        vertical-align: middle;\n",
       "    }\n",
       "\n",
       "    .dataframe tbody tr th {\n",
       "        vertical-align: top;\n",
       "    }\n",
       "\n",
       "    .dataframe thead th {\n",
       "        text-align: right;\n",
       "    }\n",
       "</style>\n",
       "<table border=\"1\" class=\"dataframe\">\n",
       "  <thead>\n",
       "    <tr style=\"text-align: right;\">\n",
       "      <th></th>\n",
       "      <th>Name</th>\n",
       "      <th>Age</th>\n",
       "      <th>Sex</th>\n",
       "    </tr>\n",
       "  </thead>\n",
       "  <tbody>\n",
       "    <tr>\n",
       "      <th>0</th>\n",
       "      <td>James</td>\n",
       "      <td>24</td>\n",
       "      <td>Male</td>\n",
       "    </tr>\n",
       "    <tr>\n",
       "      <th>1</th>\n",
       "      <td>Alice</td>\n",
       "      <td>28</td>\n",
       "      <td>Female</td>\n",
       "    </tr>\n",
       "    <tr>\n",
       "      <th>2</th>\n",
       "      <td>Phil</td>\n",
       "      <td>40</td>\n",
       "      <td>Male</td>\n",
       "    </tr>\n",
       "  </tbody>\n",
       "</table>\n",
       "</div>"
      ],
      "text/plain": [
       "    Name  Age     Sex\n",
       "0  James   24    Male\n",
       "1  Alice   28  Female\n",
       "2   Phil   40    Male"
      ]
     },
     "execution_count": 97,
     "metadata": {
      "tags": []
     },
     "output_type": "execute_result"
    }
   ],
   "source": [
    "df.drop_duplicates( )"
   ]
  },
  {
   "cell_type": "markdown",
   "metadata": {
    "id": "j41Iqy0raMwo"
   },
   "source": [
    "### Строковые методы очистки данных"
   ]
  },
  {
   "cell_type": "code",
   "execution_count": null,
   "metadata": {
    "colab": {
     "base_uri": "https://localhost:8080/",
     "height": 363
    },
    "id": "0mk3ENWUaMwp",
    "outputId": "12da87f1-ca3f-4da0-ee6e-7558f2982767"
   },
   "outputs": [
    {
     "data": {
      "text/html": [
       "<div>\n",
       "<style scoped>\n",
       "    .dataframe tbody tr th:only-of-type {\n",
       "        vertical-align: middle;\n",
       "    }\n",
       "\n",
       "    .dataframe tbody tr th {\n",
       "        vertical-align: top;\n",
       "    }\n",
       "\n",
       "    .dataframe thead th {\n",
       "        text-align: right;\n",
       "    }\n",
       "</style>\n",
       "<table border=\"1\" class=\"dataframe\">\n",
       "  <thead>\n",
       "    <tr style=\"text-align: right;\">\n",
       "      <th></th>\n",
       "      <th>id</th>\n",
       "      <th>Дата рождения</th>\n",
       "      <th>Вакансия</th>\n",
       "      <th>Технология</th>\n",
       "      <th>Локация</th>\n",
       "      <th>З/п в валюте найма</th>\n",
       "    </tr>\n",
       "  </thead>\n",
       "  <tbody>\n",
       "    <tr>\n",
       "      <th>0</th>\n",
       "      <td>1</td>\n",
       "      <td>18.04.1994</td>\n",
       "      <td>Инженер-программист 2 категории</td>\n",
       "      <td>JS</td>\n",
       "      <td>Санкт-Петербург</td>\n",
       "      <td>140 000,00 ₽</td>\n",
       "    </tr>\n",
       "    <tr>\n",
       "      <th>1</th>\n",
       "      <td>2</td>\n",
       "      <td>27.03.1993</td>\n",
       "      <td>Разработчик информационных систем</td>\n",
       "      <td>.NET</td>\n",
       "      <td>Москва</td>\n",
       "      <td>130 000,00 ₽</td>\n",
       "    </tr>\n",
       "    <tr>\n",
       "      <th>2</th>\n",
       "      <td>3</td>\n",
       "      <td>24.11.1983</td>\n",
       "      <td>Java Developer</td>\n",
       "      <td>Java</td>\n",
       "      <td>Санкт-Петербург</td>\n",
       "      <td>200 000,00 ₽</td>\n",
       "    </tr>\n",
       "    <tr>\n",
       "      <th>3</th>\n",
       "      <td>4</td>\n",
       "      <td>09.06.1989</td>\n",
       "      <td>Архитектор ПО</td>\n",
       "      <td>Java</td>\n",
       "      <td>Москва</td>\n",
       "      <td>250 000,00 ₽</td>\n",
       "    </tr>\n",
       "    <tr>\n",
       "      <th>4</th>\n",
       "      <td>5</td>\n",
       "      <td>03.10.1978</td>\n",
       "      <td>QA Automation Engineer</td>\n",
       "      <td>QA</td>\n",
       "      <td>Санкт-Петербург</td>\n",
       "      <td>172 413,00 ₽</td>\n",
       "    </tr>\n",
       "    <tr>\n",
       "      <th>5</th>\n",
       "      <td>6</td>\n",
       "      <td>21.08.1973</td>\n",
       "      <td>Big Data Developer</td>\n",
       "      <td>Big Data</td>\n",
       "      <td>Санкт-Петербург</td>\n",
       "      <td>280 000,00 ₽</td>\n",
       "    </tr>\n",
       "    <tr>\n",
       "      <th>6</th>\n",
       "      <td>7</td>\n",
       "      <td>10.10.1991</td>\n",
       "      <td>JS Developer</td>\n",
       "      <td>JS</td>\n",
       "      <td>Москва</td>\n",
       "      <td>129 000,00 ₽</td>\n",
       "    </tr>\n",
       "    <tr>\n",
       "      <th>7</th>\n",
       "      <td>8</td>\n",
       "      <td>16.08.1982</td>\n",
       "      <td>Разработчик мобильных приложений</td>\n",
       "      <td>Android</td>\n",
       "      <td>Москва</td>\n",
       "      <td>185 000,00 ₽</td>\n",
       "    </tr>\n",
       "    <tr>\n",
       "      <th>8</th>\n",
       "      <td>9</td>\n",
       "      <td>16.05.1988</td>\n",
       "      <td>Инженер-программист 2 категории</td>\n",
       "      <td>.NET</td>\n",
       "      <td>Санкт-Петербург</td>\n",
       "      <td>160 000,00 ₽</td>\n",
       "    </tr>\n",
       "    <tr>\n",
       "      <th>9</th>\n",
       "      <td>10</td>\n",
       "      <td>01.12.1990</td>\n",
       "      <td>Java Engineer</td>\n",
       "      <td>Java</td>\n",
       "      <td>Краков; Польша</td>\n",
       "      <td>9 500,00 zł</td>\n",
       "    </tr>\n",
       "  </tbody>\n",
       "</table>\n",
       "</div>"
      ],
      "text/plain": [
       "   id Дата рождения  ...          Локация З/п в валюте найма\n",
       "0   1    18.04.1994  ...  Санкт-Петербург       140 000,00 ₽\n",
       "1   2    27.03.1993  ...           Москва       130 000,00 ₽\n",
       "2   3    24.11.1983  ...  Санкт-Петербург       200 000,00 ₽\n",
       "3   4    09.06.1989  ...           Москва       250 000,00 ₽\n",
       "4   5    03.10.1978  ...  Санкт-Петербург       172 413,00 ₽\n",
       "5   6    21.08.1973  ...  Санкт-Петербург       280 000,00 ₽\n",
       "6   7    10.10.1991  ...           Москва       129 000,00 ₽\n",
       "7   8    16.08.1982  ...           Москва       185 000,00 ₽\n",
       "8   9    16.05.1988  ...  Санкт-Петербург       160 000,00 ₽\n",
       "9  10    01.12.1990  ...   Краков; Польша        9 500,00 zł\n",
       "\n",
       "[10 rows x 6 columns]"
      ]
     },
     "execution_count": 105,
     "metadata": {
      "tags": []
     },
     "output_type": "execute_result"
    }
   ],
   "source": [
    "df = pd.read_csv('https://raw.githubusercontent.com/alnagaev/reni_land/master/test.csv')\n",
    "df.head(10)"
   ]
  },
  {
   "cell_type": "code",
   "execution_count": null,
   "metadata": {
    "colab": {
     "base_uri": "https://localhost:8080/",
     "height": 175
    },
    "id": "i9iPtEzkbn-S",
    "outputId": "0ab8599a-912f-43a4-8a47-e6dbfbda0d26"
   },
   "outputs": [
    {
     "data": {
      "text/html": [
       "<div>\n",
       "<style scoped>\n",
       "    .dataframe tbody tr th:only-of-type {\n",
       "        vertical-align: middle;\n",
       "    }\n",
       "\n",
       "    .dataframe tbody tr th {\n",
       "        vertical-align: top;\n",
       "    }\n",
       "\n",
       "    .dataframe thead th {\n",
       "        text-align: right;\n",
       "    }\n",
       "</style>\n",
       "<table border=\"1\" class=\"dataframe\">\n",
       "  <thead>\n",
       "    <tr style=\"text-align: right;\">\n",
       "      <th></th>\n",
       "      <th>id</th>\n",
       "      <th>Дата рождения</th>\n",
       "      <th>Вакансия</th>\n",
       "      <th>Технология</th>\n",
       "      <th>Локация</th>\n",
       "      <th>З/п в валюте найма</th>\n",
       "    </tr>\n",
       "  </thead>\n",
       "  <tbody>\n",
       "    <tr>\n",
       "      <th>0</th>\n",
       "      <td>1</td>\n",
       "      <td>18.04.1994</td>\n",
       "      <td>Инженер-программист 2 категории</td>\n",
       "      <td>JS</td>\n",
       "      <td>Санкт-Петербург</td>\n",
       "      <td>140 000,00 ₽</td>\n",
       "    </tr>\n",
       "    <tr>\n",
       "      <th>8</th>\n",
       "      <td>9</td>\n",
       "      <td>16.05.1988</td>\n",
       "      <td>Инженер-программист 2 категории</td>\n",
       "      <td>.NET</td>\n",
       "      <td>Санкт-Петербург</td>\n",
       "      <td>160 000,00 ₽</td>\n",
       "    </tr>\n",
       "    <tr>\n",
       "      <th>10</th>\n",
       "      <td>11</td>\n",
       "      <td>04.02.1991</td>\n",
       "      <td>Инженер-программист</td>\n",
       "      <td>JavaScript</td>\n",
       "      <td>Москва</td>\n",
       "      <td>170 000,00 ₽</td>\n",
       "    </tr>\n",
       "    <tr>\n",
       "      <th>23</th>\n",
       "      <td>24</td>\n",
       "      <td>29.10.1987</td>\n",
       "      <td>Инженер-программист</td>\n",
       "      <td>JavaScript</td>\n",
       "      <td>Санкт-Петербург</td>\n",
       "      <td>190 000,00 ₽</td>\n",
       "    </tr>\n",
       "  </tbody>\n",
       "</table>\n",
       "</div>"
      ],
      "text/plain": [
       "    id Дата рождения  ...          Локация З/п в валюте найма\n",
       "0    1    18.04.1994  ...  Санкт-Петербург       140 000,00 ₽\n",
       "8    9    16.05.1988  ...  Санкт-Петербург       160 000,00 ₽\n",
       "10  11    04.02.1991  ...           Москва       170 000,00 ₽\n",
       "23  24    29.10.1987  ...  Санкт-Петербург       190 000,00 ₽\n",
       "\n",
       "[4 rows x 6 columns]"
      ]
     },
     "execution_count": 116,
     "metadata": {
      "tags": []
     },
     "output_type": "execute_result"
    }
   ],
   "source": [
    "df[df['Вакансия'].str.lower().str.contains('инженер')]"
   ]
  },
  {
   "cell_type": "code",
   "execution_count": null,
   "metadata": {
    "id": "q8ij3YqYaMws",
    "outputId": "e5ce5c27-3db4-48c7-963c-88b264c6badd"
   },
   "outputs": [
    {
     "name": "stdout",
     "output_type": "stream",
     "text": [
      "<class 'pandas.core.frame.DataFrame'>\n",
      "RangeIndex: 58 entries, 0 to 57\n",
      "Data columns (total 6 columns):\n",
      " #   Column              Non-Null Count  Dtype \n",
      "---  ------              --------------  ----- \n",
      " 0   id                  58 non-null     int64 \n",
      " 1   Дата рождения       58 non-null     object\n",
      " 2   Вакансия            58 non-null     object\n",
      " 3   Технология          58 non-null     object\n",
      " 4   Локация             58 non-null     object\n",
      " 5   З/п в валюте найма  58 non-null     object\n",
      "dtypes: int64(1), object(5)\n",
      "memory usage: 2.8+ KB\n"
     ]
    }
   ],
   "source": [
    "df.info()"
   ]
  },
  {
   "cell_type": "markdown",
   "metadata": {
    "id": "NYm3S6URaMww"
   },
   "source": [
    "Создание новых признаков"
   ]
  },
  {
   "cell_type": "code",
   "execution_count": null,
   "metadata": {
    "id": "2KtLn7MkaMwx",
    "outputId": "0e37177c-1aca-4d71-81b7-d89ad66b4c40"
   },
   "outputs": [
    {
     "data": {
      "text/html": [
       "<div>\n",
       "<style scoped>\n",
       "    .dataframe tbody tr th:only-of-type {\n",
       "        vertical-align: middle;\n",
       "    }\n",
       "\n",
       "    .dataframe tbody tr th {\n",
       "        vertical-align: top;\n",
       "    }\n",
       "\n",
       "    .dataframe thead th {\n",
       "        text-align: right;\n",
       "    }\n",
       "</style>\n",
       "<table border=\"1\" class=\"dataframe\">\n",
       "  <thead>\n",
       "    <tr style=\"text-align: right;\">\n",
       "      <th></th>\n",
       "      <th>id</th>\n",
       "      <th>Дата рождения</th>\n",
       "      <th>Вакансия</th>\n",
       "      <th>Технология</th>\n",
       "      <th>Локация</th>\n",
       "      <th>З/п в валюте найма</th>\n",
       "      <th>salary</th>\n",
       "      <th>currency</th>\n",
       "    </tr>\n",
       "  </thead>\n",
       "  <tbody>\n",
       "    <tr>\n",
       "      <th>0</th>\n",
       "      <td>1</td>\n",
       "      <td>18.04.1994</td>\n",
       "      <td>Инженер-программист 2 категории</td>\n",
       "      <td>JS</td>\n",
       "      <td>Санкт-Петербург</td>\n",
       "      <td>140 000,00 ₽</td>\n",
       "      <td>140000.0</td>\n",
       "      <td>₽</td>\n",
       "    </tr>\n",
       "    <tr>\n",
       "      <th>1</th>\n",
       "      <td>2</td>\n",
       "      <td>27.03.1993</td>\n",
       "      <td>Разработчик информационных систем</td>\n",
       "      <td>.NET</td>\n",
       "      <td>Москва</td>\n",
       "      <td>130 000,00 ₽</td>\n",
       "      <td>130000.0</td>\n",
       "      <td>₽</td>\n",
       "    </tr>\n",
       "    <tr>\n",
       "      <th>2</th>\n",
       "      <td>3</td>\n",
       "      <td>24.11.1983</td>\n",
       "      <td>Java Developer</td>\n",
       "      <td>Java</td>\n",
       "      <td>Санкт-Петербург</td>\n",
       "      <td>200 000,00 ₽</td>\n",
       "      <td>200000.0</td>\n",
       "      <td>₽</td>\n",
       "    </tr>\n",
       "    <tr>\n",
       "      <th>3</th>\n",
       "      <td>4</td>\n",
       "      <td>09.06.1989</td>\n",
       "      <td>Архитектор ПО</td>\n",
       "      <td>Java</td>\n",
       "      <td>Москва</td>\n",
       "      <td>250 000,00 ₽</td>\n",
       "      <td>250000.0</td>\n",
       "      <td>₽</td>\n",
       "    </tr>\n",
       "    <tr>\n",
       "      <th>4</th>\n",
       "      <td>5</td>\n",
       "      <td>03.10.1978</td>\n",
       "      <td>QA Automation Engineer</td>\n",
       "      <td>QA</td>\n",
       "      <td>Санкт-Петербург</td>\n",
       "      <td>172 413,00 ₽</td>\n",
       "      <td>172413.0</td>\n",
       "      <td>₽</td>\n",
       "    </tr>\n",
       "    <tr>\n",
       "      <th>5</th>\n",
       "      <td>6</td>\n",
       "      <td>21.08.1973</td>\n",
       "      <td>Big Data Developer</td>\n",
       "      <td>Big Data</td>\n",
       "      <td>Санкт-Петербург</td>\n",
       "      <td>280 000,00 ₽</td>\n",
       "      <td>280000.0</td>\n",
       "      <td>₽</td>\n",
       "    </tr>\n",
       "    <tr>\n",
       "      <th>6</th>\n",
       "      <td>7</td>\n",
       "      <td>10.10.1991</td>\n",
       "      <td>JS Developer</td>\n",
       "      <td>JS</td>\n",
       "      <td>Москва</td>\n",
       "      <td>129 000,00 ₽</td>\n",
       "      <td>129000.0</td>\n",
       "      <td>₽</td>\n",
       "    </tr>\n",
       "    <tr>\n",
       "      <th>7</th>\n",
       "      <td>8</td>\n",
       "      <td>16.08.1982</td>\n",
       "      <td>Разработчик мобильных приложений</td>\n",
       "      <td>Android</td>\n",
       "      <td>Москва</td>\n",
       "      <td>185 000,00 ₽</td>\n",
       "      <td>185000.0</td>\n",
       "      <td>₽</td>\n",
       "    </tr>\n",
       "    <tr>\n",
       "      <th>8</th>\n",
       "      <td>9</td>\n",
       "      <td>16.05.1988</td>\n",
       "      <td>Инженер-программист 2 категории</td>\n",
       "      <td>.NET</td>\n",
       "      <td>Санкт-Петербург</td>\n",
       "      <td>160 000,00 ₽</td>\n",
       "      <td>160000.0</td>\n",
       "      <td>₽</td>\n",
       "    </tr>\n",
       "    <tr>\n",
       "      <th>9</th>\n",
       "      <td>10</td>\n",
       "      <td>01.12.1990</td>\n",
       "      <td>Java Engineer</td>\n",
       "      <td>Java</td>\n",
       "      <td>Краков; Польша</td>\n",
       "      <td>9 500,00 zł</td>\n",
       "      <td>9500.0</td>\n",
       "      <td>zł</td>\n",
       "    </tr>\n",
       "  </tbody>\n",
       "</table>\n",
       "</div>"
      ],
      "text/plain": [
       "   id Дата рождения                           Вакансия Технология  \\\n",
       "0   1    18.04.1994    Инженер-программист 2 категории         JS   \n",
       "1   2    27.03.1993  Разработчик информационных систем       .NET   \n",
       "2   3    24.11.1983                     Java Developer       Java   \n",
       "3   4    09.06.1989                      Архитектор ПО       Java   \n",
       "4   5    03.10.1978             QA Automation Engineer         QA   \n",
       "5   6    21.08.1973                 Big Data Developer   Big Data   \n",
       "6   7    10.10.1991                       JS Developer         JS   \n",
       "7   8    16.08.1982   Разработчик мобильных приложений    Android   \n",
       "8   9    16.05.1988    Инженер-программист 2 категории       .NET   \n",
       "9  10    01.12.1990                      Java Engineer       Java   \n",
       "\n",
       "           Локация З/п в валюте найма    salary currency  \n",
       "0  Санкт-Петербург       140 000,00 ₽  140000.0        ₽  \n",
       "1           Москва       130 000,00 ₽  130000.0        ₽  \n",
       "2  Санкт-Петербург       200 000,00 ₽  200000.0        ₽  \n",
       "3           Москва       250 000,00 ₽  250000.0        ₽  \n",
       "4  Санкт-Петербург       172 413,00 ₽  172413.0        ₽  \n",
       "5  Санкт-Петербург       280 000,00 ₽  280000.0        ₽  \n",
       "6           Москва       129 000,00 ₽  129000.0        ₽  \n",
       "7           Москва       185 000,00 ₽  185000.0        ₽  \n",
       "8  Санкт-Петербург       160 000,00 ₽  160000.0        ₽  \n",
       "9   Краков; Польша        9 500,00 zł    9500.0       zł  "
      ]
     },
     "execution_count": 33,
     "metadata": {
      "tags": []
     },
     "output_type": "execute_result"
    }
   ],
   "source": [
    "df['salary'] = df['З/п в валюте найма'].apply(lambda x: int(''.join([s for s in list(x) if s.isdigit()]))/100)\n",
    "df['currency'] = df['З/п в валюте найма'].apply(lambda x: ''.join([s for s in list(x) if not s.isdigit()]).replace(',', ''))\n",
    "df.head(10)"
   ]
  },
  {
   "cell_type": "markdown",
   "metadata": {
    "id": "zAGh3eRcaMw2"
   },
   "source": [
    "**Приведем список технологий к единообразию на примере JS**"
   ]
  },
  {
   "cell_type": "code",
   "execution_count": null,
   "metadata": {
    "id": "aceHOWF3aMw4"
   },
   "outputs": [],
   "source": [
    "df['Технология'] = df['Технология'].replace('JavaScript', 'JS')"
   ]
  },
  {
   "cell_type": "code",
   "execution_count": null,
   "metadata": {
    "id": "Fgyc6-t0aMw9",
    "outputId": "9e253ab5-b26d-423a-c600-a889190b4bda"
   },
   "outputs": [
    {
     "data": {
      "text/html": [
       "<div>\n",
       "<style scoped>\n",
       "    .dataframe tbody tr th:only-of-type {\n",
       "        vertical-align: middle;\n",
       "    }\n",
       "\n",
       "    .dataframe tbody tr th {\n",
       "        vertical-align: top;\n",
       "    }\n",
       "\n",
       "    .dataframe thead th {\n",
       "        text-align: right;\n",
       "    }\n",
       "</style>\n",
       "<table border=\"1\" class=\"dataframe\">\n",
       "  <thead>\n",
       "    <tr style=\"text-align: right;\">\n",
       "      <th></th>\n",
       "      <th>id</th>\n",
       "      <th>Дата рождения</th>\n",
       "      <th>Вакансия</th>\n",
       "      <th>Технология</th>\n",
       "      <th>Локация</th>\n",
       "      <th>З/п в валюте найма</th>\n",
       "      <th>salary</th>\n",
       "      <th>currency</th>\n",
       "    </tr>\n",
       "  </thead>\n",
       "  <tbody>\n",
       "    <tr>\n",
       "      <th>0</th>\n",
       "      <td>1</td>\n",
       "      <td>18.04.1994</td>\n",
       "      <td>Инженер-программист 2 категории</td>\n",
       "      <td>JS</td>\n",
       "      <td>Санкт-Петербург</td>\n",
       "      <td>140 000,00 ₽</td>\n",
       "      <td>140000.00</td>\n",
       "      <td>₽</td>\n",
       "    </tr>\n",
       "    <tr>\n",
       "      <th>2</th>\n",
       "      <td>3</td>\n",
       "      <td>24.11.1983</td>\n",
       "      <td>Java Developer</td>\n",
       "      <td>Java</td>\n",
       "      <td>Санкт-Петербург</td>\n",
       "      <td>200 000,00 ₽</td>\n",
       "      <td>200000.00</td>\n",
       "      <td>₽</td>\n",
       "    </tr>\n",
       "    <tr>\n",
       "      <th>3</th>\n",
       "      <td>4</td>\n",
       "      <td>09.06.1989</td>\n",
       "      <td>Архитектор ПО</td>\n",
       "      <td>Java</td>\n",
       "      <td>Москва</td>\n",
       "      <td>250 000,00 ₽</td>\n",
       "      <td>250000.00</td>\n",
       "      <td>₽</td>\n",
       "    </tr>\n",
       "    <tr>\n",
       "      <th>6</th>\n",
       "      <td>7</td>\n",
       "      <td>10.10.1991</td>\n",
       "      <td>JS Developer</td>\n",
       "      <td>JS</td>\n",
       "      <td>Москва</td>\n",
       "      <td>129 000,00 ₽</td>\n",
       "      <td>129000.00</td>\n",
       "      <td>₽</td>\n",
       "    </tr>\n",
       "    <tr>\n",
       "      <th>9</th>\n",
       "      <td>10</td>\n",
       "      <td>01.12.1990</td>\n",
       "      <td>Java Engineer</td>\n",
       "      <td>Java</td>\n",
       "      <td>Краков; Польша</td>\n",
       "      <td>9 500,00 zł</td>\n",
       "      <td>9500.00</td>\n",
       "      <td>zł</td>\n",
       "    </tr>\n",
       "    <tr>\n",
       "      <th>10</th>\n",
       "      <td>11</td>\n",
       "      <td>04.02.1991</td>\n",
       "      <td>Инженер-программист</td>\n",
       "      <td>JS</td>\n",
       "      <td>Москва</td>\n",
       "      <td>170 000,00 ₽</td>\n",
       "      <td>170000.00</td>\n",
       "      <td>₽</td>\n",
       "    </tr>\n",
       "    <tr>\n",
       "      <th>12</th>\n",
       "      <td>13</td>\n",
       "      <td>04.11.1988</td>\n",
       "      <td>JavaScript Engineer</td>\n",
       "      <td>JS</td>\n",
       "      <td>Краков; Польша</td>\n",
       "      <td>10 500,00 zł</td>\n",
       "      <td>10500.00</td>\n",
       "      <td>zł</td>\n",
       "    </tr>\n",
       "    <tr>\n",
       "      <th>13</th>\n",
       "      <td>14</td>\n",
       "      <td>09.04.1990</td>\n",
       "      <td>Software Engineer</td>\n",
       "      <td>JS</td>\n",
       "      <td>Вроцлав; Польша</td>\n",
       "      <td>9 500,00 zł</td>\n",
       "      <td>9500.00</td>\n",
       "      <td>zł</td>\n",
       "    </tr>\n",
       "    <tr>\n",
       "      <th>15</th>\n",
       "      <td>16</td>\n",
       "      <td>30.08.1982</td>\n",
       "      <td>Java Developer</td>\n",
       "      <td>Java</td>\n",
       "      <td>Москва</td>\n",
       "      <td>180 000,00 ₽</td>\n",
       "      <td>180000.00</td>\n",
       "      <td>₽</td>\n",
       "    </tr>\n",
       "    <tr>\n",
       "      <th>17</th>\n",
       "      <td>18</td>\n",
       "      <td>28.08.1995</td>\n",
       "      <td>JS Developer</td>\n",
       "      <td>JS</td>\n",
       "      <td>Москва</td>\n",
       "      <td>160 000,00 ₽</td>\n",
       "      <td>160000.00</td>\n",
       "      <td>₽</td>\n",
       "    </tr>\n",
       "    <tr>\n",
       "      <th>20</th>\n",
       "      <td>21</td>\n",
       "      <td>06.07.1990</td>\n",
       "      <td>Разработчик интерфейсов</td>\n",
       "      <td>JS</td>\n",
       "      <td>Санкт-Петербург</td>\n",
       "      <td>113 000,00 ₽</td>\n",
       "      <td>113000.00</td>\n",
       "      <td>₽</td>\n",
       "    </tr>\n",
       "    <tr>\n",
       "      <th>23</th>\n",
       "      <td>24</td>\n",
       "      <td>29.10.1987</td>\n",
       "      <td>Инженер-программист</td>\n",
       "      <td>JS</td>\n",
       "      <td>Санкт-Петербург</td>\n",
       "      <td>190 000,00 ₽</td>\n",
       "      <td>190000.00</td>\n",
       "      <td>₽</td>\n",
       "    </tr>\n",
       "    <tr>\n",
       "      <th>26</th>\n",
       "      <td>27</td>\n",
       "      <td>01.11.1991</td>\n",
       "      <td>Фронтенд разработчик</td>\n",
       "      <td>JS</td>\n",
       "      <td>Санкт-Петербург</td>\n",
       "      <td>300 000,00 ₽</td>\n",
       "      <td>300000.00</td>\n",
       "      <td>₽</td>\n",
       "    </tr>\n",
       "    <tr>\n",
       "      <th>27</th>\n",
       "      <td>28</td>\n",
       "      <td>09.10.1990</td>\n",
       "      <td>Java Developer</td>\n",
       "      <td>Java</td>\n",
       "      <td>Москва</td>\n",
       "      <td>170 000,00 ₽</td>\n",
       "      <td>170000.00</td>\n",
       "      <td>₽</td>\n",
       "    </tr>\n",
       "    <tr>\n",
       "      <th>30</th>\n",
       "      <td>31</td>\n",
       "      <td>09.02.1992</td>\n",
       "      <td>Senior Java developer</td>\n",
       "      <td>Java</td>\n",
       "      <td>Санкт-Петербург</td>\n",
       "      <td>264 367,82 ₽</td>\n",
       "      <td>264367.82</td>\n",
       "      <td>₽</td>\n",
       "    </tr>\n",
       "    <tr>\n",
       "      <th>32</th>\n",
       "      <td>33</td>\n",
       "      <td>26.09.1981</td>\n",
       "      <td>Java Developer</td>\n",
       "      <td>Java</td>\n",
       "      <td>Москва</td>\n",
       "      <td>210 000,00 ₽</td>\n",
       "      <td>210000.00</td>\n",
       "      <td>₽</td>\n",
       "    </tr>\n",
       "    <tr>\n",
       "      <th>37</th>\n",
       "      <td>38</td>\n",
       "      <td>03.04.1990</td>\n",
       "      <td>JavaScript Engineer</td>\n",
       "      <td>JS</td>\n",
       "      <td>Краков; Польша</td>\n",
       "      <td>13 000,00 zł</td>\n",
       "      <td>13000.00</td>\n",
       "      <td>zł</td>\n",
       "    </tr>\n",
       "    <tr>\n",
       "      <th>38</th>\n",
       "      <td>39</td>\n",
       "      <td>10.06.1988</td>\n",
       "      <td>Senior Software Engineer</td>\n",
       "      <td>Java</td>\n",
       "      <td>София; Болгария</td>\n",
       "      <td>lev6 446,00</td>\n",
       "      <td>6446.00</td>\n",
       "      <td>lev</td>\n",
       "    </tr>\n",
       "    <tr>\n",
       "      <th>45</th>\n",
       "      <td>46</td>\n",
       "      <td>25.10.1985</td>\n",
       "      <td>Senior Java developer</td>\n",
       "      <td>Java</td>\n",
       "      <td>Санкт-Петербург</td>\n",
       "      <td>252 900,00 ₽</td>\n",
       "      <td>252900.00</td>\n",
       "      <td>₽</td>\n",
       "    </tr>\n",
       "    <tr>\n",
       "      <th>47</th>\n",
       "      <td>48</td>\n",
       "      <td>06.03.1989</td>\n",
       "      <td>JS Dev</td>\n",
       "      <td>JS</td>\n",
       "      <td>Санкт-Петербург</td>\n",
       "      <td>200 000,00 ₽</td>\n",
       "      <td>200000.00</td>\n",
       "      <td>₽</td>\n",
       "    </tr>\n",
       "    <tr>\n",
       "      <th>49</th>\n",
       "      <td>50</td>\n",
       "      <td>09.02.1985</td>\n",
       "      <td>Java Developer</td>\n",
       "      <td>Java</td>\n",
       "      <td>Москва</td>\n",
       "      <td>300 000,00 ₽</td>\n",
       "      <td>300000.00</td>\n",
       "      <td>₽</td>\n",
       "    </tr>\n",
       "    <tr>\n",
       "      <th>51</th>\n",
       "      <td>52</td>\n",
       "      <td>26.12.1987</td>\n",
       "      <td>Senior Java Developer</td>\n",
       "      <td>Java</td>\n",
       "      <td>Санкт-Петербург</td>\n",
       "      <td>210 000,00 ₽</td>\n",
       "      <td>210000.00</td>\n",
       "      <td>₽</td>\n",
       "    </tr>\n",
       "    <tr>\n",
       "      <th>56</th>\n",
       "      <td>57</td>\n",
       "      <td>12.09.1986</td>\n",
       "      <td>Java Dev</td>\n",
       "      <td>Java</td>\n",
       "      <td>Атлон; Ирландия</td>\n",
       "      <td>€ 4 000,00</td>\n",
       "      <td>4000.00</td>\n",
       "      <td>€</td>\n",
       "    </tr>\n",
       "    <tr>\n",
       "      <th>57</th>\n",
       "      <td>58</td>\n",
       "      <td>15.04.1989</td>\n",
       "      <td>JS Dev</td>\n",
       "      <td>JS</td>\n",
       "      <td>Атлон; Ирландия</td>\n",
       "      <td>€ 2 980,00</td>\n",
       "      <td>2980.00</td>\n",
       "      <td>€</td>\n",
       "    </tr>\n",
       "  </tbody>\n",
       "</table>\n",
       "</div>"
      ],
      "text/plain": [
       "    id Дата рождения                         Вакансия Технология  \\\n",
       "0    1    18.04.1994  Инженер-программист 2 категории         JS   \n",
       "2    3    24.11.1983                   Java Developer       Java   \n",
       "3    4    09.06.1989                    Архитектор ПО       Java   \n",
       "6    7    10.10.1991                     JS Developer         JS   \n",
       "9   10    01.12.1990                    Java Engineer       Java   \n",
       "10  11    04.02.1991              Инженер-программист         JS   \n",
       "12  13    04.11.1988              JavaScript Engineer         JS   \n",
       "13  14    09.04.1990                Software Engineer         JS   \n",
       "15  16    30.08.1982                   Java Developer       Java   \n",
       "17  18    28.08.1995                     JS Developer         JS   \n",
       "20  21    06.07.1990          Разработчик интерфейсов         JS   \n",
       "23  24    29.10.1987              Инженер-программист         JS   \n",
       "26  27    01.11.1991             Фронтенд разработчик         JS   \n",
       "27  28    09.10.1990                   Java Developer       Java   \n",
       "30  31    09.02.1992            Senior Java developer       Java   \n",
       "32  33    26.09.1981                   Java Developer       Java   \n",
       "37  38    03.04.1990              JavaScript Engineer         JS   \n",
       "38  39    10.06.1988         Senior Software Engineer       Java   \n",
       "45  46    25.10.1985            Senior Java developer       Java   \n",
       "47  48    06.03.1989                           JS Dev         JS   \n",
       "49  50    09.02.1985                   Java Developer       Java   \n",
       "51  52    26.12.1987            Senior Java Developer       Java   \n",
       "56  57    12.09.1986                         Java Dev       Java   \n",
       "57  58    15.04.1989                           JS Dev         JS   \n",
       "\n",
       "            Локация З/п в валюте найма     salary currency  \n",
       "0   Санкт-Петербург       140 000,00 ₽  140000.00        ₽  \n",
       "2   Санкт-Петербург       200 000,00 ₽  200000.00        ₽  \n",
       "3            Москва       250 000,00 ₽  250000.00        ₽  \n",
       "6            Москва       129 000,00 ₽  129000.00        ₽  \n",
       "9    Краков; Польша        9 500,00 zł    9500.00       zł  \n",
       "10           Москва       170 000,00 ₽  170000.00        ₽  \n",
       "12   Краков; Польша       10 500,00 zł   10500.00       zł  \n",
       "13  Вроцлав; Польша        9 500,00 zł    9500.00       zł  \n",
       "15           Москва       180 000,00 ₽  180000.00        ₽  \n",
       "17           Москва       160 000,00 ₽  160000.00        ₽  \n",
       "20  Санкт-Петербург       113 000,00 ₽  113000.00        ₽  \n",
       "23  Санкт-Петербург       190 000,00 ₽  190000.00        ₽  \n",
       "26  Санкт-Петербург       300 000,00 ₽  300000.00        ₽  \n",
       "27           Москва       170 000,00 ₽  170000.00        ₽  \n",
       "30  Санкт-Петербург       264 367,82 ₽  264367.82        ₽  \n",
       "32           Москва       210 000,00 ₽  210000.00        ₽  \n",
       "37   Краков; Польша       13 000,00 zł   13000.00       zł  \n",
       "38  София; Болгария        lev6 446,00    6446.00     lev   \n",
       "45  Санкт-Петербург       252 900,00 ₽  252900.00        ₽  \n",
       "47  Санкт-Петербург       200 000,00 ₽  200000.00        ₽  \n",
       "49           Москва       300 000,00 ₽  300000.00        ₽  \n",
       "51  Санкт-Петербург       210 000,00 ₽  210000.00        ₽  \n",
       "56  Атлон; Ирландия         € 4 000,00    4000.00      €    \n",
       "57  Атлон; Ирландия         € 2 980,00    2980.00      €    "
      ]
     },
     "execution_count": 35,
     "metadata": {
      "tags": []
     },
     "output_type": "execute_result"
    }
   ],
   "source": [
    "df[df[\"Технология\"].isin([\"JS\", 'Java'])]"
   ]
  },
  {
   "cell_type": "code",
   "execution_count": null,
   "metadata": {
    "id": "9UlmI1RkaMxC",
    "outputId": "e4c31774-89a2-424f-8b27-acb7e5c32521"
   },
   "outputs": [
    {
     "data": {
      "text/html": [
       "<div>\n",
       "<style scoped>\n",
       "    .dataframe tbody tr th:only-of-type {\n",
       "        vertical-align: middle;\n",
       "    }\n",
       "\n",
       "    .dataframe tbody tr th {\n",
       "        vertical-align: top;\n",
       "    }\n",
       "\n",
       "    .dataframe thead th {\n",
       "        text-align: right;\n",
       "    }\n",
       "</style>\n",
       "<table border=\"1\" class=\"dataframe\">\n",
       "  <thead>\n",
       "    <tr style=\"text-align: right;\">\n",
       "      <th></th>\n",
       "      <th>id</th>\n",
       "      <th>Дата рождения</th>\n",
       "      <th>Вакансия</th>\n",
       "      <th>Технология</th>\n",
       "      <th>Локация</th>\n",
       "      <th>З/п в валюте найма</th>\n",
       "      <th>salary</th>\n",
       "      <th>currency</th>\n",
       "    </tr>\n",
       "  </thead>\n",
       "  <tbody>\n",
       "    <tr>\n",
       "      <th>0</th>\n",
       "      <td>1</td>\n",
       "      <td>18.04.1994</td>\n",
       "      <td>Инженер-программист 2 категории</td>\n",
       "      <td>JS</td>\n",
       "      <td>Санкт-Петербург</td>\n",
       "      <td>140 000,00 ₽</td>\n",
       "      <td>140000.00</td>\n",
       "      <td>₽</td>\n",
       "    </tr>\n",
       "    <tr>\n",
       "      <th>2</th>\n",
       "      <td>3</td>\n",
       "      <td>24.11.1983</td>\n",
       "      <td>Java Developer</td>\n",
       "      <td>Java</td>\n",
       "      <td>Санкт-Петербург</td>\n",
       "      <td>200 000,00 ₽</td>\n",
       "      <td>200000.00</td>\n",
       "      <td>₽</td>\n",
       "    </tr>\n",
       "    <tr>\n",
       "      <th>3</th>\n",
       "      <td>4</td>\n",
       "      <td>09.06.1989</td>\n",
       "      <td>Архитектор ПО</td>\n",
       "      <td>Java</td>\n",
       "      <td>Москва</td>\n",
       "      <td>250 000,00 ₽</td>\n",
       "      <td>250000.00</td>\n",
       "      <td>₽</td>\n",
       "    </tr>\n",
       "    <tr>\n",
       "      <th>6</th>\n",
       "      <td>7</td>\n",
       "      <td>10.10.1991</td>\n",
       "      <td>JS Developer</td>\n",
       "      <td>JS</td>\n",
       "      <td>Москва</td>\n",
       "      <td>129 000,00 ₽</td>\n",
       "      <td>129000.00</td>\n",
       "      <td>₽</td>\n",
       "    </tr>\n",
       "    <tr>\n",
       "      <th>9</th>\n",
       "      <td>10</td>\n",
       "      <td>01.12.1990</td>\n",
       "      <td>Java Engineer</td>\n",
       "      <td>Java</td>\n",
       "      <td>Краков; Польша</td>\n",
       "      <td>9 500,00 zł</td>\n",
       "      <td>9500.00</td>\n",
       "      <td>zł</td>\n",
       "    </tr>\n",
       "    <tr>\n",
       "      <th>10</th>\n",
       "      <td>11</td>\n",
       "      <td>04.02.1991</td>\n",
       "      <td>Инженер-программист</td>\n",
       "      <td>JS</td>\n",
       "      <td>Москва</td>\n",
       "      <td>170 000,00 ₽</td>\n",
       "      <td>170000.00</td>\n",
       "      <td>₽</td>\n",
       "    </tr>\n",
       "    <tr>\n",
       "      <th>12</th>\n",
       "      <td>13</td>\n",
       "      <td>04.11.1988</td>\n",
       "      <td>JavaScript Engineer</td>\n",
       "      <td>JS</td>\n",
       "      <td>Краков; Польша</td>\n",
       "      <td>10 500,00 zł</td>\n",
       "      <td>10500.00</td>\n",
       "      <td>zł</td>\n",
       "    </tr>\n",
       "    <tr>\n",
       "      <th>13</th>\n",
       "      <td>14</td>\n",
       "      <td>09.04.1990</td>\n",
       "      <td>Software Engineer</td>\n",
       "      <td>JS</td>\n",
       "      <td>Вроцлав; Польша</td>\n",
       "      <td>9 500,00 zł</td>\n",
       "      <td>9500.00</td>\n",
       "      <td>zł</td>\n",
       "    </tr>\n",
       "    <tr>\n",
       "      <th>15</th>\n",
       "      <td>16</td>\n",
       "      <td>30.08.1982</td>\n",
       "      <td>Java Developer</td>\n",
       "      <td>Java</td>\n",
       "      <td>Москва</td>\n",
       "      <td>180 000,00 ₽</td>\n",
       "      <td>180000.00</td>\n",
       "      <td>₽</td>\n",
       "    </tr>\n",
       "    <tr>\n",
       "      <th>17</th>\n",
       "      <td>18</td>\n",
       "      <td>28.08.1995</td>\n",
       "      <td>JS Developer</td>\n",
       "      <td>JS</td>\n",
       "      <td>Москва</td>\n",
       "      <td>160 000,00 ₽</td>\n",
       "      <td>160000.00</td>\n",
       "      <td>₽</td>\n",
       "    </tr>\n",
       "    <tr>\n",
       "      <th>20</th>\n",
       "      <td>21</td>\n",
       "      <td>06.07.1990</td>\n",
       "      <td>Разработчик интерфейсов</td>\n",
       "      <td>JS</td>\n",
       "      <td>Санкт-Петербург</td>\n",
       "      <td>113 000,00 ₽</td>\n",
       "      <td>113000.00</td>\n",
       "      <td>₽</td>\n",
       "    </tr>\n",
       "    <tr>\n",
       "      <th>23</th>\n",
       "      <td>24</td>\n",
       "      <td>29.10.1987</td>\n",
       "      <td>Инженер-программист</td>\n",
       "      <td>JS</td>\n",
       "      <td>Санкт-Петербург</td>\n",
       "      <td>190 000,00 ₽</td>\n",
       "      <td>190000.00</td>\n",
       "      <td>₽</td>\n",
       "    </tr>\n",
       "    <tr>\n",
       "      <th>26</th>\n",
       "      <td>27</td>\n",
       "      <td>01.11.1991</td>\n",
       "      <td>Фронтенд разработчик</td>\n",
       "      <td>JS</td>\n",
       "      <td>Санкт-Петербург</td>\n",
       "      <td>300 000,00 ₽</td>\n",
       "      <td>300000.00</td>\n",
       "      <td>₽</td>\n",
       "    </tr>\n",
       "    <tr>\n",
       "      <th>27</th>\n",
       "      <td>28</td>\n",
       "      <td>09.10.1990</td>\n",
       "      <td>Java Developer</td>\n",
       "      <td>Java</td>\n",
       "      <td>Москва</td>\n",
       "      <td>170 000,00 ₽</td>\n",
       "      <td>170000.00</td>\n",
       "      <td>₽</td>\n",
       "    </tr>\n",
       "    <tr>\n",
       "      <th>30</th>\n",
       "      <td>31</td>\n",
       "      <td>09.02.1992</td>\n",
       "      <td>Senior Java developer</td>\n",
       "      <td>Java</td>\n",
       "      <td>Санкт-Петербург</td>\n",
       "      <td>264 367,82 ₽</td>\n",
       "      <td>264367.82</td>\n",
       "      <td>₽</td>\n",
       "    </tr>\n",
       "    <tr>\n",
       "      <th>32</th>\n",
       "      <td>33</td>\n",
       "      <td>26.09.1981</td>\n",
       "      <td>Java Developer</td>\n",
       "      <td>Java</td>\n",
       "      <td>Москва</td>\n",
       "      <td>210 000,00 ₽</td>\n",
       "      <td>210000.00</td>\n",
       "      <td>₽</td>\n",
       "    </tr>\n",
       "    <tr>\n",
       "      <th>37</th>\n",
       "      <td>38</td>\n",
       "      <td>03.04.1990</td>\n",
       "      <td>JavaScript Engineer</td>\n",
       "      <td>JS</td>\n",
       "      <td>Краков; Польша</td>\n",
       "      <td>13 000,00 zł</td>\n",
       "      <td>13000.00</td>\n",
       "      <td>zł</td>\n",
       "    </tr>\n",
       "    <tr>\n",
       "      <th>38</th>\n",
       "      <td>39</td>\n",
       "      <td>10.06.1988</td>\n",
       "      <td>Senior Software Engineer</td>\n",
       "      <td>Java</td>\n",
       "      <td>София; Болгария</td>\n",
       "      <td>lev6 446,00</td>\n",
       "      <td>6446.00</td>\n",
       "      <td>lev</td>\n",
       "    </tr>\n",
       "    <tr>\n",
       "      <th>45</th>\n",
       "      <td>46</td>\n",
       "      <td>25.10.1985</td>\n",
       "      <td>Senior Java developer</td>\n",
       "      <td>Java</td>\n",
       "      <td>Санкт-Петербург</td>\n",
       "      <td>252 900,00 ₽</td>\n",
       "      <td>252900.00</td>\n",
       "      <td>₽</td>\n",
       "    </tr>\n",
       "    <tr>\n",
       "      <th>47</th>\n",
       "      <td>48</td>\n",
       "      <td>06.03.1989</td>\n",
       "      <td>JS Dev</td>\n",
       "      <td>JS</td>\n",
       "      <td>Санкт-Петербург</td>\n",
       "      <td>200 000,00 ₽</td>\n",
       "      <td>200000.00</td>\n",
       "      <td>₽</td>\n",
       "    </tr>\n",
       "    <tr>\n",
       "      <th>49</th>\n",
       "      <td>50</td>\n",
       "      <td>09.02.1985</td>\n",
       "      <td>Java Developer</td>\n",
       "      <td>Java</td>\n",
       "      <td>Москва</td>\n",
       "      <td>300 000,00 ₽</td>\n",
       "      <td>300000.00</td>\n",
       "      <td>₽</td>\n",
       "    </tr>\n",
       "    <tr>\n",
       "      <th>51</th>\n",
       "      <td>52</td>\n",
       "      <td>26.12.1987</td>\n",
       "      <td>Senior Java Developer</td>\n",
       "      <td>Java</td>\n",
       "      <td>Санкт-Петербург</td>\n",
       "      <td>210 000,00 ₽</td>\n",
       "      <td>210000.00</td>\n",
       "      <td>₽</td>\n",
       "    </tr>\n",
       "    <tr>\n",
       "      <th>56</th>\n",
       "      <td>57</td>\n",
       "      <td>12.09.1986</td>\n",
       "      <td>Java Dev</td>\n",
       "      <td>Java</td>\n",
       "      <td>Атлон; Ирландия</td>\n",
       "      <td>€ 4 000,00</td>\n",
       "      <td>4000.00</td>\n",
       "      <td>€</td>\n",
       "    </tr>\n",
       "    <tr>\n",
       "      <th>57</th>\n",
       "      <td>58</td>\n",
       "      <td>15.04.1989</td>\n",
       "      <td>JS Dev</td>\n",
       "      <td>JS</td>\n",
       "      <td>Атлон; Ирландия</td>\n",
       "      <td>€ 2 980,00</td>\n",
       "      <td>2980.00</td>\n",
       "      <td>€</td>\n",
       "    </tr>\n",
       "  </tbody>\n",
       "</table>\n",
       "</div>"
      ],
      "text/plain": [
       "    id Дата рождения                         Вакансия Технология  \\\n",
       "0    1    18.04.1994  Инженер-программист 2 категории         JS   \n",
       "2    3    24.11.1983                   Java Developer       Java   \n",
       "3    4    09.06.1989                    Архитектор ПО       Java   \n",
       "6    7    10.10.1991                     JS Developer         JS   \n",
       "9   10    01.12.1990                    Java Engineer       Java   \n",
       "10  11    04.02.1991              Инженер-программист         JS   \n",
       "12  13    04.11.1988              JavaScript Engineer         JS   \n",
       "13  14    09.04.1990                Software Engineer         JS   \n",
       "15  16    30.08.1982                   Java Developer       Java   \n",
       "17  18    28.08.1995                     JS Developer         JS   \n",
       "20  21    06.07.1990          Разработчик интерфейсов         JS   \n",
       "23  24    29.10.1987              Инженер-программист         JS   \n",
       "26  27    01.11.1991             Фронтенд разработчик         JS   \n",
       "27  28    09.10.1990                   Java Developer       Java   \n",
       "30  31    09.02.1992            Senior Java developer       Java   \n",
       "32  33    26.09.1981                   Java Developer       Java   \n",
       "37  38    03.04.1990              JavaScript Engineer         JS   \n",
       "38  39    10.06.1988         Senior Software Engineer       Java   \n",
       "45  46    25.10.1985            Senior Java developer       Java   \n",
       "47  48    06.03.1989                           JS Dev         JS   \n",
       "49  50    09.02.1985                   Java Developer       Java   \n",
       "51  52    26.12.1987            Senior Java Developer       Java   \n",
       "56  57    12.09.1986                         Java Dev       Java   \n",
       "57  58    15.04.1989                           JS Dev         JS   \n",
       "\n",
       "            Локация З/п в валюте найма     salary currency  \n",
       "0   Санкт-Петербург       140 000,00 ₽  140000.00        ₽  \n",
       "2   Санкт-Петербург       200 000,00 ₽  200000.00        ₽  \n",
       "3            Москва       250 000,00 ₽  250000.00        ₽  \n",
       "6            Москва       129 000,00 ₽  129000.00        ₽  \n",
       "9    Краков; Польша        9 500,00 zł    9500.00       zł  \n",
       "10           Москва       170 000,00 ₽  170000.00        ₽  \n",
       "12   Краков; Польша       10 500,00 zł   10500.00       zł  \n",
       "13  Вроцлав; Польша        9 500,00 zł    9500.00       zł  \n",
       "15           Москва       180 000,00 ₽  180000.00        ₽  \n",
       "17           Москва       160 000,00 ₽  160000.00        ₽  \n",
       "20  Санкт-Петербург       113 000,00 ₽  113000.00        ₽  \n",
       "23  Санкт-Петербург       190 000,00 ₽  190000.00        ₽  \n",
       "26  Санкт-Петербург       300 000,00 ₽  300000.00        ₽  \n",
       "27           Москва       170 000,00 ₽  170000.00        ₽  \n",
       "30  Санкт-Петербург       264 367,82 ₽  264367.82        ₽  \n",
       "32           Москва       210 000,00 ₽  210000.00        ₽  \n",
       "37   Краков; Польша       13 000,00 zł   13000.00       zł  \n",
       "38  София; Болгария        lev6 446,00    6446.00     lev   \n",
       "45  Санкт-Петербург       252 900,00 ₽  252900.00        ₽  \n",
       "47  Санкт-Петербург       200 000,00 ₽  200000.00        ₽  \n",
       "49           Москва       300 000,00 ₽  300000.00        ₽  \n",
       "51  Санкт-Петербург       210 000,00 ₽  210000.00        ₽  \n",
       "56  Атлон; Ирландия         € 4 000,00    4000.00      €    \n",
       "57  Атлон; Ирландия         € 2 980,00    2980.00      €    "
      ]
     },
     "execution_count": 36,
     "metadata": {
      "tags": []
     },
     "output_type": "execute_result"
    }
   ],
   "source": [
    "df.query('Технология == \"JS\" | Технология == \"Java\"')"
   ]
  },
  {
   "cell_type": "markdown",
   "metadata": {
    "id": "nTbRLBJXaMxU"
   },
   "source": [
    "Метод **str.contains**"
   ]
  },
  {
   "cell_type": "code",
   "execution_count": null,
   "metadata": {
    "colab": {
     "base_uri": "https://localhost:8080/",
     "height": 1000
    },
    "id": "75DcdmXnaMxV",
    "outputId": "6fc2ee16-eeb0-4e2e-c0cb-6665946b3c4c"
   },
   "outputs": [
    {
     "data": {
      "text/html": [
       "<div>\n",
       "<style scoped>\n",
       "    .dataframe tbody tr th:only-of-type {\n",
       "        vertical-align: middle;\n",
       "    }\n",
       "\n",
       "    .dataframe tbody tr th {\n",
       "        vertical-align: top;\n",
       "    }\n",
       "\n",
       "    .dataframe thead th {\n",
       "        text-align: right;\n",
       "    }\n",
       "</style>\n",
       "<table border=\"1\" class=\"dataframe\">\n",
       "  <thead>\n",
       "    <tr style=\"text-align: right;\">\n",
       "      <th></th>\n",
       "      <th>0</th>\n",
       "      <th>1</th>\n",
       "      <th>2</th>\n",
       "      <th>3</th>\n",
       "      <th>4</th>\n",
       "    </tr>\n",
       "  </thead>\n",
       "  <tbody>\n",
       "    <tr>\n",
       "      <th>0</th>\n",
       "      <td>Инженер-программист</td>\n",
       "      <td>2</td>\n",
       "      <td>категории</td>\n",
       "      <td>None</td>\n",
       "      <td>None</td>\n",
       "    </tr>\n",
       "    <tr>\n",
       "      <th>1</th>\n",
       "      <td>Разработчик</td>\n",
       "      <td>информационных</td>\n",
       "      <td>систем</td>\n",
       "      <td>None</td>\n",
       "      <td>None</td>\n",
       "    </tr>\n",
       "    <tr>\n",
       "      <th>2</th>\n",
       "      <td>Java</td>\n",
       "      <td>Developer</td>\n",
       "      <td>None</td>\n",
       "      <td>None</td>\n",
       "      <td>None</td>\n",
       "    </tr>\n",
       "    <tr>\n",
       "      <th>3</th>\n",
       "      <td>Архитектор</td>\n",
       "      <td>ПО</td>\n",
       "      <td>None</td>\n",
       "      <td>None</td>\n",
       "      <td>None</td>\n",
       "    </tr>\n",
       "    <tr>\n",
       "      <th>4</th>\n",
       "      <td>QA</td>\n",
       "      <td>Automation</td>\n",
       "      <td>Engineer</td>\n",
       "      <td>None</td>\n",
       "      <td>None</td>\n",
       "    </tr>\n",
       "    <tr>\n",
       "      <th>5</th>\n",
       "      <td>Big</td>\n",
       "      <td>Data</td>\n",
       "      <td>Developer</td>\n",
       "      <td>None</td>\n",
       "      <td>None</td>\n",
       "    </tr>\n",
       "    <tr>\n",
       "      <th>6</th>\n",
       "      <td>JS</td>\n",
       "      <td>Developer</td>\n",
       "      <td>None</td>\n",
       "      <td>None</td>\n",
       "      <td>None</td>\n",
       "    </tr>\n",
       "    <tr>\n",
       "      <th>7</th>\n",
       "      <td>Разработчик</td>\n",
       "      <td>мобильных</td>\n",
       "      <td>приложений</td>\n",
       "      <td>None</td>\n",
       "      <td>None</td>\n",
       "    </tr>\n",
       "    <tr>\n",
       "      <th>8</th>\n",
       "      <td>Инженер-программист</td>\n",
       "      <td>2</td>\n",
       "      <td>категории</td>\n",
       "      <td>None</td>\n",
       "      <td>None</td>\n",
       "    </tr>\n",
       "    <tr>\n",
       "      <th>9</th>\n",
       "      <td>Java</td>\n",
       "      <td>Engineer</td>\n",
       "      <td>None</td>\n",
       "      <td>None</td>\n",
       "      <td>None</td>\n",
       "    </tr>\n",
       "    <tr>\n",
       "      <th>10</th>\n",
       "      <td>Инженер-программист</td>\n",
       "      <td>None</td>\n",
       "      <td>None</td>\n",
       "      <td>None</td>\n",
       "      <td>None</td>\n",
       "    </tr>\n",
       "    <tr>\n",
       "      <th>11</th>\n",
       "      <td>.NET</td>\n",
       "      <td>Engineer</td>\n",
       "      <td>None</td>\n",
       "      <td>None</td>\n",
       "      <td>None</td>\n",
       "    </tr>\n",
       "    <tr>\n",
       "      <th>12</th>\n",
       "      <td>JavaScript</td>\n",
       "      <td>Engineer</td>\n",
       "      <td>None</td>\n",
       "      <td>None</td>\n",
       "      <td>None</td>\n",
       "    </tr>\n",
       "    <tr>\n",
       "      <th>13</th>\n",
       "      <td>Software</td>\n",
       "      <td>Engineer</td>\n",
       "      <td>None</td>\n",
       "      <td>None</td>\n",
       "      <td>None</td>\n",
       "    </tr>\n",
       "    <tr>\n",
       "      <th>14</th>\n",
       "      <td>Head</td>\n",
       "      <td>of</td>\n",
       "      <td>Software</td>\n",
       "      <td>Testing</td>\n",
       "      <td>Department</td>\n",
       "    </tr>\n",
       "    <tr>\n",
       "      <th>15</th>\n",
       "      <td>Java</td>\n",
       "      <td>Developer</td>\n",
       "      <td>None</td>\n",
       "      <td>None</td>\n",
       "      <td>None</td>\n",
       "    </tr>\n",
       "    <tr>\n",
       "      <th>16</th>\n",
       "      <td>Data</td>\n",
       "      <td>/</td>\n",
       "      <td>DWH</td>\n",
       "      <td>Analyst</td>\n",
       "      <td>None</td>\n",
       "    </tr>\n",
       "    <tr>\n",
       "      <th>17</th>\n",
       "      <td>JS</td>\n",
       "      <td>Developer</td>\n",
       "      <td>None</td>\n",
       "      <td>None</td>\n",
       "      <td>None</td>\n",
       "    </tr>\n",
       "    <tr>\n",
       "      <th>18</th>\n",
       "      <td>Senior</td>\n",
       "      <td>Software</td>\n",
       "      <td>Engineer</td>\n",
       "      <td>None</td>\n",
       "      <td>None</td>\n",
       "    </tr>\n",
       "    <tr>\n",
       "      <th>19</th>\n",
       "      <td>QA</td>\n",
       "      <td>Engineer</td>\n",
       "      <td>None</td>\n",
       "      <td>None</td>\n",
       "      <td>None</td>\n",
       "    </tr>\n",
       "    <tr>\n",
       "      <th>20</th>\n",
       "      <td>Разработчик</td>\n",
       "      <td>интерфейсов</td>\n",
       "      <td>None</td>\n",
       "      <td>None</td>\n",
       "      <td>None</td>\n",
       "    </tr>\n",
       "    <tr>\n",
       "      <th>21</th>\n",
       "      <td>3D</td>\n",
       "      <td>Artist</td>\n",
       "      <td>None</td>\n",
       "      <td>None</td>\n",
       "      <td>None</td>\n",
       "    </tr>\n",
       "    <tr>\n",
       "      <th>22</th>\n",
       "      <td>Senior</td>\n",
       "      <td>Tester</td>\n",
       "      <td>None</td>\n",
       "      <td>None</td>\n",
       "      <td>None</td>\n",
       "    </tr>\n",
       "    <tr>\n",
       "      <th>23</th>\n",
       "      <td>Инженер-программист</td>\n",
       "      <td>None</td>\n",
       "      <td>None</td>\n",
       "      <td>None</td>\n",
       "      <td>None</td>\n",
       "    </tr>\n",
       "    <tr>\n",
       "      <th>24</th>\n",
       "      <td>Big</td>\n",
       "      <td>Data</td>\n",
       "      <td>Developer</td>\n",
       "      <td>None</td>\n",
       "      <td>None</td>\n",
       "    </tr>\n",
       "    <tr>\n",
       "      <th>25</th>\n",
       "      <td>Разработчик</td>\n",
       "      <td>информационных</td>\n",
       "      <td>систем</td>\n",
       "      <td>None</td>\n",
       "      <td>None</td>\n",
       "    </tr>\n",
       "    <tr>\n",
       "      <th>26</th>\n",
       "      <td>Фронтенд</td>\n",
       "      <td>разработчик</td>\n",
       "      <td>None</td>\n",
       "      <td>None</td>\n",
       "      <td>None</td>\n",
       "    </tr>\n",
       "    <tr>\n",
       "      <th>27</th>\n",
       "      <td>Java</td>\n",
       "      <td>Developer</td>\n",
       "      <td>None</td>\n",
       "      <td>None</td>\n",
       "      <td>None</td>\n",
       "    </tr>\n",
       "    <tr>\n",
       "      <th>28</th>\n",
       "      <td>Разработчик</td>\n",
       "      <td>информационных</td>\n",
       "      <td>систем</td>\n",
       "      <td>None</td>\n",
       "      <td>None</td>\n",
       "    </tr>\n",
       "    <tr>\n",
       "      <th>29</th>\n",
       "      <td>Big</td>\n",
       "      <td>Data</td>\n",
       "      <td>Developer</td>\n",
       "      <td>None</td>\n",
       "      <td>None</td>\n",
       "    </tr>\n",
       "    <tr>\n",
       "      <th>30</th>\n",
       "      <td>Senior</td>\n",
       "      <td>Java</td>\n",
       "      <td>developer</td>\n",
       "      <td>None</td>\n",
       "      <td>None</td>\n",
       "    </tr>\n",
       "    <tr>\n",
       "      <th>31</th>\n",
       "      <td>Game</td>\n",
       "      <td>Designer</td>\n",
       "      <td>None</td>\n",
       "      <td>None</td>\n",
       "      <td>None</td>\n",
       "    </tr>\n",
       "    <tr>\n",
       "      <th>32</th>\n",
       "      <td>Java</td>\n",
       "      <td>Developer</td>\n",
       "      <td>None</td>\n",
       "      <td>None</td>\n",
       "      <td>None</td>\n",
       "    </tr>\n",
       "    <tr>\n",
       "      <th>33</th>\n",
       "      <td>iOS</td>\n",
       "      <td>Developer</td>\n",
       "      <td>None</td>\n",
       "      <td>None</td>\n",
       "      <td>None</td>\n",
       "    </tr>\n",
       "    <tr>\n",
       "      <th>34</th>\n",
       "      <td>iOS</td>\n",
       "      <td>Developer</td>\n",
       "      <td>None</td>\n",
       "      <td>None</td>\n",
       "      <td>None</td>\n",
       "    </tr>\n",
       "    <tr>\n",
       "      <th>35</th>\n",
       "      <td>BI</td>\n",
       "      <td>Dev</td>\n",
       "      <td>None</td>\n",
       "      <td>None</td>\n",
       "      <td>None</td>\n",
       "    </tr>\n",
       "    <tr>\n",
       "      <th>36</th>\n",
       "      <td>PHP</td>\n",
       "      <td>Dev</td>\n",
       "      <td>None</td>\n",
       "      <td>None</td>\n",
       "      <td>None</td>\n",
       "    </tr>\n",
       "    <tr>\n",
       "      <th>37</th>\n",
       "      <td>JavaScript</td>\n",
       "      <td>Engineer</td>\n",
       "      <td>None</td>\n",
       "      <td>None</td>\n",
       "      <td>None</td>\n",
       "    </tr>\n",
       "    <tr>\n",
       "      <th>38</th>\n",
       "      <td>Senior</td>\n",
       "      <td>Software</td>\n",
       "      <td>Engineer</td>\n",
       "      <td>None</td>\n",
       "      <td>None</td>\n",
       "    </tr>\n",
       "    <tr>\n",
       "      <th>39</th>\n",
       "      <td>Test</td>\n",
       "      <td>Automation</td>\n",
       "      <td>Engineer</td>\n",
       "      <td>None</td>\n",
       "      <td>None</td>\n",
       "    </tr>\n",
       "    <tr>\n",
       "      <th>40</th>\n",
       "      <td>Специалист</td>\n",
       "      <td>по</td>\n",
       "      <td>продаже</td>\n",
       "      <td>консалтинговых</td>\n",
       "      <td>услуг</td>\n",
       "    </tr>\n",
       "    <tr>\n",
       "      <th>41</th>\n",
       "      <td>ASP.NET</td>\n",
       "      <td>Developer</td>\n",
       "      <td>None</td>\n",
       "      <td>None</td>\n",
       "      <td>None</td>\n",
       "    </tr>\n",
       "    <tr>\n",
       "      <th>42</th>\n",
       "      <td>С++</td>\n",
       "      <td>Developer</td>\n",
       "      <td>None</td>\n",
       "      <td>None</td>\n",
       "      <td>None</td>\n",
       "    </tr>\n",
       "    <tr>\n",
       "      <th>43</th>\n",
       "      <td>Software</td>\n",
       "      <td>Developer</td>\n",
       "      <td>None</td>\n",
       "      <td>None</td>\n",
       "      <td>None</td>\n",
       "    </tr>\n",
       "    <tr>\n",
       "      <th>44</th>\n",
       "      <td>С++</td>\n",
       "      <td>Developer</td>\n",
       "      <td>None</td>\n",
       "      <td>None</td>\n",
       "      <td>None</td>\n",
       "    </tr>\n",
       "    <tr>\n",
       "      <th>45</th>\n",
       "      <td>Senior</td>\n",
       "      <td>Java</td>\n",
       "      <td>developer</td>\n",
       "      <td>None</td>\n",
       "      <td>None</td>\n",
       "    </tr>\n",
       "    <tr>\n",
       "      <th>46</th>\n",
       "      <td>Solution</td>\n",
       "      <td>Architect</td>\n",
       "      <td>None</td>\n",
       "      <td>None</td>\n",
       "      <td>None</td>\n",
       "    </tr>\n",
       "    <tr>\n",
       "      <th>47</th>\n",
       "      <td>JS</td>\n",
       "      <td>Dev</td>\n",
       "      <td>None</td>\n",
       "      <td>None</td>\n",
       "      <td>None</td>\n",
       "    </tr>\n",
       "    <tr>\n",
       "      <th>48</th>\n",
       "      <td>PHP</td>\n",
       "      <td>Dev</td>\n",
       "      <td>None</td>\n",
       "      <td>None</td>\n",
       "      <td>None</td>\n",
       "    </tr>\n",
       "    <tr>\n",
       "      <th>49</th>\n",
       "      <td>Java</td>\n",
       "      <td>Developer</td>\n",
       "      <td>None</td>\n",
       "      <td>None</td>\n",
       "      <td>None</td>\n",
       "    </tr>\n",
       "    <tr>\n",
       "      <th>50</th>\n",
       "      <td>ASP.NET</td>\n",
       "      <td>Dev</td>\n",
       "      <td>None</td>\n",
       "      <td>None</td>\n",
       "      <td>None</td>\n",
       "    </tr>\n",
       "    <tr>\n",
       "      <th>51</th>\n",
       "      <td>Senior</td>\n",
       "      <td>Java</td>\n",
       "      <td>Developer</td>\n",
       "      <td>None</td>\n",
       "      <td>None</td>\n",
       "    </tr>\n",
       "    <tr>\n",
       "      <th>52</th>\n",
       "      <td>Android-разработчик</td>\n",
       "      <td>None</td>\n",
       "      <td>None</td>\n",
       "      <td>None</td>\n",
       "      <td>None</td>\n",
       "    </tr>\n",
       "    <tr>\n",
       "      <th>53</th>\n",
       "      <td>Разработчик</td>\n",
       "      <td>информационных</td>\n",
       "      <td>систем</td>\n",
       "      <td>None</td>\n",
       "      <td>None</td>\n",
       "    </tr>\n",
       "    <tr>\n",
       "      <th>54</th>\n",
       "      <td>.NET</td>\n",
       "      <td>Engineer</td>\n",
       "      <td>None</td>\n",
       "      <td>None</td>\n",
       "      <td>None</td>\n",
       "    </tr>\n",
       "    <tr>\n",
       "      <th>55</th>\n",
       "      <td>С++</td>\n",
       "      <td>Developer</td>\n",
       "      <td>None</td>\n",
       "      <td>None</td>\n",
       "      <td>None</td>\n",
       "    </tr>\n",
       "    <tr>\n",
       "      <th>56</th>\n",
       "      <td>Java</td>\n",
       "      <td>Dev</td>\n",
       "      <td>None</td>\n",
       "      <td>None</td>\n",
       "      <td>None</td>\n",
       "    </tr>\n",
       "    <tr>\n",
       "      <th>57</th>\n",
       "      <td>JS</td>\n",
       "      <td>Dev</td>\n",
       "      <td>None</td>\n",
       "      <td>None</td>\n",
       "      <td>None</td>\n",
       "    </tr>\n",
       "  </tbody>\n",
       "</table>\n",
       "</div>"
      ],
      "text/plain": [
       "                      0               1           2               3           4\n",
       "0   Инженер-программист               2   категории            None        None\n",
       "1           Разработчик  информационных      систем            None        None\n",
       "2                  Java       Developer        None            None        None\n",
       "3            Архитектор              ПО        None            None        None\n",
       "4                    QA      Automation    Engineer            None        None\n",
       "5                   Big            Data   Developer            None        None\n",
       "6                    JS       Developer        None            None        None\n",
       "7           Разработчик       мобильных  приложений            None        None\n",
       "8   Инженер-программист               2   категории            None        None\n",
       "9                  Java        Engineer        None            None        None\n",
       "10  Инженер-программист            None        None            None        None\n",
       "11                 .NET        Engineer        None            None        None\n",
       "12           JavaScript        Engineer        None            None        None\n",
       "13             Software        Engineer        None            None        None\n",
       "14                 Head              of    Software         Testing  Department\n",
       "15                 Java       Developer        None            None        None\n",
       "16                 Data               /         DWH         Analyst        None\n",
       "17                   JS       Developer        None            None        None\n",
       "18               Senior        Software    Engineer            None        None\n",
       "19                   QA        Engineer        None            None        None\n",
       "20          Разработчик     интерфейсов        None            None        None\n",
       "21                   3D          Artist        None            None        None\n",
       "22               Senior          Tester        None            None        None\n",
       "23  Инженер-программист            None        None            None        None\n",
       "24                  Big            Data   Developer            None        None\n",
       "25          Разработчик  информационных      систем            None        None\n",
       "26             Фронтенд     разработчик        None            None        None\n",
       "27                 Java       Developer        None            None        None\n",
       "28          Разработчик  информационных      систем            None        None\n",
       "29                  Big            Data   Developer            None        None\n",
       "30               Senior            Java   developer            None        None\n",
       "31                 Game        Designer        None            None        None\n",
       "32                 Java       Developer        None            None        None\n",
       "33                  iOS       Developer        None            None        None\n",
       "34                  iOS       Developer        None            None        None\n",
       "35                   BI             Dev        None            None        None\n",
       "36                  PHP             Dev        None            None        None\n",
       "37           JavaScript        Engineer        None            None        None\n",
       "38               Senior        Software    Engineer            None        None\n",
       "39                 Test      Automation    Engineer            None        None\n",
       "40           Специалист              по     продаже  консалтинговых       услуг\n",
       "41              ASP.NET       Developer        None            None        None\n",
       "42                  С++       Developer        None            None        None\n",
       "43             Software       Developer        None            None        None\n",
       "44                  С++       Developer        None            None        None\n",
       "45               Senior            Java   developer            None        None\n",
       "46             Solution       Architect        None            None        None\n",
       "47                   JS             Dev        None            None        None\n",
       "48                  PHP             Dev        None            None        None\n",
       "49                 Java       Developer        None            None        None\n",
       "50              ASP.NET             Dev        None            None        None\n",
       "51               Senior            Java   Developer            None        None\n",
       "52  Android-разработчик            None        None            None        None\n",
       "53          Разработчик  информационных      систем            None        None\n",
       "54                 .NET        Engineer        None            None        None\n",
       "55                  С++       Developer        None            None        None\n",
       "56                 Java             Dev        None            None        None\n",
       "57                   JS             Dev        None            None        None"
      ]
     },
     "execution_count": 117,
     "metadata": {
      "tags": []
     },
     "output_type": "execute_result"
    }
   ],
   "source": [
    "df['Вакансия'].str.split(expand=True)\n",
    "\n"
   ]
  },
  {
   "cell_type": "markdown",
   "metadata": {
    "id": "xf7EA21Ol7lB"
   },
   "source": [
    "### Спасибо за внимание! Буду рад ответить на ваши вопросы\n",
    "\n",
    "Форма ОС\n",
    "https://forms.gle/XEC83zxNNMw8HMjr7"
   ]
  }
 ],
 "metadata": {
  "colab": {
   "collapsed_sections": [
    "UH1FTe6DaMss",
    "15mOnnn0aMs2",
    "URQkolgjaMuK",
    "YL5_CsH8aMuf",
    "Rt_v6AD4aMvA",
    "YAd8gmI5aMv2",
    "tsrMLLCBaMwN"
   ],
   "name": "Очистка_данных_и_создание_новых.ipynb",
   "provenance": []
  },
  "kernelspec": {
   "display_name": "Python 3",
   "language": "python",
   "name": "python3"
  },
  "language_info": {
   "codemirror_mode": {
    "name": "ipython",
    "version": 3
   },
   "file_extension": ".py",
   "mimetype": "text/x-python",
   "name": "python",
   "nbconvert_exporter": "python",
   "pygments_lexer": "ipython3",
   "version": "3.7.6"
  }
 },
 "nbformat": 4,
 "nbformat_minor": 1
}
