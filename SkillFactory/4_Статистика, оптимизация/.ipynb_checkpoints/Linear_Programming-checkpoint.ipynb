{
 "cells": [
  {
   "cell_type": "markdown",
   "metadata": {},
   "source": [
    "Допустим, у нас есть $n$ товаров с заданными стоимостями $v_i$ и массой $w_i$. В сумку убирается $С$ кг. Сколько какого товара взять, чтобы сумма всех стоимостей товаров была наибольшей?"
   ]
  },
  {
   "cell_type": "code",
   "execution_count": 1,
   "metadata": {},
   "outputs": [],
   "source": [
    "values = [4, 2, 1, 7, 3, 6]\n",
    "weights = [5, 9, 8, 2, 6, 5]\n",
    "C = 15\n",
    "n = 6"
   ]
  },
  {
   "cell_type": "markdown",
   "metadata": {},
   "source": [
    "Сформулируем задачу:\n",
    "$$\\max\\sum v_i x_i$$\n",
    "$$\\sum w_i x_i \\leq C $$"
   ]
  },
  {
   "cell_type": "markdown",
   "metadata": {},
   "source": [
    "Как должна выглядеть задача:\n",
    "$$\\min c^T x$$\n",
    "$$A x \\leq b $$"
   ]
  },
  {
   "cell_type": "markdown",
   "metadata": {},
   "source": [
    "Получается, что $c=-v$, $A=w^T$, $b=(C)$"
   ]
  },
  {
   "cell_type": "code",
   "execution_count": 2,
   "metadata": {},
   "outputs": [],
   "source": [
    "import numpy as np"
   ]
  },
  {
   "cell_type": "code",
   "execution_count": 3,
   "metadata": {},
   "outputs": [],
   "source": [
    "c = - np.array(values)\n",
    "A = np.array(weights)         #shape = (6,)\n",
    "A = np.expand_dims(A, 0)      #shape = (1,6)\n",
    "b = np.array([C])"
   ]
  },
  {
   "cell_type": "code",
   "execution_count": 4,
   "metadata": {},
   "outputs": [],
   "source": [
    "from scipy.optimize import linprog"
   ]
  },
  {
   "cell_type": "code",
   "execution_count": 5,
   "metadata": {},
   "outputs": [
    {
     "data": {
      "text/plain": [
       "     con: array([], dtype=float64)\n",
       "     fun: -52.500000000030745\n",
       " message: 'Optimization terminated successfully.'\n",
       "     nit: 5\n",
       "   slack: array([-2.24886776e-11])\n",
       "  status: 0\n",
       " success: True\n",
       "       x: array([6.18738521e-14, 1.05853304e-12, 1.21475941e-13, 7.50000000e+00,\n",
       "       4.00246685e-13, 4.71394154e-13])"
      ]
     },
     "execution_count": 5,
     "metadata": {},
     "output_type": "execute_result"
    }
   ],
   "source": [
    "linprog(c=c, A_ub=A, b_ub=b)"
   ]
  },
  {
   "cell_type": "code",
   "execution_count": 10,
   "metadata": {},
   "outputs": [
    {
     "name": "stdout",
     "output_type": "stream",
     "text": [
      "Collecting package metadata (current_repodata.json): ...working... done\n",
      "Solving environment: ...working... done\n",
      "\n",
      "## Package Plan ##\n",
      "\n",
      "  environment location: C:\\Users\\gorba\\anaconda3\n",
      "\n",
      "  added / updated specs:\n",
      "    - ecos\n",
      "\n",
      "\n",
      "The following packages will be downloaded:\n",
      "\n",
      "    package                    |            build\n",
      "    ---------------------------|-----------------\n",
      "    ca-certificates-2021.1.19  |       haa95532_0         122 KB\n",
      "    certifi-2020.12.5          |   py37haa95532_0         141 KB\n",
      "    ecos-2.0.7.post1           |   py37h2a96729_0          81 KB\n",
      "    openssl-1.1.1i             |       h2bbff1b_0         4.8 MB\n",
      "    ------------------------------------------------------------\n",
      "                                           Total:         5.2 MB\n",
      "\n",
      "The following NEW packages will be INSTALLED:\n",
      "\n",
      "  ecos               pkgs/main/win-64::ecos-2.0.7.post1-py37h2a96729_0\n",
      "\n",
      "The following packages will be UPDATED:\n",
      "\n",
      "  ca-certificates                              2020.10.14-0 --> 2021.1.19-haa95532_0\n",
      "  certifi                          2020.11.8-py37haa95532_0 --> 2020.12.5-py37haa95532_0\n",
      "  openssl                                 1.1.1h-he774522_0 --> 1.1.1i-h2bbff1b_0\n",
      "\n",
      "\n",
      "\n",
      "Downloading and Extracting Packages\n",
      "\n",
      "ca-certificates-2021 | 122 KB    |            |   0% \n",
      "ca-certificates-2021 | 122 KB    | #3         |  13% \n",
      "ca-certificates-2021 | 122 KB    | ########## | 100% \n",
      "\n",
      "certifi-2020.12.5    | 141 KB    |            |   0% \n",
      "certifi-2020.12.5    | 141 KB    | #1         |  11% \n",
      "certifi-2020.12.5    | 141 KB    | ########## | 100% \n",
      "\n",
      "ecos-2.0.7.post1     | 81 KB     |            |   0% \n",
      "ecos-2.0.7.post1     | 81 KB     | #9         |  20% \n",
      "ecos-2.0.7.post1     | 81 KB     | ########## | 100% \n",
      "ecos-2.0.7.post1     | 81 KB     | ########## | 100% \n",
      "\n",
      "openssl-1.1.1i       | 4.8 MB    |            |   0% \n",
      "openssl-1.1.1i       | 4.8 MB    |            |   0% \n",
      "openssl-1.1.1i       | 4.8 MB    | 4          |   4% \n",
      "openssl-1.1.1i       | 4.8 MB    | 7          |   7% \n",
      "openssl-1.1.1i       | 4.8 MB    | #8         |  19% \n",
      "openssl-1.1.1i       | 4.8 MB    | ##         |  20% \n",
      "openssl-1.1.1i       | 4.8 MB    | ###6       |  36% \n",
      "openssl-1.1.1i       | 4.8 MB    | ####6      |  47% \n",
      "openssl-1.1.1i       | 4.8 MB    | #####7     |  57% \n",
      "openssl-1.1.1i       | 4.8 MB    | ######8    |  68% \n",
      "openssl-1.1.1i       | 4.8 MB    | #######9   |  79% \n",
      "openssl-1.1.1i       | 4.8 MB    | #########  |  90% \n",
      "openssl-1.1.1i       | 4.8 MB    | ########## | 100% \n",
      "openssl-1.1.1i       | 4.8 MB    | ########## | 100% \n",
      "Preparing transaction: ...working... done\n",
      "Verifying transaction: ...working... done\n",
      "Executing transaction: ...working... done\n",
      "\n",
      "Note: you may need to restart the kernel to use updated packages.\n"
     ]
    }
   ],
   "source": [
    "conda install ecos"
   ]
  },
  {
   "cell_type": "code",
   "execution_count": 9,
   "metadata": {},
   "outputs": [
    {
     "ename": "SyntaxError",
     "evalue": "invalid syntax (<ipython-input-9-f0c7309fff72>, line 1)",
     "output_type": "error",
     "traceback": [
      "\u001b[1;36m  File \u001b[1;32m\"<ipython-input-9-f0c7309fff72>\"\u001b[1;36m, line \u001b[1;32m1\u001b[0m\n\u001b[1;33m    python3 -m !pip install cmake\u001b[0m\n\u001b[1;37m               ^\u001b[0m\n\u001b[1;31mSyntaxError\u001b[0m\u001b[1;31m:\u001b[0m invalid syntax\n"
     ]
    }
   ],
   "source": [
    "python3 -m !pip install cmake"
   ]
  },
  {
   "cell_type": "code",
   "execution_count": 4,
   "metadata": {},
   "outputs": [
    {
     "name": "stdout",
     "output_type": "stream",
     "text": [
      "Requirement already satisfied: pip in c:\\users\\gorba\\anaconda3\\lib\\site-packages (21.0)\n",
      "Collecting pip\n",
      "  Using cached pip-21.0-py3-none-any.whl (1.5 MB)\n",
      "  Downloading pip-20.3.4-py2.py3-none-any.whl (1.5 MB)\n",
      "Note: you may need to restart the kernel to use updated packages.\n"
     ]
    }
   ],
   "source": [
    "pip install --upgrade pip"
   ]
  },
  {
   "cell_type": "code",
   "execution_count": 2,
   "metadata": {},
   "outputs": [
    {
     "name": "stdout",
     "output_type": "stream",
     "text": [
      "Collecting cvxopt\n",
      "  Downloading cvxopt-1.2.5.post1-cp37-cp37m-win_amd64.whl (9.5 MB)\n",
      "Installing collected packages: cvxopt\n",
      "Successfully installed cvxopt-1.2.5.post1\n"
     ]
    }
   ],
   "source": [
    "!pip install cvxopt"
   ]
  },
  {
   "cell_type": "code",
   "execution_count": 4,
   "metadata": {
    "scrolled": true
   },
   "outputs": [
    {
     "name": "stdout",
     "output_type": "stream",
     "text": [
      "Collecting cvxpy\n",
      "  Using cached cvxpy-1.1.7-cp37-cp37m-win_amd64.whl (782 kB)\n",
      "Requirement already satisfied: ecos>=2 in c:\\users\\gorba\\anaconda3\\lib\\site-packages (from cvxpy) (2.0.7.post1)\n",
      "Requirement already satisfied: scipy>=1.1.0 in c:\\users\\gorba\\anaconda3\\lib\\site-packages (from cvxpy) (1.5.2)\n",
      "Collecting scs>=1.1.6\n",
      "  Using cached scs-2.1.2.tar.gz (3.5 MB)\n",
      "Requirement already satisfied: numpy>=1.15 in c:\\users\\gorba\\anaconda3\\lib\\site-packages (from cvxpy) (1.19.2)\n",
      "Collecting osqp>=0.4.1\n",
      "  Using cached osqp-0.6.2.post0-cp37-cp37m-win_amd64.whl (162 kB)\n",
      "Requirement already satisfied: qdldl in c:\\users\\gorba\\anaconda3\\lib\\site-packages (from osqp>=0.4.1->cvxpy) (0.1.5.post0)\n",
      "Building wheels for collected packages: scs\n",
      "  Building wheel for scs (setup.py): started\n",
      "  Building wheel for scs (setup.py): finished with status 'error'\n",
      "  Running setup.py clean for scs\n",
      "Failed to build scs\n",
      "Installing collected packages: scs, osqp, cvxpy\n",
      "    Running setup.py install for scs: started\n",
      "    Running setup.py install for scs: finished with status 'error'\n",
      "Note: you may need to restart the kernel to use updated packages.\n"
     ]
    },
    {
     "name": "stderr",
     "output_type": "stream",
     "text": [
      "  ERROR: Command errored out with exit status 1:\n",
      "   command: 'C:\\Users\\gorba\\anaconda3\\python.exe' -u -c 'import sys, setuptools, tokenize; sys.argv[0] = '\"'\"'C:\\\\Users\\\\gorba\\\\AppData\\\\Local\\\\Temp\\\\pip-install-s3s9mbp_\\\\scs_b401d2b273d8463fb16c1f59e853c42c\\\\setup.py'\"'\"'; __file__='\"'\"'C:\\\\Users\\\\gorba\\\\AppData\\\\Local\\\\Temp\\\\pip-install-s3s9mbp_\\\\scs_b401d2b273d8463fb16c1f59e853c42c\\\\setup.py'\"'\"';f=getattr(tokenize, '\"'\"'open'\"'\"', open)(__file__);code=f.read().replace('\"'\"'\\r\\n'\"'\"', '\"'\"'\\n'\"'\"');f.close();exec(compile(code, __file__, '\"'\"'exec'\"'\"'))' bdist_wheel -d 'C:\\Users\\gorba\\AppData\\Local\\Temp\\pip-wheel-cn7ecf_y'\n",
      "       cwd: C:\\Users\\gorba\\AppData\\Local\\Temp\\pip-install-s3s9mbp_\\scs_b401d2b273d8463fb16c1f59e853c42c\\\n",
      "  Complete output (76 lines):\n",
      "  Namespace(blas64=False, extraverbose=False, float32=False, gpu=False, int32=False, scs=False)\n",
      "  running bdist_wheel\n",
      "  running build\n",
      "  running build_py\n",
      "  creating build\n",
      "  creating build\\lib.win-amd64-3.7\n",
      "  creating build\\lib.win-amd64-3.7\\scs\n",
      "  copying src\\__init__.py -> build\\lib.win-amd64-3.7\\scs\n",
      "  running build_ext\n",
      "  blas_mkl_info:\n",
      "      libraries = ['mkl_rt']\n",
      "      library_dirs = ['C:/Users/gorba/anaconda3\\\\Library\\\\lib']\n",
      "      define_macros = [('SCIPY_MKL_H', None), ('HAVE_CBLAS', None)]\n",
      "      include_dirs = ['C:/Users/gorba/anaconda3\\\\Library\\\\include']\n",
      "  blas_opt_info:\n",
      "      libraries = ['mkl_rt']\n",
      "      library_dirs = ['C:/Users/gorba/anaconda3\\\\Library\\\\lib']\n",
      "      define_macros = [('SCIPY_MKL_H', None), ('HAVE_CBLAS', None)]\n",
      "      include_dirs = ['C:/Users/gorba/anaconda3\\\\Library\\\\include']\n",
      "  lapack_mkl_info:\n",
      "      libraries = ['mkl_rt']\n",
      "      library_dirs = ['C:/Users/gorba/anaconda3\\\\Library\\\\lib']\n",
      "      define_macros = [('SCIPY_MKL_H', None), ('HAVE_CBLAS', None)]\n",
      "      include_dirs = ['C:/Users/gorba/anaconda3\\\\Library\\\\include']\n",
      "  lapack_opt_info:\n",
      "      libraries = ['mkl_rt']\n",
      "      library_dirs = ['C:/Users/gorba/anaconda3\\\\Library\\\\lib']\n",
      "      define_macros = [('SCIPY_MKL_H', None), ('HAVE_CBLAS', None)]\n",
      "      include_dirs = ['C:/Users/gorba/anaconda3\\\\Library\\\\include']\n",
      "  Could not locate executable g77\n",
      "  gnu: no Fortran 90 compiler found\n",
      "  gnu: no Fortran 90 compiler found\n",
      "  Could not locate executable ifort\n",
      "  Could not locate executable ifl\n",
      "  Could not locate executable C:\\Program\n",
      "  Could not locate executable efl\n",
      "  Could not locate executable gfortran\n",
      "  Could not locate executable f95\n",
      "  Could not locate executable g95\n",
      "  Could not locate executable efort\n",
      "  Could not locate executable efc\n",
      "  Could not locate executable flang\n",
      "  don't know how to compile Fortran code on platform 'nt'\n",
      "  C:\\Users\\gorba\\anaconda3\\lib\\site-packages\\numpy\\distutils\\system_info.py:1914: UserWarning:\n",
      "      Optimized (vendor) Blas libraries are not found.\n",
      "      Falls back to netlib Blas library which has worse performance.\n",
      "      A better performance should be easily gained by switching\n",
      "      Blas library.\n",
      "    if self._calc_info(blas):\n",
      "  C:\\Users\\gorba\\anaconda3\\lib\\site-packages\\numpy\\distutils\\system_info.py:1914: UserWarning:\n",
      "      Blas (http://www.netlib.org/blas/) libraries not found.\n",
      "      Directories to search for the libraries can be specified in the\n",
      "      numpy/distutils/site.cfg file (section [blas]) or by setting\n",
      "      the BLAS environment variable.\n",
      "    if self._calc_info(blas):\n",
      "  C:\\Users\\gorba\\anaconda3\\lib\\site-packages\\numpy\\distutils\\system_info.py:1914: UserWarning:\n",
      "      Blas (http://www.netlib.org/blas/) sources not found.\n",
      "      Directories to search for the sources can be specified in the\n",
      "      numpy/distutils/site.cfg file (section [blas_src]) or by setting\n",
      "      the BLAS_SRC environment variable.\n",
      "    if self._calc_info(blas):\n",
      "  C:\\Users\\gorba\\anaconda3\\lib\\site-packages\\numpy\\distutils\\system_info.py:1748: UserWarning:\n",
      "      Lapack (http://www.netlib.org/lapack/) libraries not found.\n",
      "      Directories to search for the libraries can be specified in the\n",
      "      numpy/distutils/site.cfg file (section [lapack]) or by setting\n",
      "      the LAPACK environment variable.\n",
      "    return getattr(self, '_calc_info_{}'.format(name))()\n",
      "  C:\\Users\\gorba\\anaconda3\\lib\\site-packages\\numpy\\distutils\\system_info.py:1748: UserWarning:\n",
      "      Lapack (http://www.netlib.org/lapack/) sources not found.\n",
      "      Directories to search for the sources can be specified in the\n",
      "      numpy/distutils/site.cfg file (section [lapack_src]) or by setting\n",
      "      the LAPACK_SRC environment variable.\n",
      "    return getattr(self, '_calc_info_{}'.format(name))()\n",
      "  error: Microsoft Visual C++ 14.0 or greater is required. Get it with \"Microsoft C++ Build Tools\": https://visualstudio.microsoft.com/visual-cpp-build-tools/\n",
      "  {}\n",
      "  {}\n",
      "  ----------------------------------------\n",
      "  ERROR: Failed building wheel for scs\n",
      "    ERROR: Command errored out with exit status 1:\n",
      "     command: 'C:\\Users\\gorba\\anaconda3\\python.exe' -u -c 'import sys, setuptools, tokenize; sys.argv[0] = '\"'\"'C:\\\\Users\\\\gorba\\\\AppData\\\\Local\\\\Temp\\\\pip-install-s3s9mbp_\\\\scs_b401d2b273d8463fb16c1f59e853c42c\\\\setup.py'\"'\"'; __file__='\"'\"'C:\\\\Users\\\\gorba\\\\AppData\\\\Local\\\\Temp\\\\pip-install-s3s9mbp_\\\\scs_b401d2b273d8463fb16c1f59e853c42c\\\\setup.py'\"'\"';f=getattr(tokenize, '\"'\"'open'\"'\"', open)(__file__);code=f.read().replace('\"'\"'\\r\\n'\"'\"', '\"'\"'\\n'\"'\"');f.close();exec(compile(code, __file__, '\"'\"'exec'\"'\"'))' install --record 'C:\\Users\\gorba\\AppData\\Local\\Temp\\pip-record-oa0l2a3i\\install-record.txt' --single-version-externally-managed --compile --install-headers 'C:\\Users\\gorba\\anaconda3\\Include\\scs'\n",
      "         cwd: C:\\Users\\gorba\\AppData\\Local\\Temp\\pip-install-s3s9mbp_\\scs_b401d2b273d8463fb16c1f59e853c42c\\\n",
      "    Complete output (76 lines):\n",
      "    Namespace(blas64=False, extraverbose=False, float32=False, gpu=False, int32=False, scs=False)\n",
      "    running install\n",
      "    running build\n",
      "    running build_py\n",
      "    creating build\n",
      "    creating build\\lib.win-amd64-3.7\n",
      "    creating build\\lib.win-amd64-3.7\\scs\n",
      "    copying src\\__init__.py -> build\\lib.win-amd64-3.7\\scs\n",
      "    running build_ext\n",
      "    blas_mkl_info:\n",
      "        libraries = ['mkl_rt']\n",
      "        library_dirs = ['C:/Users/gorba/anaconda3\\\\Library\\\\lib']\n",
      "        define_macros = [('SCIPY_MKL_H', None), ('HAVE_CBLAS', None)]\n",
      "        include_dirs = ['C:/Users/gorba/anaconda3\\\\Library\\\\include']\n",
      "    blas_opt_info:\n",
      "        libraries = ['mkl_rt']\n",
      "        library_dirs = ['C:/Users/gorba/anaconda3\\\\Library\\\\lib']\n",
      "        define_macros = [('SCIPY_MKL_H', None), ('HAVE_CBLAS', None)]\n",
      "        include_dirs = ['C:/Users/gorba/anaconda3\\\\Library\\\\include']\n",
      "    lapack_mkl_info:\n",
      "        libraries = ['mkl_rt']\n",
      "        library_dirs = ['C:/Users/gorba/anaconda3\\\\Library\\\\lib']\n",
      "        define_macros = [('SCIPY_MKL_H', None), ('HAVE_CBLAS', None)]\n",
      "        include_dirs = ['C:/Users/gorba/anaconda3\\\\Library\\\\include']\n",
      "    lapack_opt_info:\n",
      "        libraries = ['mkl_rt']\n",
      "        library_dirs = ['C:/Users/gorba/anaconda3\\\\Library\\\\lib']\n",
      "        define_macros = [('SCIPY_MKL_H', None), ('HAVE_CBLAS', None)]\n",
      "        include_dirs = ['C:/Users/gorba/anaconda3\\\\Library\\\\include']\n",
      "    Could not locate executable g77\n",
      "    gnu: no Fortran 90 compiler found\n",
      "    gnu: no Fortran 90 compiler found\n",
      "    Could not locate executable ifort\n",
      "    Could not locate executable ifl\n",
      "    Could not locate executable C:\\Program\n",
      "    Could not locate executable efl\n",
      "    Could not locate executable gfortran\n",
      "    Could not locate executable f95\n",
      "    Could not locate executable g95\n",
      "    Could not locate executable efort\n",
      "    Could not locate executable efc\n",
      "    Could not locate executable flang\n",
      "    don't know how to compile Fortran code on platform 'nt'\n",
      "    C:\\Users\\gorba\\anaconda3\\lib\\site-packages\\numpy\\distutils\\system_info.py:1914: UserWarning:\n",
      "        Optimized (vendor) Blas libraries are not found.\n",
      "        Falls back to netlib Blas library which has worse performance.\n",
      "        A better performance should be easily gained by switching\n",
      "        Blas library.\n",
      "      if self._calc_info(blas):\n",
      "    C:\\Users\\gorba\\anaconda3\\lib\\site-packages\\numpy\\distutils\\system_info.py:1914: UserWarning:\n",
      "        Blas (http://www.netlib.org/blas/) libraries not found.\n",
      "        Directories to search for the libraries can be specified in the\n",
      "        numpy/distutils/site.cfg file (section [blas]) or by setting\n",
      "        the BLAS environment variable.\n",
      "      if self._calc_info(blas):\n",
      "    C:\\Users\\gorba\\anaconda3\\lib\\site-packages\\numpy\\distutils\\system_info.py:1914: UserWarning:\n",
      "        Blas (http://www.netlib.org/blas/) sources not found.\n",
      "        Directories to search for the sources can be specified in the\n",
      "        numpy/distutils/site.cfg file (section [blas_src]) or by setting\n",
      "        the BLAS_SRC environment variable.\n",
      "      if self._calc_info(blas):\n",
      "    C:\\Users\\gorba\\anaconda3\\lib\\site-packages\\numpy\\distutils\\system_info.py:1748: UserWarning:\n",
      "        Lapack (http://www.netlib.org/lapack/) libraries not found.\n",
      "        Directories to search for the libraries can be specified in the\n",
      "        numpy/distutils/site.cfg file (section [lapack]) or by setting\n",
      "        the LAPACK environment variable.\n",
      "      return getattr(self, '_calc_info_{}'.format(name))()\n",
      "    C:\\Users\\gorba\\anaconda3\\lib\\site-packages\\numpy\\distutils\\system_info.py:1748: UserWarning:\n",
      "        Lapack (http://www.netlib.org/lapack/) sources not found.\n",
      "        Directories to search for the sources can be specified in the\n",
      "        numpy/distutils/site.cfg file (section [lapack_src]) or by setting\n",
      "        the LAPACK_SRC environment variable.\n",
      "      return getattr(self, '_calc_info_{}'.format(name))()\n",
      "    error: Microsoft Visual C++ 14.0 or greater is required. Get it with \"Microsoft C++ Build Tools\": https://visualstudio.microsoft.com/visual-cpp-build-tools/\n",
      "    {}\n",
      "    {}\n",
      "    ----------------------------------------\n",
      "ERROR: Command errored out with exit status 1: 'C:\\Users\\gorba\\anaconda3\\python.exe' -u -c 'import sys, setuptools, tokenize; sys.argv[0] = '\"'\"'C:\\\\Users\\\\gorba\\\\AppData\\\\Local\\\\Temp\\\\pip-install-s3s9mbp_\\\\scs_b401d2b273d8463fb16c1f59e853c42c\\\\setup.py'\"'\"'; __file__='\"'\"'C:\\\\Users\\\\gorba\\\\AppData\\\\Local\\\\Temp\\\\pip-install-s3s9mbp_\\\\scs_b401d2b273d8463fb16c1f59e853c42c\\\\setup.py'\"'\"';f=getattr(tokenize, '\"'\"'open'\"'\"', open)(__file__);code=f.read().replace('\"'\"'\\r\\n'\"'\"', '\"'\"'\\n'\"'\"');f.close();exec(compile(code, __file__, '\"'\"'exec'\"'\"'))' install --record 'C:\\Users\\gorba\\AppData\\Local\\Temp\\pip-record-oa0l2a3i\\install-record.txt' --single-version-externally-managed --compile --install-headers 'C:\\Users\\gorba\\anaconda3\\Include\\scs' Check the logs for full command output.\n"
     ]
    }
   ],
   "source": [
    "pip install cvxpy"
   ]
  },
  {
   "cell_type": "code",
   "execution_count": 8,
   "metadata": {},
   "outputs": [
    {
     "ename": "ModuleNotFoundError",
     "evalue": "No module named 'cvxpy'",
     "output_type": "error",
     "traceback": [
      "\u001b[1;31m---------------------------------------------------------------------------\u001b[0m",
      "\u001b[1;31mModuleNotFoundError\u001b[0m                       Traceback (most recent call last)",
      "\u001b[1;32m<ipython-input-8-e5c848cd8324>\u001b[0m in \u001b[0;36m<module>\u001b[1;34m\u001b[0m\n\u001b[1;32m----> 1\u001b[1;33m \u001b[1;32mimport\u001b[0m \u001b[0mcvxpy\u001b[0m\u001b[1;33m\u001b[0m\u001b[1;33m\u001b[0m\u001b[0m\n\u001b[0m",
      "\u001b[1;31mModuleNotFoundError\u001b[0m: No module named 'cvxpy'"
     ]
    }
   ],
   "source": [
    "import cvxpy"
   ]
  },
  {
   "cell_type": "code",
   "execution_count": 14,
   "metadata": {},
   "outputs": [],
   "source": [
    "x = cvxpy.Variable(shape=n, integer = True)"
   ]
  },
  {
   "cell_type": "code",
   "execution_count": 15,
   "metadata": {},
   "outputs": [],
   "source": [
    "constraint = (A @ x <= b)\n",
    "total_value = c * x"
   ]
  },
  {
   "cell_type": "code",
   "execution_count": 16,
   "metadata": {},
   "outputs": [],
   "source": [
    "problem = cvxpy.Problem(cvxpy.Minimize(total_value), constraints=[constraint])"
   ]
  },
  {
   "cell_type": "code",
   "execution_count": 17,
   "metadata": {},
   "outputs": [
    {
     "data": {
      "text/plain": [
       "-138412039.0000002"
      ]
     },
     "execution_count": 17,
     "metadata": {},
     "output_type": "execute_result"
    }
   ],
   "source": [
    "problem.solve()"
   ]
  },
  {
   "cell_type": "code",
   "execution_count": 18,
   "metadata": {},
   "outputs": [
    {
     "data": {
      "text/plain": [
       "array([ 8388608.00000001, -8388608.00000001, -8388608.00000001,\n",
       "        8388608.00000001,  6990509.00000001,  8388608.00000001])"
      ]
     },
     "execution_count": 18,
     "metadata": {},
     "output_type": "execute_result"
    }
   ],
   "source": [
    "x.value"
   ]
  },
  {
   "cell_type": "markdown",
   "metadata": {},
   "source": [
    "Теперь положительные $x$"
   ]
  },
  {
   "cell_type": "code",
   "execution_count": 19,
   "metadata": {},
   "outputs": [
    {
     "data": {
      "text/plain": [
       "-49.000000015906025"
      ]
     },
     "execution_count": 19,
     "metadata": {},
     "output_type": "execute_result"
    }
   ],
   "source": [
    "x = cvxpy.Variable(shape=n, integer=True)\n",
    "constraint = (A @ x <= b)\n",
    "x_positive = (x >= 0)\n",
    "total_value = c * x\n",
    "problem = cvxpy.Problem(cvxpy.Minimize(total_value), constraints=[constraint, x_positive])\n",
    "problem.solve()"
   ]
  },
  {
   "cell_type": "code",
   "execution_count": 20,
   "metadata": {},
   "outputs": [
    {
     "data": {
      "text/plain": [
       "array([7.01265807e-10, 7.99333027e-10, 3.58703130e-10, 7.00000000e+00,\n",
       "       4.67143021e-10, 9.34955115e-10])"
      ]
     },
     "execution_count": 20,
     "metadata": {},
     "output_type": "execute_result"
    }
   ],
   "source": [
    "x.value"
   ]
  },
  {
   "cell_type": "markdown",
   "metadata": {},
   "source": [
    "Теперь $x = 0$ или $1$"
   ]
  },
  {
   "cell_type": "code",
   "execution_count": 21,
   "metadata": {},
   "outputs": [
    {
     "data": {
      "text/plain": [
       "-17.00000000382157"
      ]
     },
     "execution_count": 21,
     "metadata": {},
     "output_type": "execute_result"
    }
   ],
   "source": [
    "x = cvxpy.Variable(shape=n, boolean=True)\n",
    "constraint = A @ x <= b\n",
    "x_positive = x >= 0\n",
    "total_value = c * x\n",
    "problem = cvxpy.Problem(cvxpy.Minimize(total_value), constraints=[constraint, x_positive])\n",
    "problem.solve()"
   ]
  },
  {
   "cell_type": "code",
   "execution_count": 22,
   "metadata": {},
   "outputs": [
    {
     "data": {
      "text/plain": [
       "array([1.00000000e+00, 2.25474413e-10, 2.07396078e-10, 1.00000000e+00,\n",
       "       2.24003299e-10, 1.00000000e+00])"
      ]
     },
     "execution_count": 22,
     "metadata": {},
     "output_type": "execute_result"
    }
   ],
   "source": [
    "x.value"
   ]
  },
  {
   "cell_type": "code",
   "execution_count": null,
   "metadata": {},
   "outputs": [],
   "source": []
  }
 ],
 "metadata": {
  "kernelspec": {
   "display_name": "Python 3",
   "language": "python",
   "name": "python3"
  },
  "language_info": {
   "codemirror_mode": {
    "name": "ipython",
    "version": 3
   },
   "file_extension": ".py",
   "mimetype": "text/x-python",
   "name": "python",
   "nbconvert_exporter": "python",
   "pygments_lexer": "ipython3",
   "version": "3.8.8"
  }
 },
 "nbformat": 4,
 "nbformat_minor": 2
}
