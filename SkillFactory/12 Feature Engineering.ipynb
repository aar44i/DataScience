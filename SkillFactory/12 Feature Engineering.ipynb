{
 "cells": [
  {
   "cell_type": "code",
   "execution_count": 121,
   "metadata": {},
   "outputs": [],
   "source": [
    "import pandas as pd"
   ]
  },
  {
   "cell_type": "code",
   "execution_count": 122,
   "metadata": {},
   "outputs": [
    {
     "name": "stdout",
     "output_type": "stream",
     "text": [
      "<class 'pandas.core.frame.DataFrame'>\n",
      "RangeIndex: 999 entries, 0 to 998\n",
      "Data columns (total 4 columns):\n",
      " #   Column   Non-Null Count  Dtype  \n",
      "---  ------   --------------  -----  \n",
      " 0   user_id  999 non-null    object \n",
      " 1   time     984 non-null    object \n",
      " 2   bet      485 non-null    float64\n",
      " 3   win      138 non-null    float64\n",
      "dtypes: float64(2), object(2)\n",
      "memory usage: 31.3+ KB\n",
      "<class 'pandas.core.frame.DataFrame'>\n",
      "RangeIndex: 100 entries, 0 to 99\n",
      "Data columns (total 3 columns):\n",
      " #   Column   Non-Null Count  Dtype \n",
      "---  ------   --------------  ----- \n",
      " 0   user_id  100 non-null    object\n",
      " 1   email    99 non-null     object\n",
      " 2   geo      97 non-null     object\n",
      "dtypes: object(3)\n",
      "memory usage: 2.5+ KB\n"
     ]
    },
    {
     "data": {
      "text/plain": [
       "(None, None)"
      ]
     },
     "execution_count": 122,
     "metadata": {},
     "output_type": "execute_result"
    }
   ],
   "source": [
    "log = pd.read_csv(\"log (1).xls\")\n",
    "log.columns = ['user_id', 'time', 'bet', 'win']\n",
    "\n",
    "users = pd.read_csv(\"users (1).xls\", sep = '\\t' , encoding = 'koi8_r')\n",
    "users.columns = ['user_id', 'email', 'geo']\n",
    "log.info(), users.info()"
   ]
  },
  {
   "cell_type": "markdown",
   "metadata": {},
   "source": [
    "Посчитайте количество пропусков в столбце time. Метод isna() есть не только у DataFrame, но и у Series. Это значит, что применять его можно не только ко всей таблице, но и к каждому столбцу отдельно."
   ]
  },
  {
   "cell_type": "code",
   "execution_count": 123,
   "metadata": {},
   "outputs": [
    {
     "data": {
      "text/plain": [
       "False    984\n",
       "True      15\n",
       "Name: time, dtype: int64"
      ]
     },
     "execution_count": 123,
     "metadata": {},
     "output_type": "execute_result"
    }
   ],
   "source": [
    "log.time.isna().value_counts()"
   ]
  },
  {
   "cell_type": "code",
   "execution_count": 126,
   "metadata": {},
   "outputs": [
    {
     "data": {
      "text/html": [
       "<div>\n",
       "<style scoped>\n",
       "    .dataframe tbody tr th:only-of-type {\n",
       "        vertical-align: middle;\n",
       "    }\n",
       "\n",
       "    .dataframe tbody tr th {\n",
       "        vertical-align: top;\n",
       "    }\n",
       "\n",
       "    .dataframe thead th {\n",
       "        text-align: right;\n",
       "    }\n",
       "</style>\n",
       "<table border=\"1\" class=\"dataframe\">\n",
       "  <thead>\n",
       "    <tr style=\"text-align: right;\">\n",
       "      <th></th>\n",
       "      <th>user_id</th>\n",
       "      <th>time</th>\n",
       "      <th>bet</th>\n",
       "      <th>win</th>\n",
       "    </tr>\n",
       "  </thead>\n",
       "  <tbody>\n",
       "    <tr>\n",
       "      <th>13</th>\n",
       "      <td>Запись пользователя № - user_917</td>\n",
       "      <td>[2019-01-02 8:57:36</td>\n",
       "      <td>145732.0</td>\n",
       "      <td>1987653.0</td>\n",
       "    </tr>\n",
       "    <tr>\n",
       "      <th>28</th>\n",
       "      <td>Запись пользователя № - user_942</td>\n",
       "      <td>[2019-01-04 13:59:42</td>\n",
       "      <td>1678321.0</td>\n",
       "      <td>9876543.0</td>\n",
       "    </tr>\n",
       "    <tr>\n",
       "      <th>150</th>\n",
       "      <td>Запись пользователя № - user_982</td>\n",
       "      <td>[2019-01-16 21:54:22</td>\n",
       "      <td>100.0</td>\n",
       "      <td>4749.0</td>\n",
       "    </tr>\n",
       "    <tr>\n",
       "      <th>188</th>\n",
       "      <td>Запись пользователя № - user_964</td>\n",
       "      <td>[2019-01-21 18:34:44</td>\n",
       "      <td>200.0</td>\n",
       "      <td>4667.0</td>\n",
       "    </tr>\n",
       "    <tr>\n",
       "      <th>204</th>\n",
       "      <td>Запись пользователя № - user_931</td>\n",
       "      <td>[2019-01-22 5:26:59</td>\n",
       "      <td>300.0</td>\n",
       "      <td>4319.0</td>\n",
       "    </tr>\n",
       "    <tr>\n",
       "      <th>...</th>\n",
       "      <td>...</td>\n",
       "      <td>...</td>\n",
       "      <td>...</td>\n",
       "      <td>...</td>\n",
       "    </tr>\n",
       "    <tr>\n",
       "      <th>966</th>\n",
       "      <td>Запись пользователя № - user_975</td>\n",
       "      <td>[2019-04-19 22:25:15</td>\n",
       "      <td>1000.0</td>\n",
       "      <td>6108.0</td>\n",
       "    </tr>\n",
       "    <tr>\n",
       "      <th>970</th>\n",
       "      <td>Запись пользователя № - user_912</td>\n",
       "      <td>[2019-04-20 10:35:49</td>\n",
       "      <td>10554.0</td>\n",
       "      <td>31799.0</td>\n",
       "    </tr>\n",
       "    <tr>\n",
       "      <th>971</th>\n",
       "      <td>Запись пользователя № - user_926</td>\n",
       "      <td>[2019-04-20 10:35:50</td>\n",
       "      <td>10354.0</td>\n",
       "      <td>30244.0</td>\n",
       "    </tr>\n",
       "    <tr>\n",
       "      <th>975</th>\n",
       "      <td>Запись пользователя № - user_970</td>\n",
       "      <td>[2019-04-20 10:35:54</td>\n",
       "      <td>10354.0</td>\n",
       "      <td>30691.0</td>\n",
       "    </tr>\n",
       "    <tr>\n",
       "      <th>990</th>\n",
       "      <td>Запись пользователя № - user_965</td>\n",
       "      <td>[2019-04-20 12:55:41</td>\n",
       "      <td>800.0</td>\n",
       "      <td>6927.0</td>\n",
       "    </tr>\n",
       "  </tbody>\n",
       "</table>\n",
       "<p>133 rows × 4 columns</p>\n",
       "</div>"
      ],
      "text/plain": [
       "                              user_id                  time        bet  \\\n",
       "13   Запись пользователя № - user_917   [2019-01-02 8:57:36   145732.0   \n",
       "28   Запись пользователя № - user_942  [2019-01-04 13:59:42  1678321.0   \n",
       "150  Запись пользователя № - user_982  [2019-01-16 21:54:22      100.0   \n",
       "188  Запись пользователя № - user_964  [2019-01-21 18:34:44      200.0   \n",
       "204  Запись пользователя № - user_931   [2019-01-22 5:26:59      300.0   \n",
       "..                                ...                   ...        ...   \n",
       "966  Запись пользователя № - user_975  [2019-04-19 22:25:15     1000.0   \n",
       "970  Запись пользователя № - user_912  [2019-04-20 10:35:49    10554.0   \n",
       "971  Запись пользователя № - user_926  [2019-04-20 10:35:50    10354.0   \n",
       "975  Запись пользователя № - user_970  [2019-04-20 10:35:54    10354.0   \n",
       "990  Запись пользователя № - user_965  [2019-04-20 12:55:41      800.0   \n",
       "\n",
       "           win  \n",
       "13   1987653.0  \n",
       "28   9876543.0  \n",
       "150     4749.0  \n",
       "188     4667.0  \n",
       "204     4319.0  \n",
       "..         ...  \n",
       "966     6108.0  \n",
       "970    31799.0  \n",
       "971    30244.0  \n",
       "975    30691.0  \n",
       "990     6927.0  \n",
       "\n",
       "[133 rows x 4 columns]"
      ]
     },
     "execution_count": 126,
     "metadata": {},
     "output_type": "execute_result"
    }
   ],
   "source": [
    "log.dropna(axis = 1)\n",
    "log.dropna(axis = 0) #"
   ]
  },
  {
   "cell_type": "markdown",
   "metadata": {},
   "source": [
    "Используйте оригинальный датасет log.csv.\n",
    "\n",
    "С данными в столбцах bet и win мы разберемся позже: пропуски в этих столбцах требуют особого подхода.\n",
    "\n",
    "А сейчас:\n",
    "\n",
    "если есть пропуски в столбце user_id - удалите столбец user_id,\n",
    "\n",
    "если есть пропуски в столбце time - удалите столбец time.\n",
    "\n",
    "Запишите в поле ответа, количество оставшихся столбцов в данных, после этих действий."
   ]
  },
  {
   "cell_type": "code",
   "execution_count": 16,
   "metadata": {},
   "outputs": [
    {
     "name": "stdout",
     "output_type": "stream",
     "text": [
      "<class 'pandas.core.frame.DataFrame'>\n",
      "RangeIndex: 999 entries, 0 to 998\n",
      "Data columns (total 4 columns):\n",
      " #   Column   Non-Null Count  Dtype  \n",
      "---  ------   --------------  -----  \n",
      " 0   user_id  999 non-null    object \n",
      " 1   time     984 non-null    object \n",
      " 2   bet      485 non-null    float64\n",
      " 3   win      138 non-null    float64\n",
      "dtypes: float64(2), object(2)\n",
      "memory usage: 31.3+ KB\n"
     ]
    },
    {
     "data": {
      "text/plain": [
       "0      [2019-01-01 14:51:16\n",
       "1      [2019-01-01 16:31:16\n",
       "2      [2019-01-01 17:17:51\n",
       "3      [2019-01-01 21:31:18\n",
       "4      [2019-01-01 23:34:55\n",
       "               ...         \n",
       "990    [2019-04-20 12:55:41\n",
       "991    [2019-04-20 14:59:36\n",
       "992    [2019-04-20 17:09:56\n",
       "993    [2019-04-20 18:10:07\n",
       "994     [2019-04-20 9:59:58\n",
       "Name: time, Length: 984, dtype: object"
      ]
     },
     "execution_count": 16,
     "metadata": {},
     "output_type": "execute_result"
    }
   ],
   "source": [
    "log.info()\n",
    "log.time.dropna()"
   ]
  },
  {
   "cell_type": "code",
   "execution_count": 17,
   "metadata": {},
   "outputs": [
    {
     "data": {
      "text/html": [
       "<div>\n",
       "<style scoped>\n",
       "    .dataframe tbody tr th:only-of-type {\n",
       "        vertical-align: middle;\n",
       "    }\n",
       "\n",
       "    .dataframe tbody tr th {\n",
       "        vertical-align: top;\n",
       "    }\n",
       "\n",
       "    .dataframe thead th {\n",
       "        text-align: right;\n",
       "    }\n",
       "</style>\n",
       "<table border=\"1\" class=\"dataframe\">\n",
       "  <thead>\n",
       "    <tr style=\"text-align: right;\">\n",
       "      <th></th>\n",
       "      <th>user_id</th>\n",
       "      <th>time</th>\n",
       "      <th>bet</th>\n",
       "      <th>win</th>\n",
       "    </tr>\n",
       "  </thead>\n",
       "  <tbody>\n",
       "    <tr>\n",
       "      <th>0</th>\n",
       "      <td>Запись пользователя № - user_973</td>\n",
       "      <td>[2019-01-01 14:51:16</td>\n",
       "      <td>NaN</td>\n",
       "      <td>NaN</td>\n",
       "    </tr>\n",
       "    <tr>\n",
       "      <th>1</th>\n",
       "      <td>Запись пользователя № - user_903</td>\n",
       "      <td>[2019-01-01 16:31:16</td>\n",
       "      <td>NaN</td>\n",
       "      <td>NaN</td>\n",
       "    </tr>\n",
       "    <tr>\n",
       "      <th>2</th>\n",
       "      <td>Запись пользователя № - user_954</td>\n",
       "      <td>[2019-01-01 17:17:51</td>\n",
       "      <td>NaN</td>\n",
       "      <td>NaN</td>\n",
       "    </tr>\n",
       "    <tr>\n",
       "      <th>3</th>\n",
       "      <td>Запись пользователя № - user_954</td>\n",
       "      <td>[2019-01-01 21:31:18</td>\n",
       "      <td>NaN</td>\n",
       "      <td>NaN</td>\n",
       "    </tr>\n",
       "    <tr>\n",
       "      <th>4</th>\n",
       "      <td>Запись пользователя № - user_917</td>\n",
       "      <td>[2019-01-01 23:34:55</td>\n",
       "      <td>156789.0</td>\n",
       "      <td>NaN</td>\n",
       "    </tr>\n",
       "    <tr>\n",
       "      <th>...</th>\n",
       "      <td>...</td>\n",
       "      <td>...</td>\n",
       "      <td>...</td>\n",
       "      <td>...</td>\n",
       "    </tr>\n",
       "    <tr>\n",
       "      <th>990</th>\n",
       "      <td>Запись пользователя № - user_965</td>\n",
       "      <td>[2019-04-20 12:55:41</td>\n",
       "      <td>800.0</td>\n",
       "      <td>6927.0</td>\n",
       "    </tr>\n",
       "    <tr>\n",
       "      <th>991</th>\n",
       "      <td>Запись пользователя № - user_967</td>\n",
       "      <td>[2019-04-20 14:59:36</td>\n",
       "      <td>10154.0</td>\n",
       "      <td>NaN</td>\n",
       "    </tr>\n",
       "    <tr>\n",
       "      <th>992</th>\n",
       "      <td>Запись пользователя № - user_973</td>\n",
       "      <td>[2019-04-20 17:09:56</td>\n",
       "      <td>10254.0</td>\n",
       "      <td>NaN</td>\n",
       "    </tr>\n",
       "    <tr>\n",
       "      <th>993</th>\n",
       "      <td>Запись пользователя № - user_977</td>\n",
       "      <td>[2019-04-20 18:10:07</td>\n",
       "      <td>10354.0</td>\n",
       "      <td>NaN</td>\n",
       "    </tr>\n",
       "    <tr>\n",
       "      <th>994</th>\n",
       "      <td>Запись пользователя № - user_984</td>\n",
       "      <td>[2019-04-20 9:59:58</td>\n",
       "      <td>9754.0</td>\n",
       "      <td>NaN</td>\n",
       "    </tr>\n",
       "  </tbody>\n",
       "</table>\n",
       "<p>985 rows × 4 columns</p>\n",
       "</div>"
      ],
      "text/plain": [
       "                              user_id                  time       bet     win\n",
       "0    Запись пользователя № - user_973  [2019-01-01 14:51:16       NaN     NaN\n",
       "1    Запись пользователя № - user_903  [2019-01-01 16:31:16       NaN     NaN\n",
       "2    Запись пользователя № - user_954  [2019-01-01 17:17:51       NaN     NaN\n",
       "3    Запись пользователя № - user_954  [2019-01-01 21:31:18       NaN     NaN\n",
       "4    Запись пользователя № - user_917  [2019-01-01 23:34:55  156789.0     NaN\n",
       "..                                ...                   ...       ...     ...\n",
       "990  Запись пользователя № - user_965  [2019-04-20 12:55:41     800.0  6927.0\n",
       "991  Запись пользователя № - user_967  [2019-04-20 14:59:36   10154.0     NaN\n",
       "992  Запись пользователя № - user_973  [2019-04-20 17:09:56   10254.0     NaN\n",
       "993  Запись пользователя № - user_977  [2019-04-20 18:10:07   10354.0     NaN\n",
       "994  Запись пользователя № - user_984   [2019-04-20 9:59:58    9754.0     NaN\n",
       "\n",
       "[985 rows x 4 columns]"
      ]
     },
     "execution_count": 17,
     "metadata": {},
     "output_type": "execute_result"
    }
   ],
   "source": [
    "dpp = log.drop_duplicates(['user_id', 'time'])\n",
    "dpp"
   ]
  },
  {
   "cell_type": "markdown",
   "metadata": {},
   "source": [
    "Уберите лишний символ, преобразуйте признак time к datetime. После этого найдите наибольшую дату и выведите ее без времени.\n",
    "\n",
    "Подсказка: можно применить метод max() к получившемуся столбцу со временем.\n",
    "\n",
    "Не забудьте избавиться от пропусков.\n",
    "\n",
    "Запишите ответ в формате \"YYYY-MM-DD\"."
   ]
  },
  {
   "cell_type": "code",
   "execution_count": 18,
   "metadata": {},
   "outputs": [],
   "source": [
    "log['time']=log['time'].str.replace('[','')\n",
    "log['time'] = pd.to_datetime(log.time, format = '%Y-%m-%d %H:%M:%S')"
   ]
  },
  {
   "cell_type": "code",
   "execution_count": 21,
   "metadata": {},
   "outputs": [
    {
     "data": {
      "text/plain": [
       "Timestamp('2019-04-20 18:10:07')"
      ]
     },
     "execution_count": 21,
     "metadata": {},
     "output_type": "execute_result"
    }
   ],
   "source": [
    "log.time.max()"
   ]
  },
  {
   "cell_type": "markdown",
   "metadata": {},
   "source": [
    "Используйте оригинальные данные log.csv, столбец time.\n",
    "\n",
    "Подсказка: можно использовать value_counts().\n",
    "\n",
    "Найдите минуту, которая встречалась в данных чаще всего. Введите ответ в поле ниже."
   ]
  },
  {
   "cell_type": "code",
   "execution_count": 27,
   "metadata": {},
   "outputs": [],
   "source": [
    "minutes = log['time'].dt.minute\n",
    "# minutes.value_counts()"
   ]
  },
  {
   "cell_type": "markdown",
   "metadata": {},
   "source": [
    "Используйте оригинальные данные log.csv, столбец time.\n",
    "\n",
    "Подсказка: можно использовать value_counts().\n",
    "\n",
    "Найдите месяц, который встречался в данных реже всего. Введите ответ в поле ниже."
   ]
  },
  {
   "cell_type": "code",
   "execution_count": 176,
   "metadata": {},
   "outputs": [
    {
     "data": {
      "text/plain": [
       "1.0    291\n",
       "3.0    264\n",
       "2.0    259\n",
       "4.0    170\n",
       "Name: time, dtype: int64"
      ]
     },
     "execution_count": 176,
     "metadata": {},
     "output_type": "execute_result"
    }
   ],
   "source": [
    "month = log['time'].dt.month\n",
    "month.value_counts(ascending=False)"
   ]
  },
  {
   "cell_type": "markdown",
   "metadata": {},
   "source": [
    "Используйте оригинальные данные log.csv, столбец time.\n",
    "\n",
    "Подсказка: можно использовать sum().\n",
    "\n",
    "Посчитайте, сколько дней в данных являются выходными (то есть субботой или воскресеньем). Введите ответ в поле ниже."
   ]
  },
  {
   "cell_type": "code",
   "execution_count": 227,
   "metadata": {},
   "outputs": [
    {
     "data": {
      "text/plain": [
       "5    152\n",
       "2    150\n",
       "1    150\n",
       "4    135\n",
       "0    135\n",
       "3    132\n",
       "6    131\n",
       "Name: time, dtype: int64"
      ]
     },
     "execution_count": 227,
     "metadata": {},
     "output_type": "execute_result"
    }
   ],
   "source": [
    "log = pd.read_csv(\"log (1).xls\", header = None)\n",
    "log.columns=['user_id', 'time', 'bet', 'win']\n",
    "log=log.dropna(subset=['time'], axis=0)\n",
    "log.time = log.time.str.replace('[', '')\n",
    "log.time = pd.to_datetime(log['time'])\n",
    "log.time.dt.dayofweek.value_counts()"
   ]
  },
  {
   "cell_type": "markdown",
   "metadata": {},
   "source": [
    "Используйте оригинальные данные log.csv, столбец time.\n",
    "\n",
    "Подсказка: можно использовать value_counts(). Кроме этого, потребуется написать функцию, которая преобразует дату во время дня.\n",
    "\n",
    "Договоримся, что с 0 до 5 часов - ночь, с 6 до 11 - утро, с 12 до 17 - день, с 18 до 23 - вечер.\n",
    "\n",
    "Важно: для выполнения задания вам нужно будет избавиться от пропусков только в столбце time. Вспомните, как избавиться от пропусков только по конкретному признаку.\n",
    "\n",
    "Посчитайте, какое время дня встречается в данных реже всего. Введите ответ в поле ниже: ночь, утро, день или вечер."
   ]
  },
  {
   "cell_type": "code",
   "execution_count": 265,
   "metadata": {},
   "outputs": [
    {
     "data": {
      "text/plain": [
       "Night      265\n",
       "Morning    253\n",
       "Day        240\n",
       "Evening    227\n",
       "Name: day_part, dtype: int64"
      ]
     },
     "execution_count": 265,
     "metadata": {},
     "output_type": "execute_result"
    }
   ],
   "source": [
    "log = pd.read_csv(\"log (1).xls\", header = None) \n",
    "log.columns = ['user_id', 'time', 'bet', 'win']  \n",
    "log=log.dropna(subset=['time'], axis=0) \n",
    "log['time'] = log['time'].apply(lambda x: x[1:])  \n",
    "log['time'] = pd.to_datetime(log['time'])\n",
    "log['hour'] = log['time'].dt.hour  \n",
    "\n",
    "def day_night(x):\n",
    "    if x <= 5:\n",
    "        part = 'Night'\n",
    "    elif (x >= 6) & (x <= 11):\n",
    "        part = 'Morning'\n",
    "    elif (x >= 12) & (x <= 17):\n",
    "        part = 'Day'\n",
    "    else:\n",
    "        part = 'Evening'\n",
    "    return part  \n",
    "log['day_part'] = log['hour'].apply(day_night)\n",
    "log.day_part.value_counts()"
   ]
  },
  {
   "cell_type": "markdown",
   "metadata": {},
   "source": [
    "Используйте оригинальный датасет log.csv. Результат запишите числом в поле ниже.\n",
    "\n",
    "Подсказка: можно использовать value_counts().\n",
    "\n",
    "Посчитайте, сколько раз люди приходили, но не делали ставок. Для этого заполните пропуски в столбце bet значением 0 и посчитайте количество таких значений."
   ]
  },
  {
   "cell_type": "code",
   "execution_count": 278,
   "metadata": {},
   "outputs": [
    {
     "data": {
      "text/plain": [
       "0.0          515\n",
       "500.0         50\n",
       "100.0         48\n",
       "300.0         42\n",
       "800.0         42\n",
       "200.0         40\n",
       "400.0         40\n",
       "700.0         38\n",
       "600.0         37\n",
       "1000.0        37\n",
       "900.0         30\n",
       "9754.0        10\n",
       "10554.0       10\n",
       "10154.0        7\n",
       "10254.0        7\n",
       "10454.0        6\n",
       "9954.0         6\n",
       "10754.0        5\n",
       "10654.0        5\n",
       "10354.0        4\n",
       "10054.0        4\n",
       "9854.0         2\n",
       "5000.0         1\n",
       "27000.0        1\n",
       "9876.0         1\n",
       "156789.0       1\n",
       "12945.0        1\n",
       "12548.0        1\n",
       "145732.0       1\n",
       "1678321.0      1\n",
       "98753.0        1\n",
       "123981.0       1\n",
       "104540.0       1\n",
       "8700.0         1\n",
       "950.0          1\n",
       "8734.0         1\n",
       "7650.0         1\n",
       "Name: bet, dtype: int64"
      ]
     },
     "execution_count": 278,
     "metadata": {},
     "output_type": "execute_result"
    }
   ],
   "source": [
    "log = pd.read_csv(\"log (1).xls\", header = None) \n",
    "log.columns = ['user_id', 'time', 'bet', 'win']  \n",
    "log.bet.fillna(0).value_counts()"
   ]
  },
  {
   "cell_type": "markdown",
   "metadata": {},
   "source": [
    "Заполнение с помощью функции\n",
    "Теперь поработаем с признаком win, в котором тоже есть пропуски.\n",
    "\n",
    "Иногда нужно заполнять пропуски не одним и тем же числом, а разными, в зависимости от какого-то условия. Перед нами именно этот случай.\n",
    "\n",
    "Предположим, что если в признаке win находится пропуск, то выигрыша не было. Здесь два возможных случая:\n",
    "\n",
    "Человек не делал ставки и ничего не выиграл. То есть просто пришел, посмотрел и ушел.\n",
    "Человек делал ставку, но не выиграл. Значит, выигрыш на самом деле является отрицательным значением - это проигрыш.\n",
    "Предлагаем вам написать метод, который заполнит пропуски в признаке win в соответствии с предположением выше. \n",
    "\n",
    "Для этого можно применить метод apply() ко всей таблице и передать ему функцию, которая вычисляет размер выигрыша (или проигрыша) по следующей схеме:\n",
    "\n",
    "Если значение в столбце win существует (не пропуск) - вернуть это же значение. Это значит, что человек выиграл.\n",
    "Если вместо значения в столбце win пропуск, вернуть 0.\n",
    "На выходе получится столбец без пропусков. Следующим шагом будет замена старого столбца win на новый.\n",
    "\n",
    "Выглядеть это будет примерно так:"
   ]
  },
  {
   "cell_type": "code",
   "execution_count": 303,
   "metadata": {},
   "outputs": [
    {
     "data": {
      "text/plain": [
       "347"
      ]
     },
     "execution_count": 303,
     "metadata": {},
     "output_type": "execute_result"
    }
   ],
   "source": [
    "log['bet']=log['bet'].fillna(0)\n",
    "log['win']=log['win'].fillna(0)\n",
    "def fillna_win(row):\n",
    "    if row.win<=0:\n",
    "        if row.bet == 0:\n",
    "            row.win = 0\n",
    "        else:\n",
    "            row.win = -row.bet\n",
    "    return row.win\n",
    "new_win=log.apply(lambda row: fillna_win(row), axis=1)\n",
    "log['win'] = new_win\n",
    "(log.win<0).sum()"
   ]
  },
  {
   "cell_type": "markdown",
   "metadata": {},
   "source": [
    "Используйте модифицированный в прошлой секции датасет log.csv. Результат запишите числом в поле ниже.\n",
    "\n",
    "Подсказка: можно использовать sum().\n",
    "Создайте признак net, хранящий сумму выигрыша с учетом ставки. Для этого используйте следующий алгоритм:\n",
    "- если значение признака win меньше 0 - присвоить значение признака win признаку net;\n",
    "\n",
    "- во всех остальных случаях - из значения признака win вычтите значение признака bet и полученное значение присвойте признаку net.\n",
    "\n",
    "После этого посчитайте, у скольких людей выигрыш положительный."
   ]
  },
  {
   "cell_type": "code",
   "execution_count": 319,
   "metadata": {},
   "outputs": [
    {
     "data": {
      "text/plain": [
       "4019.0     2\n",
       "4250.0     2\n",
       "4966.0     2\n",
       "6196.0     1\n",
       "5013.0     1\n",
       "          ..\n",
       "21080.0    1\n",
       "4301.0     1\n",
       "5198.0     1\n",
       "4467.0     1\n",
       "20334.0    1\n",
       "Name: net, Length: 135, dtype: int64"
      ]
     },
     "execution_count": 319,
     "metadata": {},
     "output_type": "execute_result"
    }
   ],
   "source": [
    "def fill_net(row):\n",
    "    if row.win <= 0:\n",
    "        row.net = row.win\n",
    "    else:\n",
    "        row.net = row.win - row.bet\n",
    "    return row.net\n",
    "log['net'] = log.apply(lambda row: fill_net(row), axis = 1)\n",
    "log[log.net > 0].net.value_counts()\n",
    "# log"
   ]
  },
  {
   "cell_type": "code",
   "execution_count": null,
   "metadata": {},
   "outputs": [],
   "source": []
  }
 ],
 "metadata": {
  "kernelspec": {
   "display_name": "Python 3",
   "language": "python",
   "name": "python3"
  },
  "language_info": {
   "codemirror_mode": {
    "name": "ipython",
    "version": 3
   },
   "file_extension": ".py",
   "mimetype": "text/x-python",
   "name": "python",
   "nbconvert_exporter": "python",
   "pygments_lexer": "ipython3",
   "version": "3.7.6"
  }
 },
 "nbformat": 4,
 "nbformat_minor": 4
}
