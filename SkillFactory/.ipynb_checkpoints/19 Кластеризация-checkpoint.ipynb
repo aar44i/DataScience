{
 "cells": [
  {
   "cell_type": "code",
   "execution_count": 19,
   "metadata": {},
   "outputs": [],
   "source": [
    "import pandas as pd \n",
    "import numpy as np\n",
    "from sklearn.preprocessing import StandardScaler"
   ]
  },
  {
   "cell_type": "code",
   "execution_count": 16,
   "metadata": {},
   "outputs": [],
   "source": [
    "df = pd.read_csv('./data/snsdata.csv', sep =',')"
   ]
  },
  {
   "cell_type": "markdown",
   "metadata": {},
   "source": [
    "В датасете для учеников предоставлены следующие признаки:\n",
    "\n",
    "Год выпуска\n",
    "Пол\n",
    "Возраст\n",
    "Количество друзей\n",
    "36 ключевых слов, которые встречаются в профилe Facebook (интересы, сообщества, встречи)\n",
    "Мы будем пытаться выделить кластеры исключительно по интересам, поэтому в первую очередь удалите все признаки, кроме ключевых слов.\n",
    "\n",
    "Нормализуйте оставшиеся признаки с помощью StandardScaler(). Помните, что кластеризация — обучение без учителя, поэтому разделение на обучающую и тренировочную выборку не требуется.\n",
    "\n",
    "Используйте метод k-means для кластеризации, количество кластеров возьмите за 9, random_state =123."
   ]
  },
  {
   "cell_type": "code",
   "execution_count": 6,
   "metadata": {},
   "outputs": [],
   "source": []
  },
  {
   "cell_type": "code",
   "execution_count": 22,
   "metadata": {},
   "outputs": [
    {
     "name": "stdout",
     "output_type": "stream",
     "text": [
      "[(0, 20345), (1, 424), (2, 830), (3, 1), (4, 1026), (5, 932), (6, 644), (7, 5034), (8, 764)]\n",
      "0\n",
      "1\n",
      "2\n",
      "3\n",
      "4\n",
      "5\n",
      "6\n",
      "7\n",
      "8\n"
     ]
    }
   ],
   "source": [
    "from sklearn.cluster import KMeans\n",
    "df = pd.read_csv('./data/snsdata.csv', sep =',')\n",
    "df = df.drop(['gradyear', 'gender', 'age', 'friends'], axis=1)\n",
    "\n",
    "scaler = StandardScaler().fit(df)\n",
    "X = scaler.transform(df)\n",
    "kmean = KMeans(n_clusters=9, random_state=123)\n",
    "kmean.fit(X)\n",
    "\n",
    "df = pd.DataFrame(X, columns= df.columns)\n",
    "df['cluster_label'] = kmean.labels_\n",
    "claster, counts = np.unique(kmean.labels_, return_counts=True)\n",
    "print(list(zip(claster, counts)))\n",
    "\n",
    "for k, group in df.groupby('cluster_label'):\n",
    "#     print(k)\n",
    "    top_words = group.iloc[:,:-1].mean()\\\n",
    "                 .sort_values(ascending=False)\\\n",
    "                 .head(10)\n",
    "#     print(top_words) "
   ]
  },
  {
   "cell_type": "code",
   "execution_count": null,
   "metadata": {},
   "outputs": [],
   "source": []
  }
 ],
 "metadata": {
  "kernelspec": {
   "display_name": "Python 3",
   "language": "python",
   "name": "python3"
  },
  "language_info": {
   "codemirror_mode": {
    "name": "ipython",
    "version": 3
   },
   "file_extension": ".py",
   "mimetype": "text/x-python",
   "name": "python",
   "nbconvert_exporter": "python",
   "pygments_lexer": "ipython3",
   "version": "3.7.6"
  }
 },
 "nbformat": 4,
 "nbformat_minor": 4
}
