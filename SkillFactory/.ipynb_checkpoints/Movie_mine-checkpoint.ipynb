{
 "cells": [
  {
   "cell_type": "code",
   "execution_count": 245,
   "metadata": {
    "_cell_guid": "b1076dfc-b9ad-4769-8c92-a6c4dae69d19",
    "_uuid": "8f2839f25d086af736a60e9eeb907d3b93b6e0e5",
    "colab": {},
    "colab_type": "code",
    "id": "U2D2gTdJVp90"
   },
   "outputs": [],
   "source": [
    "import numpy as np\n",
    "import pandas as pd\n",
    "import seaborn as sns\n",
    "import matplotlib.pyplot as plt\n",
    "from collections import Counter"
   ]
  },
  {
   "cell_type": "code",
   "execution_count": 215,
   "metadata": {
    "_cell_guid": "79c7e3d0-c299-4dcb-8224-4455121ee9b0",
    "_uuid": "d629ff2d2480ee46fbb7e2d37f6b5fab8052498a",
    "colab": {},
    "colab_type": "code",
    "id": "oyGfxL3eVp9-"
   },
   "outputs": [
    {
     "data": {
      "text/html": [
       "<div>\n",
       "<style scoped>\n",
       "    .dataframe tbody tr th:only-of-type {\n",
       "        vertical-align: middle;\n",
       "    }\n",
       "\n",
       "    .dataframe tbody tr th {\n",
       "        vertical-align: top;\n",
       "    }\n",
       "\n",
       "    .dataframe thead th {\n",
       "        text-align: right;\n",
       "    }\n",
       "</style>\n",
       "<table border=\"1\" class=\"dataframe\">\n",
       "  <thead>\n",
       "    <tr style=\"text-align: right;\">\n",
       "      <th></th>\n",
       "      <th>imdb_id</th>\n",
       "      <th>budget</th>\n",
       "      <th>revenue</th>\n",
       "      <th>original_title</th>\n",
       "      <th>cast</th>\n",
       "      <th>director</th>\n",
       "      <th>tagline</th>\n",
       "      <th>overview</th>\n",
       "      <th>runtime</th>\n",
       "      <th>genres</th>\n",
       "      <th>production_companies</th>\n",
       "      <th>release_date</th>\n",
       "      <th>vote_average</th>\n",
       "      <th>release_year</th>\n",
       "    </tr>\n",
       "  </thead>\n",
       "  <tbody>\n",
       "    <tr>\n",
       "      <th>0</th>\n",
       "      <td>tt0369610</td>\n",
       "      <td>150000000</td>\n",
       "      <td>1513528810</td>\n",
       "      <td>Jurassic World</td>\n",
       "      <td>Chris Pratt|Bryce Dallas Howard|Irrfan Khan|Vi...</td>\n",
       "      <td>Colin Trevorrow</td>\n",
       "      <td>The park is open.</td>\n",
       "      <td>Twenty-two years after the events of Jurassic ...</td>\n",
       "      <td>124</td>\n",
       "      <td>Action|Adventure|Science Fiction|Thriller</td>\n",
       "      <td>Universal Studios|Amblin Entertainment|Legenda...</td>\n",
       "      <td>6/9/2015</td>\n",
       "      <td>6.5</td>\n",
       "      <td>2015</td>\n",
       "    </tr>\n",
       "    <tr>\n",
       "      <th>1</th>\n",
       "      <td>tt1392190</td>\n",
       "      <td>150000000</td>\n",
       "      <td>378436354</td>\n",
       "      <td>Mad Max: Fury Road</td>\n",
       "      <td>Tom Hardy|Charlize Theron|Hugh Keays-Byrne|Nic...</td>\n",
       "      <td>George Miller</td>\n",
       "      <td>What a Lovely Day.</td>\n",
       "      <td>An apocalyptic story set in the furthest reach...</td>\n",
       "      <td>120</td>\n",
       "      <td>Action|Adventure|Science Fiction|Thriller</td>\n",
       "      <td>Village Roadshow Pictures|Kennedy Miller Produ...</td>\n",
       "      <td>5/13/2015</td>\n",
       "      <td>7.1</td>\n",
       "      <td>2015</td>\n",
       "    </tr>\n",
       "    <tr>\n",
       "      <th>2</th>\n",
       "      <td>tt2908446</td>\n",
       "      <td>110000000</td>\n",
       "      <td>295238201</td>\n",
       "      <td>Insurgent</td>\n",
       "      <td>Shailene Woodley|Theo James|Kate Winslet|Ansel...</td>\n",
       "      <td>Robert Schwentke</td>\n",
       "      <td>One Choice Can Destroy You</td>\n",
       "      <td>Beatrice Prior must confront her inner demons ...</td>\n",
       "      <td>119</td>\n",
       "      <td>Adventure|Science Fiction|Thriller</td>\n",
       "      <td>Summit Entertainment|Mandeville Films|Red Wago...</td>\n",
       "      <td>3/18/2015</td>\n",
       "      <td>6.3</td>\n",
       "      <td>2015</td>\n",
       "    </tr>\n",
       "    <tr>\n",
       "      <th>3</th>\n",
       "      <td>tt2488496</td>\n",
       "      <td>200000000</td>\n",
       "      <td>2068178225</td>\n",
       "      <td>Star Wars: The Force Awakens</td>\n",
       "      <td>Harrison Ford|Mark Hamill|Carrie Fisher|Adam D...</td>\n",
       "      <td>J.J. Abrams</td>\n",
       "      <td>Every generation has a story.</td>\n",
       "      <td>Thirty years after defeating the Galactic Empi...</td>\n",
       "      <td>136</td>\n",
       "      <td>Action|Adventure|Science Fiction|Fantasy</td>\n",
       "      <td>Lucasfilm|Truenorth Productions|Bad Robot</td>\n",
       "      <td>12/15/2015</td>\n",
       "      <td>7.5</td>\n",
       "      <td>2015</td>\n",
       "    </tr>\n",
       "    <tr>\n",
       "      <th>4</th>\n",
       "      <td>tt2820852</td>\n",
       "      <td>190000000</td>\n",
       "      <td>1506249360</td>\n",
       "      <td>Furious 7</td>\n",
       "      <td>Vin Diesel|Paul Walker|Jason Statham|Michelle ...</td>\n",
       "      <td>James Wan</td>\n",
       "      <td>Vengeance Hits Home</td>\n",
       "      <td>Deckard Shaw seeks revenge against Dominic Tor...</td>\n",
       "      <td>137</td>\n",
       "      <td>Action|Crime|Thriller</td>\n",
       "      <td>Universal Pictures|Original Film|Media Rights ...</td>\n",
       "      <td>4/1/2015</td>\n",
       "      <td>7.3</td>\n",
       "      <td>2015</td>\n",
       "    </tr>\n",
       "    <tr>\n",
       "      <th>...</th>\n",
       "      <td>...</td>\n",
       "      <td>...</td>\n",
       "      <td>...</td>\n",
       "      <td>...</td>\n",
       "      <td>...</td>\n",
       "      <td>...</td>\n",
       "      <td>...</td>\n",
       "      <td>...</td>\n",
       "      <td>...</td>\n",
       "      <td>...</td>\n",
       "      <td>...</td>\n",
       "      <td>...</td>\n",
       "      <td>...</td>\n",
       "      <td>...</td>\n",
       "    </tr>\n",
       "    <tr>\n",
       "      <th>1884</th>\n",
       "      <td>tt0120903</td>\n",
       "      <td>75000000</td>\n",
       "      <td>157299717</td>\n",
       "      <td>X-Men</td>\n",
       "      <td>Patrick Stewart|Hugh Jackman|Ian McKellen|Hall...</td>\n",
       "      <td>Bryan Singer</td>\n",
       "      <td>Evolution Begins</td>\n",
       "      <td>Two mutants, Rogue and Wolverine, come to a pr...</td>\n",
       "      <td>104</td>\n",
       "      <td>Adventure|Action|Science Fiction</td>\n",
       "      <td>Twentieth Century Fox Film Corporation|Donners...</td>\n",
       "      <td>7/13/2000</td>\n",
       "      <td>6.6</td>\n",
       "      <td>2000</td>\n",
       "    </tr>\n",
       "    <tr>\n",
       "      <th>1885</th>\n",
       "      <td>tt0192255</td>\n",
       "      <td>22000000</td>\n",
       "      <td>13555988</td>\n",
       "      <td>The Little Vampire</td>\n",
       "      <td>Richard E. Grant|Jonathan Lipnicki|Jim Carter|...</td>\n",
       "      <td>Uli Edel</td>\n",
       "      <td>They're not just best friends, they're blood b...</td>\n",
       "      <td>Based on the popular books, the story tells of...</td>\n",
       "      <td>95</td>\n",
       "      <td>Horror|Family|Foreign</td>\n",
       "      <td>New Line Cinema</td>\n",
       "      <td>10/27/2000</td>\n",
       "      <td>6.4</td>\n",
       "      <td>2000</td>\n",
       "    </tr>\n",
       "    <tr>\n",
       "      <th>1886</th>\n",
       "      <td>tt0131704</td>\n",
       "      <td>76000000</td>\n",
       "      <td>35134820</td>\n",
       "      <td>The Adventures of Rocky &amp; Bullwinkle</td>\n",
       "      <td>Rene Russo|Jason Alexander|Piper Perabo|Randy ...</td>\n",
       "      <td>Des McAnuff</td>\n",
       "      <td>This summer it's not the same old bull.</td>\n",
       "      <td>Rocky and Bullwinkle have been living off the ...</td>\n",
       "      <td>88</td>\n",
       "      <td>Adventure|Animation|Action|Comedy|Family</td>\n",
       "      <td>Universal Pictures|Capella International|KC Me...</td>\n",
       "      <td>6/30/2000</td>\n",
       "      <td>4.0</td>\n",
       "      <td>2000</td>\n",
       "    </tr>\n",
       "    <tr>\n",
       "      <th>1887</th>\n",
       "      <td>tt0162983</td>\n",
       "      <td>40000000</td>\n",
       "      <td>36037909</td>\n",
       "      <td>Hanging Up</td>\n",
       "      <td>Meg Ryan|Diane Keaton|Lisa Kudrow|Walter Matth...</td>\n",
       "      <td>Diane Keaton</td>\n",
       "      <td>Every family has a few hang-ups.</td>\n",
       "      <td>A trio of sisters bond over their ambivalence ...</td>\n",
       "      <td>94</td>\n",
       "      <td>Comedy|Drama</td>\n",
       "      <td>Laurence Mark Productions|Columbia Pictures Co...</td>\n",
       "      <td>2/16/2000</td>\n",
       "      <td>5.2</td>\n",
       "      <td>2000</td>\n",
       "    </tr>\n",
       "    <tr>\n",
       "      <th>1888</th>\n",
       "      <td>tt0163676</td>\n",
       "      <td>15000000</td>\n",
       "      <td>5217498</td>\n",
       "      <td>The In Crowd</td>\n",
       "      <td>Susan Ward|Lori Heuring|Matthew Settle|Nathan ...</td>\n",
       "      <td>Mary Lambert</td>\n",
       "      <td>What would you do to get in?</td>\n",
       "      <td>A mentally disturbed young woman takes a job a...</td>\n",
       "      <td>105</td>\n",
       "      <td>Thriller</td>\n",
       "      <td>Warner Bros. Pictures</td>\n",
       "      <td>7/19/2000</td>\n",
       "      <td>5.2</td>\n",
       "      <td>2000</td>\n",
       "    </tr>\n",
       "  </tbody>\n",
       "</table>\n",
       "<p>1889 rows × 14 columns</p>\n",
       "</div>"
      ],
      "text/plain": [
       "        imdb_id     budget     revenue                        original_title  \\\n",
       "0     tt0369610  150000000  1513528810                        Jurassic World   \n",
       "1     tt1392190  150000000   378436354                    Mad Max: Fury Road   \n",
       "2     tt2908446  110000000   295238201                             Insurgent   \n",
       "3     tt2488496  200000000  2068178225          Star Wars: The Force Awakens   \n",
       "4     tt2820852  190000000  1506249360                             Furious 7   \n",
       "...         ...        ...         ...                                   ...   \n",
       "1884  tt0120903   75000000   157299717                                 X-Men   \n",
       "1885  tt0192255   22000000    13555988                    The Little Vampire   \n",
       "1886  tt0131704   76000000    35134820  The Adventures of Rocky & Bullwinkle   \n",
       "1887  tt0162983   40000000    36037909                            Hanging Up   \n",
       "1888  tt0163676   15000000     5217498                          The In Crowd   \n",
       "\n",
       "                                                   cast          director  \\\n",
       "0     Chris Pratt|Bryce Dallas Howard|Irrfan Khan|Vi...   Colin Trevorrow   \n",
       "1     Tom Hardy|Charlize Theron|Hugh Keays-Byrne|Nic...     George Miller   \n",
       "2     Shailene Woodley|Theo James|Kate Winslet|Ansel...  Robert Schwentke   \n",
       "3     Harrison Ford|Mark Hamill|Carrie Fisher|Adam D...       J.J. Abrams   \n",
       "4     Vin Diesel|Paul Walker|Jason Statham|Michelle ...         James Wan   \n",
       "...                                                 ...               ...   \n",
       "1884  Patrick Stewart|Hugh Jackman|Ian McKellen|Hall...      Bryan Singer   \n",
       "1885  Richard E. Grant|Jonathan Lipnicki|Jim Carter|...          Uli Edel   \n",
       "1886  Rene Russo|Jason Alexander|Piper Perabo|Randy ...       Des McAnuff   \n",
       "1887  Meg Ryan|Diane Keaton|Lisa Kudrow|Walter Matth...      Diane Keaton   \n",
       "1888  Susan Ward|Lori Heuring|Matthew Settle|Nathan ...      Mary Lambert   \n",
       "\n",
       "                                                tagline  \\\n",
       "0                                     The park is open.   \n",
       "1                                    What a Lovely Day.   \n",
       "2                            One Choice Can Destroy You   \n",
       "3                         Every generation has a story.   \n",
       "4                                   Vengeance Hits Home   \n",
       "...                                                 ...   \n",
       "1884                                   Evolution Begins   \n",
       "1885  They're not just best friends, they're blood b...   \n",
       "1886            This summer it's not the same old bull.   \n",
       "1887                   Every family has a few hang-ups.   \n",
       "1888                       What would you do to get in?   \n",
       "\n",
       "                                               overview  runtime  \\\n",
       "0     Twenty-two years after the events of Jurassic ...      124   \n",
       "1     An apocalyptic story set in the furthest reach...      120   \n",
       "2     Beatrice Prior must confront her inner demons ...      119   \n",
       "3     Thirty years after defeating the Galactic Empi...      136   \n",
       "4     Deckard Shaw seeks revenge against Dominic Tor...      137   \n",
       "...                                                 ...      ...   \n",
       "1884  Two mutants, Rogue and Wolverine, come to a pr...      104   \n",
       "1885  Based on the popular books, the story tells of...       95   \n",
       "1886  Rocky and Bullwinkle have been living off the ...       88   \n",
       "1887  A trio of sisters bond over their ambivalence ...       94   \n",
       "1888  A mentally disturbed young woman takes a job a...      105   \n",
       "\n",
       "                                         genres  \\\n",
       "0     Action|Adventure|Science Fiction|Thriller   \n",
       "1     Action|Adventure|Science Fiction|Thriller   \n",
       "2            Adventure|Science Fiction|Thriller   \n",
       "3      Action|Adventure|Science Fiction|Fantasy   \n",
       "4                         Action|Crime|Thriller   \n",
       "...                                         ...   \n",
       "1884           Adventure|Action|Science Fiction   \n",
       "1885                      Horror|Family|Foreign   \n",
       "1886   Adventure|Animation|Action|Comedy|Family   \n",
       "1887                               Comedy|Drama   \n",
       "1888                                   Thriller   \n",
       "\n",
       "                                   production_companies release_date  \\\n",
       "0     Universal Studios|Amblin Entertainment|Legenda...     6/9/2015   \n",
       "1     Village Roadshow Pictures|Kennedy Miller Produ...    5/13/2015   \n",
       "2     Summit Entertainment|Mandeville Films|Red Wago...    3/18/2015   \n",
       "3             Lucasfilm|Truenorth Productions|Bad Robot   12/15/2015   \n",
       "4     Universal Pictures|Original Film|Media Rights ...     4/1/2015   \n",
       "...                                                 ...          ...   \n",
       "1884  Twentieth Century Fox Film Corporation|Donners...    7/13/2000   \n",
       "1885                                    New Line Cinema   10/27/2000   \n",
       "1886  Universal Pictures|Capella International|KC Me...    6/30/2000   \n",
       "1887  Laurence Mark Productions|Columbia Pictures Co...    2/16/2000   \n",
       "1888                              Warner Bros. Pictures    7/19/2000   \n",
       "\n",
       "      vote_average  release_year  \n",
       "0              6.5          2015  \n",
       "1              7.1          2015  \n",
       "2              6.3          2015  \n",
       "3              7.5          2015  \n",
       "4              7.3          2015  \n",
       "...            ...           ...  \n",
       "1884           6.6          2000  \n",
       "1885           6.4          2000  \n",
       "1886           4.0          2000  \n",
       "1887           5.2          2000  \n",
       "1888           5.2          2000  \n",
       "\n",
       "[1889 rows x 14 columns]"
      ]
     },
     "execution_count": 215,
     "metadata": {},
     "output_type": "execute_result"
    }
   ],
   "source": [
    "df = pd.read_csv('movie_bd_v5 (1).xls')\n",
    "df"
   ]
  },
  {
   "cell_type": "code",
   "execution_count": 216,
   "metadata": {},
   "outputs": [],
   "source": [
    "data = pd.read_csv('movie_bd_v5 (1).xls')\n"
   ]
  },
  {
   "cell_type": "code",
   "execution_count": 217,
   "metadata": {
    "colab": {},
    "colab_type": "code",
    "id": "CoYUnagMVp-C"
   },
   "outputs": [
    {
     "data": {
      "text/html": [
       "<div>\n",
       "<style scoped>\n",
       "    .dataframe tbody tr th:only-of-type {\n",
       "        vertical-align: middle;\n",
       "    }\n",
       "\n",
       "    .dataframe tbody tr th {\n",
       "        vertical-align: top;\n",
       "    }\n",
       "\n",
       "    .dataframe thead th {\n",
       "        text-align: right;\n",
       "    }\n",
       "</style>\n",
       "<table border=\"1\" class=\"dataframe\">\n",
       "  <thead>\n",
       "    <tr style=\"text-align: right;\">\n",
       "      <th></th>\n",
       "      <th>budget</th>\n",
       "      <th>revenue</th>\n",
       "      <th>runtime</th>\n",
       "      <th>vote_average</th>\n",
       "      <th>release_year</th>\n",
       "    </tr>\n",
       "  </thead>\n",
       "  <tbody>\n",
       "    <tr>\n",
       "      <th>count</th>\n",
       "      <td>1.889000e+03</td>\n",
       "      <td>1.889000e+03</td>\n",
       "      <td>1889.000000</td>\n",
       "      <td>1889.000000</td>\n",
       "      <td>1889.000000</td>\n",
       "    </tr>\n",
       "    <tr>\n",
       "      <th>mean</th>\n",
       "      <td>5.431083e+07</td>\n",
       "      <td>1.553653e+08</td>\n",
       "      <td>109.658549</td>\n",
       "      <td>6.140762</td>\n",
       "      <td>2007.860773</td>\n",
       "    </tr>\n",
       "    <tr>\n",
       "      <th>std</th>\n",
       "      <td>4.858721e+07</td>\n",
       "      <td>2.146698e+08</td>\n",
       "      <td>18.017041</td>\n",
       "      <td>0.764763</td>\n",
       "      <td>4.468841</td>\n",
       "    </tr>\n",
       "    <tr>\n",
       "      <th>min</th>\n",
       "      <td>5.000000e+06</td>\n",
       "      <td>2.033165e+06</td>\n",
       "      <td>63.000000</td>\n",
       "      <td>3.300000</td>\n",
       "      <td>2000.000000</td>\n",
       "    </tr>\n",
       "    <tr>\n",
       "      <th>25%</th>\n",
       "      <td>2.000000e+07</td>\n",
       "      <td>3.456058e+07</td>\n",
       "      <td>97.000000</td>\n",
       "      <td>5.600000</td>\n",
       "      <td>2004.000000</td>\n",
       "    </tr>\n",
       "    <tr>\n",
       "      <th>50%</th>\n",
       "      <td>3.800000e+07</td>\n",
       "      <td>8.361541e+07</td>\n",
       "      <td>107.000000</td>\n",
       "      <td>6.100000</td>\n",
       "      <td>2008.000000</td>\n",
       "    </tr>\n",
       "    <tr>\n",
       "      <th>75%</th>\n",
       "      <td>7.200000e+07</td>\n",
       "      <td>1.782626e+08</td>\n",
       "      <td>120.000000</td>\n",
       "      <td>6.600000</td>\n",
       "      <td>2012.000000</td>\n",
       "    </tr>\n",
       "    <tr>\n",
       "      <th>max</th>\n",
       "      <td>3.800000e+08</td>\n",
       "      <td>2.781506e+09</td>\n",
       "      <td>214.000000</td>\n",
       "      <td>8.100000</td>\n",
       "      <td>2015.000000</td>\n",
       "    </tr>\n",
       "  </tbody>\n",
       "</table>\n",
       "</div>"
      ],
      "text/plain": [
       "             budget       revenue      runtime  vote_average  release_year\n",
       "count  1.889000e+03  1.889000e+03  1889.000000   1889.000000   1889.000000\n",
       "mean   5.431083e+07  1.553653e+08   109.658549      6.140762   2007.860773\n",
       "std    4.858721e+07  2.146698e+08    18.017041      0.764763      4.468841\n",
       "min    5.000000e+06  2.033165e+06    63.000000      3.300000   2000.000000\n",
       "25%    2.000000e+07  3.456058e+07    97.000000      5.600000   2004.000000\n",
       "50%    3.800000e+07  8.361541e+07   107.000000      6.100000   2008.000000\n",
       "75%    7.200000e+07  1.782626e+08   120.000000      6.600000   2012.000000\n",
       "max    3.800000e+08  2.781506e+09   214.000000      8.100000   2015.000000"
      ]
     },
     "execution_count": 217,
     "metadata": {},
     "output_type": "execute_result"
    }
   ],
   "source": [
    "df.describe()"
   ]
  },
  {
   "cell_type": "code",
   "execution_count": 218,
   "metadata": {},
   "outputs": [],
   "source": [
    "df_1 = df"
   ]
  },
  {
   "cell_type": "markdown",
   "metadata": {
    "colab_type": "text",
    "id": "DTIt7ezGVp-G"
   },
   "source": [
    "# Предобработка"
   ]
  },
  {
   "cell_type": "code",
   "execution_count": 219,
   "metadata": {
    "colab": {},
    "colab_type": "code",
    "id": "jNb40DwKVp-H"
   },
   "outputs": [],
   "source": [
    "answers = {} # создадим словарь для ответов\n",
    "\n",
    "# тут другие ваши предобработки колонок например:\n",
    "df['profit'] = df.revenue - df.budget\n",
    "#the time given in the dataset is in string format.\n",
    "#So we need to change this in datetime format\n",
    "# ..."
   ]
  },
  {
   "cell_type": "markdown",
   "metadata": {
    "colab_type": "text",
    "id": "YxZaH-nPVp-L"
   },
   "source": [
    "# 1. У какого фильма из списка самый большой бюджет?"
   ]
  },
  {
   "cell_type": "markdown",
   "metadata": {
    "colab_type": "text",
    "id": "Nd-G5gX6Vp-M"
   },
   "source": [
    "Использовать варианты ответов в коде решения запрещено.    \n",
    "Вы думаете и в жизни у вас будут варианты ответов?)"
   ]
  },
  {
   "cell_type": "code",
   "execution_count": 220,
   "metadata": {
    "colab": {},
    "colab_type": "code",
    "id": "uVnXAY5RVp-O"
   },
   "outputs": [],
   "source": [
    "# в словарь вставляем номер вопроса и ваш ответ на него\n",
    "# Пример: \n",
    "answers['1'] = '2. Spider-Man 3 (tt0413300)'\n",
    "# запишите свой вариант ответа\n",
    "answers['1'] = '...'\n",
    "# если ответили верно, можете добавить комментарий со значком \"+\""
   ]
  },
  {
   "cell_type": "code",
   "execution_count": 221,
   "metadata": {
    "colab": {},
    "colab_type": "code",
    "id": "dZwb3m28Vp-S"
   },
   "outputs": [
    {
     "data": {
      "text/html": [
       "<div>\n",
       "<style scoped>\n",
       "    .dataframe tbody tr th:only-of-type {\n",
       "        vertical-align: middle;\n",
       "    }\n",
       "\n",
       "    .dataframe tbody tr th {\n",
       "        vertical-align: top;\n",
       "    }\n",
       "\n",
       "    .dataframe thead th {\n",
       "        text-align: right;\n",
       "    }\n",
       "</style>\n",
       "<table border=\"1\" class=\"dataframe\">\n",
       "  <thead>\n",
       "    <tr style=\"text-align: right;\">\n",
       "      <th></th>\n",
       "      <th>imdb_id</th>\n",
       "      <th>original_title</th>\n",
       "      <th>budget</th>\n",
       "    </tr>\n",
       "  </thead>\n",
       "  <tbody>\n",
       "    <tr>\n",
       "      <th>723</th>\n",
       "      <td>tt1298650</td>\n",
       "      <td>Pirates of the Caribbean: On Stranger Tides</td>\n",
       "      <td>380000000</td>\n",
       "    </tr>\n",
       "  </tbody>\n",
       "</table>\n",
       "</div>"
      ],
      "text/plain": [
       "       imdb_id                               original_title     budget\n",
       "723  tt1298650  Pirates of the Caribbean: On Stranger Tides  380000000"
      ]
     },
     "execution_count": 221,
     "metadata": {},
     "output_type": "execute_result"
    }
   ],
   "source": [
    "# тут пишем ваш код для решения данного вопроса:\n",
    "df[df.budget == df.budget.max()][['imdb_id', 'original_title', 'budget']]\n",
    "# data[data.budget == max(data.budget)][['imdb_id', 'original_title', 'budget']]"
   ]
  },
  {
   "cell_type": "code",
   "execution_count": 222,
   "metadata": {},
   "outputs": [],
   "source": [
    "answers['1'] = '5. Pirates of the Caribbean: On Stranger Tides (tt1298650)'"
   ]
  },
  {
   "cell_type": "code",
   "execution_count": 223,
   "metadata": {},
   "outputs": [
    {
     "data": {
      "text/plain": [
       "{'1': '5. Pirates of the Caribbean: On Stranger Tides (tt1298650)'}"
      ]
     },
     "execution_count": 223,
     "metadata": {},
     "output_type": "execute_result"
    }
   ],
   "source": [
    "answers"
   ]
  },
  {
   "cell_type": "markdown",
   "metadata": {
    "colab_type": "text",
    "id": "K7L3nbRXVp-X"
   },
   "source": [
    "ВАРИАНТ 2"
   ]
  },
  {
   "cell_type": "code",
   "execution_count": 224,
   "metadata": {
    "colab": {},
    "colab_type": "code",
    "id": "OGaoQI7rVp-X"
   },
   "outputs": [],
   "source": [
    "# можно добавлять разные варианты решения"
   ]
  },
  {
   "cell_type": "markdown",
   "metadata": {
    "colab_type": "text",
    "id": "FNRbbI3vVp-c"
   },
   "source": [
    "# 2. Какой из фильмов самый длительный (в минутах)?"
   ]
  },
  {
   "cell_type": "code",
   "execution_count": 225,
   "metadata": {
    "colab": {},
    "colab_type": "code",
    "id": "vHAoEXNTVp-d"
   },
   "outputs": [],
   "source": [
    "# думаю логику работы с этим словарем вы уже поняли, \n",
    "# по этому не буду больше его дублировать\n",
    "answers['2'] = '1157\ttt0279111\tGods and Generals\t56000000'"
   ]
  },
  {
   "cell_type": "code",
   "execution_count": 226,
   "metadata": {
    "colab": {},
    "colab_type": "code",
    "id": "ot-VX2XrVp-g"
   },
   "outputs": [
    {
     "data": {
      "text/html": [
       "<div>\n",
       "<style scoped>\n",
       "    .dataframe tbody tr th:only-of-type {\n",
       "        vertical-align: middle;\n",
       "    }\n",
       "\n",
       "    .dataframe tbody tr th {\n",
       "        vertical-align: top;\n",
       "    }\n",
       "\n",
       "    .dataframe thead th {\n",
       "        text-align: right;\n",
       "    }\n",
       "</style>\n",
       "<table border=\"1\" class=\"dataframe\">\n",
       "  <thead>\n",
       "    <tr style=\"text-align: right;\">\n",
       "      <th></th>\n",
       "      <th>imdb_id</th>\n",
       "      <th>original_title</th>\n",
       "      <th>budget</th>\n",
       "    </tr>\n",
       "  </thead>\n",
       "  <tbody>\n",
       "    <tr>\n",
       "      <th>1157</th>\n",
       "      <td>tt0279111</td>\n",
       "      <td>Gods and Generals</td>\n",
       "      <td>56000000</td>\n",
       "    </tr>\n",
       "  </tbody>\n",
       "</table>\n",
       "</div>"
      ],
      "text/plain": [
       "        imdb_id     original_title    budget\n",
       "1157  tt0279111  Gods and Generals  56000000"
      ]
     },
     "execution_count": 226,
     "metadata": {},
     "output_type": "execute_result"
    }
   ],
   "source": [
    "\n",
    "df[df.runtime == max(df.runtime)][['imdb_id', 'original_title', 'budget']]"
   ]
  },
  {
   "cell_type": "markdown",
   "metadata": {
    "colab_type": "text",
    "id": "bapLlpW8Vp-k"
   },
   "source": [
    "# 3. Какой из фильмов самый короткий (в минутах)?\n",
    "\n",
    "\n",
    "\n"
   ]
  },
  {
   "cell_type": "code",
   "execution_count": 227,
   "metadata": {
    "colab": {},
    "colab_type": "code",
    "id": "YBxaSHuAVp-l"
   },
   "outputs": [
    {
     "data": {
      "text/html": [
       "<div>\n",
       "<style scoped>\n",
       "    .dataframe tbody tr th:only-of-type {\n",
       "        vertical-align: middle;\n",
       "    }\n",
       "\n",
       "    .dataframe tbody tr th {\n",
       "        vertical-align: top;\n",
       "    }\n",
       "\n",
       "    .dataframe thead th {\n",
       "        text-align: right;\n",
       "    }\n",
       "</style>\n",
       "<table border=\"1\" class=\"dataframe\">\n",
       "  <thead>\n",
       "    <tr style=\"text-align: right;\">\n",
       "      <th></th>\n",
       "      <th>imdb_id</th>\n",
       "      <th>original_title</th>\n",
       "      <th>budget</th>\n",
       "    </tr>\n",
       "  </thead>\n",
       "  <tbody>\n",
       "    <tr>\n",
       "      <th>768</th>\n",
       "      <td>tt1449283</td>\n",
       "      <td>Winnie the Pooh</td>\n",
       "      <td>30000000</td>\n",
       "    </tr>\n",
       "  </tbody>\n",
       "</table>\n",
       "</div>"
      ],
      "text/plain": [
       "       imdb_id   original_title    budget\n",
       "768  tt1449283  Winnie the Pooh  30000000"
      ]
     },
     "execution_count": 227,
     "metadata": {},
     "output_type": "execute_result"
    }
   ],
   "source": [
    "df[df.runtime == min(df.runtime)][['imdb_id', 'original_title', 'budget']]"
   ]
  },
  {
   "cell_type": "code",
   "execution_count": 228,
   "metadata": {},
   "outputs": [],
   "source": [
    "answers['3'] = '768\ttt1449283\tWinnie the Pooh\t30000000'"
   ]
  },
  {
   "cell_type": "markdown",
   "metadata": {
    "colab_type": "text",
    "id": "TfQbxbfNVp-p"
   },
   "source": [
    "# 4. Какова средняя длительность фильмов?\n"
   ]
  },
  {
   "cell_type": "code",
   "execution_count": 229,
   "metadata": {
    "colab": {},
    "colab_type": "code",
    "id": "5K6dKZYVVp-q"
   },
   "outputs": [
    {
     "data": {
      "text/plain": [
       "109.6585494970884"
      ]
     },
     "execution_count": 229,
     "metadata": {},
     "output_type": "execute_result"
    }
   ],
   "source": [
    "df.runtime.mean()"
   ]
  },
  {
   "cell_type": "code",
   "execution_count": 230,
   "metadata": {},
   "outputs": [],
   "source": [
    "answers['4'] = '2. 110'"
   ]
  },
  {
   "cell_type": "markdown",
   "metadata": {
    "colab_type": "text",
    "id": "r5TvbnT_Vp-u"
   },
   "source": [
    "# 5. Каково медианное значение длительности фильмов? "
   ]
  },
  {
   "cell_type": "code",
   "execution_count": 162,
   "metadata": {
    "colab": {},
    "colab_type": "code",
    "id": "iBROplKnVp-v"
   },
   "outputs": [
    {
     "data": {
      "text/plain": [
       "107.0"
      ]
     },
     "execution_count": 162,
     "metadata": {},
     "output_type": "execute_result"
    }
   ],
   "source": [
    "df.runtime.median()"
   ]
  },
  {
   "cell_type": "code",
   "execution_count": 163,
   "metadata": {},
   "outputs": [],
   "source": [
    "answers['5'] = '107'"
   ]
  },
  {
   "cell_type": "markdown",
   "metadata": {
    "colab_type": "text",
    "id": "39P-deDSVp-y"
   },
   "source": [
    "# 6. Какой самый прибыльный фильм?\n",
    "#### Внимание! Здесь и далее под «прибылью» или «убытками» понимается разность между сборами и бюджетом фильма. (прибыль = сборы - бюджет) в нашем датасете это будет (profit = revenue - budget) "
   ]
  },
  {
   "cell_type": "code",
   "execution_count": 164,
   "metadata": {
    "colab": {},
    "colab_type": "code",
    "id": "UYZh4T9WVp-y"
   },
   "outputs": [
    {
     "data": {
      "text/html": [
       "<div>\n",
       "<style scoped>\n",
       "    .dataframe tbody tr th:only-of-type {\n",
       "        vertical-align: middle;\n",
       "    }\n",
       "\n",
       "    .dataframe tbody tr th {\n",
       "        vertical-align: top;\n",
       "    }\n",
       "\n",
       "    .dataframe thead th {\n",
       "        text-align: right;\n",
       "    }\n",
       "</style>\n",
       "<table border=\"1\" class=\"dataframe\">\n",
       "  <thead>\n",
       "    <tr style=\"text-align: right;\">\n",
       "      <th></th>\n",
       "      <th>original_title</th>\n",
       "      <th>imdb_id</th>\n",
       "      <th>profit</th>\n",
       "    </tr>\n",
       "  </thead>\n",
       "  <tbody>\n",
       "    <tr>\n",
       "      <th>239</th>\n",
       "      <td>Avatar</td>\n",
       "      <td>tt0499549</td>\n",
       "      <td>2544505847</td>\n",
       "    </tr>\n",
       "  </tbody>\n",
       "</table>\n",
       "</div>"
      ],
      "text/plain": [
       "    original_title    imdb_id      profit\n",
       "239         Avatar  tt0499549  2544505847"
      ]
     },
     "execution_count": 164,
     "metadata": {},
     "output_type": "execute_result"
    }
   ],
   "source": [
    "df[df.profit == max(df.profit)][['original_title', 'imdb_id', 'profit']]# лучше код получения столбца profit вынести в Предобработку что в начале"
   ]
  },
  {
   "cell_type": "code",
   "execution_count": 165,
   "metadata": {},
   "outputs": [],
   "source": [
    "answers['6'] = '239\tAvatar\ttt0499549\t2544505847'"
   ]
  },
  {
   "cell_type": "markdown",
   "metadata": {
    "colab_type": "text",
    "id": "M99JmIX4Vp-2"
   },
   "source": [
    "# 7. Какой фильм самый убыточный? "
   ]
  },
  {
   "cell_type": "code",
   "execution_count": 166,
   "metadata": {
    "colab": {},
    "colab_type": "code",
    "id": "w-D2m4XPVp-3"
   },
   "outputs": [
    {
     "data": {
      "text/html": [
       "<div>\n",
       "<style scoped>\n",
       "    .dataframe tbody tr th:only-of-type {\n",
       "        vertical-align: middle;\n",
       "    }\n",
       "\n",
       "    .dataframe tbody tr th {\n",
       "        vertical-align: top;\n",
       "    }\n",
       "\n",
       "    .dataframe thead th {\n",
       "        text-align: right;\n",
       "    }\n",
       "</style>\n",
       "<table border=\"1\" class=\"dataframe\">\n",
       "  <thead>\n",
       "    <tr style=\"text-align: right;\">\n",
       "      <th></th>\n",
       "      <th>original_title</th>\n",
       "      <th>imdb_id</th>\n",
       "      <th>profit</th>\n",
       "    </tr>\n",
       "  </thead>\n",
       "  <tbody>\n",
       "    <tr>\n",
       "      <th>1245</th>\n",
       "      <td>The Lone Ranger</td>\n",
       "      <td>tt1210819</td>\n",
       "      <td>-165710090</td>\n",
       "    </tr>\n",
       "  </tbody>\n",
       "</table>\n",
       "</div>"
      ],
      "text/plain": [
       "       original_title    imdb_id     profit\n",
       "1245  The Lone Ranger  tt1210819 -165710090"
      ]
     },
     "execution_count": 166,
     "metadata": {},
     "output_type": "execute_result"
    }
   ],
   "source": [
    "df[df.profit == min(df.profit)][['original_title', 'imdb_id', 'profit']]"
   ]
  },
  {
   "cell_type": "code",
   "execution_count": 167,
   "metadata": {},
   "outputs": [],
   "source": [
    "answers['7'] = '1245\tThe Lone Ranger\ttt1210819\t-165710090'"
   ]
  },
  {
   "cell_type": "markdown",
   "metadata": {
    "colab_type": "text",
    "id": "wEOM5ERVVp-6"
   },
   "source": [
    "# 8. У скольких фильмов из датасета объем сборов оказался выше бюджета?"
   ]
  },
  {
   "cell_type": "code",
   "execution_count": 168,
   "metadata": {
    "colab": {},
    "colab_type": "code",
    "id": "y00_7HD6Vp-7"
   },
   "outputs": [
    {
     "data": {
      "text/plain": [
       "1478"
      ]
     },
     "execution_count": 168,
     "metadata": {},
     "output_type": "execute_result"
    }
   ],
   "source": [
    "len(df[df.revenue > df.budget])"
   ]
  },
  {
   "cell_type": "code",
   "execution_count": 169,
   "metadata": {},
   "outputs": [],
   "source": [
    "answers['8'] = 1478"
   ]
  },
  {
   "cell_type": "markdown",
   "metadata": {
    "colab_type": "text",
    "id": "xhpspA9KVp_A"
   },
   "source": [
    "# 9. Какой фильм оказался самым кассовым в 2008 году?"
   ]
  },
  {
   "cell_type": "code",
   "execution_count": 170,
   "metadata": {
    "colab": {},
    "colab_type": "code",
    "id": "MoUyQr9RVp_B"
   },
   "outputs": [
    {
     "data": {
      "text/plain": [
       "1001921825"
      ]
     },
     "execution_count": 170,
     "metadata": {},
     "output_type": "execute_result"
    }
   ],
   "source": [
    "df[df.release_year == 2008].revenue.max()"
   ]
  },
  {
   "cell_type": "code",
   "execution_count": 171,
   "metadata": {},
   "outputs": [
    {
     "data": {
      "text/plain": [
       "599"
      ]
     },
     "execution_count": 171,
     "metadata": {},
     "output_type": "execute_result"
    }
   ],
   "source": [
    "movie_id = df[df.release_year == 2008].revenue.idxmax()\n",
    "# df.loc[movie_id].original_title\n",
    "movie_id"
   ]
  },
  {
   "cell_type": "code",
   "execution_count": 172,
   "metadata": {},
   "outputs": [
    {
     "data": {
      "text/plain": [
       "599    The Dark Knight\n",
       "Name: original_title, dtype: object"
      ]
     },
     "execution_count": 172,
     "metadata": {},
     "output_type": "execute_result"
    }
   ],
   "source": [
    "data_2008 = df[df['release_year'] == 2008]\n",
    "data_2008.sort_values(by = 'revenue', ascending = False).head(1).original_title"
   ]
  },
  {
   "cell_type": "code",
   "execution_count": 173,
   "metadata": {},
   "outputs": [],
   "source": [
    "answers['9'] = 'The Dark Knight'"
   ]
  },
  {
   "cell_type": "markdown",
   "metadata": {
    "colab_type": "text",
    "id": "Zi4hDKidVp_F"
   },
   "source": [
    "# 10. Самый убыточный фильм за период с 2012 по 2014 г. (включительно)?\n"
   ]
  },
  {
   "cell_type": "code",
   "execution_count": 174,
   "metadata": {
    "colab": {},
    "colab_type": "code",
    "id": "XqyRmufJVp_F"
   },
   "outputs": [
    {
     "data": {
      "text/plain": [
       "2054941"
      ]
     },
     "execution_count": 174,
     "metadata": {},
     "output_type": "execute_result"
    }
   ],
   "source": [
    "# data[data.release_year.isin(range(2012, 2015))\n",
    "df[df.release_year.isin(range(2012, 2015))].revenue.min()"
   ]
  },
  {
   "cell_type": "code",
   "execution_count": 175,
   "metadata": {},
   "outputs": [
    {
     "data": {
      "text/html": [
       "<div>\n",
       "<style scoped>\n",
       "    .dataframe tbody tr th:only-of-type {\n",
       "        vertical-align: middle;\n",
       "    }\n",
       "\n",
       "    .dataframe tbody tr th {\n",
       "        vertical-align: top;\n",
       "    }\n",
       "\n",
       "    .dataframe thead th {\n",
       "        text-align: right;\n",
       "    }\n",
       "</style>\n",
       "<table border=\"1\" class=\"dataframe\">\n",
       "  <thead>\n",
       "    <tr style=\"text-align: right;\">\n",
       "      <th></th>\n",
       "      <th>original_title</th>\n",
       "      <th>imdb_id</th>\n",
       "      <th>release_year</th>\n",
       "      <th>profit</th>\n",
       "    </tr>\n",
       "  </thead>\n",
       "  <tbody>\n",
       "    <tr>\n",
       "      <th>1245</th>\n",
       "      <td>The Lone Ranger</td>\n",
       "      <td>tt1210819</td>\n",
       "      <td>2013</td>\n",
       "      <td>-165710090</td>\n",
       "    </tr>\n",
       "  </tbody>\n",
       "</table>\n",
       "</div>"
      ],
      "text/plain": [
       "       original_title    imdb_id  release_year     profit\n",
       "1245  The Lone Ranger  tt1210819          2013 -165710090"
      ]
     },
     "execution_count": 175,
     "metadata": {},
     "output_type": "execute_result"
    }
   ],
   "source": [
    "worst = data[data.release_year.isin(range(2012, 2015))][\n",
    "    ['original_title', 'imdb_id', 'release_year', 'profit']]\n",
    "worst[worst.profit == min(worst.profit)]"
   ]
  },
  {
   "cell_type": "code",
   "execution_count": 176,
   "metadata": {},
   "outputs": [],
   "source": [
    "answers['10'] = '1245\tThe Lone Ranger\ttt1210819\t2013\t-165710090'"
   ]
  },
  {
   "cell_type": "markdown",
   "metadata": {
    "colab_type": "text",
    "id": "EA7Sa9dkVp_I"
   },
   "source": [
    "# 11. Какого жанра фильмов больше всего?"
   ]
  },
  {
   "cell_type": "code",
   "execution_count": 177,
   "metadata": {
    "colab": {},
    "colab_type": "code",
    "id": "zsJAwJ8QVp_J"
   },
   "outputs": [],
   "source": [
    "# эту задачу тоже можно решать разными подходами, попробуй реализовать разные варианты\n",
    "# если будешь добавлять функцию - выноси ее в предобработку что в начале"
   ]
  },
  {
   "cell_type": "code",
   "execution_count": 178,
   "metadata": {},
   "outputs": [
    {
     "data": {
      "text/plain": [
       "Drama              782\n",
       "Comedy             683\n",
       "Thriller           596\n",
       "Action             582\n",
       "Adventure          415\n",
       "Crime              315\n",
       "Romance            308\n",
       "Family             260\n",
       "Science Fiction    248\n",
       "Fantasy            222\n",
       "Horror             176\n",
       "Mystery            168\n",
       "Animation          139\n",
       "Music               64\n",
       "History             62\n",
       "War                 58\n",
       "Western             19\n",
       "Documentary          8\n",
       "Foreign              2\n",
       "dtype: int64"
      ]
     },
     "execution_count": 178,
     "metadata": {},
     "output_type": "execute_result"
    }
   ],
   "source": [
    "sum_genres=pd.Series(df['genres'].str.cat(sep='|').split('|')).value_counts(ascending=False)\n",
    "sum_genres"
   ]
  },
  {
   "cell_type": "markdown",
   "metadata": {
    "colab_type": "text",
    "id": "Ax6g2C8SVp_M"
   },
   "source": [
    "ВАРИАНТ 2"
   ]
  },
  {
   "cell_type": "code",
   "execution_count": 179,
   "metadata": {
    "colab": {},
    "colab_type": "code",
    "id": "otO3SbrSVp_N"
   },
   "outputs": [],
   "source": [
    "answers['11'] = 'Drama'"
   ]
  },
  {
   "cell_type": "markdown",
   "metadata": {
    "colab_type": "text",
    "id": "T9_bPWpkVp_Q"
   },
   "source": [
    "# 12. Фильмы какого жанра чаще всего становятся прибыльными? "
   ]
  },
  {
   "cell_type": "code",
   "execution_count": 180,
   "metadata": {
    "colab": {},
    "colab_type": "code",
    "id": "Tmt8MaK1Vp_R"
   },
   "outputs": [
    {
     "data": {
      "text/plain": [
       "Drama        560\n",
       "Comedy       551\n",
       "Thriller     446\n",
       "Action       444\n",
       "Adventure    337\n",
       "dtype: int64"
      ]
     },
     "execution_count": 180,
     "metadata": {},
     "output_type": "execute_result"
    }
   ],
   "source": [
    "# sum_genres=pd.Series(df['genres'].str.cat(sep='|').split('|')).value_counts(ascending=False)\n",
    "# data = data_ini\n",
    "# genres = pd.Series(data[data.profit > 0].genres.str.cat(sep='|').split('|'))\n",
    "# genres.value_counts().head()\n",
    "\n",
    "genres = pd.Series(df[df.profit > 0].genres.str.cat(sep='|').split('|'))\n",
    "genres.value_counts().head()"
   ]
  },
  {
   "cell_type": "code",
   "execution_count": 181,
   "metadata": {},
   "outputs": [],
   "source": [
    "answers['11'] = 'Drama'"
   ]
  },
  {
   "cell_type": "code",
   "execution_count": 182,
   "metadata": {},
   "outputs": [
    {
     "data": {
      "text/plain": [
       "{'1': '5. Pirates of the Caribbean: On Stranger Tides (tt1298650)',\n",
       " '2': '1157\\ttt0279111\\tGods and Generals\\t56000000',\n",
       " '3': '768\\ttt1449283\\tWinnie the Pooh\\t30000000',\n",
       " '4': '2. 110',\n",
       " '5': '107',\n",
       " '6': '239\\tAvatar\\ttt0499549\\t2544505847',\n",
       " '7': '1245\\tThe Lone Ranger\\ttt1210819\\t-165710090',\n",
       " '8': 1478,\n",
       " '9': 'The Dark Knight',\n",
       " '10': '1245\\tThe Lone Ranger\\ttt1210819\\t2013\\t-165710090',\n",
       " '11': 'Drama'}"
      ]
     },
     "execution_count": 182,
     "metadata": {},
     "output_type": "execute_result"
    }
   ],
   "source": [
    "answers"
   ]
  },
  {
   "cell_type": "markdown",
   "metadata": {
    "colab_type": "text",
    "id": "0F23bgsDVp_U"
   },
   "source": [
    "# 13. У какого режиссера самые большие суммарные кассовые сбооры?"
   ]
  },
  {
   "cell_type": "code",
   "execution_count": 183,
   "metadata": {
    "colab": {},
    "colab_type": "code",
    "id": "K6Z3J8ygVp_X"
   },
   "outputs": [
    {
     "data": {
      "text/plain": [
       "239    James Cameron\n",
       "Name: director, dtype: object"
      ]
     },
     "execution_count": 183,
     "metadata": {},
     "output_type": "execute_result"
    }
   ],
   "source": [
    "df[df.profit == df.profit.max()].director"
   ]
  },
  {
   "cell_type": "code",
   "execution_count": 184,
   "metadata": {},
   "outputs": [
    {
     "data": {
      "text/html": [
       "<div>\n",
       "<style scoped>\n",
       "    .dataframe tbody tr th:only-of-type {\n",
       "        vertical-align: middle;\n",
       "    }\n",
       "\n",
       "    .dataframe tbody tr th {\n",
       "        vertical-align: top;\n",
       "    }\n",
       "\n",
       "    .dataframe thead th {\n",
       "        text-align: right;\n",
       "    }\n",
       "</style>\n",
       "<table border=\"1\" class=\"dataframe\">\n",
       "  <thead>\n",
       "    <tr style=\"text-align: right;\">\n",
       "      <th></th>\n",
       "      <th>budget</th>\n",
       "      <th>revenue</th>\n",
       "      <th>runtime</th>\n",
       "      <th>vote_average</th>\n",
       "      <th>release_year</th>\n",
       "      <th>profit</th>\n",
       "    </tr>\n",
       "    <tr>\n",
       "      <th>director</th>\n",
       "      <th></th>\n",
       "      <th></th>\n",
       "      <th></th>\n",
       "      <th></th>\n",
       "      <th></th>\n",
       "      <th></th>\n",
       "    </tr>\n",
       "  </thead>\n",
       "  <tbody>\n",
       "    <tr>\n",
       "      <th>Aaron Seltzer|Jason Friedberg</th>\n",
       "      <td>20000000</td>\n",
       "      <td>48548426</td>\n",
       "      <td>83</td>\n",
       "      <td>3.9</td>\n",
       "      <td>2006</td>\n",
       "      <td>28548426</td>\n",
       "    </tr>\n",
       "    <tr>\n",
       "      <th>Adam McKay</th>\n",
       "      <td>341500000</td>\n",
       "      <td>859076455</td>\n",
       "      <td>664</td>\n",
       "      <td>38.9</td>\n",
       "      <td>12056</td>\n",
       "      <td>517576455</td>\n",
       "    </tr>\n",
       "    <tr>\n",
       "      <th>Adam Shankman</th>\n",
       "      <td>387000000</td>\n",
       "      <td>873562773</td>\n",
       "      <td>837</td>\n",
       "      <td>47.7</td>\n",
       "      <td>16043</td>\n",
       "      <td>486562773</td>\n",
       "    </tr>\n",
       "    <tr>\n",
       "      <th>Adam Wingard</th>\n",
       "      <td>5000000</td>\n",
       "      <td>2367161</td>\n",
       "      <td>99</td>\n",
       "      <td>6.6</td>\n",
       "      <td>2014</td>\n",
       "      <td>-2632839</td>\n",
       "    </tr>\n",
       "    <tr>\n",
       "      <th>Adrian Lyne</th>\n",
       "      <td>50000000</td>\n",
       "      <td>119137784</td>\n",
       "      <td>124</td>\n",
       "      <td>6.4</td>\n",
       "      <td>2002</td>\n",
       "      <td>69137784</td>\n",
       "    </tr>\n",
       "    <tr>\n",
       "      <th>...</th>\n",
       "      <td>...</td>\n",
       "      <td>...</td>\n",
       "      <td>...</td>\n",
       "      <td>...</td>\n",
       "      <td>...</td>\n",
       "      <td>...</td>\n",
       "    </tr>\n",
       "    <tr>\n",
       "      <th>Wong Kar-wai</th>\n",
       "      <td>10000000</td>\n",
       "      <td>21786738</td>\n",
       "      <td>111</td>\n",
       "      <td>6.2</td>\n",
       "      <td>2007</td>\n",
       "      <td>11786738</td>\n",
       "    </tr>\n",
       "    <tr>\n",
       "      <th>Woody Allen</th>\n",
       "      <td>48000000</td>\n",
       "      <td>279220507</td>\n",
       "      <td>318</td>\n",
       "      <td>20.7</td>\n",
       "      <td>6026</td>\n",
       "      <td>231220507</td>\n",
       "    </tr>\n",
       "    <tr>\n",
       "      <th>Xavier Gens</th>\n",
       "      <td>24000000</td>\n",
       "      <td>99965753</td>\n",
       "      <td>89</td>\n",
       "      <td>5.9</td>\n",
       "      <td>2007</td>\n",
       "      <td>75965753</td>\n",
       "    </tr>\n",
       "    <tr>\n",
       "      <th>Zack Snyder</th>\n",
       "      <td>610000000</td>\n",
       "      <td>1602937193</td>\n",
       "      <td>730</td>\n",
       "      <td>39.4</td>\n",
       "      <td>12054</td>\n",
       "      <td>992937193</td>\n",
       "    </tr>\n",
       "    <tr>\n",
       "      <th>Zal Batmanglij</th>\n",
       "      <td>6500000</td>\n",
       "      <td>2401510</td>\n",
       "      <td>116</td>\n",
       "      <td>6.3</td>\n",
       "      <td>2013</td>\n",
       "      <td>-4098490</td>\n",
       "    </tr>\n",
       "  </tbody>\n",
       "</table>\n",
       "<p>957 rows × 6 columns</p>\n",
       "</div>"
      ],
      "text/plain": [
       "                                  budget     revenue  runtime  vote_average  \\\n",
       "director                                                                      \n",
       "Aaron Seltzer|Jason Friedberg   20000000    48548426       83           3.9   \n",
       "Adam McKay                     341500000   859076455      664          38.9   \n",
       "Adam Shankman                  387000000   873562773      837          47.7   \n",
       "Adam Wingard                     5000000     2367161       99           6.6   \n",
       "Adrian Lyne                     50000000   119137784      124           6.4   \n",
       "...                                  ...         ...      ...           ...   \n",
       "Wong Kar-wai                    10000000    21786738      111           6.2   \n",
       "Woody Allen                     48000000   279220507      318          20.7   \n",
       "Xavier Gens                     24000000    99965753       89           5.9   \n",
       "Zack Snyder                    610000000  1602937193      730          39.4   \n",
       "Zal Batmanglij                   6500000     2401510      116           6.3   \n",
       "\n",
       "                               release_year     profit  \n",
       "director                                                \n",
       "Aaron Seltzer|Jason Friedberg          2006   28548426  \n",
       "Adam McKay                            12056  517576455  \n",
       "Adam Shankman                         16043  486562773  \n",
       "Adam Wingard                           2014   -2632839  \n",
       "Adrian Lyne                            2002   69137784  \n",
       "...                                     ...        ...  \n",
       "Wong Kar-wai                           2007   11786738  \n",
       "Woody Allen                            6026  231220507  \n",
       "Xavier Gens                            2007   75965753  \n",
       "Zack Snyder                           12054  992937193  \n",
       "Zal Batmanglij                         2013   -4098490  \n",
       "\n",
       "[957 rows x 6 columns]"
      ]
     },
     "execution_count": 184,
     "metadata": {},
     "output_type": "execute_result"
    }
   ],
   "source": [
    "df.groupby(['director']).sum()"
   ]
  },
  {
   "cell_type": "code",
   "execution_count": 185,
   "metadata": {},
   "outputs": [
    {
     "data": {
      "text/html": [
       "<div>\n",
       "<style scoped>\n",
       "    .dataframe tbody tr th:only-of-type {\n",
       "        vertical-align: middle;\n",
       "    }\n",
       "\n",
       "    .dataframe tbody tr th {\n",
       "        vertical-align: top;\n",
       "    }\n",
       "\n",
       "    .dataframe thead th {\n",
       "        text-align: right;\n",
       "    }\n",
       "</style>\n",
       "<table border=\"1\" class=\"dataframe\">\n",
       "  <thead>\n",
       "    <tr style=\"text-align: right;\">\n",
       "      <th></th>\n",
       "      <th>budget</th>\n",
       "      <th>revenue</th>\n",
       "      <th>runtime</th>\n",
       "      <th>vote_average</th>\n",
       "      <th>release_year</th>\n",
       "      <th>profit</th>\n",
       "    </tr>\n",
       "    <tr>\n",
       "      <th>director</th>\n",
       "      <th></th>\n",
       "      <th></th>\n",
       "      <th></th>\n",
       "      <th></th>\n",
       "      <th></th>\n",
       "      <th></th>\n",
       "    </tr>\n",
       "  </thead>\n",
       "  <tbody>\n",
       "    <tr>\n",
       "      <th>Peter Jackson</th>\n",
       "      <td>1288000000</td>\n",
       "      <td>6490593685</td>\n",
       "      <td>1355</td>\n",
       "      <td>58.1</td>\n",
       "      <td>16059</td>\n",
       "      <td>5202593685</td>\n",
       "    </tr>\n",
       "    <tr>\n",
       "      <th>Christopher Nolan</th>\n",
       "      <td>1005000000</td>\n",
       "      <td>4167548502</td>\n",
       "      <td>1135</td>\n",
       "      <td>61.1</td>\n",
       "      <td>16057</td>\n",
       "      <td>3162548502</td>\n",
       "    </tr>\n",
       "    <tr>\n",
       "      <th>David Yates</th>\n",
       "      <td>775000000</td>\n",
       "      <td>4154295625</td>\n",
       "      <td>567</td>\n",
       "      <td>29.6</td>\n",
       "      <td>8037</td>\n",
       "      <td>3379295625</td>\n",
       "    </tr>\n",
       "    <tr>\n",
       "      <th>Michael Bay</th>\n",
       "      <td>1126000000</td>\n",
       "      <td>3886938960</td>\n",
       "      <td>1209</td>\n",
       "      <td>50.0</td>\n",
       "      <td>16063</td>\n",
       "      <td>2760938960</td>\n",
       "    </tr>\n",
       "    <tr>\n",
       "      <th>J.J. Abrams</th>\n",
       "      <td>740000000</td>\n",
       "      <td>3579169916</td>\n",
       "      <td>633</td>\n",
       "      <td>35.1</td>\n",
       "      <td>10054</td>\n",
       "      <td>2839169916</td>\n",
       "    </tr>\n",
       "    <tr>\n",
       "      <th>...</th>\n",
       "      <td>...</td>\n",
       "      <td>...</td>\n",
       "      <td>...</td>\n",
       "      <td>...</td>\n",
       "      <td>...</td>\n",
       "      <td>...</td>\n",
       "    </tr>\n",
       "    <tr>\n",
       "      <th>David MichÃ´d</th>\n",
       "      <td>12250000</td>\n",
       "      <td>2295423</td>\n",
       "      <td>100</td>\n",
       "      <td>6.0</td>\n",
       "      <td>2014</td>\n",
       "      <td>-9954577</td>\n",
       "    </tr>\n",
       "    <tr>\n",
       "      <th>Steven Shainberg</th>\n",
       "      <td>16800000</td>\n",
       "      <td>2281089</td>\n",
       "      <td>122</td>\n",
       "      <td>6.3</td>\n",
       "      <td>2006</td>\n",
       "      <td>-14518911</td>\n",
       "    </tr>\n",
       "    <tr>\n",
       "      <th>Paul Schrader</th>\n",
       "      <td>7000000</td>\n",
       "      <td>2062066</td>\n",
       "      <td>104</td>\n",
       "      <td>5.9</td>\n",
       "      <td>2002</td>\n",
       "      <td>-4937934</td>\n",
       "    </tr>\n",
       "    <tr>\n",
       "      <th>Keanu Reeves</th>\n",
       "      <td>25000000</td>\n",
       "      <td>2054941</td>\n",
       "      <td>105</td>\n",
       "      <td>5.6</td>\n",
       "      <td>2013</td>\n",
       "      <td>-22945059</td>\n",
       "    </tr>\n",
       "    <tr>\n",
       "      <th>Simon Hunter</th>\n",
       "      <td>8000000</td>\n",
       "      <td>2033165</td>\n",
       "      <td>111</td>\n",
       "      <td>5.1</td>\n",
       "      <td>2008</td>\n",
       "      <td>-5966835</td>\n",
       "    </tr>\n",
       "  </tbody>\n",
       "</table>\n",
       "<p>957 rows × 6 columns</p>\n",
       "</div>"
      ],
      "text/plain": [
       "                       budget     revenue  runtime  vote_average  \\\n",
       "director                                                           \n",
       "Peter Jackson      1288000000  6490593685     1355          58.1   \n",
       "Christopher Nolan  1005000000  4167548502     1135          61.1   \n",
       "David Yates         775000000  4154295625      567          29.6   \n",
       "Michael Bay        1126000000  3886938960     1209          50.0   \n",
       "J.J. Abrams         740000000  3579169916      633          35.1   \n",
       "...                       ...         ...      ...           ...   \n",
       "David MichÃ´d        12250000     2295423      100           6.0   \n",
       "Steven Shainberg     16800000     2281089      122           6.3   \n",
       "Paul Schrader         7000000     2062066      104           5.9   \n",
       "Keanu Reeves         25000000     2054941      105           5.6   \n",
       "Simon Hunter          8000000     2033165      111           5.1   \n",
       "\n",
       "                   release_year      profit  \n",
       "director                                     \n",
       "Peter Jackson             16059  5202593685  \n",
       "Christopher Nolan         16057  3162548502  \n",
       "David Yates                8037  3379295625  \n",
       "Michael Bay               16063  2760938960  \n",
       "J.J. Abrams               10054  2839169916  \n",
       "...                         ...         ...  \n",
       "David MichÃ´d              2014    -9954577  \n",
       "Steven Shainberg           2006   -14518911  \n",
       "Paul Schrader              2002    -4937934  \n",
       "Keanu Reeves               2013   -22945059  \n",
       "Simon Hunter               2008    -5966835  \n",
       "\n",
       "[957 rows x 6 columns]"
      ]
     },
     "execution_count": 185,
     "metadata": {},
     "output_type": "execute_result"
    }
   ],
   "source": [
    "df.groupby(['director']).sum().sort_values('revenue', ascending=False)"
   ]
  },
  {
   "cell_type": "code",
   "execution_count": 186,
   "metadata": {},
   "outputs": [],
   "source": [
    "answers['12'] = 'Peter Jackson'"
   ]
  },
  {
   "cell_type": "markdown",
   "metadata": {
    "colab_type": "text",
    "id": "PsYC9FgRVp_a"
   },
   "source": [
    "# 14. Какой режисер снял больше всего фильмов в стиле Action?"
   ]
  },
  {
   "cell_type": "code",
   "execution_count": 187,
   "metadata": {
    "colab": {},
    "colab_type": "code",
    "id": "wd2M-wHeVp_b"
   },
   "outputs": [],
   "source": []
  },
  {
   "cell_type": "code",
   "execution_count": 195,
   "metadata": {},
   "outputs": [
    {
     "data": {
      "text/plain": [
       "Robert Rodriguez      9\n",
       "Paul W.S. Anderson    7\n",
       "Michael Bay           7\n",
       "Ridley Scott          6\n",
       "Antoine Fuqua         6\n",
       "                     ..\n",
       "Paolo Sorrentino      0\n",
       "David Soren           0\n",
       "Klay Hall             0\n",
       "David Slade           0\n",
       "Craig Brewer          0\n",
       "Length: 997, dtype: int64"
      ]
     },
     "execution_count": 195,
     "metadata": {},
     "output_type": "execute_result"
    }
   ],
   "source": [
    "directors = set(data.director.str.cat(sep='|').split('|'))\n",
    "pd.Series({x: (data[\n",
    "                    (data.director.str.contains(x)) & data.genres.str.contains('Action')\n",
    "                    ].director.count()) for x in directors}\n",
    "         ).sort_values(ascending=False)"
   ]
  },
  {
   "cell_type": "code",
   "execution_count": 193,
   "metadata": {},
   "outputs": [],
   "source": [
    "answers['14'] = 'Robert Rodriguez'"
   ]
  },
  {
   "cell_type": "markdown",
   "metadata": {
    "colab_type": "text",
    "id": "PQ0KciD7Vp_f"
   },
   "source": [
    "# 15. Фильмы с каким актером принесли самые высокие кассовые сборы в 2012 году? "
   ]
  },
  {
   "cell_type": "code",
   "execution_count": 202,
   "metadata": {
    "colab": {},
    "colab_type": "code",
    "id": "aga62oeKVp_g"
   },
   "outputs": [
    {
     "data": {
      "text/plain": [
       "Chris Hemsworth       2027450773\n",
       "Denis Leary           1629460639\n",
       "Anne Hathaway         1522851057\n",
       "Scarlett Johansson    1519557910\n",
       "Chris Evans           1519557910\n",
       "                         ...    \n",
       "Michael Angarano               0\n",
       "David Cronenberg               0\n",
       "Lari White                     0\n",
       "Bill Melendez                  0\n",
       "Min Tanaka                     0\n",
       "Length: 3406, dtype: int64"
      ]
     },
     "execution_count": 202,
     "metadata": {},
     "output_type": "execute_result"
    }
   ],
   "source": [
    "actors = set(data.cast.str.cat(sep='|').split('|'))\n",
    "pd.Series({x: (data[\n",
    "                    (data.release_year == 2012) & (data.cast.str.contains(x))\n",
    "                   ].revenue.sum()\n",
    "              ) for x in actors}\n",
    "         ).sort_values(ascending=False)\n",
    "\n"
   ]
  },
  {
   "cell_type": "code",
   "execution_count": 203,
   "metadata": {},
   "outputs": [],
   "source": [
    "answers['15'] = 'Chris Hemsworth'"
   ]
  },
  {
   "cell_type": "markdown",
   "metadata": {
    "colab_type": "text",
    "id": "mWHyyL7QVp_j"
   },
   "source": [
    "# 16. Какой актер снялся в большем количестве высокобюджетных фильмов?"
   ]
  },
  {
   "cell_type": "code",
   "execution_count": 204,
   "metadata": {
    "colab": {},
    "colab_type": "code",
    "id": "qQtmHKTFVp_k"
   },
   "outputs": [
    {
     "data": {
      "text/plain": [
       "Matt Damon        18\n",
       "Adam Sandler      17\n",
       "Angelina Jolie    16\n",
       "Eddie Murphy      15\n",
       "Tom Cruise        15\n",
       "                  ..\n",
       "Clifton Powell     1\n",
       "Nick Chinlund      1\n",
       "Peter Berg         1\n",
       "Will Rothhaar      1\n",
       "Eartha Kitt        1\n",
       "Length: 1505, dtype: int64"
      ]
     },
     "execution_count": 204,
     "metadata": {},
     "output_type": "execute_result"
    }
   ],
   "source": [
    "pd.Series(data[data.budget > data.budget.mean()].cast.str.cat(sep='|').split('|')).value_counts()"
   ]
  },
  {
   "cell_type": "code",
   "execution_count": 239,
   "metadata": {},
   "outputs": [],
   "source": [
    "answers['16'] = ' Matt Damon'"
   ]
  },
  {
   "cell_type": "markdown",
   "metadata": {
    "colab_type": "text",
    "id": "NIh6AaW5Vp_n"
   },
   "source": [
    "# 17. В фильмах какого жанра больше всего снимался Nicolas Cage? "
   ]
  },
  {
   "cell_type": "code",
   "execution_count": 207,
   "metadata": {
    "colab": {},
    "colab_type": "code",
    "id": "H74SJDIBVp_n"
   },
   "outputs": [
    {
     "data": {
      "text/html": [
       "<div>\n",
       "<style scoped>\n",
       "    .dataframe tbody tr th:only-of-type {\n",
       "        vertical-align: middle;\n",
       "    }\n",
       "\n",
       "    .dataframe tbody tr th {\n",
       "        vertical-align: top;\n",
       "    }\n",
       "\n",
       "    .dataframe thead th {\n",
       "        text-align: right;\n",
       "    }\n",
       "</style>\n",
       "<table border=\"1\" class=\"dataframe\">\n",
       "  <thead>\n",
       "    <tr style=\"text-align: right;\">\n",
       "      <th></th>\n",
       "      <th>imdb_id</th>\n",
       "      <th>budget</th>\n",
       "      <th>revenue</th>\n",
       "      <th>original_title</th>\n",
       "      <th>cast</th>\n",
       "      <th>director</th>\n",
       "      <th>tagline</th>\n",
       "      <th>overview</th>\n",
       "      <th>runtime</th>\n",
       "      <th>genres</th>\n",
       "      <th>production_companies</th>\n",
       "      <th>release_date</th>\n",
       "      <th>vote_average</th>\n",
       "      <th>release_year</th>\n",
       "    </tr>\n",
       "  </thead>\n",
       "  <tbody>\n",
       "    <tr>\n",
       "      <th>168</th>\n",
       "      <td>tt2467046</td>\n",
       "      <td>16000000</td>\n",
       "      <td>19682924</td>\n",
       "      <td>Left Behind</td>\n",
       "      <td>Nicolas Cage|Chad Michael Murray|Lea Thompson|...</td>\n",
       "      <td>Vic Armstrong</td>\n",
       "      <td>The End Begins</td>\n",
       "      <td>A small group of survivors are left behind aft...</td>\n",
       "      <td>110</td>\n",
       "      <td>Thriller|Action|Science Fiction</td>\n",
       "      <td>Stoney Lake Entertainment</td>\n",
       "      <td>10/3/2014</td>\n",
       "      <td>3.8</td>\n",
       "      <td>2014</td>\n",
       "    </tr>\n",
       "    <tr>\n",
       "      <th>276</th>\n",
       "      <td>tt0448011</td>\n",
       "      <td>50000000</td>\n",
       "      <td>155446362</td>\n",
       "      <td>Knowing</td>\n",
       "      <td>Nicolas Cage|Rose Byrne|Chandler Canterbury|Be...</td>\n",
       "      <td>Alex Proyas</td>\n",
       "      <td>Knowing is everything...</td>\n",
       "      <td>A teacher opens a time capsule that has been d...</td>\n",
       "      <td>121</td>\n",
       "      <td>Action|Adventure|Drama|Mystery|Science Fiction</td>\n",
       "      <td>Summit Entertainment|Mystery Clock Cinema|Esca...</td>\n",
       "      <td>3/19/2009</td>\n",
       "      <td>5.7</td>\n",
       "      <td>2009</td>\n",
       "    </tr>\n",
       "    <tr>\n",
       "      <th>330</th>\n",
       "      <td>tt1095217</td>\n",
       "      <td>25000000</td>\n",
       "      <td>10589102</td>\n",
       "      <td>The Bad Lieutenant: Port of Call - New Orleans</td>\n",
       "      <td>Nicolas Cage|Eva Mendes|Val Kilmer|Fairuza Bal...</td>\n",
       "      <td>Werner Herzog</td>\n",
       "      <td>The only criminal he can't catch is himself.</td>\n",
       "      <td>Terrence McDonagh, a New Orleans Police sergea...</td>\n",
       "      <td>122</td>\n",
       "      <td>Drama|Crime</td>\n",
       "      <td>Saturn Films|Nu Image Films|Edward R. Pressman...</td>\n",
       "      <td>9/11/2009</td>\n",
       "      <td>5.8</td>\n",
       "      <td>2009</td>\n",
       "    </tr>\n",
       "    <tr>\n",
       "      <th>336</th>\n",
       "      <td>tt0375568</td>\n",
       "      <td>65000000</td>\n",
       "      <td>44091067</td>\n",
       "      <td>Astro Boy</td>\n",
       "      <td>Nicolas Cage|Kristen Bell|Bill Nighy|Donald Su...</td>\n",
       "      <td>David Bowers</td>\n",
       "      <td>Have a blast.</td>\n",
       "      <td>Set in futuristic Metro City, Astro Boy is abo...</td>\n",
       "      <td>94</td>\n",
       "      <td>Animation|Action|Family|Science Fiction</td>\n",
       "      <td>The Weinstein Company|Summit Entertainment|Tez...</td>\n",
       "      <td>10/15/2009</td>\n",
       "      <td>6.0</td>\n",
       "      <td>2009</td>\n",
       "    </tr>\n",
       "    <tr>\n",
       "      <th>386</th>\n",
       "      <td>tt1250777</td>\n",
       "      <td>28000000</td>\n",
       "      <td>96188903</td>\n",
       "      <td>Kick-Ass</td>\n",
       "      <td>Aaron Taylor-Johnson|ChloÃ« Grace Moretz|Chris...</td>\n",
       "      <td>Matthew Vaughn</td>\n",
       "      <td>Shut up. Kick ass.</td>\n",
       "      <td>Dave Lizewski is an unnoticed high school stud...</td>\n",
       "      <td>117</td>\n",
       "      <td>Action|Crime</td>\n",
       "      <td>Lions Gate</td>\n",
       "      <td>3/22/2010</td>\n",
       "      <td>7.0</td>\n",
       "      <td>2010</td>\n",
       "    </tr>\n",
       "    <tr>\n",
       "      <th>392</th>\n",
       "      <td>tt0963966</td>\n",
       "      <td>150000000</td>\n",
       "      <td>215283742</td>\n",
       "      <td>The Sorcerer's Apprentice</td>\n",
       "      <td>Nicolas Cage|Jay Baruchel|Monica Bellucci|Alfr...</td>\n",
       "      <td>Jon Turteltaub</td>\n",
       "      <td>It's The Coolest Job Ever.</td>\n",
       "      <td>Balthazar Blake is a master sorcerer in modern...</td>\n",
       "      <td>109</td>\n",
       "      <td>Fantasy|Adventure|Action|Comedy|Drama</td>\n",
       "      <td>Walt Disney Pictures|Jerry Bruckheimer Films|S...</td>\n",
       "      <td>7/13/2010</td>\n",
       "      <td>5.8</td>\n",
       "      <td>2010</td>\n",
       "    </tr>\n",
       "    <tr>\n",
       "      <th>687</th>\n",
       "      <td>tt0814022</td>\n",
       "      <td>45000000</td>\n",
       "      <td>42487390</td>\n",
       "      <td>Bangkok Dangerous</td>\n",
       "      <td>Nicolas Cage|Shahkrit Yamnarm|Charlie Yeung|Pa...</td>\n",
       "      <td>Oxide Pang Chun|Danny Pang</td>\n",
       "      <td>There's only one way out.</td>\n",
       "      <td>When carrying out a hit, assassin Joe (Cage) a...</td>\n",
       "      <td>99</td>\n",
       "      <td>Action|Crime|Thriller</td>\n",
       "      <td>Virtual Studios|Initial Entertainment Group|Sa...</td>\n",
       "      <td>8/21/2008</td>\n",
       "      <td>5.0</td>\n",
       "      <td>2008</td>\n",
       "    </tr>\n",
       "    <tr>\n",
       "      <th>727</th>\n",
       "      <td>tt1502404</td>\n",
       "      <td>50000000</td>\n",
       "      <td>28931401</td>\n",
       "      <td>Drive Angry</td>\n",
       "      <td>Nicolas Cage|Amber Heard|William Fichtner|Bill...</td>\n",
       "      <td>Patrick Lussier</td>\n",
       "      <td>One hell of a ride.</td>\n",
       "      <td>Milton is a hardened felon who has broken out ...</td>\n",
       "      <td>105</td>\n",
       "      <td>Fantasy|Thriller|Action|Crime</td>\n",
       "      <td>Summit Entertainment|Saturn Films|Nu Image Fil...</td>\n",
       "      <td>2/24/2011</td>\n",
       "      <td>5.3</td>\n",
       "      <td>2011</td>\n",
       "    </tr>\n",
       "    <tr>\n",
       "      <th>764</th>\n",
       "      <td>tt1071875</td>\n",
       "      <td>57000000</td>\n",
       "      <td>149217355</td>\n",
       "      <td>Ghost Rider: Spirit of Vengeance</td>\n",
       "      <td>Nicolas Cage|CiarÃ¡n Hinds|Violante Placido|Fe...</td>\n",
       "      <td>Mark Neveldine|Brian Taylor</td>\n",
       "      <td>He Rides Again.</td>\n",
       "      <td>When the devil resurfaces with aims to take ov...</td>\n",
       "      <td>95</td>\n",
       "      <td>Action|Fantasy|Thriller</td>\n",
       "      <td>Columbia Pictures|Imagenation Abu Dhabi FZ|Mar...</td>\n",
       "      <td>12/10/2011</td>\n",
       "      <td>4.7</td>\n",
       "      <td>2011</td>\n",
       "    </tr>\n",
       "    <tr>\n",
       "      <th>784</th>\n",
       "      <td>tt0479997</td>\n",
       "      <td>40000000</td>\n",
       "      <td>88100000</td>\n",
       "      <td>Season of the Witch</td>\n",
       "      <td>Nicolas Cage|Ron Perlman|Ulrich Thomsen|Christ...</td>\n",
       "      <td>Dominic Sena</td>\n",
       "      <td>Not all souls can be saved.</td>\n",
       "      <td>A 14th century Crusader (Cage) returns with hi...</td>\n",
       "      <td>95</td>\n",
       "      <td>Adventure|Fantasy|Action</td>\n",
       "      <td>Atlas Entertainment|Relativity Media</td>\n",
       "      <td>1/7/2011</td>\n",
       "      <td>5.2</td>\n",
       "      <td>2011</td>\n",
       "    </tr>\n",
       "    <tr>\n",
       "      <th>825</th>\n",
       "      <td>tt1674784</td>\n",
       "      <td>36000000</td>\n",
       "      <td>9612469</td>\n",
       "      <td>Trespass</td>\n",
       "      <td>Nicolas Cage|Nicole Kidman|Liana Liberato|Cam ...</td>\n",
       "      <td>Joel Schumacher</td>\n",
       "      <td>When terror is at your doorstep. You can run. ...</td>\n",
       "      <td>Kyle (Nicholas Cage) and Sarah Miller (Nicole ...</td>\n",
       "      <td>91</td>\n",
       "      <td>Crime|Drama|Thriller</td>\n",
       "      <td>Nu Image Films|Winkler Films|Millennium Films</td>\n",
       "      <td>10/14/2011</td>\n",
       "      <td>5.3</td>\n",
       "      <td>2011</td>\n",
       "    </tr>\n",
       "    <tr>\n",
       "      <th>833</th>\n",
       "      <td>tt1214962</td>\n",
       "      <td>17000000</td>\n",
       "      <td>12355798</td>\n",
       "      <td>Seeking Justice</td>\n",
       "      <td>Nicolas Cage|Guy Pearce|January Jones|Jennifer...</td>\n",
       "      <td>Roger Donaldson</td>\n",
       "      <td>Vengeance always has a price</td>\n",
       "      <td>After his wife is assaulted, a husband enlists...</td>\n",
       "      <td>105</td>\n",
       "      <td>Action|Drama|Thriller</td>\n",
       "      <td>Endgame Entertainment|Maguire Entertainment|Ra...</td>\n",
       "      <td>9/2/2011</td>\n",
       "      <td>5.9</td>\n",
       "      <td>2011</td>\n",
       "    </tr>\n",
       "    <tr>\n",
       "      <th>914</th>\n",
       "      <td>tt0268126</td>\n",
       "      <td>19000000</td>\n",
       "      <td>32801173</td>\n",
       "      <td>Adaptation.</td>\n",
       "      <td>Nicolas Cage|Meryl Streep|Chris Cooper|Tilda S...</td>\n",
       "      <td>Spike Jonze</td>\n",
       "      <td>Charlie Kaufman writes the way he lives... Wit...</td>\n",
       "      <td>A love-lorn script writer grows increasingly d...</td>\n",
       "      <td>114</td>\n",
       "      <td>Comedy|Crime|Drama</td>\n",
       "      <td>Columbia Pictures|Beverly Detroit|Propaganda F...</td>\n",
       "      <td>12/6/2002</td>\n",
       "      <td>7.2</td>\n",
       "      <td>2002</td>\n",
       "    </tr>\n",
       "    <tr>\n",
       "      <th>921</th>\n",
       "      <td>tt0245562</td>\n",
       "      <td>115000000</td>\n",
       "      <td>77628265</td>\n",
       "      <td>Windtalkers</td>\n",
       "      <td>Nicolas Cage|Adam Beach|Peter Stormare|Noah Em...</td>\n",
       "      <td>John Woo</td>\n",
       "      <td>Honor Was Their Code.</td>\n",
       "      <td>Joe Enders is a gung-ho Marine assigned to pro...</td>\n",
       "      <td>134</td>\n",
       "      <td>Drama|Action|History|War</td>\n",
       "      <td>Lion Rock Productions|Metro-Goldwyn-Mayer (MGM)</td>\n",
       "      <td>6/14/2002</td>\n",
       "      <td>5.9</td>\n",
       "      <td>2002</td>\n",
       "    </tr>\n",
       "    <tr>\n",
       "      <th>1033</th>\n",
       "      <td>tt1656186</td>\n",
       "      <td>35000000</td>\n",
       "      <td>2106557</td>\n",
       "      <td>Stolen</td>\n",
       "      <td>Nicolas Cage|Malin Ã…kerman|Josh Lucas|Sami Ga...</td>\n",
       "      <td>Simon West</td>\n",
       "      <td>Never steal from the world's greatest thief.</td>\n",
       "      <td>A former thief frantically searches for his mi...</td>\n",
       "      <td>96</td>\n",
       "      <td>Action|Crime|Drama|Thriller</td>\n",
       "      <td>Saturn Films|Nu Image Films|Millennium Films</td>\n",
       "      <td>5/17/2012</td>\n",
       "      <td>5.1</td>\n",
       "      <td>2012</td>\n",
       "    </tr>\n",
       "    <tr>\n",
       "      <th>1224</th>\n",
       "      <td>tt0481499</td>\n",
       "      <td>135000000</td>\n",
       "      <td>585178928</td>\n",
       "      <td>The Croods</td>\n",
       "      <td>Nicolas Cage|Emma Stone|Ryan Reynolds|Catherin...</td>\n",
       "      <td>Kirk De Micco|Chris Sanders</td>\n",
       "      <td>Meet the first modern family.</td>\n",
       "      <td>The Croods is a prehistoric comedy adventure t...</td>\n",
       "      <td>98</td>\n",
       "      <td>Adventure|Animation|Comedy|Family|Fantasy</td>\n",
       "      <td>DreamWorks Animation</td>\n",
       "      <td>3/20/2013</td>\n",
       "      <td>6.8</td>\n",
       "      <td>2013</td>\n",
       "    </tr>\n",
       "    <tr>\n",
       "      <th>1280</th>\n",
       "      <td>tt2005374</td>\n",
       "      <td>27220000</td>\n",
       "      <td>5496951</td>\n",
       "      <td>The Frozen Ground</td>\n",
       "      <td>Nicolas Cage|Vanessa Hudgens|John Cusack|Radha...</td>\n",
       "      <td>Scott Walker</td>\n",
       "      <td>The hunter becomes the hunted</td>\n",
       "      <td>An Alaska State Trooper partners with a young ...</td>\n",
       "      <td>105</td>\n",
       "      <td>Thriller|Crime</td>\n",
       "      <td>Grindstone Entertainment Group|Cheetah Vision|...</td>\n",
       "      <td>7/18/2013</td>\n",
       "      <td>6.2</td>\n",
       "      <td>2013</td>\n",
       "    </tr>\n",
       "    <tr>\n",
       "      <th>1346</th>\n",
       "      <td>tt0399295</td>\n",
       "      <td>42000000</td>\n",
       "      <td>24127895</td>\n",
       "      <td>Lord of War</td>\n",
       "      <td>Nicolas Cage|Bridget Moynahan|Jared Leto|Ethan...</td>\n",
       "      <td>Andrew Niccol</td>\n",
       "      <td>Where there's a will, there's a weapon</td>\n",
       "      <td>Yuri Orlov is a globetrotting arms dealer and,...</td>\n",
       "      <td>122</td>\n",
       "      <td>Crime|Drama|Thriller</td>\n",
       "      <td>Saturn Films|Ascendant Pictures|Endgame Entert...</td>\n",
       "      <td>9/16/2005</td>\n",
       "      <td>6.9</td>\n",
       "      <td>2005</td>\n",
       "    </tr>\n",
       "    <tr>\n",
       "      <th>1390</th>\n",
       "      <td>tt0384680</td>\n",
       "      <td>20000000</td>\n",
       "      <td>12482775</td>\n",
       "      <td>The Weather Man</td>\n",
       "      <td>Nicolas Cage|Michael Caine|Hope Davis|Gemmenne...</td>\n",
       "      <td>Gore Verbinski</td>\n",
       "      <td>Dave Spritz is about to take his best shot . ....</td>\n",
       "      <td>A Chicago weather man, separated from his wife...</td>\n",
       "      <td>101</td>\n",
       "      <td>Comedy|Drama</td>\n",
       "      <td>Paramount Pictures|Escape Artists|Kumar Mobili...</td>\n",
       "      <td>10/20/2005</td>\n",
       "      <td>5.7</td>\n",
       "      <td>2005</td>\n",
       "    </tr>\n",
       "    <tr>\n",
       "      <th>1473</th>\n",
       "      <td>tt0429589</td>\n",
       "      <td>50000000</td>\n",
       "      <td>55181129</td>\n",
       "      <td>The Ant Bully</td>\n",
       "      <td>Julia Roberts|Meryl Streep|Nicolas Cage|Paul G...</td>\n",
       "      <td>John A. Davis</td>\n",
       "      <td>The battle for the lawn is on.</td>\n",
       "      <td>Fed up with being targeted by the neighborhood...</td>\n",
       "      <td>88</td>\n",
       "      <td>Fantasy|Adventure|Animation|Comedy|Family</td>\n",
       "      <td>Warner Bros. Pictures|DNA Films|Legendary Pict...</td>\n",
       "      <td>7/27/2006</td>\n",
       "      <td>5.5</td>\n",
       "      <td>2006</td>\n",
       "    </tr>\n",
       "    <tr>\n",
       "      <th>1509</th>\n",
       "      <td>tt0469641</td>\n",
       "      <td>63000000</td>\n",
       "      <td>162945894</td>\n",
       "      <td>World Trade Center</td>\n",
       "      <td>Nicolas Cage|Maria Bello|Maggie Gyllenhaal|Mic...</td>\n",
       "      <td>Oliver Stone</td>\n",
       "      <td>The World Saw Evil That Day. Two Men Saw Somet...</td>\n",
       "      <td>On September, 11th 2001, after the terrorist a...</td>\n",
       "      <td>128</td>\n",
       "      <td>Drama|History|Thriller</td>\n",
       "      <td>Paramount Pictures|Double Feature Films|Interm...</td>\n",
       "      <td>8/9/2006</td>\n",
       "      <td>5.9</td>\n",
       "      <td>2006</td>\n",
       "    </tr>\n",
       "    <tr>\n",
       "      <th>1568</th>\n",
       "      <td>tt0368891</td>\n",
       "      <td>100000000</td>\n",
       "      <td>347451894</td>\n",
       "      <td>National Treasure</td>\n",
       "      <td>Nicolas Cage|Diane Kruger|Justin Bartha|Sean B...</td>\n",
       "      <td>Jon Turteltaub</td>\n",
       "      <td>The greatest adventure history has ever revealed.</td>\n",
       "      <td>Modern treasure hunters, led by archaeologist ...</td>\n",
       "      <td>131</td>\n",
       "      <td>Adventure|Action|Thriller|Mystery</td>\n",
       "      <td>Walt Disney Pictures|Jerry Bruckheimer Films|S...</td>\n",
       "      <td>11/19/2004</td>\n",
       "      <td>6.4</td>\n",
       "      <td>2004</td>\n",
       "    </tr>\n",
       "    <tr>\n",
       "      <th>1675</th>\n",
       "      <td>tt0465234</td>\n",
       "      <td>130000000</td>\n",
       "      <td>457363168</td>\n",
       "      <td>National Treasure: Book of Secrets</td>\n",
       "      <td>Nicolas Cage|Jon Voight|Harvey Keitel|Ed Harri...</td>\n",
       "      <td>Jon Turteltaub</td>\n",
       "      <td>The Greatest Adventure History Has Ever Revealed</td>\n",
       "      <td>Benjamin Franklin Gates and Dr. Abigail Chase ...</td>\n",
       "      <td>124</td>\n",
       "      <td>Action|Adventure|Mystery|Thriller</td>\n",
       "      <td>Jerry Bruckheimer Films|Saturn Films|Walt Disn...</td>\n",
       "      <td>12/13/2007</td>\n",
       "      <td>6.0</td>\n",
       "      <td>2007</td>\n",
       "    </tr>\n",
       "    <tr>\n",
       "      <th>1683</th>\n",
       "      <td>tt0259324</td>\n",
       "      <td>110000000</td>\n",
       "      <td>228738393</td>\n",
       "      <td>Ghost Rider</td>\n",
       "      <td>Nicolas Cage|Eva Mendes|Wes Bentley|Donal Logu...</td>\n",
       "      <td>Mark Steven Johnson</td>\n",
       "      <td>Hell Is About To Be Unleashed</td>\n",
       "      <td>In order to save his dying father, young stunt...</td>\n",
       "      <td>114</td>\n",
       "      <td>Thriller|Action|Fantasy|Horror</td>\n",
       "      <td>Columbia Pictures Corporation|Relativity Media...</td>\n",
       "      <td>2/16/2007</td>\n",
       "      <td>5.2</td>\n",
       "      <td>2007</td>\n",
       "    </tr>\n",
       "    <tr>\n",
       "      <th>1722</th>\n",
       "      <td>tt0435705</td>\n",
       "      <td>70000000</td>\n",
       "      <td>18211013</td>\n",
       "      <td>Next</td>\n",
       "      <td>Nicolas Cage|Julianne Moore|Jessica Biel|Thoma...</td>\n",
       "      <td>Lee Tamahori</td>\n",
       "      <td>If you can see the future, you can save it.</td>\n",
       "      <td>Las Vegas showroom magician Cris Johnson has a...</td>\n",
       "      <td>96</td>\n",
       "      <td>Action|Science Fiction|Thriller</td>\n",
       "      <td>Paramount Pictures|Virtual Studios|Revolution ...</td>\n",
       "      <td>4/24/2007</td>\n",
       "      <td>5.9</td>\n",
       "      <td>2007</td>\n",
       "    </tr>\n",
       "    <tr>\n",
       "      <th>1818</th>\n",
       "      <td>tt0187078</td>\n",
       "      <td>90000000</td>\n",
       "      <td>237202299</td>\n",
       "      <td>Gone In Sixty Seconds</td>\n",
       "      <td>Nicolas Cage|Angelina Jolie|Giovanni Ribisi|De...</td>\n",
       "      <td>Dominic Sena</td>\n",
       "      <td>Ice Cold, Hot Wired.</td>\n",
       "      <td>Upon learning that he has to come out of retir...</td>\n",
       "      <td>118</td>\n",
       "      <td>Action|Crime|Thriller</td>\n",
       "      <td>Jerry Bruckheimer Films|Touchstone Pictures</td>\n",
       "      <td>6/9/2000</td>\n",
       "      <td>6.0</td>\n",
       "      <td>2000</td>\n",
       "    </tr>\n",
       "    <tr>\n",
       "      <th>1838</th>\n",
       "      <td>tt0218967</td>\n",
       "      <td>60000000</td>\n",
       "      <td>124745083</td>\n",
       "      <td>The Family Man</td>\n",
       "      <td>Nicolas Cage|TÃ©a Leoni|Don Cheadle|Saul Rubin...</td>\n",
       "      <td>Brett Ratner</td>\n",
       "      <td>What if you made different choices? What if yo...</td>\n",
       "      <td>Jack's lavish, fast-paced lifestyle changes on...</td>\n",
       "      <td>125</td>\n",
       "      <td>Comedy|Drama|Romance|Fantasy</td>\n",
       "      <td>Universal Pictures</td>\n",
       "      <td>12/12/2000</td>\n",
       "      <td>6.4</td>\n",
       "      <td>2000</td>\n",
       "    </tr>\n",
       "  </tbody>\n",
       "</table>\n",
       "</div>"
      ],
      "text/plain": [
       "        imdb_id     budget    revenue  \\\n",
       "168   tt2467046   16000000   19682924   \n",
       "276   tt0448011   50000000  155446362   \n",
       "330   tt1095217   25000000   10589102   \n",
       "336   tt0375568   65000000   44091067   \n",
       "386   tt1250777   28000000   96188903   \n",
       "392   tt0963966  150000000  215283742   \n",
       "687   tt0814022   45000000   42487390   \n",
       "727   tt1502404   50000000   28931401   \n",
       "764   tt1071875   57000000  149217355   \n",
       "784   tt0479997   40000000   88100000   \n",
       "825   tt1674784   36000000    9612469   \n",
       "833   tt1214962   17000000   12355798   \n",
       "914   tt0268126   19000000   32801173   \n",
       "921   tt0245562  115000000   77628265   \n",
       "1033  tt1656186   35000000    2106557   \n",
       "1224  tt0481499  135000000  585178928   \n",
       "1280  tt2005374   27220000    5496951   \n",
       "1346  tt0399295   42000000   24127895   \n",
       "1390  tt0384680   20000000   12482775   \n",
       "1473  tt0429589   50000000   55181129   \n",
       "1509  tt0469641   63000000  162945894   \n",
       "1568  tt0368891  100000000  347451894   \n",
       "1675  tt0465234  130000000  457363168   \n",
       "1683  tt0259324  110000000  228738393   \n",
       "1722  tt0435705   70000000   18211013   \n",
       "1818  tt0187078   90000000  237202299   \n",
       "1838  tt0218967   60000000  124745083   \n",
       "\n",
       "                                      original_title  \\\n",
       "168                                      Left Behind   \n",
       "276                                          Knowing   \n",
       "330   The Bad Lieutenant: Port of Call - New Orleans   \n",
       "336                                        Astro Boy   \n",
       "386                                         Kick-Ass   \n",
       "392                        The Sorcerer's Apprentice   \n",
       "687                                Bangkok Dangerous   \n",
       "727                                      Drive Angry   \n",
       "764                 Ghost Rider: Spirit of Vengeance   \n",
       "784                              Season of the Witch   \n",
       "825                                         Trespass   \n",
       "833                                  Seeking Justice   \n",
       "914                                      Adaptation.   \n",
       "921                                      Windtalkers   \n",
       "1033                                          Stolen   \n",
       "1224                                      The Croods   \n",
       "1280                               The Frozen Ground   \n",
       "1346                                     Lord of War   \n",
       "1390                                 The Weather Man   \n",
       "1473                                   The Ant Bully   \n",
       "1509                              World Trade Center   \n",
       "1568                               National Treasure   \n",
       "1675              National Treasure: Book of Secrets   \n",
       "1683                                     Ghost Rider   \n",
       "1722                                            Next   \n",
       "1818                           Gone In Sixty Seconds   \n",
       "1838                                  The Family Man   \n",
       "\n",
       "                                                   cast  \\\n",
       "168   Nicolas Cage|Chad Michael Murray|Lea Thompson|...   \n",
       "276   Nicolas Cage|Rose Byrne|Chandler Canterbury|Be...   \n",
       "330   Nicolas Cage|Eva Mendes|Val Kilmer|Fairuza Bal...   \n",
       "336   Nicolas Cage|Kristen Bell|Bill Nighy|Donald Su...   \n",
       "386   Aaron Taylor-Johnson|ChloÃ« Grace Moretz|Chris...   \n",
       "392   Nicolas Cage|Jay Baruchel|Monica Bellucci|Alfr...   \n",
       "687   Nicolas Cage|Shahkrit Yamnarm|Charlie Yeung|Pa...   \n",
       "727   Nicolas Cage|Amber Heard|William Fichtner|Bill...   \n",
       "764   Nicolas Cage|CiarÃ¡n Hinds|Violante Placido|Fe...   \n",
       "784   Nicolas Cage|Ron Perlman|Ulrich Thomsen|Christ...   \n",
       "825   Nicolas Cage|Nicole Kidman|Liana Liberato|Cam ...   \n",
       "833   Nicolas Cage|Guy Pearce|January Jones|Jennifer...   \n",
       "914   Nicolas Cage|Meryl Streep|Chris Cooper|Tilda S...   \n",
       "921   Nicolas Cage|Adam Beach|Peter Stormare|Noah Em...   \n",
       "1033  Nicolas Cage|Malin Ã…kerman|Josh Lucas|Sami Ga...   \n",
       "1224  Nicolas Cage|Emma Stone|Ryan Reynolds|Catherin...   \n",
       "1280  Nicolas Cage|Vanessa Hudgens|John Cusack|Radha...   \n",
       "1346  Nicolas Cage|Bridget Moynahan|Jared Leto|Ethan...   \n",
       "1390  Nicolas Cage|Michael Caine|Hope Davis|Gemmenne...   \n",
       "1473  Julia Roberts|Meryl Streep|Nicolas Cage|Paul G...   \n",
       "1509  Nicolas Cage|Maria Bello|Maggie Gyllenhaal|Mic...   \n",
       "1568  Nicolas Cage|Diane Kruger|Justin Bartha|Sean B...   \n",
       "1675  Nicolas Cage|Jon Voight|Harvey Keitel|Ed Harri...   \n",
       "1683  Nicolas Cage|Eva Mendes|Wes Bentley|Donal Logu...   \n",
       "1722  Nicolas Cage|Julianne Moore|Jessica Biel|Thoma...   \n",
       "1818  Nicolas Cage|Angelina Jolie|Giovanni Ribisi|De...   \n",
       "1838  Nicolas Cage|TÃ©a Leoni|Don Cheadle|Saul Rubin...   \n",
       "\n",
       "                         director  \\\n",
       "168                 Vic Armstrong   \n",
       "276                   Alex Proyas   \n",
       "330                 Werner Herzog   \n",
       "336                  David Bowers   \n",
       "386                Matthew Vaughn   \n",
       "392                Jon Turteltaub   \n",
       "687    Oxide Pang Chun|Danny Pang   \n",
       "727               Patrick Lussier   \n",
       "764   Mark Neveldine|Brian Taylor   \n",
       "784                  Dominic Sena   \n",
       "825               Joel Schumacher   \n",
       "833               Roger Donaldson   \n",
       "914                   Spike Jonze   \n",
       "921                      John Woo   \n",
       "1033                   Simon West   \n",
       "1224  Kirk De Micco|Chris Sanders   \n",
       "1280                 Scott Walker   \n",
       "1346                Andrew Niccol   \n",
       "1390               Gore Verbinski   \n",
       "1473                John A. Davis   \n",
       "1509                 Oliver Stone   \n",
       "1568               Jon Turteltaub   \n",
       "1675               Jon Turteltaub   \n",
       "1683          Mark Steven Johnson   \n",
       "1722                 Lee Tamahori   \n",
       "1818                 Dominic Sena   \n",
       "1838                 Brett Ratner   \n",
       "\n",
       "                                                tagline  \\\n",
       "168                                      The End Begins   \n",
       "276                            Knowing is everything...   \n",
       "330        The only criminal he can't catch is himself.   \n",
       "336                                       Have a blast.   \n",
       "386                                  Shut up. Kick ass.   \n",
       "392                          It's The Coolest Job Ever.   \n",
       "687                           There's only one way out.   \n",
       "727                                 One hell of a ride.   \n",
       "764                                     He Rides Again.   \n",
       "784                         Not all souls can be saved.   \n",
       "825   When terror is at your doorstep. You can run. ...   \n",
       "833                        Vengeance always has a price   \n",
       "914   Charlie Kaufman writes the way he lives... Wit...   \n",
       "921                               Honor Was Their Code.   \n",
       "1033       Never steal from the world's greatest thief.   \n",
       "1224                      Meet the first modern family.   \n",
       "1280                      The hunter becomes the hunted   \n",
       "1346             Where there's a will, there's a weapon   \n",
       "1390  Dave Spritz is about to take his best shot . ....   \n",
       "1473                     The battle for the lawn is on.   \n",
       "1509  The World Saw Evil That Day. Two Men Saw Somet...   \n",
       "1568  The greatest adventure history has ever revealed.   \n",
       "1675   The Greatest Adventure History Has Ever Revealed   \n",
       "1683                      Hell Is About To Be Unleashed   \n",
       "1722        If you can see the future, you can save it.   \n",
       "1818                               Ice Cold, Hot Wired.   \n",
       "1838  What if you made different choices? What if yo...   \n",
       "\n",
       "                                               overview  runtime  \\\n",
       "168   A small group of survivors are left behind aft...      110   \n",
       "276   A teacher opens a time capsule that has been d...      121   \n",
       "330   Terrence McDonagh, a New Orleans Police sergea...      122   \n",
       "336   Set in futuristic Metro City, Astro Boy is abo...       94   \n",
       "386   Dave Lizewski is an unnoticed high school stud...      117   \n",
       "392   Balthazar Blake is a master sorcerer in modern...      109   \n",
       "687   When carrying out a hit, assassin Joe (Cage) a...       99   \n",
       "727   Milton is a hardened felon who has broken out ...      105   \n",
       "764   When the devil resurfaces with aims to take ov...       95   \n",
       "784   A 14th century Crusader (Cage) returns with hi...       95   \n",
       "825   Kyle (Nicholas Cage) and Sarah Miller (Nicole ...       91   \n",
       "833   After his wife is assaulted, a husband enlists...      105   \n",
       "914   A love-lorn script writer grows increasingly d...      114   \n",
       "921   Joe Enders is a gung-ho Marine assigned to pro...      134   \n",
       "1033  A former thief frantically searches for his mi...       96   \n",
       "1224  The Croods is a prehistoric comedy adventure t...       98   \n",
       "1280  An Alaska State Trooper partners with a young ...      105   \n",
       "1346  Yuri Orlov is a globetrotting arms dealer and,...      122   \n",
       "1390  A Chicago weather man, separated from his wife...      101   \n",
       "1473  Fed up with being targeted by the neighborhood...       88   \n",
       "1509  On September, 11th 2001, after the terrorist a...      128   \n",
       "1568  Modern treasure hunters, led by archaeologist ...      131   \n",
       "1675  Benjamin Franklin Gates and Dr. Abigail Chase ...      124   \n",
       "1683  In order to save his dying father, young stunt...      114   \n",
       "1722  Las Vegas showroom magician Cris Johnson has a...       96   \n",
       "1818  Upon learning that he has to come out of retir...      118   \n",
       "1838  Jack's lavish, fast-paced lifestyle changes on...      125   \n",
       "\n",
       "                                              genres  \\\n",
       "168                  Thriller|Action|Science Fiction   \n",
       "276   Action|Adventure|Drama|Mystery|Science Fiction   \n",
       "330                                      Drama|Crime   \n",
       "336          Animation|Action|Family|Science Fiction   \n",
       "386                                     Action|Crime   \n",
       "392            Fantasy|Adventure|Action|Comedy|Drama   \n",
       "687                            Action|Crime|Thriller   \n",
       "727                    Fantasy|Thriller|Action|Crime   \n",
       "764                          Action|Fantasy|Thriller   \n",
       "784                         Adventure|Fantasy|Action   \n",
       "825                             Crime|Drama|Thriller   \n",
       "833                            Action|Drama|Thriller   \n",
       "914                               Comedy|Crime|Drama   \n",
       "921                         Drama|Action|History|War   \n",
       "1033                     Action|Crime|Drama|Thriller   \n",
       "1224       Adventure|Animation|Comedy|Family|Fantasy   \n",
       "1280                                  Thriller|Crime   \n",
       "1346                            Crime|Drama|Thriller   \n",
       "1390                                    Comedy|Drama   \n",
       "1473       Fantasy|Adventure|Animation|Comedy|Family   \n",
       "1509                          Drama|History|Thriller   \n",
       "1568               Adventure|Action|Thriller|Mystery   \n",
       "1675               Action|Adventure|Mystery|Thriller   \n",
       "1683                  Thriller|Action|Fantasy|Horror   \n",
       "1722                 Action|Science Fiction|Thriller   \n",
       "1818                           Action|Crime|Thriller   \n",
       "1838                    Comedy|Drama|Romance|Fantasy   \n",
       "\n",
       "                                   production_companies release_date  \\\n",
       "168                           Stoney Lake Entertainment    10/3/2014   \n",
       "276   Summit Entertainment|Mystery Clock Cinema|Esca...    3/19/2009   \n",
       "330   Saturn Films|Nu Image Films|Edward R. Pressman...    9/11/2009   \n",
       "336   The Weinstein Company|Summit Entertainment|Tez...   10/15/2009   \n",
       "386                                          Lions Gate    3/22/2010   \n",
       "392   Walt Disney Pictures|Jerry Bruckheimer Films|S...    7/13/2010   \n",
       "687   Virtual Studios|Initial Entertainment Group|Sa...    8/21/2008   \n",
       "727   Summit Entertainment|Saturn Films|Nu Image Fil...    2/24/2011   \n",
       "764   Columbia Pictures|Imagenation Abu Dhabi FZ|Mar...   12/10/2011   \n",
       "784                Atlas Entertainment|Relativity Media     1/7/2011   \n",
       "825       Nu Image Films|Winkler Films|Millennium Films   10/14/2011   \n",
       "833   Endgame Entertainment|Maguire Entertainment|Ra...     9/2/2011   \n",
       "914   Columbia Pictures|Beverly Detroit|Propaganda F...    12/6/2002   \n",
       "921     Lion Rock Productions|Metro-Goldwyn-Mayer (MGM)    6/14/2002   \n",
       "1033       Saturn Films|Nu Image Films|Millennium Films    5/17/2012   \n",
       "1224                               DreamWorks Animation    3/20/2013   \n",
       "1280  Grindstone Entertainment Group|Cheetah Vision|...    7/18/2013   \n",
       "1346  Saturn Films|Ascendant Pictures|Endgame Entert...    9/16/2005   \n",
       "1390  Paramount Pictures|Escape Artists|Kumar Mobili...   10/20/2005   \n",
       "1473  Warner Bros. Pictures|DNA Films|Legendary Pict...    7/27/2006   \n",
       "1509  Paramount Pictures|Double Feature Films|Interm...     8/9/2006   \n",
       "1568  Walt Disney Pictures|Jerry Bruckheimer Films|S...   11/19/2004   \n",
       "1675  Jerry Bruckheimer Films|Saturn Films|Walt Disn...   12/13/2007   \n",
       "1683  Columbia Pictures Corporation|Relativity Media...    2/16/2007   \n",
       "1722  Paramount Pictures|Virtual Studios|Revolution ...    4/24/2007   \n",
       "1818        Jerry Bruckheimer Films|Touchstone Pictures     6/9/2000   \n",
       "1838                                 Universal Pictures   12/12/2000   \n",
       "\n",
       "      vote_average  release_year  \n",
       "168            3.8          2014  \n",
       "276            5.7          2009  \n",
       "330            5.8          2009  \n",
       "336            6.0          2009  \n",
       "386            7.0          2010  \n",
       "392            5.8          2010  \n",
       "687            5.0          2008  \n",
       "727            5.3          2011  \n",
       "764            4.7          2011  \n",
       "784            5.2          2011  \n",
       "825            5.3          2011  \n",
       "833            5.9          2011  \n",
       "914            7.2          2002  \n",
       "921            5.9          2002  \n",
       "1033           5.1          2012  \n",
       "1224           6.8          2013  \n",
       "1280           6.2          2013  \n",
       "1346           6.9          2005  \n",
       "1390           5.7          2005  \n",
       "1473           5.5          2006  \n",
       "1509           5.9          2006  \n",
       "1568           6.4          2004  \n",
       "1675           6.0          2007  \n",
       "1683           5.2          2007  \n",
       "1722           5.9          2007  \n",
       "1818           6.0          2000  \n",
       "1838           6.4          2000  "
      ]
     },
     "execution_count": 207,
     "metadata": {},
     "output_type": "execute_result"
    }
   ],
   "source": [
    "nicolas_films = data[data.cast.str.contains('Nicolas Cage')]"
   ]
  },
  {
   "cell_type": "code",
   "execution_count": 210,
   "metadata": {},
   "outputs": [
    {
     "data": {
      "text/plain": [
       "Action             17\n",
       "Thriller           15\n",
       "Drama              12\n",
       "Crime              10\n",
       "Fantasy             8\n",
       "Adventure           7\n",
       "Comedy              6\n",
       "Science Fiction     4\n",
       "Animation           3\n",
       "Mystery             3\n",
       "Family              3\n",
       "History             2\n",
       "Horror              1\n",
       "War                 1\n",
       "Romance             1\n",
       "dtype: int64"
      ]
     },
     "execution_count": 210,
     "metadata": {},
     "output_type": "execute_result"
    }
   ],
   "source": [
    "genres = data[data.cast.str.contains('Nicolas Cage')].genres\n",
    "pd.Series(genres.str.cat(sep='|').split('|')).value_counts()"
   ]
  },
  {
   "cell_type": "code",
   "execution_count": 238,
   "metadata": {},
   "outputs": [],
   "source": [
    "answers['17'] = 'Action'"
   ]
  },
  {
   "cell_type": "markdown",
   "metadata": {
    "colab_type": "text",
    "id": "RqOmPRfWVp_q"
   },
   "source": [
    "# 18. Самый убыточный фильм от Paramount Pictures"
   ]
  },
  {
   "cell_type": "code",
   "execution_count": 237,
   "metadata": {
    "colab": {},
    "colab_type": "code",
    "id": "9E_B0Y96Vp_r"
   },
   "outputs": [
    {
     "data": {
      "text/html": [
       "<div>\n",
       "<style scoped>\n",
       "    .dataframe tbody tr th:only-of-type {\n",
       "        vertical-align: middle;\n",
       "    }\n",
       "\n",
       "    .dataframe tbody tr th {\n",
       "        vertical-align: top;\n",
       "    }\n",
       "\n",
       "    .dataframe thead th {\n",
       "        text-align: right;\n",
       "    }\n",
       "</style>\n",
       "<table border=\"1\" class=\"dataframe\">\n",
       "  <thead>\n",
       "    <tr style=\"text-align: right;\">\n",
       "      <th></th>\n",
       "      <th>imdb_id</th>\n",
       "      <th>budget</th>\n",
       "      <th>revenue</th>\n",
       "      <th>original_title</th>\n",
       "      <th>cast</th>\n",
       "      <th>director</th>\n",
       "      <th>tagline</th>\n",
       "      <th>overview</th>\n",
       "      <th>runtime</th>\n",
       "      <th>genres</th>\n",
       "      <th>production_companies</th>\n",
       "      <th>release_date</th>\n",
       "      <th>vote_average</th>\n",
       "      <th>release_year</th>\n",
       "      <th>profit</th>\n",
       "    </tr>\n",
       "  </thead>\n",
       "  <tbody>\n",
       "    <tr>\n",
       "      <th>925</th>\n",
       "      <td>tt0267626</td>\n",
       "      <td>100000000</td>\n",
       "      <td>35168966</td>\n",
       "      <td>K-19: The Widowmaker</td>\n",
       "      <td>Harrison Ford|Liam Neeson|Peter Sarsgaard|Joss...</td>\n",
       "      <td>Kathryn Bigelow</td>\n",
       "      <td>Fate has found its hero.</td>\n",
       "      <td>When Russia's first nuclear submarine malfunct...</td>\n",
       "      <td>138</td>\n",
       "      <td>Thriller|Drama|History</td>\n",
       "      <td>Paramount Pictures|Intermedia Films|National G...</td>\n",
       "      <td>7/19/2002</td>\n",
       "      <td>6.0</td>\n",
       "      <td>2002</td>\n",
       "      <td>-64831034</td>\n",
       "    </tr>\n",
       "    <tr>\n",
       "      <th>1123</th>\n",
       "      <td>tt0300556</td>\n",
       "      <td>80000000</td>\n",
       "      <td>19480739</td>\n",
       "      <td>Timeline</td>\n",
       "      <td>Paul Walker|Frances O'Connor|Gerard Butler|Bil...</td>\n",
       "      <td>Richard Donner</td>\n",
       "      <td>They had to travel into the past to save the f...</td>\n",
       "      <td>A group of archaeological students become trap...</td>\n",
       "      <td>116</td>\n",
       "      <td>Action|Adventure|Science Fiction</td>\n",
       "      <td>Paramount Pictures|Donners' Company|Mutual Fil...</td>\n",
       "      <td>11/26/2003</td>\n",
       "      <td>5.1</td>\n",
       "      <td>2003</td>\n",
       "      <td>-60519261</td>\n",
       "    </tr>\n",
       "    <tr>\n",
       "      <th>1722</th>\n",
       "      <td>tt0435705</td>\n",
       "      <td>70000000</td>\n",
       "      <td>18211013</td>\n",
       "      <td>Next</td>\n",
       "      <td>Nicolas Cage|Julianne Moore|Jessica Biel|Thoma...</td>\n",
       "      <td>Lee Tamahori</td>\n",
       "      <td>If you can see the future, you can save it.</td>\n",
       "      <td>Las Vegas showroom magician Cris Johnson has a...</td>\n",
       "      <td>96</td>\n",
       "      <td>Action|Science Fiction|Thriller</td>\n",
       "      <td>Paramount Pictures|Virtual Studios|Revolution ...</td>\n",
       "      <td>4/24/2007</td>\n",
       "      <td>5.9</td>\n",
       "      <td>2007</td>\n",
       "      <td>-51788987</td>\n",
       "    </tr>\n",
       "    <tr>\n",
       "      <th>1623</th>\n",
       "      <td>tt0375173</td>\n",
       "      <td>60000000</td>\n",
       "      <td>13395939</td>\n",
       "      <td>Alfie</td>\n",
       "      <td>Jude Law|Marisa Tomei|Omar Epps|Jane Krakowski...</td>\n",
       "      <td>Charles Shyer</td>\n",
       "      <td>Meet a man who never met a woman he didn't love.</td>\n",
       "      <td>In Manhattan, the British limousine driver Alf...</td>\n",
       "      <td>103</td>\n",
       "      <td>Comedy</td>\n",
       "      <td>Paramount Pictures|Patalex Productions</td>\n",
       "      <td>10/22/2004</td>\n",
       "      <td>5.4</td>\n",
       "      <td>2004</td>\n",
       "      <td>-46604061</td>\n",
       "    </tr>\n",
       "    <tr>\n",
       "      <th>1631</th>\n",
       "      <td>tt0315297</td>\n",
       "      <td>50000000</td>\n",
       "      <td>25195000</td>\n",
       "      <td>Twisted</td>\n",
       "      <td>Ashley Judd|Samuel L. Jackson|Andy GarcÃ­a|Dav...</td>\n",
       "      <td>Philip Kaufman</td>\n",
       "      <td>Every murder has a mark.</td>\n",
       "      <td>Recently promoted and transferred to the homic...</td>\n",
       "      <td>97</td>\n",
       "      <td>Action|Adventure|Crime|Drama|Thriller</td>\n",
       "      <td>Paramount Pictures|Kopelson Entertainment|Harl...</td>\n",
       "      <td>2/27/2004</td>\n",
       "      <td>5.7</td>\n",
       "      <td>2004</td>\n",
       "      <td>-24805000</td>\n",
       "    </tr>\n",
       "    <tr>\n",
       "      <th>...</th>\n",
       "      <td>...</td>\n",
       "      <td>...</td>\n",
       "      <td>...</td>\n",
       "      <td>...</td>\n",
       "      <td>...</td>\n",
       "      <td>...</td>\n",
       "      <td>...</td>\n",
       "      <td>...</td>\n",
       "      <td>...</td>\n",
       "      <td>...</td>\n",
       "      <td>...</td>\n",
       "      <td>...</td>\n",
       "      <td>...</td>\n",
       "      <td>...</td>\n",
       "      <td>...</td>\n",
       "    </tr>\n",
       "    <tr>\n",
       "      <th>730</th>\n",
       "      <td>tt1229238</td>\n",
       "      <td>145000000</td>\n",
       "      <td>694713380</td>\n",
       "      <td>Mission: Impossible - Ghost Protocol</td>\n",
       "      <td>Tom Cruise|Jeremy Renner|Simon Pegg|Paula Patt...</td>\n",
       "      <td>Brad Bird</td>\n",
       "      <td>No Plan. No Backup. No Choice.</td>\n",
       "      <td>In the 4th installment of the Mission Impossib...</td>\n",
       "      <td>133</td>\n",
       "      <td>Action|Thriller|Adventure</td>\n",
       "      <td>Paramount Pictures|Skydance Productions|Bad Ro...</td>\n",
       "      <td>12/7/2011</td>\n",
       "      <td>6.7</td>\n",
       "      <td>2011</td>\n",
       "      <td>549713380</td>\n",
       "    </tr>\n",
       "    <tr>\n",
       "      <th>1738</th>\n",
       "      <td>tt0418279</td>\n",
       "      <td>150000000</td>\n",
       "      <td>709709780</td>\n",
       "      <td>Transformers</td>\n",
       "      <td>Shia LaBeouf|Josh Duhamel|Megan Fox|Rachael Ta...</td>\n",
       "      <td>Michael Bay</td>\n",
       "      <td>Their war. Our world.</td>\n",
       "      <td>Young teenager, Sam Witwicky becomes involved ...</td>\n",
       "      <td>144</td>\n",
       "      <td>Adventure|Science Fiction|Action</td>\n",
       "      <td>Paramount Pictures|DreamWorks SKG|Amblin Enter...</td>\n",
       "      <td>6/27/2007</td>\n",
       "      <td>6.6</td>\n",
       "      <td>2007</td>\n",
       "      <td>559709780</td>\n",
       "    </tr>\n",
       "    <tr>\n",
       "      <th>603</th>\n",
       "      <td>tt0367882</td>\n",
       "      <td>185000000</td>\n",
       "      <td>786636033</td>\n",
       "      <td>Indiana Jones and the Kingdom of the Crystal S...</td>\n",
       "      <td>Harrison Ford|Cate Blanchett|Shia LaBeouf|Ray ...</td>\n",
       "      <td>Steven Spielberg</td>\n",
       "      <td>The adventure continues . . .</td>\n",
       "      <td>Set during the Cold War, the Soviets â€“ led b...</td>\n",
       "      <td>122</td>\n",
       "      <td>Adventure|Action</td>\n",
       "      <td>Lucasfilm|Paramount Pictures</td>\n",
       "      <td>5/21/2008</td>\n",
       "      <td>5.6</td>\n",
       "      <td>2008</td>\n",
       "      <td>601636033</td>\n",
       "    </tr>\n",
       "    <tr>\n",
       "      <th>317</th>\n",
       "      <td>tt1055369</td>\n",
       "      <td>150000000</td>\n",
       "      <td>836297228</td>\n",
       "      <td>Transformers: Revenge of the Fallen</td>\n",
       "      <td>Shia LaBeouf|Megan Fox|Josh Duhamel|Rainn Wils...</td>\n",
       "      <td>Michael Bay</td>\n",
       "      <td>Revenge is coming</td>\n",
       "      <td>Sam Witwicky leaves the Autobots behind for a ...</td>\n",
       "      <td>150</td>\n",
       "      <td>Science Fiction|Action|Adventure</td>\n",
       "      <td>Paramount Pictures|DreamWorks SKG|Amblin Enter...</td>\n",
       "      <td>6/19/2009</td>\n",
       "      <td>6.0</td>\n",
       "      <td>2009</td>\n",
       "      <td>686297228</td>\n",
       "    </tr>\n",
       "    <tr>\n",
       "      <th>828</th>\n",
       "      <td>tt1399103</td>\n",
       "      <td>195000000</td>\n",
       "      <td>1123746996</td>\n",
       "      <td>Transformers: Dark of the Moon</td>\n",
       "      <td>Shia LaBeouf|John Malkovich|Ken Jeong|Frances ...</td>\n",
       "      <td>Michael Bay</td>\n",
       "      <td>The invasion we always feared. An enemy we nev...</td>\n",
       "      <td>Sam Witwicky takes his first tenuous steps int...</td>\n",
       "      <td>154</td>\n",
       "      <td>Action|Science Fiction|Adventure</td>\n",
       "      <td>Paramount Pictures|Di Bonaventura Pictures|Has...</td>\n",
       "      <td>6/28/2011</td>\n",
       "      <td>6.1</td>\n",
       "      <td>2011</td>\n",
       "      <td>928746996</td>\n",
       "    </tr>\n",
       "  </tbody>\n",
       "</table>\n",
       "<p>122 rows × 15 columns</p>\n",
       "</div>"
      ],
      "text/plain": [
       "        imdb_id     budget     revenue  \\\n",
       "925   tt0267626  100000000    35168966   \n",
       "1123  tt0300556   80000000    19480739   \n",
       "1722  tt0435705   70000000    18211013   \n",
       "1623  tt0375173   60000000    13395939   \n",
       "1631  tt0315297   50000000    25195000   \n",
       "...         ...        ...         ...   \n",
       "730   tt1229238  145000000   694713380   \n",
       "1738  tt0418279  150000000   709709780   \n",
       "603   tt0367882  185000000   786636033   \n",
       "317   tt1055369  150000000   836297228   \n",
       "828   tt1399103  195000000  1123746996   \n",
       "\n",
       "                                         original_title  \\\n",
       "925                                K-19: The Widowmaker   \n",
       "1123                                           Timeline   \n",
       "1722                                               Next   \n",
       "1623                                              Alfie   \n",
       "1631                                            Twisted   \n",
       "...                                                 ...   \n",
       "730                Mission: Impossible - Ghost Protocol   \n",
       "1738                                       Transformers   \n",
       "603   Indiana Jones and the Kingdom of the Crystal S...   \n",
       "317                 Transformers: Revenge of the Fallen   \n",
       "828                      Transformers: Dark of the Moon   \n",
       "\n",
       "                                                   cast          director  \\\n",
       "925   Harrison Ford|Liam Neeson|Peter Sarsgaard|Joss...   Kathryn Bigelow   \n",
       "1123  Paul Walker|Frances O'Connor|Gerard Butler|Bil...    Richard Donner   \n",
       "1722  Nicolas Cage|Julianne Moore|Jessica Biel|Thoma...      Lee Tamahori   \n",
       "1623  Jude Law|Marisa Tomei|Omar Epps|Jane Krakowski...     Charles Shyer   \n",
       "1631  Ashley Judd|Samuel L. Jackson|Andy GarcÃ­a|Dav...    Philip Kaufman   \n",
       "...                                                 ...               ...   \n",
       "730   Tom Cruise|Jeremy Renner|Simon Pegg|Paula Patt...         Brad Bird   \n",
       "1738  Shia LaBeouf|Josh Duhamel|Megan Fox|Rachael Ta...       Michael Bay   \n",
       "603   Harrison Ford|Cate Blanchett|Shia LaBeouf|Ray ...  Steven Spielberg   \n",
       "317   Shia LaBeouf|Megan Fox|Josh Duhamel|Rainn Wils...       Michael Bay   \n",
       "828   Shia LaBeouf|John Malkovich|Ken Jeong|Frances ...       Michael Bay   \n",
       "\n",
       "                                                tagline  \\\n",
       "925                            Fate has found its hero.   \n",
       "1123  They had to travel into the past to save the f...   \n",
       "1722        If you can see the future, you can save it.   \n",
       "1623   Meet a man who never met a woman he didn't love.   \n",
       "1631                           Every murder has a mark.   \n",
       "...                                                 ...   \n",
       "730                      No Plan. No Backup. No Choice.   \n",
       "1738                              Their war. Our world.   \n",
       "603                       The adventure continues . . .   \n",
       "317                                   Revenge is coming   \n",
       "828   The invasion we always feared. An enemy we nev...   \n",
       "\n",
       "                                               overview  runtime  \\\n",
       "925   When Russia's first nuclear submarine malfunct...      138   \n",
       "1123  A group of archaeological students become trap...      116   \n",
       "1722  Las Vegas showroom magician Cris Johnson has a...       96   \n",
       "1623  In Manhattan, the British limousine driver Alf...      103   \n",
       "1631  Recently promoted and transferred to the homic...       97   \n",
       "...                                                 ...      ...   \n",
       "730   In the 4th installment of the Mission Impossib...      133   \n",
       "1738  Young teenager, Sam Witwicky becomes involved ...      144   \n",
       "603   Set during the Cold War, the Soviets â€“ led b...      122   \n",
       "317   Sam Witwicky leaves the Autobots behind for a ...      150   \n",
       "828   Sam Witwicky takes his first tenuous steps int...      154   \n",
       "\n",
       "                                     genres  \\\n",
       "925                  Thriller|Drama|History   \n",
       "1123       Action|Adventure|Science Fiction   \n",
       "1722        Action|Science Fiction|Thriller   \n",
       "1623                                 Comedy   \n",
       "1631  Action|Adventure|Crime|Drama|Thriller   \n",
       "...                                     ...   \n",
       "730               Action|Thriller|Adventure   \n",
       "1738       Adventure|Science Fiction|Action   \n",
       "603                        Adventure|Action   \n",
       "317        Science Fiction|Action|Adventure   \n",
       "828        Action|Science Fiction|Adventure   \n",
       "\n",
       "                                   production_companies release_date  \\\n",
       "925   Paramount Pictures|Intermedia Films|National G...    7/19/2002   \n",
       "1123  Paramount Pictures|Donners' Company|Mutual Fil...   11/26/2003   \n",
       "1722  Paramount Pictures|Virtual Studios|Revolution ...    4/24/2007   \n",
       "1623             Paramount Pictures|Patalex Productions   10/22/2004   \n",
       "1631  Paramount Pictures|Kopelson Entertainment|Harl...    2/27/2004   \n",
       "...                                                 ...          ...   \n",
       "730   Paramount Pictures|Skydance Productions|Bad Ro...    12/7/2011   \n",
       "1738  Paramount Pictures|DreamWorks SKG|Amblin Enter...    6/27/2007   \n",
       "603                        Lucasfilm|Paramount Pictures    5/21/2008   \n",
       "317   Paramount Pictures|DreamWorks SKG|Amblin Enter...    6/19/2009   \n",
       "828   Paramount Pictures|Di Bonaventura Pictures|Has...    6/28/2011   \n",
       "\n",
       "      vote_average  release_year     profit  \n",
       "925            6.0          2002  -64831034  \n",
       "1123           5.1          2003  -60519261  \n",
       "1722           5.9          2007  -51788987  \n",
       "1623           5.4          2004  -46604061  \n",
       "1631           5.7          2004  -24805000  \n",
       "...            ...           ...        ...  \n",
       "730            6.7          2011  549713380  \n",
       "1738           6.6          2007  559709780  \n",
       "603            5.6          2008  601636033  \n",
       "317            6.0          2009  686297228  \n",
       "828            6.1          2011  928746996  \n",
       "\n",
       "[122 rows x 15 columns]"
      ]
     },
     "execution_count": 237,
     "metadata": {},
     "output_type": "execute_result"
    }
   ],
   "source": [
    "answers['18'] = 'K-19: The Widowmaker'\n",
    "df[df.production_companies.str.contains('Paramount Pictures')].sort_values(['profit'])"
   ]
  },
  {
   "cell_type": "markdown",
   "metadata": {
    "colab_type": "text",
    "id": "vS8Ur6ddVp_u"
   },
   "source": [
    "# 19. Какой год стал самым успешным по суммарным кассовым сборам?"
   ]
  },
  {
   "cell_type": "code",
   "execution_count": 248,
   "metadata": {
    "colab": {},
    "colab_type": "code",
    "id": "Dnbt4GdIVp_v"
   },
   "outputs": [],
   "source": [
    "# df[df.production_companies.str.contains('Paramount Pictures')].sort_values(['profit'])\n",
    "# df[df.profit == max(df.profit)][['imdb_id', 'original_title', 'budget']]\n",
    "df.groupby('release_year').sum().sort_values('revenue', ascending=False).revenue.head()\n",
    "answers['19'] = '2015'"
   ]
  },
  {
   "cell_type": "markdown",
   "metadata": {
    "colab_type": "text",
    "id": "JAzJh4QAVp_z"
   },
   "source": [
    "# 20. Какой самый прибыльный год для студии Warner Bros?"
   ]
  },
  {
   "cell_type": "code",
   "execution_count": 254,
   "metadata": {
    "colab": {},
    "colab_type": "code",
    "id": "wgVu02DEVp_0"
   },
   "outputs": [
    {
     "data": {
      "text/plain": [
       "release_year\n",
       "2014    3243064519\n",
       "2007    3183675217\n",
       "2008    3050595031\n",
       "2010    3008712985\n",
       "2011    2845393682\n",
       "2003    2745493377\n",
       "2009    2737954136\n",
       "2004    2731933725\n",
       "2013    2599953400\n",
       "2005    2412980298\n",
       "2001    2266545668\n",
       "2012    1869520056\n",
       "2002    1702709901\n",
       "2015    1691168351\n",
       "2006    1521170743\n",
       "2000    1025531386\n",
       "Name: revenue, dtype: int64"
      ]
     },
     "execution_count": 254,
     "metadata": {},
     "output_type": "execute_result"
    }
   ],
   "source": [
    "# df[df.production_companies.str.contains('Paramount Pictures')].sort_values(['profit'])\n",
    "\n",
    "answers['20'] = 2014\n",
    "data[data.production_companies.str.contains('Warner Bros')].groupby(['release_year'])['revenue'].sum().sort_values(ascending=False)"
   ]
  },
  {
   "cell_type": "markdown",
   "metadata": {
    "colab_type": "text",
    "id": "8Im1S2HRVp_4"
   },
   "source": [
    "# 21. В каком месяце за все годы суммарно вышло больше всего фильмов?"
   ]
  },
  {
   "cell_type": "code",
   "execution_count": 262,
   "metadata": {
    "colab": {},
    "colab_type": "code",
    "id": "lev6TH7gVp_4"
   },
   "outputs": [
    {
     "data": {
      "text/plain": [
       "month\n",
       "9     227\n",
       "12    190\n",
       "10    186\n",
       "8     161\n",
       "3     156\n",
       "4     149\n",
       "6     147\n",
       "11    146\n",
       "7     142\n",
       "5     140\n",
       "2     135\n",
       "1     110\n",
       "Name: imdb_id, dtype: int64"
      ]
     },
     "execution_count": 262,
     "metadata": {},
     "output_type": "execute_result"
    }
   ],
   "source": [
    "data['month'] = data.apply(lambda x: x['release_date'].split('/')[0], axis=1)\n",
    "data.groupby(['month']).imdb_id.count().sort_values(ascending=False)"
   ]
  },
  {
   "cell_type": "markdown",
   "metadata": {
    "colab_type": "text",
    "id": "uAJsZ_NeVp_7"
   },
   "source": [
    "# 22. Сколько суммарно вышло фильмов летом? (за июнь, июль, август)"
   ]
  },
  {
   "cell_type": "code",
   "execution_count": 272,
   "metadata": {
    "colab": {},
    "colab_type": "code",
    "id": "Aa-hEREoVp_8"
   },
   "outputs": [
    {
     "data": {
      "text/plain": [
       "450"
      ]
     },
     "execution_count": 272,
     "metadata": {},
     "output_type": "execute_result"
    }
   ],
   "source": [
    " data[data.month.isin(['6', '7', '8'])].imdb_id.count()\n",
    "#data.release_year.isin(range(2012, 2015))\n",
    "# data[data.month.isin(['6', '7', '8'])].imdb_id.count()"
   ]
  },
  {
   "cell_type": "code",
   "execution_count": 273,
   "metadata": {},
   "outputs": [],
   "source": [
    " answers['22'] = 450 "
   ]
  },
  {
   "cell_type": "markdown",
   "metadata": {
    "colab_type": "text",
    "id": "G94ppOY1VqAA"
   },
   "source": [
    "# 23. Для какого режиссера зима – самое продуктивное время года? "
   ]
  },
  {
   "cell_type": "code",
   "execution_count": 276,
   "metadata": {
    "colab": {},
    "colab_type": "code",
    "id": "RhNTsamuVqAB"
   },
   "outputs": [
    {
     "data": {
      "text/plain": [
       "Peter Jackson        7\n",
       "Steven Soderbergh    6\n",
       "Clint Eastwood       6\n",
       "Nancy Meyers         4\n",
       "Martin Scorsese      4\n",
       "                    ..\n",
       "Todd Phillips        1\n",
       "John Boorman         1\n",
       "Charles Stone III    1\n",
       "Jason Moore          1\n",
       "Craig Brewer         1\n",
       "Length: 358, dtype: int64"
      ]
     },
     "execution_count": 276,
     "metadata": {},
     "output_type": "execute_result"
    }
   ],
   "source": [
    "answers['23'] = 'Peter Jackson'\n",
    "winter_data = data[data.month.isin(['1', '2', '12'])]\n",
    "directors = set(winter_data.director.str.cat(sep='|').split('|'))\n",
    "pd.Series({x: (winter_data[\n",
    "                    (winter_data.director.str.contains(x))\n",
    "                    ].director.count()) for x in directors}\n",
    "         ).sort_values(ascending=False)"
   ]
  },
  {
   "cell_type": "markdown",
   "metadata": {
    "colab_type": "text",
    "id": "RBo0JVjVVqAF"
   },
   "source": [
    "# 24. Какая студия дает самые длинные названия своим фильмам по количеству символов?"
   ]
  },
  {
   "cell_type": "code",
   "execution_count": 278,
   "metadata": {
    "colab": {},
    "colab_type": "code",
    "id": "QRGS8L0iVqAG"
   },
   "outputs": [],
   "source": [
    "companies = set(data.production_companies.str.cat(sep='|').split('|'))\n",
    "pd.Series({x: (data[\n",
    "                (data.production_companies.str.contains(x))\n",
    "                ].original_title.str.len().mean()\n",
    "              ) for x in companies\n",
    "          }\n",
    ").sort_values(ascending=False)\n"
   ]
  },
  {
   "cell_type": "markdown",
   "metadata": {
    "colab_type": "text",
    "id": "9G0hbvR7VqAK"
   },
   "source": [
    "# 25. Описание фильмов какой студии в среднем самые длинные по количеству слов?"
   ]
  },
  {
   "cell_type": "code",
   "execution_count": 279,
   "metadata": {
    "colab": {},
    "colab_type": "code",
    "id": "Ge2GsLNxVqAK"
   },
   "outputs": [],
   "source": [
    "data['overview_words_length'] = data.apply(lambda x: len(x['overview'].split(' ')), axis=1)\n",
    "\n",
    "companies = set(data.production_companies.str.cat(sep='|').split('|'))\n",
    "pd.Series({x: (data[\n",
    "                (data.production_companies.str.contains(x))\n",
    "                ].original_title.str.len().mean()\n",
    "              ) for x in companies\n",
    "          }\n",
    ").sort_values(ascending=False)\n",
    "\n",
    "answers['24']='Four By Two Productions'\n",
    "companies = set(data.production_companies.str.cat(sep='|').split('|'))\n",
    "pd.Series({x: (data[\n",
    "                (data.production_companies.str.contains(x))\n",
    "                ].original_title.str.len().mean()\n",
    "              ) for x in companies\n",
    "          }\n",
    ").sort_values(ascending=False)"
   ]
  },
  {
   "cell_type": "markdown",
   "metadata": {
    "colab_type": "text",
    "id": "FJ1AFt90VqAP"
   },
   "source": [
    "# 26. Какие фильмы входят в 1 процент лучших по рейтингу? \n",
    "по vote_average"
   ]
  },
  {
   "cell_type": "code",
   "execution_count": 0,
   "metadata": {
    "colab": {},
    "colab_type": "code",
    "id": "8qmJVq4CVqAQ"
   },
   "outputs": [],
   "source": []
  },
  {
   "cell_type": "markdown",
   "metadata": {
    "colab_type": "text",
    "id": "MdXsUXbCVqAV"
   },
   "source": [
    "# 27. Какие актеры чаще всего снимаются в одном фильме вместе?\n"
   ]
  },
  {
   "cell_type": "markdown",
   "metadata": {
    "colab_type": "text",
    "id": "4ymnxEVoVqAW"
   },
   "source": [
    "ВАРИАНТ 2"
   ]
  },
  {
   "cell_type": "markdown",
   "metadata": {
    "colab_type": "text",
    "id": "U0nONFnGVqAX"
   },
   "source": [
    "# Submission"
   ]
  },
  {
   "cell_type": "code",
   "execution_count": 0,
   "metadata": {
    "colab": {},
    "colab_type": "code",
    "id": "IfcaRO9-VqAX",
    "outputId": "0f132912-32bb-4196-c98c-abfbc4ad5a5f"
   },
   "outputs": [
    {
     "data": {
      "text/plain": [
       "{'1': '...', '2': '...'}"
      ]
     },
     "execution_count": 8,
     "metadata": {
      "tags": []
     },
     "output_type": "execute_result"
    }
   ],
   "source": [
    "# в конце можно посмотреть свои ответы к каждому вопросу\n",
    "answers"
   ]
  },
  {
   "cell_type": "code",
   "execution_count": 0,
   "metadata": {
    "colab": {},
    "colab_type": "code",
    "id": "SiRmHPl8VqAd"
   },
   "outputs": [],
   "source": [
    "# и убедиться что ни чего не пропустил)\n",
    "len(answers)"
   ]
  },
  {
   "cell_type": "code",
   "execution_count": 0,
   "metadata": {
    "colab": {},
    "colab_type": "code",
    "id": "uCfuTkRbVqAg"
   },
   "outputs": [],
   "source": []
  },
  {
   "cell_type": "code",
   "execution_count": 0,
   "metadata": {
    "colab": {},
    "colab_type": "code",
    "id": "Vwx3NrkSVqAl"
   },
   "outputs": [],
   "source": []
  }
 ],
 "metadata": {
  "colab": {
   "name": "Copy of [SF-DST] Movies IMBD v4.1 TEMPLATE.ipynb",
   "provenance": []
  },
  "kernelspec": {
   "display_name": "Python 3",
   "language": "python",
   "name": "python3"
  },
  "language_info": {
   "codemirror_mode": {
    "name": "ipython",
    "version": 3
   },
   "file_extension": ".py",
   "mimetype": "text/x-python",
   "name": "python",
   "nbconvert_exporter": "python",
   "pygments_lexer": "ipython3",
   "version": "3.7.6"
  }
 },
 "nbformat": 4,
 "nbformat_minor": 1
}
