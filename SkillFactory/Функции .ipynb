{
 "cells": [
  {
   "cell_type": "code",
   "execution_count": 4,
   "metadata": {},
   "outputs": [
    {
     "name": "stdout",
     "output_type": "stream",
     "text": [
      "115\n"
     ]
    }
   ],
   "source": [
    "# Дополните аргументы и код функции\n",
    "def sum_2(x, y):\n",
    "    result = x + y\n",
    "    return result\n",
    "\n",
    "# Передайте аргументы 42 и 73 в функцию\n",
    "print(sum_2(42, 73))"
   ]
  },
  {
   "cell_type": "markdown",
   "metadata": {},
   "source": [
    "Напишите функцию power, которая возводит первый аргумент в степень второго аргумента. Например, power(2, 3) должен вернуть 8, а power(4, 2) - 16"
   ]
  },
  {
   "cell_type": "code",
   "execution_count": 9,
   "metadata": {},
   "outputs": [
    {
     "data": {
      "text/plain": [
       "8"
      ]
     },
     "execution_count": 9,
     "metadata": {},
     "output_type": "execute_result"
    }
   ],
   "source": [
    "def power(x,y):\n",
    "    result =  x**y\n",
    "    return result\n",
    "power(2,3)\n",
    "\n",
    "\n"
   ]
  },
  {
   "cell_type": "code",
   "execution_count": null,
   "metadata": {},
   "outputs": [],
   "source": [
    "# Это определение функции, которая возводит число в квадрат    \n",
    "def square(x):    \n",
    "    return x**2    \n",
    "    \n",
    "# Это вызов функции. Мы возведём 5 в квадрат и положим 25 в переменную square_result    \n",
    "square_result = square(5)    \n",
    "    \n",
    "    \n",
    "# Определение стоимости в магазине всё по 60, где только яблоки стоят 30    \n",
    "def count_cost(product):    \n",
    "    if product == \"apple\":    \n",
    "        cost = 30    \n",
    "    else:    \n",
    "        cost = 60    \n",
    "    return cost    \n",
    "    \n",
    "# Попросим функцию посчитать стоимость апельсина    \n",
    "orange_cost = count_cost(\"orange\")    "
   ]
  },
  {
   "cell_type": "markdown",
   "metadata": {},
   "source": [
    "Постройте функцию get_median, которая принимает на вход список чисел и возвращает медиану, например, для этого списка.\n",
    "\n",
    "get_median([5, 2, 1, 3, 4]) должен вернуть 3\n",
    "get_median([3, 3, 7, 9]) должен вернуть 5"
   ]
  },
  {
   "cell_type": "code",
   "execution_count": 1,
   "metadata": {},
   "outputs": [
    {
     "data": {
      "text/plain": [
       "3"
      ]
     },
     "execution_count": 1,
     "metadata": {},
     "output_type": "execute_result"
    }
   ],
   "source": [
    "def get_median(list):\n",
    "    list.sort()\n",
    "    length = int(len(list))\n",
    "    if length % 2 == 0:\n",
    "        a = int(length / 2)\n",
    "        b = int(length / 2 - 1)\n",
    "        median = int((list[a] + list[b])/2)\n",
    "    else: \n",
    "        median = int(length / 2 + 0.5)\n",
    "    return median\n",
    "get_median([5, 2, 1, 3, 4]) "
   ]
  },
  {
   "cell_type": "code",
   "execution_count": 3,
   "metadata": {},
   "outputs": [
    {
     "name": "stdout",
     "output_type": "stream",
     "text": [
      "['€5.71', '€2.86', '€2.14']\n"
     ]
    }
   ],
   "source": [
    "ticket_db = [{'price': 400}, {'price': 200}, {'price': 150}]    \n",
    "    \n",
    "tickets_euro = []    \n",
    "for ticket in ticket_db:    \n",
    "    converted = ticket['price'] / 70    \n",
    "    rounded = round(converted, 2)     \n",
    "    formatted = '€' + str(rounded)    \n",
    "    tickets_euro.append(formatted)    \n",
    "        \n",
    "print(tickets_euro)    "
   ]
  },
  {
   "cell_type": "code",
   "execution_count": 5,
   "metadata": {},
   "outputs": [
    {
     "name": "stdout",
     "output_type": "stream",
     "text": [
      "['€5.71', '€2.86', '€2.14'] ['€0.71', '€0.57'] ['€1.43', '€1.36', '€2.14']\n"
     ]
    }
   ],
   "source": [
    "ticket_db = [{'price': 400}, {'price': 200}, {'price': 150}]  \n",
    "  \n",
    "tickets_euro = []  \n",
    "for ticket in ticket_db:  \n",
    "    converted = ticket['price'] / 70  \n",
    "    rounded = round(converted, 2)   \n",
    "    formatted = '€' + str(rounded)  \n",
    "    tickets_euro.append(formatted)  \n",
    "      \n",
    "      \n",
    "guide_db = [{'price': 50}, {'price': 40}]  \n",
    "  \n",
    "guides_euro = []  \n",
    "for guide in guide_db:  \n",
    "    converted = guide['price'] / 70  \n",
    "    rounded = round(converted, 2)   \n",
    "    formatted = '€' + str(rounded)  \n",
    "    guides_euro.append(formatted)  \n",
    "      \n",
    "      \n",
    "snack_db = [{'price': 100}, {'price': 95}, {'price': 150}]  \n",
    "  \n",
    "snacks_euro = []  \n",
    "for snack in snack_db:  \n",
    "    converted = snack['price'] / 70  \n",
    "    rounded = round(converted, 2)   \n",
    "    formatted = '€' + str(rounded)  \n",
    "    snacks_euro.append(formatted)  \n",
    "  \n",
    "print(tickets_euro, guides_euro, snacks_euro)  "
   ]
  },
  {
   "cell_type": "code",
   "execution_count": 6,
   "metadata": {},
   "outputs": [
    {
     "name": "stdout",
     "output_type": "stream",
     "text": [
      "['€5.71', '€2.86', '€2.14'] ['€0.71', '€0.57'] ['€1.43', '€1.36', '€2.14']\n"
     ]
    }
   ],
   "source": [
    "def to_euro(price):  \n",
    "    exchange_rate = 70  \n",
    "    rounded = round(price/exchange_rate, 2)  \n",
    "    return '€' + str(rounded)  \n",
    "  \n",
    "def db_to_euro(db):  \n",
    "    return [to_euro(item['price']) for item in db]  \n",
    "  \n",
    "  \n",
    "ticket_db = [{'price': 400}, {'price': 200}, {'price': 150}]  \n",
    "guide_db = [{'price': 50}, {'price': 40}]  \n",
    "snack_db = [{'price': 100}, {'price': 95}, {'price': 150}]  \n",
    "  \n",
    "tickets_euro = db_to_euro(ticket_db)  \n",
    "guides_euro = db_to_euro(guide_db)  \n",
    "snacks_euro = db_to_euro(snack_db)  \n",
    "  \n",
    "print(tickets_euro, guides_euro, snacks_euro)  \n"
   ]
  },
  {
   "cell_type": "markdown",
   "metadata": {},
   "source": [
    "Перепишите код ниже, определив функцию avg_orders(user_db), которая возвращает среднее число заказов по данным в базе. Затем выведите на экран результат вызова этой функции для user_db"
   ]
  },
  {
   "cell_type": "code",
   "execution_count": 12,
   "metadata": {},
   "outputs": [
    {
     "name": "stdout",
     "output_type": "stream",
     "text": [
      "29.0\n",
      "None\n"
     ]
    }
   ],
   "source": [
    "user_db = [{'orders': 12}, {'orders': 30}, {'orders': 45}]\n",
    "\n",
    "def avg_orders(user_db):\n",
    "    order_sum = sum([user['orders'] for user in user_db])\n",
    "    orders_per_user = order_sum/len(user_db)\n",
    "    return print(orders_per_user) \n",
    "print(avg_orders(user_db))"
   ]
  },
  {
   "cell_type": "code",
   "execution_count": 14,
   "metadata": {},
   "outputs": [],
   "source": [
    "from random import random\n",
    "# добавьте функцию get_euro_rate\n",
    "def get_euro_rate():  \n",
    "    return (65 + random() * 20)\n",
    "# используйте get_euro_rate в следующей функции\n",
    "def to_euro(price):  \n",
    "    exchange_rate = get_euro_rate()\n",
    "    rounded = round(price/exchange_rate, 2)  \n",
    "    return '€' + str(rounded) "
   ]
  },
  {
   "cell_type": "code",
   "execution_count": 16,
   "metadata": {},
   "outputs": [
    {
     "name": "stdout",
     "output_type": "stream",
     "text": [
      "10\n"
     ]
    }
   ],
   "source": [
    "all_the = sum\n",
    "magic = range\n",
    "print(all_the(magic(5)))"
   ]
  },
  {
   "cell_type": "markdown",
   "metadata": {},
   "source": [
    "MAP function "
   ]
  },
  {
   "cell_type": "code",
   "execution_count": 17,
   "metadata": {},
   "outputs": [
    {
     "data": {
      "text/plain": [
       "['Mr. Boris', 'Mr. Ivan', 'Mr. Bob']"
      ]
     },
     "execution_count": 17,
     "metadata": {},
     "output_type": "execute_result"
    }
   ],
   "source": [
    "def polite_name(name):  \n",
    "    return 'Mr. ' + name   \n",
    "  \n",
    "guests = [\"Boris\", \"Ivan\", \"Bob\"]\n",
    "guest_iterator = map(polite_name, guests)  # здесь мы применили polite_name к каждому имени  \n",
    "list(guest_iterator)  # вывoд  "
   ]
  },
  {
   "cell_type": "code",
   "execution_count": 18,
   "metadata": {},
   "outputs": [
    {
     "data": {
      "text/plain": [
       "[10.0, 1.0, 4.2, 0.73]"
      ]
     },
     "execution_count": 18,
     "metadata": {},
     "output_type": "execute_result"
    }
   ],
   "source": [
    "num_strings = [\"10\", \"1\", \"4.2\", \"0.73\"]  \n",
    "  \n",
    "list(map(float, num_strings))  "
   ]
  },
  {
   "cell_type": "markdown",
   "metadata": {},
   "source": [
    "модуль числа из списка"
   ]
  },
  {
   "cell_type": "code",
   "execution_count": 19,
   "metadata": {},
   "outputs": [
    {
     "data": {
      "text/plain": [
       "73"
      ]
     },
     "execution_count": 19,
     "metadata": {},
     "output_type": "execute_result"
    }
   ],
   "source": [
    "list(map(abs, [10,  -1, 42, -73]))[3]"
   ]
  },
  {
   "cell_type": "code",
   "execution_count": 22,
   "metadata": {},
   "outputs": [
    {
     "data": {
      "text/plain": [
       "[3, 3, 4, 2, 3]"
      ]
     },
     "execution_count": 22,
     "metadata": {},
     "output_type": "execute_result"
    }
   ],
   "source": [
    "word_sizes = list(map(len, [\"all\", \"you\", \"need\", \"is\", \"map\"]))\n",
    "word_sizes"
   ]
  },
  {
   "cell_type": "code",
   "execution_count": 23,
   "metadata": {},
   "outputs": [
    {
     "data": {
      "text/plain": [
       "64"
      ]
     },
     "execution_count": 23,
     "metadata": {},
     "output_type": "execute_result"
    }
   ],
   "source": [
    "func = lambda x, y: x + y  \n",
    "  \n",
    "# после этого мы можем использовать func как обычную функцию  \n",
    "func(1, 2)  \n",
    "# => 3  \n",
    "func('a', 'b')  \n",
    "# => 'ab'  \n",
    "  \n",
    "# мы даже можем не давать функции имя, а сразу вызывать  \n",
    "(lambda x: x**2)(8)  "
   ]
  },
  {
   "cell_type": "code",
   "execution_count": 25,
   "metadata": {},
   "outputs": [],
   "source": [
    "def name(x, y):  \n",
    "    return x + y  \n",
    "  \n",
    "# то же самое, что  \n",
    "name = lambda x, y: x + y  "
   ]
  },
  {
   "cell_type": "code",
   "execution_count": 28,
   "metadata": {},
   "outputs": [
    {
     "data": {
      "text/plain": [
       "['Mr. Boris', 'Mr. Ivan', 'Mr. Bob']"
      ]
     },
     "execution_count": 28,
     "metadata": {},
     "output_type": "execute_result"
    }
   ],
   "source": [
    "# исходная версия была такой  \n",
    "def polite_name(name):  \n",
    "    return 'Mr. ' + name   \n",
    "  \n",
    "guests = [\"Boris\", \"Ivan\", \"Bob\"]  \n",
    "guest_iterator = map(polite_name, guests)   \n",
    "\n",
    "# Теперь перепишем с лямбда функцией  \n",
    "guests = [\"Boris\", \"Ivan\", \"Bob\"]  \n",
    "list(map(lambda name: \"Mr. \" + name, guests))  \n"
   ]
  },
  {
   "cell_type": "markdown",
   "metadata": {},
   "source": [
    "При анализе данных бывает полезно \"подвинуть\" числа так, чтобы среднее значение было нулевым: так удобнее анализировать их распределение.\n",
    "\n",
    "Напишите выражение c map, которое из каждого элемента values вычитает среднее значение mean. Результат положите в переменную result"
   ]
  },
  {
   "cell_type": "code",
   "execution_count": 32,
   "metadata": {},
   "outputs": [
    {
     "data": {
      "text/plain": [
       "[-14, -10, -3, -2, 5, 24]"
      ]
     },
     "execution_count": 32,
     "metadata": {},
     "output_type": "execute_result"
    }
   ],
   "source": [
    "values = [4, 8, 15, 16, 23, 42]\n",
    "mean = 18\n",
    "\n",
    "result = list(map(lambda values: values - mean, values))\n",
    "result"
   ]
  },
  {
   "cell_type": "code",
   "execution_count": 33,
   "metadata": {},
   "outputs": [
    {
     "data": {
      "text/plain": [
       "[1, 33, 5]"
      ]
     },
     "execution_count": 33,
     "metadata": {},
     "output_type": "execute_result"
    }
   ],
   "source": [
    "nums = [1, 20, 30, 33, 16, 5]  \n",
    "  \n",
    "# оставим числа меньшее 30  \n",
    "list(filter(lambda x: x < 30, nums))  \n",
    "# => [1, 20, 16, 5]  \n",
    "  \n",
    "# оставим только нечётные числа  \n",
    "list(filter(lambda x: x % 2 == 1, nums))  \n",
    "# => [1, 33, 5] "
   ]
  },
  {
   "cell_type": "markdown",
   "metadata": {},
   "source": [
    "Для заданных чисел values и среднего значения mean напишите такой filter, который оставляет только элементы больше среднего значения."
   ]
  },
  {
   "cell_type": "code",
   "execution_count": 35,
   "metadata": {},
   "outputs": [
    {
     "data": {
      "text/plain": [
       "[23, 42]"
      ]
     },
     "execution_count": 35,
     "metadata": {},
     "output_type": "execute_result"
    }
   ],
   "source": [
    "values = [4, 8, 15, 16, 23, 42]\n",
    "mean = 18\n",
    "\n",
    "result = list(filter(lambda values: values > mean, values))\n",
    "result"
   ]
  },
  {
   "cell_type": "code",
   "execution_count": 36,
   "metadata": {},
   "outputs": [
    {
     "data": {
      "text/plain": [
       "[1, 4, 9]"
      ]
     },
     "execution_count": 36,
     "metadata": {},
     "output_type": "execute_result"
    }
   ],
   "source": [
    "[x**2 for x in [1, 2, 3]]  \n",
    "  \n",
    "# Лямбда + map  \n",
    "list(map(lambda x: x**2, [1, 2, 3])) "
   ]
  },
  {
   "cell_type": "code",
   "execution_count": 39,
   "metadata": {},
   "outputs": [
    {
     "name": "stdout",
     "output_type": "stream",
     "text": [
      "3.0\n"
     ]
    }
   ],
   "source": [
    "std = 42\n",
    "\n",
    "def normalize(value, std):\n",
    "    result = value/std\n",
    "    return result \n",
    "    \n",
    "print(normalize(21, 7)) "
   ]
  },
  {
   "cell_type": "code",
   "execution_count": 40,
   "metadata": {},
   "outputs": [
    {
     "name": "stdout",
     "output_type": "stream",
     "text": [
      "0.5\n"
     ]
    }
   ],
   "source": [
    "values = [-7, -7, 7, 7]\n",
    "std = 42\n",
    "\n",
    "def count_std():\n",
    "    mean = sum(values)/len(values)\n",
    "    std = (sum([(value-mean)**2 for value in values])/len(values))**0.5\n",
    "    return std\n",
    "\n",
    "def normalize(value):\n",
    "    result = value/std\n",
    "    return result \n",
    "\n",
    "print(normalize(21))"
   ]
  },
  {
   "cell_type": "code",
   "execution_count": 41,
   "metadata": {},
   "outputs": [
    {
     "name": "stdout",
     "output_type": "stream",
     "text": [
      "8\n"
     ]
    }
   ],
   "source": [
    "rabbits = 0\n",
    "\n",
    "def count_rabbits(spotted):\n",
    "    global rabbits\n",
    "    rabbits += spotted\n",
    "\n",
    "    \n",
    "count_rabbits(3)\n",
    "count_rabbits(5)\n",
    "print(rabbits)"
   ]
  },
  {
   "cell_type": "code",
   "execution_count": 42,
   "metadata": {},
   "outputs": [
    {
     "name": "stdout",
     "output_type": "stream",
     "text": [
      "The Zen of Python, by Tim Peters\n",
      "\n",
      "Beautiful is better than ugly.\n",
      "Explicit is better than implicit.\n",
      "Simple is better than complex.\n",
      "Complex is better than complicated.\n",
      "Flat is better than nested.\n",
      "Sparse is better than dense.\n",
      "Readability counts.\n",
      "Special cases aren't special enough to break the rules.\n",
      "Although practicality beats purity.\n",
      "Errors should never pass silently.\n",
      "Unless explicitly silenced.\n",
      "In the face of ambiguity, refuse the temptation to guess.\n",
      "There should be one-- and preferably only one --obvious way to do it.\n",
      "Although that way may not be obvious at first unless you're Dutch.\n",
      "Now is better than never.\n",
      "Although never is often better than *right* now.\n",
      "If the implementation is hard to explain, it's a bad idea.\n",
      "If the implementation is easy to explain, it may be a good idea.\n",
      "Namespaces are one honking great idea -- let's do more of those!\n"
     ]
    }
   ],
   "source": [
    "import this"
   ]
  }
 ],
 "metadata": {
  "kernelspec": {
   "display_name": "Python 3",
   "language": "python",
   "name": "python3"
  },
  "language_info": {
   "codemirror_mode": {
    "name": "ipython",
    "version": 3
   },
   "file_extension": ".py",
   "mimetype": "text/x-python",
   "name": "python",
   "nbconvert_exporter": "python",
   "pygments_lexer": "ipython3",
   "version": "3.7.6"
  }
 },
 "nbformat": 4,
 "nbformat_minor": 4
}
