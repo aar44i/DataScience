{
 "cells": [
  {
   "cell_type": "markdown",
   "metadata": {},
   "source": [
    "Необходимо в файле 21_12_20_Data-Annual_Kireeva_Frolova_Lisina.xlsx который лежит вот здесь\n",
    "https://drive.google.com/drive/folders/1R7MxF6EVwhzAvX5TIgvi1Ge8ZwUJ6nis \n",
    "проверить ряды (которые указаны в прикрепленном файле Station data that need...) — в них есть ошибки, а именно дублированные годы (когда два одинаковых года имеют разные значения), когда к значению года не присоединен расход, или как вероятность вбит неверный ID. "
   ]
  },
  {
   "cell_type": "markdown",
   "metadata": {},
   "source": [
    "Со второй там не совсем так. Нам нужен весь файл, просто в тех станциях что были в списке есть ошибки которые надо  найти)"
   ]
  },
  {
   "cell_type": "code",
   "execution_count": 51,
   "metadata": {},
   "outputs": [],
   "source": [
    "import pandas as pd"
   ]
  },
  {
   "cell_type": "code",
   "execution_count": 52,
   "metadata": {},
   "outputs": [],
   "source": [
    "Annual_data = pd.read_excel('21_12_20_Data-Annual_Kireeva_Frolova-Lisina.xlsx')"
   ]
  },
  {
   "cell_type": "code",
   "execution_count": 54,
   "metadata": {},
   "outputs": [
    {
     "data": {
      "text/html": [
       "<div>\n",
       "<style scoped>\n",
       "    .dataframe tbody tr th:only-of-type {\n",
       "        vertical-align: middle;\n",
       "    }\n",
       "\n",
       "    .dataframe tbody tr th {\n",
       "        vertical-align: top;\n",
       "    }\n",
       "\n",
       "    .dataframe thead th {\n",
       "        text-align: right;\n",
       "    }\n",
       "</style>\n",
       "<table border=\"1\" class=\"dataframe\">\n",
       "  <thead>\n",
       "    <tr style=\"text-align: right;\">\n",
       "      <th></th>\n",
       "      <th>Station ID</th>\n",
       "      <th>Date of AnMax (Format DD/MM/YYYY)</th>\n",
       "      <th>Qmax in m3/s (Format: x.x)</th>\n",
       "      <th>Unnamed: 3</th>\n",
       "      <th>OR</th>\n",
       "      <th>Unnamed: 5</th>\n",
       "      <th>Station ID.1</th>\n",
       "      <th>Date of AnMax (Format DD/MM)</th>\n",
       "      <th>Year of AnMax (FormatYYYY)</th>\n",
       "      <th>Qmax in m3/s (Format: x.x).1</th>\n",
       "    </tr>\n",
       "  </thead>\n",
       "  <tbody>\n",
       "    <tr>\n",
       "      <th>0</th>\n",
       "      <td>84827</td>\n",
       "      <td>1971-05-30 00:00:00</td>\n",
       "      <td>479</td>\n",
       "      <td>NaN</td>\n",
       "      <td>NaN</td>\n",
       "      <td>NaN</td>\n",
       "      <td>84827</td>\n",
       "      <td>1971-05-30 00:00:00</td>\n",
       "      <td>1971.0</td>\n",
       "      <td>479</td>\n",
       "    </tr>\n",
       "    <tr>\n",
       "      <th>1</th>\n",
       "      <td>84827</td>\n",
       "      <td>1972-07-01 00:00:00</td>\n",
       "      <td>494</td>\n",
       "      <td>NaN</td>\n",
       "      <td>NaN</td>\n",
       "      <td>NaN</td>\n",
       "      <td>84827</td>\n",
       "      <td>1972-07-01 00:00:00</td>\n",
       "      <td>1972.0</td>\n",
       "      <td>494</td>\n",
       "    </tr>\n",
       "    <tr>\n",
       "      <th>2</th>\n",
       "      <td>84827</td>\n",
       "      <td>1973-06-21 00:00:00</td>\n",
       "      <td>669</td>\n",
       "      <td>NaN</td>\n",
       "      <td>NaN</td>\n",
       "      <td>NaN</td>\n",
       "      <td>84827</td>\n",
       "      <td>1973-06-21 00:00:00</td>\n",
       "      <td>1973.0</td>\n",
       "      <td>669</td>\n",
       "    </tr>\n",
       "    <tr>\n",
       "      <th>3</th>\n",
       "      <td>84827</td>\n",
       "      <td>1974-07-06 00:00:00</td>\n",
       "      <td>1240</td>\n",
       "      <td>NaN</td>\n",
       "      <td>NaN</td>\n",
       "      <td>NaN</td>\n",
       "      <td>84827</td>\n",
       "      <td>1974-07-06 00:00:00</td>\n",
       "      <td>1974.0</td>\n",
       "      <td>1240</td>\n",
       "    </tr>\n",
       "    <tr>\n",
       "      <th>4</th>\n",
       "      <td>84827</td>\n",
       "      <td>1975-05-28 00:00:00</td>\n",
       "      <td>674</td>\n",
       "      <td>NaN</td>\n",
       "      <td>NaN</td>\n",
       "      <td>NaN</td>\n",
       "      <td>84827</td>\n",
       "      <td>1975-05-28 00:00:00</td>\n",
       "      <td>1975.0</td>\n",
       "      <td>674</td>\n",
       "    </tr>\n",
       "  </tbody>\n",
       "</table>\n",
       "</div>"
      ],
      "text/plain": [
       "   Station ID Date of AnMax (Format DD/MM/YYYY) Qmax in m3/s (Format: x.x)  \\\n",
       "0       84827               1971-05-30 00:00:00                        479   \n",
       "1       84827               1972-07-01 00:00:00                        494   \n",
       "2       84827               1973-06-21 00:00:00                        669   \n",
       "3       84827               1974-07-06 00:00:00                       1240   \n",
       "4       84827               1975-05-28 00:00:00                        674   \n",
       "\n",
       "   Unnamed: 3  OR   Unnamed: 5  Station ID.1 Date of AnMax (Format DD/MM)  \\\n",
       "0         NaN  NaN         NaN         84827          1971-05-30 00:00:00   \n",
       "1         NaN  NaN         NaN         84827          1972-07-01 00:00:00   \n",
       "2         NaN  NaN         NaN         84827          1973-06-21 00:00:00   \n",
       "3         NaN  NaN         NaN         84827          1974-07-06 00:00:00   \n",
       "4         NaN  NaN         NaN         84827          1975-05-28 00:00:00   \n",
       "\n",
       "   Year of AnMax (FormatYYYY) Qmax in m3/s (Format: x.x).1  \n",
       "0                      1971.0                          479  \n",
       "1                      1972.0                          494  \n",
       "2                      1973.0                          669  \n",
       "3                      1974.0                         1240  \n",
       "4                      1975.0                          674  "
      ]
     },
     "execution_count": 54,
     "metadata": {},
     "output_type": "execute_result"
    }
   ],
   "source": [
    "Annual_data.head()"
   ]
  },
  {
   "cell_type": "code",
   "execution_count": 58,
   "metadata": {},
   "outputs": [
    {
     "data": {
      "text/plain": [
       "Index(['Station ID', 'Date of AnMax (Format DD/MM/YYYY)',\n",
       "       'Qmax in m3/s (Format: x.x)', 'Unnamed: 3', 'OR ', 'Unnamed: 5',\n",
       "       'Station ID.1', 'Date of AnMax (Format DD/MM)',\n",
       "       'Year of AnMax (FormatYYYY)', 'Qmax in m3/s (Format: x.x).1'],\n",
       "      dtype='object')"
      ]
     },
     "execution_count": 58,
     "metadata": {},
     "output_type": "execute_result"
    }
   ],
   "source": [
    "Annual_data.columns"
   ]
  },
  {
   "cell_type": "code",
   "execution_count": 39,
   "metadata": {},
   "outputs": [
    {
     "name": "stdout",
     "output_type": "stream",
     "text": [
      "<class 'pandas.core.frame.DataFrame'>\n",
      "RangeIndex: 35590 entries, 0 to 35589\n",
      "Data columns (total 10 columns):\n",
      " #   Column                             Non-Null Count  Dtype  \n",
      "---  ------                             --------------  -----  \n",
      " 0   Station ID                         35590 non-null  int64  \n",
      " 1   Date of AnMax (Format DD/MM/YYYY)  35582 non-null  object \n",
      " 2   Qmax in m3/s (Format: x.x)         35587 non-null  object \n",
      " 3   Unnamed: 3                         0 non-null      float64\n",
      " 4   OR                                 0 non-null      float64\n",
      " 5   Unnamed: 5                         0 non-null      float64\n",
      " 6   Station ID.1                       35590 non-null  int64  \n",
      " 7   Date of AnMax (Format DD/MM)       35582 non-null  object \n",
      " 8   Year of AnMax (FormatYYYY)         35582 non-null  float64\n",
      " 9   Qmax in m3/s (Format: x.x).1       35590 non-null  object \n",
      "dtypes: float64(4), int64(2), object(4)\n",
      "memory usage: 2.7+ MB\n"
     ]
    }
   ],
   "source": [
    "Annual_data.info()"
   ]
  },
  {
   "cell_type": "code",
   "execution_count": 40,
   "metadata": {},
   "outputs": [],
   "source": [
    "check_df = pd.read_excel('Station data that needs checking.xlsx')\n",
    "check_df.columns = ['Country', 'Station ID']"
   ]
  },
  {
   "cell_type": "code",
   "execution_count": 41,
   "metadata": {},
   "outputs": [
    {
     "data": {
      "text/html": [
       "<div>\n",
       "<style scoped>\n",
       "    .dataframe tbody tr th:only-of-type {\n",
       "        vertical-align: middle;\n",
       "    }\n",
       "\n",
       "    .dataframe tbody tr th {\n",
       "        vertical-align: top;\n",
       "    }\n",
       "\n",
       "    .dataframe thead th {\n",
       "        text-align: right;\n",
       "    }\n",
       "</style>\n",
       "<table border=\"1\" class=\"dataframe\">\n",
       "  <thead>\n",
       "    <tr style=\"text-align: right;\">\n",
       "      <th></th>\n",
       "      <th>Country</th>\n",
       "      <th>Station ID</th>\n",
       "    </tr>\n",
       "  </thead>\n",
       "  <tbody>\n",
       "    <tr>\n",
       "      <th>0</th>\n",
       "      <td>UKR</td>\n",
       "      <td>42148</td>\n",
       "    </tr>\n",
       "    <tr>\n",
       "      <th>1</th>\n",
       "      <td>UKR</td>\n",
       "      <td>42176</td>\n",
       "    </tr>\n",
       "    <tr>\n",
       "      <th>2</th>\n",
       "      <td>UKR</td>\n",
       "      <td>42187</td>\n",
       "    </tr>\n",
       "    <tr>\n",
       "      <th>3</th>\n",
       "      <td>UKR</td>\n",
       "      <td>42194</td>\n",
       "    </tr>\n",
       "    <tr>\n",
       "      <th>4</th>\n",
       "      <td>UKR</td>\n",
       "      <td>42249</td>\n",
       "    </tr>\n",
       "    <tr>\n",
       "      <th>...</th>\n",
       "      <td>...</td>\n",
       "      <td>...</td>\n",
       "    </tr>\n",
       "    <tr>\n",
       "      <th>78</th>\n",
       "      <td>RUS</td>\n",
       "      <td>80174</td>\n",
       "    </tr>\n",
       "    <tr>\n",
       "      <th>79</th>\n",
       "      <td>RUS</td>\n",
       "      <td>80196</td>\n",
       "    </tr>\n",
       "    <tr>\n",
       "      <th>80</th>\n",
       "      <td>RUS</td>\n",
       "      <td>80197</td>\n",
       "    </tr>\n",
       "    <tr>\n",
       "      <th>81</th>\n",
       "      <td>RUS</td>\n",
       "      <td>80198</td>\n",
       "    </tr>\n",
       "    <tr>\n",
       "      <th>82</th>\n",
       "      <td>BLR</td>\n",
       "      <td>79432</td>\n",
       "    </tr>\n",
       "  </tbody>\n",
       "</table>\n",
       "<p>83 rows × 2 columns</p>\n",
       "</div>"
      ],
      "text/plain": [
       "   Country  Station ID\n",
       "0      UKR       42148\n",
       "1      UKR       42176\n",
       "2      UKR       42187\n",
       "3      UKR       42194\n",
       "4      UKR       42249\n",
       "..     ...         ...\n",
       "78     RUS       80174\n",
       "79     RUS       80196\n",
       "80     RUS       80197\n",
       "81     RUS       80198\n",
       "82     BLR       79432\n",
       "\n",
       "[83 rows x 2 columns]"
      ]
     },
     "execution_count": 41,
     "metadata": {},
     "output_type": "execute_result"
    }
   ],
   "source": [
    "check_df"
   ]
  },
  {
   "cell_type": "code",
   "execution_count": 55,
   "metadata": {},
   "outputs": [
    {
     "data": {
      "text/plain": [
       "0     42148\n",
       "1     42176\n",
       "2     42187\n",
       "3     42194\n",
       "4     42249\n",
       "      ...  \n",
       "78    80174\n",
       "79    80196\n",
       "80    80197\n",
       "81    80198\n",
       "82    79432\n",
       "Name: Station ID, Length: 83, dtype: int64"
      ]
     },
     "execution_count": 55,
     "metadata": {},
     "output_type": "execute_result"
    }
   ],
   "source": [
    "stations = pd.to_numeric(check_df['Station ID'])\n",
    "stations = stations.drop_duplicates()\n",
    "stations"
   ]
  },
  {
   "cell_type": "code",
   "execution_count": null,
   "metadata": {},
   "outputs": [],
   "source": [
    "for i in range (len(Annual_data)):\n",
    "    if (df['Station ID'].iloc[i].isin(stations)):\n",
    "        if (df['Qmax in m3/s (Format: x.x)'].iloc[i].isna() | df['Qmax in m3/s (Format: x.x)'])\n",
    "        "
   ]
  }
 ],
 "metadata": {
  "kernelspec": {
   "display_name": "Python 3",
   "language": "python",
   "name": "python3"
  },
  "language_info": {
   "codemirror_mode": {
    "name": "ipython",
    "version": 3
   },
   "file_extension": ".py",
   "mimetype": "text/x-python",
   "name": "python",
   "nbconvert_exporter": "python",
   "pygments_lexer": "ipython3",
   "version": "3.7.6"
  }
 },
 "nbformat": 4,
 "nbformat_minor": 4
}
