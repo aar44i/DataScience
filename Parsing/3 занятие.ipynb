{
 "cells": [
  {
   "cell_type": "code",
   "execution_count": null,
   "metadata": {},
   "outputs": [],
   "source": [
    "from selenium import webdriver\n",
    "from selenium.webdriver.common.keys import Keys ## Подмодуль библиотеки Selenium, отвечающий за \n",
    "driver = webdriver.Chrome(\"c:/Python27/ArcGIS10.2/chromedriver.exe\")\n",
    "\n",
    "driver.get('https://www.aeroflot.ru/') ## Заходим на главную страницу авиакомпании Аэрофлот\n",
    "\n",
    "button = driver.find_element_by_xpath(\"//label[@for='booking']\") ##Нашли галочку \"За мили\" рядом с кнопкой \"Найти\" по тегу label С аттрибутом for='booking'.\n",
    "button.click() ## С помощью метода .click() нажали на эту галочку\n",
    "\n",
    "origin = driver.find_element_by_id(\"city-departure-0-booking\") ##Нашли поле на странице по его ID. Это поле отвечает за ввод города отправления\n",
    "origin.clear() ## С помощью метода .clear() очистили поле\n",
    "origin.send_keys(\"Санкт-Петербург\") ## с помощью метода .send_keys() записали в поле текстовое занчение \"Санкт-Петербург\"\n",
    "\n",
    "destination = driver.find_element_by_id(\"city-arrival-0-booking\") ##Аналогично находим поле города прибытия\n",
    "destination.send_keys(\"Краснодар\") ## с помощью метода .send_keys() записали в поле текстовое занчение \"Краснодар\"\n",
    "\n",
    "body = driver.find_element_by_xpath(\"//body\")## Получили всё тело нашей веб-страницы\n",
    "body.send_keys(Keys.ENTER)## Передали веб-странице нажатие кнопки Enter. Этой командой мы имитируем нажатие на кнопку Enter, когда находимся на странице.\n",
    "\n",
    "submit = driver.find_element_by_xpath(\"//button[@class='main-module__button main-module__button--wide main-module__button--lg']\") ## Нашли кнопку \"Найти билеты\"\n",
    "submit.click() ## Нажали на эту кнопку \n",
    "\t\t\n",
    "\t\t\n",
    "from urllib.request import urlretrieve ## Из библиотеки urllib импортировали подмодуль urlretrieve\n",
    "driver.get(\"https://ru.wikipedia.org/wiki/%D0%93%D0%BE%D1%80%D0%BE%D0%B4%D0%B0_%D0%A3%D0%BA%D1%80%D0%B0%D0%B8%D0%BD%D1%8B\") ## Вернёмся к городам Украины\n",
    "image = driver.find_element_by_xpath(\"//img[@alt='Lesser Coat of Arms of Ukraine.svg']\") ## Получили объект картинки - герба Украины\n",
    "img_url = image.get_attribute(\"src\") ## Получили аттрибут src считанного нами тега img. В аттрибуте src содержится ссылка на саму картинку в формате png\n",
    "urlretrieve(img_url, \"G:/Python 2020/img.jpg\") ## с помощью импортированной функции urlretrieve сохраняем картинку по пути \"G:/Python 2020/img.jpg\"\n",
    "\n",
    "import time ## импортируем библиотеку time\n",
    "time.sleep(1) ## Задаём паузу в выполнении кода длительностью 1 сек.\n",
    "\n",
    "driver.quit() ## Остановить работу драйвера и закрыть окно браузера"
   ]
  }
 ],
 "metadata": {
  "kernelspec": {
   "display_name": "Python 3",
   "language": "python",
   "name": "python3"
  },
  "language_info": {
   "codemirror_mode": {
    "name": "ipython",
    "version": 3
   },
   "file_extension": ".py",
   "mimetype": "text/x-python",
   "name": "python",
   "nbconvert_exporter": "python",
   "pygments_lexer": "ipython3",
   "version": "3.7.6"
  }
 },
 "nbformat": 4,
 "nbformat_minor": 4
}
