{
 "cells": [
  {
   "cell_type": "markdown",
   "metadata": {},
   "source": [
    "# Парсер сайта AllRivers.info"
   ]
  },
  {
   "cell_type": "code",
   "execution_count": 1,
   "metadata": {},
   "outputs": [
    {
     "ename": "TabError",
     "evalue": "inconsistent use of tabs and spaces in indentation (<ipython-input-1-a61870862a37>, line 15)",
     "output_type": "error",
     "traceback": [
      "\u001b[1;36m  File \u001b[1;32m\"<ipython-input-1-a61870862a37>\"\u001b[1;36m, line \u001b[1;32m15\u001b[0m\n\u001b[1;33m    pswd = driver.find_element_by_id(out)\u001b[0m\n\u001b[1;37m                                         ^\u001b[0m\n\u001b[1;31mTabError\u001b[0m\u001b[1;31m:\u001b[0m inconsistent use of tabs and spaces in indentation\n"
     ]
    }
   ],
   "source": [
    "from selenium import webdriver\n",
    "from selenium.webdriver.common.keys import Keys\n",
    "import os, time, datetime\n",
    "\n",
    "driver = webdriver.Chrome()\n",
    "driver.get(\"https://allrivers.info/\")\n",
    "gauges = read_csv('посты для анализа.csv')\n",
    "\n",
    "# Создание структуры данных анализа \n",
    "if not os.path.exists(directory):\n",
    "\tos.mkdir(directory)\n",
    "\tos.mkdir(directory + \"/LOG\")\n",
    "\twith open (directory + \"/LOG/посты.csv\",'w') as out:\n",
    "\t\tout.write(\"Поиск по названию реки или поста\\n\")\n",
    "        pswd = driver.find_element_by_id(out)\n",
    "        pswd.send_keys(\"\")    \n",
    "        \n",
    "# пэтапное добавление названий постов \n",
    "for i in range(len(gauges))\n",
    "    submit = driver.find_element_by_xpath(\"//button[@class='main-module__button main-module__button--wide main-module__button--lg']\") ## Нашли кнопку \"Найти билеты\"\n",
    "    submit = i\n",
    "    submit.click() \n",
    "    submit = driver.find_element_by_xpath(\"//button[@type='submit']\")\n",
    "    submit.to_excel('координаты.csv')\n",
    "\n"
   ]
  },
  {
   "cell_type": "code",
   "execution_count": null,
   "metadata": {},
   "outputs": [],
   "source": []
  },
  {
   "cell_type": "code",
   "execution_count": null,
   "metadata": {},
   "outputs": [],
   "source": []
  }
 ],
 "metadata": {
  "kernelspec": {
   "display_name": "Python 3",
   "language": "python",
   "name": "python3"
  },
  "language_info": {
   "codemirror_mode": {
    "name": "ipython",
    "version": 3
   },
   "file_extension": ".py",
   "mimetype": "text/x-python",
   "name": "python",
   "nbconvert_exporter": "python",
   "pygments_lexer": "ipython3",
   "version": "3.7.6"
  }
 },
 "nbformat": 4,
 "nbformat_minor": 4
}
